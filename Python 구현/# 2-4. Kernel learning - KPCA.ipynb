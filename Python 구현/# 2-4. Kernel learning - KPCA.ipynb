{
 "cells": [
  {
   "cell_type": "markdown",
   "id": "19710ddb",
   "metadata": {},
   "source": [
    "# Kernel learning - KPCA\n",
    "\n",
    "1. Data Centering을 가정\n",
    "> $m^\\phi = \\frac{1}{N}\\sum_{i=1}^N \\phi(x_i) = 0$\n",
    "\n",
    "2. 공분산 식을 통해 분산을 최대화하는 조건 탐색. PCA와 동일하게 고윳값이 최대일 때 분산이 가장 많이 유지됨. \n",
    ">$C^\\phi v_k = \\lambda_k v_k$\n",
    "\n",
    "> 위의 식에서 $\\lambda_k$ 값을 가장 크게 가지는 $v_k$ 값을 탐색하는 것이 목적  \n",
    "\n",
    "3. 전사 함수 $y_k(x) = \\phi(x)^Tv_k = \\sum_{i=1}^N \\alpha_{ki} K(x, x_i)$식을 통해 $\\alpha$ 값을 찾으면 됨을 확인 \n",
    "\n",
    "4. $\\alpha_k $는 아래의 수식을 성립함. 이때 $\\lambda_k, N$ 모두 스칼라 값으로, $\\alpha_k$ 는 Kernel 함수의 고유벡터임을 확인할 수 있음 \n",
    "> $K\\alpha_k = \\lambda_k N \\alpha_k$ \n",
    "\n",
    "**구현해야 하는 것**\n",
    "-  data centering \n",
    "-  Kernel matrix \n",
    "-  kernel matrix의 고유벡터 \n",
    "\n",
    "**필요한 것**\n",
    "- Kernel 함수 \n",
    "- X\n",
    "\n",
    "**함수의 형태**\n",
    "- def __init__(self, X, kernel) : \n",
    "\n",
    "- def kernel_fn(self, xi, xj, kernel_type = None, coef = 1.0, degree = 3, gamma = 0.1) :  => kernel(xi,xj) 값 반환 \n",
    "\n",
    "- def kernel_matrix(self) : kernel(xi, xj) 값으로 이뤄진 n x n 행렬 \n",
    "\n",
    "- def find_a(self) : kernel_matrix의 고윳값의 내림차순 순으로 $\\alpha_k$ 값의 list 반환 \n",
    "\n",
    "- def goal_kpca(self) : > $y_k(x)$ 의 값 반환  \n",
    "\n"
   ]
  },
  {
   "cell_type": "code",
   "execution_count": 1,
   "id": "ecb03215",
   "metadata": {},
   "outputs": [
    {
     "data": {
      "image/png": "[encoded data removed]",
      "text/plain": [
       "<Figure size 432x288 with 1 Axes>"
      ]
     },
     "metadata": {
      "needs_background": "light"
     },
     "output_type": "display_data"
    }
   ],
   "source": [
    "# 데이터 사용 및 라이브러리 설치 \n",
    "import numpy as np\n",
    "import matplotlib.pyplot as plt\n",
    "import seaborn as sns\n",
    "\n",
    "from sklearn.datasets import make_classification \n",
    "\n",
    "X, y = make_classification(n_features=2, n_informative=2,\n",
    "                           n_redundant=0, n_clusters_per_class=1, random_state=1)\n",
    "\n",
    "X1 = X[y==0]\n",
    "X2 = X[y==1]\n",
    "\n",
    "plt.scatter(X[:, 0], X[:, 1], marker='o', c=y,\n",
    "            s=100, edgecolor=\"k\", linewidth=2)\n",
    "\n",
    "plt.xlim(-4, 4)\n",
    "plt.ylim(-4, 4)\n",
    "plt.xlabel(\"$X_1$\")\n",
    "plt.ylabel(\"$X_2$\")\n",
    "plt.show()"
   ]
  },
  {
   "cell_type": "code",
   "execution_count": 38,
   "id": "15c2e8d0",
   "metadata": {},
   "outputs": [],
   "source": [
    "class KPCA() : \n",
    "    def __init__(self, X, kernel_type, d) : \n",
    "        self.X = X\n",
    "        self.n = np.shape(X)[0]\n",
    "\n",
    "        self.kernel_type = kernel_type \n",
    "        \n",
    "        self.k_matrix = self.kernel_matrix()\n",
    "        self.d = d\n",
    "        self.alpha =self.find_alpha(d)\n",
    "        \n",
    "        \n",
    "    def kernel_fn(self, x_i, x_j, kernel = None, coef = 1.0, degree = 3, gamma = 0.1) : \n",
    "        if kernel == \"poly\" : \n",
    "            return (np.dot(x_i, x_j) + coef)** degree \n",
    "        \n",
    "        elif kernel == \"RBF\" : \n",
    "            return np.exp(- np.sum(np.square(x_i - x_j)) * gamma)\n",
    "        \n",
    "        elif kernel == \"sig\" : \n",
    "            return np.tanh(np.dot(x_i, x_j) + coef) \n",
    "        \n",
    "        else : \n",
    "            return np.dot(x_i, x_j) \n",
    "        \n",
    "    def kernel_matrix(self) : \n",
    "        k_matrix = np.zeros((self.n, self.n))\n",
    "        for i in range(self.n) : \n",
    "            for j in range(self.n) :\n",
    "                k_matrix[i,j] = self.kernel_fn(self.X[i], self.X[j], self.kernel_type)       \n",
    "        return k_matrix\n",
    "    \n",
    "    def find_alpha(self, d) : \n",
    "        w, v = np.linalg.eig(self.k_matrix)\n",
    "        index = np.argsort(w) \n",
    "        v = v[index[::-1]]\n",
    "        return v[:d]\n",
    "        \n",
    "    def goal_kpca(self) : \n",
    "        y = []\n",
    "        for i in range(self.d):\n",
    "            y_vector = np.zeros(self.n)\n",
    "            for j in range(self.n) : \n",
    "                y_vector[j] = np.dot(self.alpha[i], self.k_matrix[j])\n",
    "            y.append(y_vector)\n",
    "        return y\n",
    "        \n",
    "\n"
   ]
  },
  {
   "cell_type": "code",
   "execution_count": 47,
   "id": "1ca3a828",
   "metadata": {},
   "outputs": [
    {
     "name": "stderr",
     "output_type": "stream",
     "text": [
      "<ipython-input-38-8923caf10a07>:44: ComplexWarning: Casting complex values to real discards the imaginary part\n",
      "  y_vector[j] = np.dot(self.alpha[i], self.k_matrix[j])\n"
     ]
    }
   ],
   "source": [
    "test1 = KPCA(X1, \"RBF\", 3)\n",
    "test2 = KPCA(X2, \"RBF\", 3)\n",
    "\n",
    "KPCA_X1 = test1.goal_kpca()[0]\n",
    "KPCA_X2 = test2.goal_kpca()[0]"
   ]
  },
  {
   "cell_type": "code",
   "execution_count": 48,
   "id": "c2160c11",
   "metadata": {},
   "outputs": [
    {
     "data": {
      "image/png": "[encoded data removed]",
      "text/plain": [
       "<Figure size 432x288 with 1 Axes>"
      ]
     },
     "metadata": {
      "needs_background": "light"
     },
     "output_type": "display_data"
    }
   ],
   "source": [
    "# kernel 함수로 npdot / RBF를 부여했을 때는 명확히 구분됨. 그러나 poly로 주어졌을 때는 겹침.\n",
    "# 즉, kernel 함수에 따라 결과가 달라짐\n",
    "\n",
    "plt.hist((KPCA_X1, KPCA_X2), histtype ='bar')\n",
    "plt.show()"
   ]
  }
 ],
 "metadata": {
  "kernelspec": {
   "display_name": "Python 3",
   "language": "python",
   "name": "python3"
  },
  "language_info": {
   "codemirror_mode": {
    "name": "ipython",
    "version": 3
   },
   "file_extension": ".py",
   "mimetype": "text/x-python",
   "name": "python",
   "nbconvert_exporter": "python",
   "pygments_lexer": "ipython3",
   "version": "3.8.8"
  }
 },
 "nbformat": 4,
 "nbformat_minor": 5
}
