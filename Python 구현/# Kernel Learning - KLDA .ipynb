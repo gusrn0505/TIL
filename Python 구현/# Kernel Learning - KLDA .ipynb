{
 "cells": [
  {
   "cell_type": "markdown",
   "id": "1525e2fc",
   "metadata": {},
   "source": [
    "# Kernel Learning - KLDA \n",
    "\n",
    "### LDA 구현\n",
    "1. J(w) = $\\frac{(m_2 - m_1)^2}{s_1^2 + s_2^2}$ 을 최소화하는 w값 찾기 \n",
    "- J(w) = $\\frac{w^TS_Bw}{w^TS_ww}$  \n",
    "\n",
    "> $S_B = (m_2-m_1)(m_2-m_1)^T$\n",
    "\n",
    "> $S_w = \\sum_{n \\in C_1}(x_n - m_1)(x_n - m_1)^T + \\sum_{n \\in C_2} (x_n -m_2)(x_n - m_2)^T$\n",
    "\n",
    "- $w = S_w^{-1} \\frac{\\beta}{\\alpha} (m_2 - m_1)$ \n",
    "\n",
    "> $\\beta = (m_2 - m_1)^T w$ (스칼라 값)\n",
    "\n",
    "> $\\alpha = \\frac{w^TS_Bw}{w^TS_ww}$ (스칼라 값) \n",
    "\n",
    "2. Projection 한 값 y(x) 찾기\n",
    "- $y(x) = wx$\n",
    "\n",
    "### KLDA 구현 \n",
    "1. Kernel 함수 도입하기. 이후 J(w)를 최대화하는 $\\alpha$를 찾기 \n",
    "\n",
    "- J(w) = $\\frac{w^TS_B^{\\phi}w}{w^TS_w^{\\phi}w}$   = $\\frac{\\alpha^TM\\alpha}{\\alpha^TN\\alpha}$ \n",
    "\n",
    "> $w = \\sum_{n=1}^N \\alpha_n\\phi(x_n), \\alpha \\in R$\n",
    "\n",
    "> $S_B = (m_2^{\\phi}-m_1^{\\phi})(m_2^{\\phi}-m_1^{\\phi})^T$\n",
    "\n",
    "> $M = S_B$\n",
    "\n",
    "> $S_w = \\sum_{n \\in C_1}(\\phi(x_n) - m_1^{\\phi})(\\phi(x_n^i) - m_1^{\\phi})^T + \\sum_{n \\in C_2} (\\phi(x_n) -m_2^{\\phi})(\\phi(x_n) - m_2^{\\phi})^T$\n",
    "\n",
    "> $N = \\sum_{j=1,2} K_j(I - 1_{N_j})K_j^T$ \n",
    "\n",
    "- $\\alpha = N^{-1}(M_2 - M_1)$\n",
    "\n",
    "2. Projection 한 값 y(x) 찾기 \n",
    "- $y(x) = (w * \\phi(x)) = \\sum_{n=1}^N \\alpha_nK(x_n,x)$\n"
   ]
  },
  {
   "cell_type": "code",
   "execution_count": 1,
   "id": "dafda771",
   "metadata": {},
   "outputs": [
    {
     "data": {
      "image/png": "[encoded data removed]",
      "text/plain": [
       "<Figure size 432x288 with 1 Axes>"
      ]
     },
     "metadata": {
      "needs_background": "light"
     },
     "output_type": "display_data"
    }
   ],
   "source": [
    "# 데이터 사용 및 라이브러리 설치 \n",
    "import numpy as np\n",
    "import matplotlib.pyplot as plt\n",
    "import seaborn as sns\n",
    "\n",
    "from sklearn.datasets import make_classification \n",
    "\n",
    "X, y = make_classification(n_features=2, n_informative=2,\n",
    "                           n_redundant=0, n_clusters_per_class=1, random_state=1)\n",
    "\n",
    "X1 = X[y==0]\n",
    "X2 = X[y==1]\n",
    "\n",
    "plt.scatter(X[:, 0], X[:, 1], marker='o', c=y,\n",
    "            s=100, edgecolor=\"k\", linewidth=2)\n",
    "\n",
    "plt.xlim(-4, 4)\n",
    "plt.ylim(-4, 4)\n",
    "plt.xlabel(\"$X_1$\")\n",
    "plt.ylabel(\"$X_2$\")\n",
    "plt.show()"
   ]
  },
  {
   "cell_type": "markdown",
   "id": "a95fc85b",
   "metadata": {},
   "source": [
    "### LDA 구현\n",
    "1. J(w) = $\\frac{(m_2 - m_1)^2}{s_1^2 + s_2^2}$ 을 최소화하는 w값 찾기 \n",
    "- J(w) = $\\frac{w^TS_Bw}{w^TS_ww}$  \n",
    "\n",
    "> $S_B = (m_2-m_1)(m_2-m_1)^T$\n",
    "\n",
    "> $S_w = \\sum_{n \\in C_1}(x_n - m_1)(x_n - m_1)^T + \\sum_{n \\in C_2} (x_n -m_2)(x_n - m_2)^T$\n",
    "\n",
    "- $w = S_w^{-1} \\frac{\\beta}{\\alpha} (m_2 - m_1)$ \n",
    "\n",
    "> $\\beta = (m_2 - m_1)^T w$ (스칼라 값)\n",
    "\n",
    "> $\\alpha = \\frac{w^TS_Bw}{w^TS_ww}$ (스칼라 값) \n",
    "\n",
    "2. Projection 한 값 y(x) 찾기\n",
    "- $y(x) = wx$\n",
    "\n",
    "\n",
    "**구현해야하는 것** \n",
    "- $m_i :\\frac{1}{N_1}\\sum_{n\\in C_i} x_n$\n",
    "- $S_B, S_w,S_w^{-1}$ \n",
    "\n",
    "- $\\beta : (m_2 - m_1)^T w $   (스칼라 값)\n",
    "- $\\alpha : \\frac{w^TS_Bw}{w^TS_ww}$ (스칼라 값) \n",
    "\n",
    "**필요한 것**\n",
    "- $x_1, x_2$ \n",
    "- $m_1, m_2$\n",
    "\n",
    "**함수의 형태**\n",
    "- def __init__(self, X1, X2)\n",
    "- def make_s(self) : => $S_b, S_w, S_w^{-1}$\n"
   ]
  },
  {
   "cell_type": "code",
   "execution_count": 49,
   "id": "881a4115",
   "metadata": {},
   "outputs": [],
   "source": [
    "class LDA() : \n",
    "    \n",
    "    def __init__(self,X1, X2) : \n",
    "        self.X1 = X1\n",
    "        self.n1 = np.shape(X1)[0]\n",
    "        self.m1 = np.shape(X1)[1]\n",
    "        self.m_X1 = np.array(X1).mean(axis=0)\n",
    "        \n",
    "        self.X2 = X2 \n",
    "        self.n2 = np.shape(X2)[0]\n",
    "        self.m2 = np.shape(X2)[1]\n",
    "        self.m_X2 = np.array(X2).mean(axis =0)\n",
    "        \n",
    "        self.sb, self.sw, self.sw_inv = self.make_s()\n",
    "        \n",
    "    def make_s(self) : \n",
    "        sb = (self.m_X1 - self.m_X2).reshape(-1,1)@(self.m_X1 - self.m_X2).reshape(1,-1)\n",
    "        sw = np.zeros((self.m1, self.m2))\n",
    "        for i in range(self.n1) : \n",
    "            sw += (np.array(self.X1)[i] - self.m1).reshape(-1,1) @ (np.array(self.X1)[i]-self.m1).reshape(1,-1)\n",
    "        for j in range(self.n2) : \n",
    "            sw += (np.array(self.X2)[j] - self.m2).reshape(-1,1) @ (np.array(self.X2)[i] - self.m2).reshape(1,-1)\n",
    "        sw_inv = np.linalg.inv(sw)\n",
    "        return sb, sw, sw_inv \n",
    "    \n",
    "    def find_w(self) :\n",
    "        w_pre = self.sw_inv @ (self.m_X1 - self.m_X2).reshape(-1,1) \n",
    "        a = (w_pre.T @ self.sb @ w_pre) / (w_pre.T @ self.sw @ w_pre)\n",
    "        w = a * w_pre \n",
    "        return w \n",
    "        \n",
    "        "
   ]
  },
  {
   "cell_type": "code",
   "execution_count": 52,
   "id": "e5367c68",
   "metadata": {},
   "outputs": [
    {
     "data": {
      "text/plain": [
       "array([[ 0.00040679],\n",
       "       [-0.00081508]])"
      ]
     },
     "execution_count": 52,
     "metadata": {},
     "output_type": "execute_result"
    }
   ],
   "source": [
    "test = LDA(X1, X2) \n",
    "test.find_w()"
   ]
  },
  {
   "cell_type": "code",
   "execution_count": 21,
   "id": "5de9c684",
   "metadata": {},
   "outputs": [
    {
     "data": {
      "text/plain": [
       "array([ 1.00450058, -0.94482014])"
      ]
     },
     "execution_count": 21,
     "metadata": {},
     "output_type": "execute_result"
    }
   ],
   "source": [
    "np.array(X1).mean(axis=0)"
   ]
  },
  {
   "cell_type": "code",
   "execution_count": 39,
   "id": "dc6989a4",
   "metadata": {},
   "outputs": [
    {
     "name": "stdout",
     "output_type": "stream",
     "text": [
      "[[1 2]\n",
      " [2 4]]\n"
     ]
    }
   ],
   "source": [
    "a = np.array([1,2])\n",
    "\n",
    "b = a.reshape(1,-1)\n",
    "c = a.reshape(-1,1)\n",
    "print(c @ b)"
   ]
  },
  {
   "cell_type": "markdown",
   "id": "6bd78c30",
   "metadata": {},
   "source": [
    "### KLDA 구현\n",
    "1. $J(w)의 값을 최소화하는 w, \\alpha 값 찾기$\n",
    "J(w) = $\\frac{w^TS_B^{\\phi}w}{w^TS_w^{\\phi}w}$   = $\\frac{\\alpha^TM\\alpha}{\\alpha^TN\\alpha}$ \n",
    "\n",
    "> $w = \\sum_{n=1}^N \\alpha_n\\phi(x_n), \\alpha \\in R$\n",
    "\n",
    "> $w^TS_Bw = w^T(m_2^{\\phi}-m_1^{\\phi})(m_2^{\\phi}-m_1^{\\phi})^Tw$ \n",
    "\n",
    "> = $\\alpha^T M\\alpha = \\alpha^T(\\mu_2 - \\mu_1)(\\mu_2 - \\mu_1)^T\\alpha$\n",
    "\n",
    "> $N = \\sum_{j=1,2} K_j(I - 1_{N_j})K_j^T$ \n",
    "\n",
    "- $\\alpha = N^{-1}(\\mu_2 - \\mu_1)$\n",
    "\n",
    "2. Projection 한 값 y(x) 찾기 \n",
    "- $y(x) = (w * \\phi(x)) = \\sum_{n=1}^N \\alpha_nK(x_n,x)$\n",
    "\n",
    "**구현해야하는 것** \n",
    "- $N = \\sum_{j=1,2} K_j(I - 1_{N_j})K_j^T$ \n",
    "- $\\mu_2 - \\mu_1$\n",
    "> $(\\mu_i)_n = \\frac{1}{N_i}\\sum_{k=1}^{N_i}K(x_n, x_k^i)$\n",
    "\n",
    "\n",
    "**필요한 것**\n",
    "- $K_1, K_2$ \n",
    "- $\\mu_1, \\mu_2$\n",
    "- Kernel 함수 \n",
    "\n",
    "**함수의 형태**\n",
    "- def __init__(self, X1, X2, K)\n",
    "- def kernel_fn(self, x_i, x_j, kernel = None, coef, degree, gamma) : => 커낼 함수 반환 \n",
    "- def make_n(self) : => $N, N^{-1} $\n",
    "- def mu(self) : => $\\mu_1, \\mu_2 $ \n",
    "- def make_a(self)\n"
   ]
  },
  {
   "cell_type": "code",
   "execution_count": 16,
   "id": "d33e8d8b",
   "metadata": {},
   "outputs": [],
   "source": [
    "class KLDA() : \n",
    "    \n",
    "    def __init__(self,X1, X2, kernel) : \n",
    "        self.X1 = X1\n",
    "        self.n1 = np.shape(X1)[0]\n",
    "        self.m1 = np.shape(X1)[1]\n",
    "        \n",
    "        self.X2 = X2 \n",
    "        self.n2 = np.shape(X2)[0]\n",
    "        self.m2 = np.shape(X2)[1]\n",
    "        \n",
    "        self.kernel = kernel \n",
    "        self.k_matrix1, self.k_matrix2 = self.kernel_matrix()\n",
    "        self.alpha = self.make_a()\n",
    "        \n",
    "    def kernel_fn(self, x_i, x_j, kernel = None, coef = 1.0, degree = 3, gamma = 0.1) : \n",
    "        if kernel == \"poly\" : \n",
    "            return (np.dot(x_i, x_j) + coef)** degree \n",
    "        \n",
    "        elif kernel == \"RBF\" : \n",
    "            return np.exp(- np.sum(np.square(x_i - x_j)) * gamma)\n",
    "        \n",
    "        elif kernel == \"sig\" : \n",
    "            return np.tanh(np.dot(x_i, x_j) + coef) \n",
    "        \n",
    "        else : \n",
    "            return np.dot(x_i, x_j) \n",
    "        \n",
    "    def kernel_matrix (self) : \n",
    "        k_matrix1 = np.zeros((self.n1, self.n1))\n",
    "        k_matrix2 = np.zeros((self.n2, self.n2))\n",
    "        for i in range(self.n1) : \n",
    "            for j in range(self.n1) :\n",
    "                k_matrix1[i,j] = self.kernel_fn(self.X1[i], self.X1[j], self.kernel)\n",
    "        \n",
    "        for i in range(self.n2) : \n",
    "            for j in range(self.n2) : \n",
    "                k_matrix2[i,j] = self.kernel_fn(self.X2[i], self.X2[j], self.kernel)\n",
    "        \n",
    "        return k_matrix1, k_matrix2 \n",
    "    \n",
    "                \n",
    "    def make_n(self) : \n",
    "        n_matrix = np.zeros((self.n1, self.n1))\n",
    "        n_matrix = n_matrix + self.k_matrix1 @ (np.identity(self.n1) - (np.ones((self.n1, self.n1))/self.n1)) @ self.k_matrix1.T \n",
    "        n_matrix = n_matrix + self.k_matrix2 @ (np.identity(self.n2) - (np.ones((self.n2, self.n2))/self.n2)) @ self.k_matrix2.T\n",
    "        return n_matrix\n",
    "        \n",
    "    \n",
    "    def mu(self) : \n",
    "        mu_1 = self.k_matrix1.sum(axis=1).T\n",
    "        mu_2 = self.k_matrix2.sum(axis=1).T\n",
    "        \n",
    "        return mu_1, mu_2 \n",
    "    \n",
    "    def make_a(self) : \n",
    "        n_matrix = self.make_n() \n",
    "        n_matrix_inv = np.linalg.inv(n_matrix)\n",
    "        mu_1, mu_2 = self.mu()\n",
    "        return n_matrix_inv @ (mu_2 - mu_1) \n",
    "    \n",
    "    def projection(self,x, X) : \n",
    "        y = np.sum([self.alpha[i]* self.kernel_fn(X[i], x, kernel = self.kernel) for i in range(len(X))])\n",
    "        return y\n",
    "        \n",
    "    def projection_matrix(self) : \n",
    "        matrix_1 = [] \n",
    "        matrix_2 = [] \n",
    "        for i in range(len(X1)) : \n",
    "            matrix_1.append(self.projection(X1[i], X1))\n",
    "        \n",
    "        for j in range(len(X2)) : \n",
    "            matrix_2.append(self.projection(X2[j], X2))\n",
    "        \n",
    "        return matrix_1, matrix_2     \n",
    "\n",
    "    def classify(self,x) : \n",
    "        range_1 = [min(self.project_matrix1), max(self.project_matrix1)]\n",
    "        range_2 = [min(self.project_matrix2), max(self.project_matrix2)]\n",
    "        \n",
    "        p_x = [self.projection(x, X1), self.projection(x, X2)]\n",
    "        if min(self.project_matrix1) <= p_x[0] <= max(self.project_matrix1) : \n",
    "            return 0\n",
    "        \n",
    "        if min(self.project_matrix2) <= p_x[1] <= max(self.project_matrix1) : \n",
    "            return 1\n",
    "        \n",
    "        else : \n",
    "            print(\"Wait Second :). It's looks like abnormal\")\n",
    "        "
   ]
  },
  {
   "cell_type": "code",
   "execution_count": 22,
   "id": "7feb6803",
   "metadata": {},
   "outputs": [
    {
     "name": "stdout",
     "output_type": "stream",
     "text": [
      "78.00258683271966 6.825372878468599\n",
      "-0.9341153636802346 -5.526608062523579\n"
     ]
    }
   ],
   "source": [
    "test = KLDA(X1, X2, \"\")\n",
    "x=  [0.8780991 , 0.89551051]\n",
    "#a = test.projection_matrix()\n",
    "a = test.inv_projection_matrix() \n",
    "\n",
    "print(max(a[0]), min(a[0]))\n",
    "print(max(a[1]), min(a[1]))\n"
   ]
  },
  {
   "cell_type": "code",
   "execution_count": 5,
   "id": "f405df16",
   "metadata": {},
   "outputs": [
    {
     "data": {
      "text/plain": [
       "array([[0.8780991 , 0.89551051],\n",
       "       [0.95928819, 1.03967316],\n",
       "       [0.82178321, 1.18947778],\n",
       "       [0.77151441, 0.345716  ],\n",
       "       [1.17456965, 0.69211449],\n",
       "       [0.82798737, 0.84806927],\n",
       "       [0.89189141, 0.87699465],\n",
       "       [0.90394545, 0.35413361],\n",
       "       [0.94459507, 1.12641981],\n",
       "       [0.9317172 , 0.78344054],\n",
       "       [1.32970299, 1.58463774],\n",
       "       [1.01313574, 1.16777676],\n",
       "       [1.22382712, 1.98519313],\n",
       "       [0.96435056, 1.77547698],\n",
       "       [1.02600767, 0.87226739],\n",
       "       [1.10863359, 1.16755486],\n",
       "       [0.91588404, 0.79032389],\n",
       "       [1.13872896, 0.85729649],\n",
       "       [0.84917607, 1.36586461],\n",
       "       [1.03436581, 2.07582971],\n",
       "       [1.24328724, 1.07258847],\n",
       "       [0.84146721, 0.89891716],\n",
       "       [1.06821044, 0.77370361],\n",
       "       [0.90852604, 0.96703727],\n",
       "       [1.0576549 , 0.97139534],\n",
       "       [0.99854519, 0.68188934],\n",
       "       [1.23187251, 0.62567337],\n",
       "       [1.32551412, 1.838294  ],\n",
       "       [0.88239331, 0.70017571],\n",
       "       [1.03345052, 1.46893146],\n",
       "       [1.033341  , 1.18559003],\n",
       "       [1.08480038, 1.64661853],\n",
       "       [1.17718111, 1.1437713 ],\n",
       "       [0.78655651, 0.77528533],\n",
       "       [0.81405135, 0.88883881],\n",
       "       [0.93640333, 0.6236295 ],\n",
       "       [1.21828168, 0.96457205],\n",
       "       [1.15080755, 1.02242019],\n",
       "       [0.82550695, 0.55853873],\n",
       "       [0.96548233, 1.18468624],\n",
       "       [0.70455707, 1.39198128],\n",
       "       [1.10018476, 0.98042741],\n",
       "       [0.60660431, 0.56998385],\n",
       "       [1.00277655, 1.24549398],\n",
       "       [0.61771419, 1.02817479],\n",
       "       [1.17353145, 1.14809657],\n",
       "       [1.06796368, 0.5630779 ],\n",
       "       [1.17899425, 1.17867274],\n",
       "       [0.75148062, 1.06702918],\n",
       "       [0.85063796, 0.44689516]])"
      ]
     },
     "execution_count": 5,
     "metadata": {},
     "output_type": "execute_result"
    }
   ],
   "source": [
    "X1"
   ]
  },
  {
   "cell_type": "code",
   "execution_count": null,
   "id": "c8bf335a",
   "metadata": {},
   "outputs": [],
   "source": []
  },
  {
   "cell_type": "code",
   "execution_count": null,
   "id": "649837db",
   "metadata": {},
   "outputs": [],
   "source": []
  },
  {
   "cell_type": "code",
   "execution_count": null,
   "id": "8eedf335",
   "metadata": {},
   "outputs": [],
   "source": []
  },
  {
   "cell_type": "code",
   "execution_count": null,
   "id": "44ce5479",
   "metadata": {},
   "outputs": [],
   "source": []
  },
  {
   "cell_type": "code",
   "execution_count": null,
   "id": "ba4319fa",
   "metadata": {},
   "outputs": [],
   "source": []
  },
  {
   "cell_type": "code",
   "execution_count": null,
   "id": "0816f3a8",
   "metadata": {},
   "outputs": [],
   "source": []
  },
  {
   "cell_type": "code",
   "execution_count": null,
   "id": "be26d626",
   "metadata": {},
   "outputs": [],
   "source": []
  }
 ],
 "metadata": {
  "kernelspec": {
   "display_name": "Python 3",
   "language": "python",
   "name": "python3"
  },
  "language_info": {
   "codemirror_mode": {
    "name": "ipython",
    "version": 3
   },
   "file_extension": ".py",
   "mimetype": "text/x-python",
   "name": "python",
   "nbconvert_exporter": "python",
   "pygments_lexer": "ipython3",
   "version": "3.8.8"
  }
 },
 "nbformat": 4,
 "nbformat_minor": 5
}
