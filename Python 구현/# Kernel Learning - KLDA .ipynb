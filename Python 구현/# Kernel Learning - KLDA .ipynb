{
 "cells": [
  {
   "cell_type": "markdown",
   "id": "1525e2fc",
   "metadata": {},
   "source": [
    "# Kernel Learning - KLDA \n",
    "\n",
    "### LDA 구현\n",
    "1. J(w) = $\\frac{(m_2 - m_1)^2}{s_1^2 + s_2^2}$ 을 최소화하는 w값 찾기 \n",
    "- J(w) = $\\frac{w^TS_Bw}{w^TS_ww}$  \n",
    "\n",
    "> $S_B = (m_2-m_1)(m_2-m_1)^T$\n",
    "\n",
    "> $S_w = \\sum_{n \\in C_1}(x_n - m_1)(x_n - m_1)^T + \\sum_{n \\in C_2} (x_n -m_2)(x_n - m_2)^T$\n",
    "\n",
    "- $w = S_w^{-1} \\frac{\\beta}{\\alpha} (m_2 - m_1)$ \n",
    "\n",
    "> $\\beta = (m_2 - m_1)^T w$ (스칼라 값)\n",
    "\n",
    "> $\\alpha = \\frac{w^TS_Bw}{w^TS_ww}$ (스칼라 값) \n",
    "\n",
    "2. Projection 한 값 y(x) 찾기\n",
    "- $y(x) = wx$\n",
    "\n",
    "### KLDA 구현 \n",
    "1. Kernel 함수 도입하기. 이후 J(w)를 최대화하는 $\\alpha$를 찾기 \n",
    "\n",
    "- J(w) = $\\frac{w^TS_B^{\\phi}w}{w^TS_w^{\\phi}w}$   = $\\frac{\\alpha^TM\\alpha}{\\alpha^TN\\alpha}$ \n",
    "\n",
    "> $w = \\sum_{n=1}^N \\alpha_n\\phi(x_n), \\alpha \\in R$\n",
    "\n",
    "> $S_B = (m_2^{\\phi}-m_1^{\\phi})(m_2^{\\phi}-m_1^{\\phi})^T$\n",
    "\n",
    "> $M = S_B$\n",
    "\n",
    "> $S_w = \\sum_{n \\in C_1}(\\phi(x_n) - m_1^{\\phi})(\\phi(x_n^i) - m_1^{\\phi})^T + \\sum_{n \\in C_2} (\\phi(x_n) -m_2^{\\phi})(\\phi(x_n) - m_2^{\\phi})^T$\n",
    "\n",
    "> $N = \\sum_{j=1,2} K_j(I - 1_{N_j})K_j^T$ \n",
    "\n",
    "- $\\alpha = N^{-1}(M_2 - M_1)$\n",
    "\n",
    "2. Projection 한 값 y(x) 찾기 \n",
    "- $y(x) = (w * \\phi(x)) = \\sum_{n=1}^N \\alpha_nK(x_n,x)$\n"
   ]
  },
  {
   "cell_type": "code",
   "execution_count": 1,
   "id": "dafda771",
   "metadata": {},
   "outputs": [
    {
     "data": {
      "image/png": "[encoded data removed]",
      "text/plain": [
       "<Figure size 432x288 with 1 Axes>"
      ]
     },
     "metadata": {
      "needs_background": "light"
     },
     "output_type": "display_data"
    }
   ],
   "source": [
    "# 데이터 사용 및 라이브러리 설치 \n",
    "import numpy as np\n",
    "import matplotlib.pyplot as plt\n",
    "import seaborn as sns\n",
    "\n",
    "from sklearn.datasets import make_classification \n",
    "\n",
    "X, y = make_classification(n_features=2, n_informative=2,\n",
    "                           n_redundant=0, n_clusters_per_class=1, random_state=0)\n",
    "\n",
    "plt.scatter(X[:, 0], X[:, 1], marker='o', c=y,\n",
    "            s=100, edgecolor=\"k\", linewidth=2)\n",
    "\n",
    "plt.xlim(-4, 4)\n",
    "plt.ylim(-4, 4)\n",
    "plt.xlabel(\"$X_1$\")\n",
    "plt.ylabel(\"$X_2$\")\n",
    "plt.show()"
   ]
  },
  {
   "cell_type": "markdown",
   "id": "a95fc85b",
   "metadata": {},
   "source": [
    "### LDA 구현\n",
    "1. J(w) = $\\frac{(m_2 - m_1)^2}{s_1^2 + s_2^2}$ 을 최소화하는 w값 찾기 \n",
    "- J(w) = $\\frac{w^TS_Bw}{w^TS_ww}$  \n",
    "\n",
    "> $S_B = (m_2-m_1)(m_2-m_1)^T$\n",
    "\n",
    "> $S_w = \\sum_{n \\in C_1}(x_n - m_1)(x_n - m_1)^T + \\sum_{n \\in C_2} (x_n -m_2)(x_n - m_2)^T$\n",
    "\n",
    "- $w = S_w^{-1} \\frac{\\beta}{\\alpha} (m_2 - m_1)$ \n",
    "\n",
    "> $\\beta = (m_2 - m_1)^T w$ (스칼라 값)\n",
    "\n",
    "> $\\alpha = \\frac{w^TS_Bw}{w^TS_ww}$ (스칼라 값) \n",
    "\n",
    "2. Projection 한 값 y(x) 찾기\n",
    "- $y(x) = wx$\n",
    "\n",
    "\n",
    "**구현해야하는 것** \n",
    "- $m_i :w^T(\\frac{1}{N_1}\\sum_{n\\in C_i} x_n$)\n",
    "- $S_B, S_w,S_w^{-1}$ \n",
    "\n",
    "- $\\beta : (m_2 - m_1)^T w $   (스칼라 값)\n",
    "- $\\alpha : \\frac{w^TS_Bw}{w^TS_ww}$ (스칼라 값) \n",
    "\n",
    "**필요한 것**\n",
    "- x_1, x_2 \n",
    "- m_1, m_2\n",
    "\n",
    "**함수의 형태**\n",
    "- def __init__(self, X1, X2)\n"
   ]
  },
  {
   "cell_type": "code",
   "execution_count": null,
   "id": "881a4115",
   "metadata": {},
   "outputs": [],
   "source": [
    "class LDA() : "
   ]
  },
  {
   "cell_type": "code",
   "execution_count": null,
   "id": "e5367c68",
   "metadata": {},
   "outputs": [],
   "source": []
  },
  {
   "cell_type": "code",
   "execution_count": null,
   "id": "5de9c684",
   "metadata": {},
   "outputs": [],
   "source": []
  },
  {
   "cell_type": "code",
   "execution_count": null,
   "id": "dc6989a4",
   "metadata": {},
   "outputs": [],
   "source": []
  },
  {
   "cell_type": "code",
   "execution_count": null,
   "id": "7c3bcb90",
   "metadata": {},
   "outputs": [],
   "source": []
  },
  {
   "cell_type": "code",
   "execution_count": null,
   "id": "d33e8d8b",
   "metadata": {},
   "outputs": [],
   "source": []
  },
  {
   "cell_type": "code",
   "execution_count": null,
   "id": "7feb6803",
   "metadata": {},
   "outputs": [],
   "source": []
  },
  {
   "cell_type": "code",
   "execution_count": null,
   "id": "f405df16",
   "metadata": {},
   "outputs": [],
   "source": []
  },
  {
   "cell_type": "code",
   "execution_count": null,
   "id": "c8bf335a",
   "metadata": {},
   "outputs": [],
   "source": []
  },
  {
   "cell_type": "code",
   "execution_count": null,
   "id": "649837db",
   "metadata": {},
   "outputs": [],
   "source": []
  },
  {
   "cell_type": "code",
   "execution_count": null,
   "id": "8eedf335",
   "metadata": {},
   "outputs": [],
   "source": []
  },
  {
   "cell_type": "code",
   "execution_count": null,
   "id": "44ce5479",
   "metadata": {},
   "outputs": [],
   "source": []
  },
  {
   "cell_type": "code",
   "execution_count": null,
   "id": "ba4319fa",
   "metadata": {},
   "outputs": [],
   "source": []
  },
  {
   "cell_type": "code",
   "execution_count": null,
   "id": "0816f3a8",
   "metadata": {},
   "outputs": [],
   "source": []
  },
  {
   "cell_type": "code",
   "execution_count": null,
   "id": "be26d626",
   "metadata": {},
   "outputs": [],
   "source": []
  }
 ],
 "metadata": {
  "kernelspec": {
   "display_name": "Python 3",
   "language": "python",
   "name": "python3"
  },
  "language_info": {
   "codemirror_mode": {
    "name": "ipython",
    "version": 3
   },
   "file_extension": ".py",
   "mimetype": "text/x-python",
   "name": "python",
   "nbconvert_exporter": "python",
   "pygments_lexer": "ipython3",
   "version": "3.8.8"
  }
 },
 "nbformat": 4,
 "nbformat_minor": 5
}
