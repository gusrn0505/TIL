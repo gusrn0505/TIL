{
 "cells": [
  {
   "cell_type": "markdown",
   "id": "43605144",
   "metadata": {},
   "source": [
    "# Ensemble Learning - GMB \n",
    "\n",
    "### 수도 알고리즘은 강의 자료 참고 \n",
    "\n",
    "1. Initialize $f_0(x)$ = $argmin_\\gamma \\sum_{i=1}^N L(y_i, \\gamma)$ \n",
    "2. For m = 1 to M \n",
    "- for i = 1, ... N compute \n",
    "> $g_{im} = [\\frac{\\partial L(y_i, f(x_i))}{\\partial f(x_i)}]_{f(x_i) = f_{m-1}(x_i)}$ \n",
    "- Fit a regression tree to the targets $g_{im}$ giving terminal regions $R_{jm}, j=1, ... , J_m$ \n",
    "- For j=1, ..., $J_m$ compute \n",
    "> $\\gamma_jm$ = $argmin_\\gamma \\sum_{x_i \\in R_{jm}} L(y_i, f_{m-1}(x_i) + \\gamma)$\n",
    "- update $f_m(x) = f_{m-1}(x) + \\sum_{j=1}^{J_m} \\gamma_{jm} I(x \\in R_{jm})$ \n",
    "3. Output $\\hat f(x) = f_M(x)$ \n",
    "\n"
   ]
  },
  {
   "cell_type": "markdown",
   "id": "bd530146",
   "metadata": {},
   "source": [
    "**구현해야 하는 것**\n",
    "- f(x) : 약한 학습기. Stump tree 적용 \n",
    "- loss 함수 : OLS 적용\n",
    "\n"
   ]
  },
  {
   "cell_type": "code",
   "execution_count": null,
   "id": "3551d1cf",
   "metadata": {},
   "outputs": [],
   "source": []
  },
  {
   "cell_type": "code",
   "execution_count": null,
   "id": "b7110c72",
   "metadata": {},
   "outputs": [],
   "source": [
    "import numpy as np\n",
    "import pandas as pd\n",
    "import random as rand\n",
    "\n",
    "from sklearn.datasets import load_iris\n",
    "X = load_iris()['data'][:100]\n",
    "\n",
    "# y의 값을 +1, -1 둘 중 하나로 변경 \n",
    "y = load_iris()[\"target\"][:100]\n",
    "y[:50] = -1\n",
    "y= y.reshape(-1,1)\n",
    "S = np.concatenate((X,y), axis=1)\n",
    "\n",
    "import matplotlib.pyplot as plt\n",
    "import scipy as sc\n",
    "from scipy.stats import norm\n",
    "from sys import maxsize"
   ]
  },
  {
   "cell_type": "code",
   "execution_count": null,
   "id": "67828453",
   "metadata": {},
   "outputs": [],
   "source": [
    "# stump_tree 함수 구현 \n",
    "def stump_tree(data) : \n",
    "    chose_var = data[np.random.choice(range(len(data)))]\n",
    "    chose_att = np.random.choice(range(np.shape(data)[1]-1))\n",
    "    crit = chose_var[chose_att]\n",
    "    \n",
    "    left = [] \n",
    "    right = [] \n",
    "    result = np.zeros(len(data))\n",
    "    for index in range(len(data)) : \n",
    "        if data[index][chose_att] > crit : right.append(index)\n",
    "        else : left.append(index)\n",
    "    \n",
    "    right_result = [1 if data[right][i,-1] == 1 else 0 for i in range(len(right)) ] \n",
    "    left_result = [1 if data[left][i,-1] == -1 else 0 for i in range(len(left)) ]\n",
    "    if np.sum(right_result) + np.sum(left_result) > len(data)/2 : \n",
    "        result[right] = 1 \n",
    "        result[left] = -1 \n",
    "        direction = \"right\" \n",
    "    else : \n",
    "        result[right] = -1 \n",
    "        result[left] = 1 \n",
    "        direction = \"left\"\n",
    "    return result, chose_att, crit, direction \n",
    "\n",
    "def cal_stump_tree(vector, chose_att, crit, direction) :\n",
    "    if vector[chose_att] > crit :\n",
    "        if direction == \"right\":  return 1\n",
    "        else : return -1 \n",
    "        \n",
    "    else : \n",
    "        if direction == \"right\" : return -1 \n",
    "        else : return 1 "
   ]
  },
  {
   "cell_type": "code",
   "execution_count": null,
   "id": "88ba749c",
   "metadata": {},
   "outputs": [],
   "source": [
    "#ht 를 수식으로 남기는 방법이 애매함. \n",
    "\n",
    "def adaboost(T,data, new_vector) : \n",
    "    D_list = [] \n",
    "    D = np.ones(len(data)) / len(data) \n",
    "    D_list.append(D)\n",
    "    \n",
    "    alpha_list = []\n",
    "    h_list = [] \n",
    "    \n",
    "    for t in range(T) :\n",
    "        Z = 0 \n",
    "        \n",
    "        # 아래처럼 Random Choice로 샘플을 골라내는 게 맞을까? \n",
    "        new_index = np.random.choice(range(len(data)), len(data), p=D)\n",
    "        new_data = data[new_index]\n",
    "        epsil = epsilon(new_data)\n",
    "        \n",
    "        h, chose_att, crit, direction = stump_tree(new_data)\n",
    "        h_list.append([chose_att, crit, direction])\n",
    "        a = alpha(epsil)\n",
    "        alpha_list.append(a)\n",
    "        new_D = [] \n",
    "        for i in range(len(new_data)) : \n",
    "            new_D_value =  D[i]* np.exp(-a * new_data[i][-1] * h[i])\n",
    "            Z += new_D_value\n",
    "            new_D.append(new_D_value)\n",
    "        \n",
    "        D = np.array(new_D)/Z\n",
    "    \n",
    "    result = 0 \n",
    "    for t in range(T):\n",
    "        chose_att, crit, direction = h_list[t]\n",
    "        result += alpha_list[t] * cal_stump_tree(new_vector, chose_att, crit, direction)\n",
    "    \n",
    "    if result > 0 : return 1\n",
    "    else : return -1 \n"
   ]
  },
  {
   "cell_type": "code",
   "execution_count": null,
   "id": "0c03ceee",
   "metadata": {},
   "outputs": [],
   "source": []
  },
  {
   "cell_type": "code",
   "execution_count": null,
   "id": "a184d9de",
   "metadata": {},
   "outputs": [],
   "source": []
  },
  {
   "cell_type": "code",
   "execution_count": null,
   "id": "393d6c7c",
   "metadata": {},
   "outputs": [],
   "source": []
  },
  {
   "cell_type": "code",
   "execution_count": null,
   "id": "8587ac72",
   "metadata": {},
   "outputs": [],
   "source": []
  },
  {
   "cell_type": "code",
   "execution_count": null,
   "id": "81bf8b5f",
   "metadata": {},
   "outputs": [],
   "source": []
  },
  {
   "cell_type": "code",
   "execution_count": null,
   "id": "a8412139",
   "metadata": {},
   "outputs": [],
   "source": []
  },
  {
   "cell_type": "code",
   "execution_count": null,
   "id": "d8cc9d18",
   "metadata": {},
   "outputs": [],
   "source": []
  },
  {
   "cell_type": "code",
   "execution_count": null,
   "id": "178728bf",
   "metadata": {},
   "outputs": [],
   "source": []
  },
  {
   "cell_type": "code",
   "execution_count": null,
   "id": "23e88788",
   "metadata": {},
   "outputs": [],
   "source": []
  },
  {
   "cell_type": "code",
   "execution_count": null,
   "id": "c8af45dc",
   "metadata": {},
   "outputs": [],
   "source": []
  },
  {
   "cell_type": "code",
   "execution_count": null,
   "id": "eb66d9e1",
   "metadata": {},
   "outputs": [],
   "source": []
  },
  {
   "cell_type": "code",
   "execution_count": null,
   "id": "69179b36",
   "metadata": {},
   "outputs": [],
   "source": []
  },
  {
   "cell_type": "code",
   "execution_count": null,
   "id": "0a1e015c",
   "metadata": {},
   "outputs": [],
   "source": []
  },
  {
   "cell_type": "code",
   "execution_count": null,
   "id": "80889f12",
   "metadata": {},
   "outputs": [],
   "source": []
  },
  {
   "cell_type": "code",
   "execution_count": null,
   "id": "78b1614a",
   "metadata": {},
   "outputs": [],
   "source": []
  },
  {
   "cell_type": "code",
   "execution_count": null,
   "id": "00066153",
   "metadata": {},
   "outputs": [],
   "source": []
  },
  {
   "cell_type": "code",
   "execution_count": null,
   "id": "9e8573a5",
   "metadata": {},
   "outputs": [],
   "source": []
  },
  {
   "cell_type": "code",
   "execution_count": null,
   "id": "75c2bad4",
   "metadata": {},
   "outputs": [],
   "source": []
  }
 ],
 "metadata": {
  "kernelspec": {
   "display_name": "Python 3",
   "language": "python",
   "name": "python3"
  },
  "language_info": {
   "codemirror_mode": {
    "name": "ipython",
    "version": 3
   },
   "file_extension": ".py",
   "mimetype": "text/x-python",
   "name": "python",
   "nbconvert_exporter": "python",
   "pygments_lexer": "ipython3",
   "version": "3.8.8"
  }
 },
 "nbformat": 4,
 "nbformat_minor": 5
}
