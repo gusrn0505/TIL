{
 "cells": [
  {
   "cell_type": "markdown",
   "id": "bc345989",
   "metadata": {},
   "source": [
    "# Feature Extraction - PCA\n",
    "\n",
    "##### PCA 알고리즘 - 출처 : 단단한 머신러닝 챕터 10\n",
    "**입력** \n",
    "- 샘플 세트 D = {x_1, x_2, .... , x_m}. 저차원 공간 차원수 d'\n",
    "\n",
    "**과정** \n",
    "1. 모든 샘플에 대해 정규화 진행 :$x_i <= x_i - \\frac{1}{m}\\sum_{i=1}^m x_i$ \n",
    "2. 샘플의 공분산 행렬 $XX^T$\n",
    "3. 공분산 행렬 XX^T에 대하여 고윳값 분해 진행 \n",
    "4. 최대 크기의 d'개 고윳값에 대응하는 특징 벡터 $w_1, w_2, ...w_{d^'}$를 취한다. \n",
    "\n",
    "**출력**\n",
    "투영 행렬 $W^* =(w_1, w_2, ..., w_{d^'})$\n"
   ]
  },
  {
   "cell_type": "code",
   "execution_count": 1,
   "id": "aa7e10c5",
   "metadata": {},
   "outputs": [
    {
     "name": "stderr",
     "output_type": "stream",
     "text": [
      "C:\\Users\\PC\\anaconda3\\lib\\site-packages\\sklearn\\utils\\deprecation.py:87: FutureWarning: Function load_boston is deprecated; `load_boston` is deprecated in 1.0 and will be removed in 1.2.\n",
      "\n",
      "    The Boston housing prices dataset has an ethical problem. You can refer to\n",
      "    the documentation of this function for further details.\n",
      "\n",
      "    The scikit-learn maintainers therefore strongly discourage the use of this\n",
      "    dataset unless the purpose of the code is to study and educate about\n",
      "    ethical issues in data science and machine learning.\n",
      "\n",
      "    In this special case, you can fetch the dataset from the original\n",
      "    source::\n",
      "\n",
      "        import pandas as pd\n",
      "        import numpy as np\n",
      "\n",
      "\n",
      "        data_url = \"http://lib.stat.cmu.edu/datasets/boston\"\n",
      "        raw_df = pd.read_csv(data_url, sep=\"\\s+\", skiprows=22, header=None)\n",
      "        data = np.hstack([raw_df.values[::2, :], raw_df.values[1::2, :2]])\n",
      "        target = raw_df.values[1::2, 2]\n",
      "\n",
      "    Alternative datasets include the California housing dataset (i.e.\n",
      "    :func:`~sklearn.datasets.fetch_california_housing`) and the Ames housing\n",
      "    dataset. You can load the datasets as follows::\n",
      "\n",
      "        from sklearn.datasets import fetch_california_housing\n",
      "        housing = fetch_california_housing()\n",
      "\n",
      "    for the California housing dataset and::\n",
      "\n",
      "        from sklearn.datasets import fetch_openml\n",
      "        housing = fetch_openml(name=\"house_prices\", as_frame=True)\n",
      "\n",
      "    for the Ames housing dataset.\n",
      "    \n",
      "  warnings.warn(msg, category=FutureWarning)\n"
     ]
    }
   ],
   "source": [
    "# 데이터 사용 및 라이브러리 설치 \n",
    "\n",
    "import numpy as np\n",
    "import pandas as pd \n",
    "\n",
    "from sklearn.datasets import load_boston\n",
    "from sklearn.linear_model import LinearRegression \n",
    "\n",
    "boston = load_boston()\n",
    "X = boston.data \n",
    "y = boston.target"
   ]
  },
  {
   "cell_type": "markdown",
   "id": "d311a589",
   "metadata": {},
   "source": [
    "##### PCA 알고리즘 - 출처 : 단단한 머신러닝 챕터 10\n",
    "**입력** \n",
    "- 샘플 세트 D = {x_1, x_2, .... , x_m}. 저차원 공간 차원수 d'\n",
    "> X : 데이터 세트  \n",
    "> y : 타겟 데이터 \n",
    "> n : 데이터의 개수 \n",
    "\n",
    "\n",
    "**과정** \n",
    "1. 모든 샘플에 대해 정규화 진행 :$x_i <= x_i - \\frac{1}{m}\\sum_{i=1}^m x_i$ \n",
    "2. 샘플의 공분산 행렬  𝑋𝑋𝑇\n",
    "\n",
    "**구현해야하는 것**\n",
    "- 정규화 :  각 x_i 데이터 속성별로 mean(x_i) 값을 빼주기 \n",
    "- 각 속성별 평균 구하기 \n",
    "\n",
    "**필요로 하는 것**\n",
    "- X \n",
    "\n",
    "**함수의 형태**\n",
    "- def normarization(self, metrix) :\n",
    "\n"
   ]
  },
  {
   "cell_type": "code",
   "execution_count": 2,
   "id": "8326c770",
   "metadata": {},
   "outputs": [],
   "source": [
    "class PCA() : \n",
    "    def __init__(self, X, y) : \n",
    "        self.X = X\n",
    "        self.y = y \n",
    "        self.n = np.shape(X)[0] \n",
    "        self.m = np.shape(X)[1]\n",
    "    \n",
    "    def normarization(self) : \n",
    "        mean_X = np.mean(self.X, axis=0)\n",
    "        return np.array(self.X)-mean_X\n",
    "    \n",
    "    def cov(self,metrix): \n",
    "        return np.dot(np.array(metrix).T, np.array(metrix))\n",
    "        "
   ]
  },
  {
   "cell_type": "code",
   "execution_count": 3,
   "id": "1ce56d71",
   "metadata": {},
   "outputs": [
    {
     "data": {
      "text/plain": [
       "array([[ 3.73632220e+04, -2.03090578e+04,  1.21161311e+04,\n",
       "        -6.16648645e+01,  2.11894916e+02, -6.69144114e+02,\n",
       "         4.31296878e+04, -3.47274438e+03,  2.36581193e+04,\n",
       "         4.26634877e+05,  2.72666205e+03, -1.52702817e+05,\n",
       "         1.41330148e+04],\n",
       "       [-2.03090578e+04,  2.74688091e+05, -4.31333873e+04,\n",
       "        -1.27727273e+02, -7.05054841e+02,  2.58181927e+03,\n",
       "        -1.88820282e+05,  1.64777985e+04, -3.19910909e+04,\n",
       "        -6.24409136e+05, -9.98716818e+03,  1.88729308e+05,\n",
       "        -3.47354336e+04],\n",
       "       [ 1.21161311e+04, -4.31333873e+04,  2.37675434e+04,\n",
       "         5.53827470e+01,  3.06572215e+02, -9.53418066e+02,\n",
       "         6.28795211e+04, -5.16518922e+03,  1.79527355e+04,\n",
       "         4.20846947e+05,  2.87451252e+03, -1.12907777e+05,\n",
       "         1.49380365e+04],\n",
       "       [-6.16648645e+01, -1.27727273e+02,  5.53827470e+01,\n",
       "         3.25790514e+01,  1.35557292e+00,  8.22379644e+00,\n",
       "         3.12378458e+02, -2.67866941e+01, -8.22924901e+00,\n",
       "        -7.69300395e+02, -3.37436759e+01,  5.71318893e+02,\n",
       "        -4.93972134e+01],\n",
       "       [ 2.11894916e+02, -7.05054841e+02,  3.06572215e+02,\n",
       "         1.35557292e+00,  6.78095604e+00, -1.24247420e+01,\n",
       "         1.20489324e+03, -9.47863973e+01,  3.11549374e+02,\n",
       "         6.58837419e+03,  2.39356488e+01, -2.03038767e+03,\n",
       "         2.46917815e+02],\n",
       "       [-6.69144114e+02,  2.58181927e+03, -9.53418066e+02,\n",
       "         8.22379644e+00, -1.24247420e+01,  2.49303779e+02,\n",
       "        -2.39972424e+03,  1.53350028e+02, -6.48326360e+02,\n",
       "        -1.74646411e+04, -2.73085426e+02,  4.14857790e+03,\n",
       "        -1.55526941e+03],\n",
       "       [ 4.31296878e+04, -1.88820282e+05,  6.28795211e+04,\n",
       "         3.12378458e+02,  1.20489324e+03, -2.39972424e+03,\n",
       "         4.00140991e+05, -2.23863366e+04,  5.64442775e+04,\n",
       "         1.21335851e+06,  8.04814528e+03, -3.54984866e+05,\n",
       "         6.11442509e+04],\n",
       "       [-3.47274438e+03,  1.64777985e+04, -5.16518922e+03,\n",
       "        -2.67866941e+01, -9.47863973e+01,  1.53350028e+02,\n",
       "        -2.23863366e+04,  2.23917764e+03, -4.57946727e+03,\n",
       "        -9.57806188e+04, -5.35186150e+02,  2.83003797e+04,\n",
       "        -3.77403118e+03],\n",
       "       [ 2.36581193e+04, -3.19910909e+04,  1.79527355e+04,\n",
       "        -8.22924901e+00,  3.11549374e+02, -6.48326360e+02,\n",
       "         5.64442775e+04, -4.57946727e+03,  3.82872648e+04,\n",
       "         6.74557071e+05,  4.42416166e+03, -1.78404491e+05,\n",
       "         1.53446484e+04],\n",
       "       [ 4.26634877e+05, -6.24409136e+05,  4.20846947e+05,\n",
       "        -7.69300395e+02,  6.58837419e+03, -1.74646411e+04,\n",
       "         1.21335851e+06, -9.57806188e+04,  6.74557071e+05,\n",
       "         1.43444035e+07,  8.49173360e+04, -3.43294516e+06,\n",
       "         3.30630832e+05],\n",
       "       [ 2.72666205e+03, -9.98716818e+03,  2.87451252e+03,\n",
       "        -3.37436759e+01,  2.39356488e+01, -2.73085426e+02,\n",
       "         8.04814528e+03, -5.35186150e+02,  4.42416166e+03,\n",
       "         8.49173360e+04,  2.36692951e+03, -1.77050613e+04,\n",
       "         2.92027792e+03],\n",
       "       [-1.52702817e+05,  1.88729308e+05, -1.12907777e+05,\n",
       "         5.71318893e+02, -2.03038767e+03,  4.14857790e+03,\n",
       "        -3.54984866e+05,  2.83003797e+04, -1.78404491e+05,\n",
       "        -3.43294516e+06, -1.77050613e+04,  4.20904989e+06,\n",
       "        -1.20527095e+05],\n",
       "       [ 1.41330148e+04, -3.47354336e+04,  1.49380365e+04,\n",
       "        -4.93972134e+01,  2.46917815e+02, -1.55526941e+03,\n",
       "         6.11442509e+04, -3.77403118e+03,  1.53446484e+04,\n",
       "         3.30630832e+05,  2.92027792e+03, -1.20527095e+05,\n",
       "         2.57523536e+04]])"
      ]
     },
     "execution_count": 3,
     "metadata": {},
     "output_type": "execute_result"
    }
   ],
   "source": [
    "test = PCA(X,y)\n",
    "b = test.normarization()\n",
    "test.cov(b)"
   ]
  },
  {
   "cell_type": "markdown",
   "id": "220ecd63",
   "metadata": {},
   "source": [
    "#### 3. 공분산 행렬 XX^T에 대하여 고윳값 분해 진행\n",
    "#### 4. 최대 크기의 d'개 고윳값에 대응하는 특징 벡터  w_1, w_2, ...w_{d^'} 를 취한다.\n",
    "\n",
    "**과정** \n",
    "1. 고윳값 분해를 통해 고윳값과 고유벡터를 구할 것 \n",
    "2. 구한 고윳값의 크기에 따라 내림차순으로 정렬할 것 \n",
    "3. 고윳값이 0인 경우는 제외하며, 입력값으로 입력한 고윳값 개수에 따라 추출하기\n",
    "4. 선택한 고윳값에 따라 분산이 얼마나 설명되는지 계산하기 \n",
    "\n",
    "**구현해야하는 것**\n",
    "- 고윳값 분해 \n",
    "- 정렬할 것 \n",
    "- 현재 분산 설명력 : 현 고윳값 / 전체 고윳값의 합\n",
    "\n",
    "**필요로 하는 것**\n",
    "- num : 적용할 고윳값의 개수 \n",
    "- metrix : 고윳값 분해를 할 metrix \n",
    "\n",
    "\n",
    "**함수의 형태**\n",
    "- def eigen(self, metrix): => 내림차순으로 정렬된 고윳값 list, 고윳값과 매칭되는 고유벡터 list\n",
    "\n",
    "- def select_eigen(self, num, metrix) : => num 개수에 맞춰 고유 벡터 list 및 현재 분산 설명력 제시 "
   ]
  },
  {
   "cell_type": "code",
   "execution_count": 4,
   "id": "e217d603",
   "metadata": {},
   "outputs": [],
   "source": [
    "# 최종본 \n",
    "\n",
    "class PCA() : \n",
    "    def __init__(self, X, y) : \n",
    "        self.X = X\n",
    "        self.y = y \n",
    "        self.n = np.shape(X)[0] \n",
    "        self.m = np.shape(X)[1]\n",
    "    \n",
    "    def normarization(self) : \n",
    "        mean_X = np.mean(self.X, axis=0)\n",
    "        return np.array(self.X)-mean_X\n",
    "    \n",
    "    def cov(self,metrix): \n",
    "        return np.dot(np.array(metrix).T, np.array(metrix))\n",
    "        \n",
    "    def eigen(self, metrix):\n",
    "        eigenvalue, eigenvector = np.linalg.eig(metrix)\n",
    "        eigenvector_lst = []\n",
    "        index = np.argsort(eigenvalue)[::-1]\n",
    "        for i, num in enumerate(index) : \n",
    "            eigenvector_lst.append(eigenvector[i, :])\n",
    "        return np.take(eigenvalue, index), np.array(eigenvector_lst)\n",
    "    \n",
    "    def select_eigen(self, num) : \n",
    "        if num > self.m : \n",
    "            return print(\"Please lower num under\", self.m)\n",
    "            \n",
    "        norm_metrix = self.normarization()\n",
    "        cov_metrix = self.cov(norm_metrix)\n",
    "        eigenvalue, eigenvector = self.eigen(cov_metrix)\n",
    "        return eigenvector[:num, :], sum(eigenvalue[:num])/sum(eigenvalue)\n"
   ]
  },
  {
   "cell_type": "code",
   "execution_count": 7,
   "id": "afc213d3",
   "metadata": {},
   "outputs": [
    {
     "data": {
      "text/plain": [
       "(array([[ 2.92973218e-02,  6.66847277e-03,  1.14793645e-02,\n",
       "          2.71309632e-02, -9.52338065e-01,  1.69050862e-01,\n",
       "          2.16220534e-01,  1.24410586e-01, -1.37713177e-02,\n",
       "         -1.66179883e-02, -1.99666297e-03, -1.99499182e-03,\n",
       "         -5.12974614e-04],\n",
       "        [-4.35898000e-02,  1.17564821e-03, -6.32897481e-01,\n",
       "          7.68058991e-01,  5.67213995e-03, -4.68215380e-02,\n",
       "          3.51598379e-02, -5.13731838e-02, -2.35075239e-02,\n",
       "          3.06891846e-02,  5.51190327e-03,  1.93735139e-04,\n",
       "         -1.27249747e-04],\n",
       "        [ 2.83309382e-02, -4.94975624e-03,  8.83403603e-02,\n",
       "         -1.28007210e-02,  5.71048624e-02, -3.43651593e-01,\n",
       "          7.85948681e-01, -4.90776545e-01, -3.52993231e-02,\n",
       "         -9.80914287e-02, -1.78544855e-02,  8.11846520e-03,\n",
       "          4.24115064e-03],\n",
       "        [-5.55846350e-05, -1.02678850e-04,  9.75320360e-04,\n",
       "          8.54389584e-04,  2.16905859e-03,  3.50007555e-03,\n",
       "          5.10632892e-03, -1.13540624e-02,  1.78071403e-02,\n",
       "          1.57944414e-03, -1.59115209e-02, -9.99595031e-01,\n",
       "          7.96040929e-03]]),\n",
       " 0.9971807427797741)"
      ]
     },
     "execution_count": 7,
     "metadata": {},
     "output_type": "execute_result"
    }
   ],
   "source": [
    "test = PCA(X,y)\n",
    "test.select_eigen(4)"
   ]
  },
  {
   "cell_type": "code",
   "execution_count": 36,
   "id": "1fe3a221",
   "metadata": {},
   "outputs": [
    {
     "data": {
      "text/plain": [
       "array([3, 2, 1])"
      ]
     },
     "execution_count": 36,
     "metadata": {},
     "output_type": "execute_result"
    }
   ],
   "source": [
    "a = np.array([[1,2,3],[2,6,3],[7,1,3]])\n"
   ]
  },
  {
   "cell_type": "code",
   "execution_count": null,
   "id": "d3d80c59",
   "metadata": {},
   "outputs": [],
   "source": []
  },
  {
   "cell_type": "code",
   "execution_count": null,
   "id": "25047dc4",
   "metadata": {},
   "outputs": [],
   "source": []
  },
  {
   "cell_type": "code",
   "execution_count": null,
   "id": "8d44604e",
   "metadata": {},
   "outputs": [],
   "source": []
  },
  {
   "cell_type": "code",
   "execution_count": null,
   "id": "027b7611",
   "metadata": {},
   "outputs": [],
   "source": []
  },
  {
   "cell_type": "code",
   "execution_count": null,
   "id": "d1cd423b",
   "metadata": {},
   "outputs": [],
   "source": []
  },
  {
   "cell_type": "code",
   "execution_count": null,
   "id": "74858072",
   "metadata": {},
   "outputs": [],
   "source": []
  },
  {
   "cell_type": "code",
   "execution_count": null,
   "id": "b57f7c69",
   "metadata": {},
   "outputs": [],
   "source": []
  },
  {
   "cell_type": "code",
   "execution_count": null,
   "id": "5a850f39",
   "metadata": {},
   "outputs": [],
   "source": []
  },
  {
   "cell_type": "code",
   "execution_count": null,
   "id": "79062021",
   "metadata": {},
   "outputs": [],
   "source": []
  },
  {
   "cell_type": "code",
   "execution_count": null,
   "id": "17863880",
   "metadata": {},
   "outputs": [],
   "source": []
  },
  {
   "cell_type": "code",
   "execution_count": null,
   "id": "8dbb69d4",
   "metadata": {},
   "outputs": [],
   "source": []
  },
  {
   "cell_type": "code",
   "execution_count": null,
   "id": "5bb25a2e",
   "metadata": {},
   "outputs": [],
   "source": []
  },
  {
   "cell_type": "code",
   "execution_count": null,
   "id": "9536ec90",
   "metadata": {},
   "outputs": [],
   "source": []
  },
  {
   "cell_type": "code",
   "execution_count": null,
   "id": "3063b7fb",
   "metadata": {},
   "outputs": [],
   "source": []
  },
  {
   "cell_type": "code",
   "execution_count": null,
   "id": "64d6f894",
   "metadata": {},
   "outputs": [],
   "source": []
  },
  {
   "cell_type": "code",
   "execution_count": null,
   "id": "8c0856d3",
   "metadata": {},
   "outputs": [],
   "source": []
  },
  {
   "cell_type": "code",
   "execution_count": null,
   "id": "51d33a86",
   "metadata": {},
   "outputs": [],
   "source": []
  },
  {
   "cell_type": "code",
   "execution_count": null,
   "id": "1d2fb57c",
   "metadata": {},
   "outputs": [],
   "source": []
  }
 ],
 "metadata": {
  "kernelspec": {
   "display_name": "Python 3",
   "language": "python",
   "name": "python3"
  },
  "language_info": {
   "codemirror_mode": {
    "name": "ipython",
    "version": 3
   },
   "file_extension": ".py",
   "mimetype": "text/x-python",
   "name": "python",
   "nbconvert_exporter": "python",
   "pygments_lexer": "ipython3",
   "version": "3.8.8"
  }
 },
 "nbformat": 4,
 "nbformat_minor": 5
}
