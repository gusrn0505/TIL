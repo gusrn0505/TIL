{
 "cells": [
  {
   "cell_type": "markdown",
   "id": "bc345989",
   "metadata": {},
   "source": [
    "# Feature Extraction - PCA\n",
    "\n",
    "##### PCA 알고리즘 - 출처 : 단단한 머신러닝 챕터 10\n",
    "**입력** \n",
    "- 샘플 세트 D = {x_1, x_2, .... , x_m}. 저차원 공간 차원수 d'\n",
    "\n",
    "**과정** \n",
    "1. 모든 샘플에 대해 정규화 진행 :$x_i <= x_i - \\frac{1}{m}\\sum_{i=1}^m x_i$ \n",
    "2. 샘플의 공분산 행렬 $XX^T$\n",
    "3. 공분산 행렬 XX^T에 대하여 고윳값 분해 진행 \n",
    "4. 최대 크기의 d'개 고윳값에 대응하는 특징 벡터 $w_1, w_2, ...w_{d^'}$를 취한다. \n",
    "\n",
    "**출력**\n",
    "투영 행렬 $W^* =(w_1, w_2, ..., w_{d^'})$\n"
   ]
  },
  {
   "cell_type": "code",
   "execution_count": 1,
   "id": "aa7e10c5",
   "metadata": {},
   "outputs": [
    {
     "name": "stderr",
     "output_type": "stream",
     "text": [
      "C:\\Users\\PC\\anaconda3\\lib\\site-packages\\sklearn\\utils\\deprecation.py:87: FutureWarning: Function load_boston is deprecated; `load_boston` is deprecated in 1.0 and will be removed in 1.2.\n",
      "\n",
      "    The Boston housing prices dataset has an ethical problem. You can refer to\n",
      "    the documentation of this function for further details.\n",
      "\n",
      "    The scikit-learn maintainers therefore strongly discourage the use of this\n",
      "    dataset unless the purpose of the code is to study and educate about\n",
      "    ethical issues in data science and machine learning.\n",
      "\n",
      "    In this special case, you can fetch the dataset from the original\n",
      "    source::\n",
      "\n",
      "        import pandas as pd\n",
      "        import numpy as np\n",
      "\n",
      "\n",
      "        data_url = \"http://lib.stat.cmu.edu/datasets/boston\"\n",
      "        raw_df = pd.read_csv(data_url, sep=\"\\s+\", skiprows=22, header=None)\n",
      "        data = np.hstack([raw_df.values[::2, :], raw_df.values[1::2, :2]])\n",
      "        target = raw_df.values[1::2, 2]\n",
      "\n",
      "    Alternative datasets include the California housing dataset (i.e.\n",
      "    :func:`~sklearn.datasets.fetch_california_housing`) and the Ames housing\n",
      "    dataset. You can load the datasets as follows::\n",
      "\n",
      "        from sklearn.datasets import fetch_california_housing\n",
      "        housing = fetch_california_housing()\n",
      "\n",
      "    for the California housing dataset and::\n",
      "\n",
      "        from sklearn.datasets import fetch_openml\n",
      "        housing = fetch_openml(name=\"house_prices\", as_frame=True)\n",
      "\n",
      "    for the Ames housing dataset.\n",
      "    \n",
      "  warnings.warn(msg, category=FutureWarning)\n"
     ]
    }
   ],
   "source": [
    "# 데이터 사용 및 라이브러리 설치 \n",
    "\n",
    "import numpy as np\n",
    "import pandas as pd \n",
    "\n",
    "from sklearn.datasets import load_boston\n",
    "from sklearn.linear_model import LinearRegression \n",
    "\n",
    "boston = load_boston()\n",
    "X = boston.data \n",
    "y = boston.target"
   ]
  },
  {
   "cell_type": "markdown",
   "id": "d311a589",
   "metadata": {},
   "source": [
    "##### PCA 알고리즘 - 출처 : 단단한 머신러닝 챕터 10\n",
    "**입력** \n",
    "- 샘플 세트 D = {x_1, x_2, .... , x_m}. 저차원 공간 차원수 d'\n",
    "> X : 데이터 세트  \n",
    "> y : 타겟 데이터 \n",
    "> n : 데이터의 개수 \n",
    "\n",
    "\n",
    "**과정** \n",
    "1. 모든 샘플에 대해 정규화 진행 :$x_i <= x_i - \\frac{1}{m}\\sum_{i=1}^m x_i$ \n",
    "2. 샘플의 공분산 행렬  𝑋𝑋𝑇\n",
    "\n",
    "**구현해야하는 것**\n",
    "- 정규화 :  각 x_i 데이터 속성별로 mean(x_i) 값을 빼주기 \n",
    "- 각 속성별 평균 구하기 \n",
    "\n",
    "**필요로 하는 것**\n",
    "- X \n",
    "\n",
    "**함수의 형태**\n",
    "- def normarization(self, metrix) :\n",
    "\n"
   ]
  },
  {
   "cell_type": "code",
   "execution_count": 11,
   "id": "8326c770",
   "metadata": {},
   "outputs": [],
   "source": [
    "class PCA() : \n",
    "    def __init__(self, X, y) : \n",
    "        self.X = X\n",
    "        self.y = y \n",
    "        self.n = np.shape(X)[0] \n",
    "        self.m = np.shape(X)[1]\n",
    "    \n",
    "    def normarization(self) : \n",
    "        mean_X = np.mean(self.X, axis=0)\n",
    "        return np.array(self.X)-mean_X\n",
    "    \n",
    "    def cov(self,metrix): \n",
    "        return np.dot(np.array(metrix), np.array(metrix).T)\n",
    "        "
   ]
  },
  {
   "cell_type": "code",
   "execution_count": 13,
   "id": "1ce56d71",
   "metadata": {},
   "outputs": [
    {
     "data": {
      "text/plain": [
       "array([[14503.76455208, 20308.64596141, 20244.43077585, ...,\n",
       "        16770.08014827, 16630.42883351, 16787.18949709],\n",
       "       [20308.64596141, 29589.22879273, 29259.77835075, ...,\n",
       "        24555.45910654, 24396.23543466, 24442.5882804 ],\n",
       "       [20244.43077585, 29259.77835075, 29290.42860477, ...,\n",
       "        24028.93768389, 23909.58406304, 24085.45771401],\n",
       "       ...,\n",
       "       [16770.08014827, 24555.45910654, 24028.93768389, ...,\n",
       "        20684.36674041, 20500.91386046, 20438.76557271],\n",
       "       [16630.42883351, 24396.23543466, 23909.58406304, ...,\n",
       "        20500.91386046, 20333.04360684, 20274.78053538],\n",
       "       [16787.18949709, 24442.5882804 , 24085.45771401, ...,\n",
       "        20438.76557271, 20274.78053538, 20303.23100549]])"
      ]
     },
     "execution_count": 13,
     "metadata": {},
     "output_type": "execute_result"
    }
   ],
   "source": [
    "test = PCA(X,y)\n",
    "b = test.normarization()\n",
    "test.cov(b)"
   ]
  },
  {
   "cell_type": "markdown",
   "id": "220ecd63",
   "metadata": {},
   "source": [
    "#### 3. 공분산 행렬 XX^T에 대하여 고윳값 분해 진행\n",
    "#### 4. 최대 크기의 d'개 고윳값에 대응하는 특징 벡터  w_1, w_2, ...w_{d^'} 를 취한다.\n",
    "\n",
    "**과정** \n",
    "1. 고윳값 분해를 통해 고윳값과 고유벡터를 구할 것 \n",
    "2. 구한 고윳값의 크기에 따라 내림차순으로 정렬할 것 \n",
    "3. 고윳값이 0인 경우는 제외하며, 입력값으로 입력한 고윳값 개수에 따라 추출하기\n",
    "4. 선택한 고윳값에 따라 분산이 얼마나 설명되는지 계산하기 \n",
    "\n",
    "**구현해야하는 것**\n",
    "- 고윳값 분해 \n",
    "- 정렬할 것 \n",
    "- 현재 분산 설명력 : 현 고윳값 / 전체 고윳값의 합\n",
    "\n",
    "**필요로 하는 것**\n",
    "- num : 적용할 고윳값의 개수 \n",
    "- metrix : 고윳값 분해를 할 metrix \n",
    "\n",
    "\n",
    "**함수의 형태**\n",
    "- def eigen(self, metrix): => 내림차순으로 정렬된 고윳값 list, 고윳값과 매칭되는 고유벡터 list\n",
    "\n",
    "- def select_eigen(self, num, metrix) : => num 개수에 맞춰 고유 벡터 list 및 현재 분산 설명력 제시 "
   ]
  },
  {
   "cell_type": "code",
   "execution_count": 45,
   "id": "e217d603",
   "metadata": {},
   "outputs": [],
   "source": [
    "# 최종본 \n",
    "\n",
    "class PCA() : \n",
    "    def __init__(self, X, y) : \n",
    "        self.X = X\n",
    "        self.y = y \n",
    "        self.n = np.shape(X)[0] \n",
    "        self.m = np.shape(X)[1]\n",
    "    \n",
    "    def normarization(self) : \n",
    "        mean_X = np.mean(self.X, axis=0)\n",
    "        return np.array(self.X)-mean_X\n",
    "    \n",
    "    def cov(self,metrix): \n",
    "        return np.dot(np.array(metrix), np.array(metrix).T)\n",
    "        \n",
    "    def eigen(self, metrix):\n",
    "        eigenvalue, eigenvector = np.linalg.eig(metrix)\n",
    "        eigenvector_lst = []\n",
    "        index = np.argsort(eigenvalue)[::-1]\n",
    "        for i, num in enumerate(index) : \n",
    "            eigenvector_lst.append(eigenvector[i, :])\n",
    "        return np.take(eigenvalue, index), np.array(eigenvector_lst)\n",
    "    \n",
    "    def select_eigen(self, num) : \n",
    "        if num > self.m : \n",
    "            return print(\"Please lower num under\", self.m)\n",
    "            \n",
    "        norm_metrix = self.normarization()\n",
    "        cov_metrix = self.cov(norm_metrix)\n",
    "        eigenvalue, eigenvector = self.eigen(cov_metrix)\n",
    "        return eigenvector[:num, :], sum(eigenvalue[:num])/sum(eigenvalue)\n"
   ]
  },
  {
   "cell_type": "code",
   "execution_count": 44,
   "id": "afc213d3",
   "metadata": {},
   "outputs": [
    {
     "data": {
      "text/plain": [
       "(array([[-0.03033689+0.00000000e+00j,  0.00312955+0.00000000e+00j,\n",
       "         -0.00493525+0.00000000e+00j, ...,  0.0135038 -1.13825511e-03j,\n",
       "          0.00402596+0.00000000e+00j,  0.0132382 +0.00000000e+00j],\n",
       "        [-0.04276124+0.00000000e+00j, -0.00569404+0.00000000e+00j,\n",
       "         -0.04788244+0.00000000e+00j, ...,  0.00091694-2.33933641e-04j,\n",
       "         -0.00175396+0.00000000e+00j,  0.00285143+0.00000000e+00j],\n",
       "        [-0.04286798+0.00000000e+00j, -0.00792541+0.00000000e+00j,\n",
       "         -0.02606093+0.00000000e+00j, ...,  0.00103375+1.10043789e-04j,\n",
       "         -0.00366841+0.00000000e+00j,  0.00217882+0.00000000e+00j],\n",
       "        [-0.04816443+0.00000000e+00j, -0.01030178+0.00000000e+00j,\n",
       "         -0.0101642 +0.00000000e+00j, ..., -0.00469963+6.03702606e-05j,\n",
       "          0.00127076+0.00000000e+00j, -0.00335763+0.00000000e+00j]]),\n",
       " (0.9971807427797741+0j))"
      ]
     },
     "execution_count": 44,
     "metadata": {},
     "output_type": "execute_result"
    }
   ],
   "source": [
    "test = PCA(X,y)\n",
    "test.select_eigen(4)"
   ]
  },
  {
   "cell_type": "code",
   "execution_count": 36,
   "id": "1fe3a221",
   "metadata": {},
   "outputs": [
    {
     "data": {
      "text/plain": [
       "array([3, 2, 1])"
      ]
     },
     "execution_count": 36,
     "metadata": {},
     "output_type": "execute_result"
    }
   ],
   "source": [
    "a = np.array([[1,2,3],[2,6,3],[7,1,3]])\n"
   ]
  },
  {
   "cell_type": "code",
   "execution_count": null,
   "id": "d3d80c59",
   "metadata": {},
   "outputs": [],
   "source": []
  },
  {
   "cell_type": "code",
   "execution_count": null,
   "id": "25047dc4",
   "metadata": {},
   "outputs": [],
   "source": []
  },
  {
   "cell_type": "code",
   "execution_count": null,
   "id": "8d44604e",
   "metadata": {},
   "outputs": [],
   "source": []
  },
  {
   "cell_type": "code",
   "execution_count": null,
   "id": "027b7611",
   "metadata": {},
   "outputs": [],
   "source": []
  },
  {
   "cell_type": "code",
   "execution_count": null,
   "id": "d1cd423b",
   "metadata": {},
   "outputs": [],
   "source": []
  },
  {
   "cell_type": "code",
   "execution_count": null,
   "id": "74858072",
   "metadata": {},
   "outputs": [],
   "source": []
  },
  {
   "cell_type": "code",
   "execution_count": null,
   "id": "b57f7c69",
   "metadata": {},
   "outputs": [],
   "source": []
  },
  {
   "cell_type": "code",
   "execution_count": null,
   "id": "5a850f39",
   "metadata": {},
   "outputs": [],
   "source": []
  },
  {
   "cell_type": "code",
   "execution_count": null,
   "id": "79062021",
   "metadata": {},
   "outputs": [],
   "source": []
  },
  {
   "cell_type": "code",
   "execution_count": null,
   "id": "17863880",
   "metadata": {},
   "outputs": [],
   "source": []
  },
  {
   "cell_type": "code",
   "execution_count": null,
   "id": "8dbb69d4",
   "metadata": {},
   "outputs": [],
   "source": []
  },
  {
   "cell_type": "code",
   "execution_count": null,
   "id": "5bb25a2e",
   "metadata": {},
   "outputs": [],
   "source": []
  },
  {
   "cell_type": "code",
   "execution_count": null,
   "id": "9536ec90",
   "metadata": {},
   "outputs": [],
   "source": []
  },
  {
   "cell_type": "code",
   "execution_count": null,
   "id": "3063b7fb",
   "metadata": {},
   "outputs": [],
   "source": []
  },
  {
   "cell_type": "code",
   "execution_count": null,
   "id": "64d6f894",
   "metadata": {},
   "outputs": [],
   "source": []
  },
  {
   "cell_type": "code",
   "execution_count": null,
   "id": "8c0856d3",
   "metadata": {},
   "outputs": [],
   "source": []
  },
  {
   "cell_type": "code",
   "execution_count": null,
   "id": "51d33a86",
   "metadata": {},
   "outputs": [],
   "source": []
  },
  {
   "cell_type": "code",
   "execution_count": null,
   "id": "1d2fb57c",
   "metadata": {},
   "outputs": [],
   "source": []
  }
 ],
 "metadata": {
  "kernelspec": {
   "display_name": "Python 3",
   "language": "python",
   "name": "python3"
  },
  "language_info": {
   "codemirror_mode": {
    "name": "ipython",
    "version": 3
   },
   "file_extension": ".py",
   "mimetype": "text/x-python",
   "name": "python",
   "nbconvert_exporter": "python",
   "pygments_lexer": "ipython3",
   "version": "3.8.8"
  }
 },
 "nbformat": 4,
 "nbformat_minor": 5
}
