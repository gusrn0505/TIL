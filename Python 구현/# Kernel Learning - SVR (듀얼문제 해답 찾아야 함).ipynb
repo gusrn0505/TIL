{
 "cells": [
  {
   "cell_type": "markdown",
   "id": "3191a469",
   "metadata": {},
   "source": [
    "# Kernel Learning - SVR \n",
    "\n",
    "1. 최적화 문제 정의 \n",
    "\n",
    "2. 라그랑주 승수법을 통해서 라그랑주 목적 함수로 변환 \n",
    "\n",
    "\n",
    "3. 목적함수를 듀얼 함수로 변경하여 답 찾기 \n",
    "> $L_D = \\frac{-1}{2} \\sum_{i,j=1}^n (\\alpha_i^* - \\alpha_i)(\\alpha_j^* - \\alpha_j)x_i^Tx_j - \\epsilon\\sum_{i,j=1}^n(\\alpha_i + \\alpha_i^*) + \\sum_{i,j=1}^n y_i(\\alpha_i^* - \\alpha_i)$ \n",
    "- Convex probelm solve package인 CVXPY를 통해서 $\\alpha_i, \\alpha_i^*$ 에 대한 해 찾기\n",
    "\n",
    "4. 커널 트릭을 도입한다. \n",
    "\n",
    "--- \n",
    "\n",
    "**실제로 구현할 것**\n",
    "1. 다양한 커널 함수에 따라 서로 다른 결과값이 나올 수 있도록 할 것. \n",
    "2. CVXPY 모듈을 통한 듀얼함수의 해 찾기 \n",
    "3. 구한 $\\alpha_i, \\alpha_i^*$ 를 통해서 w, b, f(x)의 값 찾기 \n",
    "\n",
    "\n",
    "**해결해야하는 점**\n",
    "- 변수가 2개가 주어지는 상황에서의 Convex 문제의 해를 어떻게 찾을 것인가? \n",
    "\n"
   ]
  },
  {
   "cell_type": "code",
   "execution_count": 3,
   "id": "0ec87dac",
   "metadata": {},
   "outputs": [
    {
     "name": "stdout",
     "output_type": "stream",
     "text": [
      "Requirement already satisfied: cvxpy in c:\\users\\pc\\anaconda3\\lib\\site-packages (1.1.18)\n",
      "Requirement already satisfied: ecos>=2 in c:\\users\\pc\\anaconda3\\lib\\site-packages (from cvxpy) (2.0.10)\n",
      "Requirement already satisfied: osqp>=0.4.1 in c:\\users\\pc\\anaconda3\\lib\\site-packages (from cvxpy) (0.6.2.post5)\n",
      "Requirement already satisfied: scs>=1.1.6 in c:\\users\\pc\\anaconda3\\lib\\site-packages (from cvxpy) (3.2.0)\n",
      "Requirement already satisfied: numpy>=1.15 in c:\\users\\pc\\anaconda3\\lib\\site-packages (from cvxpy) (1.20.1)\n",
      "Requirement already satisfied: scipy>=1.1.0 in c:\\users\\pc\\anaconda3\\lib\\site-packages (from cvxpy) (1.6.2)\n",
      "Requirement already satisfied: qdldl in c:\\users\\pc\\anaconda3\\lib\\site-packages (from osqp>=0.4.1->cvxpy) (0.1.5.post0)\n",
      "(100,)\n"
     ]
    },
    {
     "data": {
      "image/png": "[encoded data removed]",
      "text/plain": [
       "<Figure size 432x288 with 1 Axes>"
      ]
     },
     "metadata": {
      "needs_background": "light"
     },
     "output_type": "display_data"
    }
   ],
   "source": [
    "# 데이터 사용 및 라이브러리 설치 \n",
    "! pip install cvxpy\n",
    "import numpy as np\n",
    "import matplotlib.pyplot as plt\n",
    "import cvxpy as cvx\n",
    "\n",
    "\n",
    "from sklearn.datasets import make_classification \n",
    "\n",
    "X = np.sort(10*np.random.rand(100,1),axis=0)\n",
    "y = np.sin(X).ravel()\n",
    "print(y.shape)\n",
    "y[::5] += 5*(0.5-np.random.rand(20))\n",
    "y[::3] += 2*(0.5-np.random.rand(34))\n",
    "\n",
    "\n",
    "plt.scatter(X,y, marker = 'o', c=y, s = 100)\n",
    "plt.xlabel(\"$X$\")\n",
    "plt.ylabel(\"$y$\")\n",
    "plt.show()\n"
   ]
  },
  {
   "cell_type": "markdown",
   "id": "810a2659",
   "metadata": {},
   "source": [
    "### __init__ 함수 정의와 다양한 커널함수 적용하기 \n",
    "\n",
    "**구현해야하는 것** \n",
    "1. 커널함수 \n",
    "- Polynomial : $K(x_i,x_j) = (x_i*x_j)^d, c>0$ \n",
    "- Gaussian(RBF) : $K(x_i,x_j) = exp(-\\frac{||x_i-x_j||^2}{2\\sigma^2}, \\sigma \\neq 0$ \n",
    "- Sigmoid : $K(x_i,x_j) = tanh(a(x_i*x_j) + b), a,b >- 0 $\n",
    "\n",
    "**필요한 것**\n",
    "- xi, x_j \n",
    "- 커널함수를 지정하는 값 (\"poly\", \"RBF\", \"sig\") \n",
    "\n",
    "**함수의 형태**\n",
    "- def __init__(self, X,y,c, kernel_type)\n",
    "\n",
    "- def kernel_fn(self, x_i, x_j, kernel, coef, degree, gamma) : => 커널함수 값으로 반환 \n",
    "\n",
    "- def kernel_matrix(self, X, kernel) : => ij 자리에 $ K(x_i, x_j)$ 값을 가진 n x n 행렬 반환   "
   ]
  },
  {
   "cell_type": "code",
   "execution_count": 22,
   "id": "c5e61d27",
   "metadata": {},
   "outputs": [],
   "source": [
    "class SVR() : \n",
    "    def __init__(self, X, y, c, epsilon, kernel_type) : \n",
    "        self.X = X\n",
    "        self.n = np.shape(X)[0]\n",
    "        self.m = np.shape(X)[1]\n",
    "        \n",
    "        self.y = y\n",
    "        self.c = c\n",
    "        self.epsilon = epsilon\n",
    "        self.kernel_type = kernel_type\n",
    "        self.k_matrix = self.kernel_matrix()\n",
    "        \n",
    "    def kernel_fn(self, x_i, x_j, kernel = None, coef = 1.0, degree = 3, gamma = 0.1) : \n",
    "        if kernel == \"poly\" : \n",
    "            return (np.dot(x_i, x_j) + coef)** degree \n",
    "        \n",
    "        elif kernel == \"RBF\" : \n",
    "            return np.exp(- np.sum(np.square(x_i - x_j)) * gamma)\n",
    "        \n",
    "        elif kernel == \"sig\" : \n",
    "            return np.tanh(np.dot(x_i, x_j) + coef) \n",
    "        \n",
    "        else : \n",
    "            return np.dot(x_i, x_j) \n",
    "        \n",
    "    \n",
    "    def kernel_matrix(self) : \n",
    "        k_matrix = np.zeros((self.n, self.n))\n",
    "        for i in range(self.n) : \n",
    "            for j in range(self.n) : \n",
    "                k_matrix[i,j] = self.kernel_fn(self.X[i], self.X[j], self.kernel_type)\n",
    "        return k_matrix\n",
    "                "
   ]
  },
  {
   "cell_type": "code",
   "execution_count": 23,
   "id": "78b632fc",
   "metadata": {},
   "outputs": [
    {
     "name": "stdout",
     "output_type": "stream",
     "text": [
      "[[1.27945473e-05 2.64791823e-04 4.77625432e-04 ... 3.49777540e-02\n",
      "  3.50186573e-02 3.53316438e-02]\n",
      " [2.64791823e-04 5.48004614e-03 9.88478185e-03 ... 7.23888312e-01\n",
      "  7.24734834e-01 7.31212301e-01]\n",
      " [4.77625432e-04 9.88478185e-03 1.78299433e-02 ... 1.30573318e+00\n",
      "  1.30726011e+00 1.31894402e+00]\n",
      " ...\n",
      " [3.49777540e-02 7.23888312e-01 1.30573318e+00 ... 9.56222402e+01\n",
      "  9.57340617e+01 9.65897046e+01]\n",
      " [3.50186573e-02 7.24734834e-01 1.30726011e+00 ... 9.57340617e+01\n",
      "  9.58460141e+01 9.67026575e+01]\n",
      " [3.53316438e-02 7.31212301e-01 1.31894402e+00 ... 9.65897046e+01\n",
      "  9.67026575e+01 9.75669574e+01]]\n"
     ]
    }
   ],
   "source": [
    "test = SVR(X,y, 3, 3, \"\")\n",
    "print(test.kernel_matrix())"
   ]
  },
  {
   "cell_type": "markdown",
   "id": "093083ff",
   "metadata": {},
   "source": [
    "### 2. CVXPY 모듈을 통한 듀얼함수의 해 찾기\n",
    "\n",
    "**구현해야하는 것** \n",
    "1. CVX 모듈을 통해 max($L_D$)의 해 찾기 \n",
    "- $L_D = \\frac{-1}{2} \\sum_{i,j=1}^n (\\alpha_i^* - \\alpha_i)(\\alpha_j^* - \\alpha_j)x_i^Tx_j - \\epsilon\\sum_{i,j=1}^n(\\alpha_i + \\alpha_i^*) + \\sum_{i,j=1}^n y_i(\\alpha_i^* - \\alpha_i)$ \n",
    "\n",
    "\n",
    "**필요한 것**\n",
    "- obj : 최소/ 최대값을 찾고자 하는 함수 \n",
    "\n",
    "> $\\frac{-1}{2} \\sum_{i,j=1}^n (\\alpha_i^* - \\alpha_i)(\\alpha_j^* - \\alpha_j)K(x_i)^TK(x_j) - \\epsilon\\sum_{i,j=1}^n(\\alpha_i + \\alpha_i^*) + \\sum_{i,j=1}^n y_i(\\alpha_i^* - \\alpha_i)$  \n",
    "\n",
    "> let $\\alpha_i^* - \\alpha_i = t_i$. \n",
    "\n",
    "> obj : $ -\\frac{1}{2}t * K * t.T + y * t.T -\\epsilon * t.T + \\epsilon * \\alpha $\n",
    "\n",
    "- const : 제약식 \n",
    "\n",
    "> $\\sum t = 0$\n",
    "\n",
    "> $t_i \\in [-C, C], \\alpha_i \\in [0, C]$\n",
    "\n",
    "- problem = cvx.Problem(obj, const)\n",
    "- result = prob.solve \n",
    "\n",
    "\n",
    "\n",
    "**함수의 형태**\n",
    "- def __init__(self, X,y,c, kernel_type)\n",
    "\n",
    "- def find_alpha(self) : => $\\alpha^*, \\alpha$ 값 반환 \n"
   ]
  },
  {
   "cell_type": "code",
   "execution_count": 40,
   "id": "51aa39ab",
   "metadata": {},
   "outputs": [],
   "source": [
    "#DCP 오류 발생. obj 가 convex 함수가 아니라고 함. 흠.. 어떻게 해결해야 하나\n",
    "\n",
    "class SVR() : \n",
    "    def __init__(self, X, y, c, epsilon, kernel_type) : \n",
    "        self.X = X\n",
    "        self.n = np.shape(X)[0]\n",
    "        self.m = np.shape(X)[1]\n",
    "        \n",
    "        self.y = y\n",
    "        self.c = c\n",
    "        self.epsilon = epsilon\n",
    "        self.kernel_type = kernel_type\n",
    "        self.k_matrix = self.kernel_matrix()\n",
    "        \n",
    "    def kernel_fn(self, x_i, x_j, kernel = None, coef = 1.0, degree = 3, gamma = 0.1) : \n",
    "        if kernel == \"poly\" : \n",
    "            return (np.dot(x_i, x_j) + coef)** degree \n",
    "        \n",
    "        elif kernel == \"RBF\" : \n",
    "            return np.exp(- np.sum(np.square(x_i - x_j)) * gamma)\n",
    "        \n",
    "        elif kernel == \"sig\" : \n",
    "            return np.tanh(np.dot(x_i, x_j) + coef) \n",
    "        \n",
    "        else : \n",
    "            return np.dot(x_i, x_j) \n",
    "        \n",
    "    \n",
    "    def kernel_matrix(self) : \n",
    "        k_matrix = np.zeros((self.n, self.n))\n",
    "        for i in range(self.n) : \n",
    "            for j in range(self.n) : \n",
    "                k_matrix[i,j] = self.kernel_fn(self.X[i], self.X[j], self.kernel_type)\n",
    "        return k_matrix\n",
    "                \n",
    "    def find_alpha(self) : \n",
    "        t = cvx.Variable(self.n) # t = alpha_* - alpha\n",
    "        alpha = cvx.Variable(self.n)\n",
    "\n",
    "        \"\"\"\n",
    "        cvx.Maximize(-.5*cvx.quad_form(alpha-alpha_, kernel_matrix()) \n",
    "             - self.epsilon*one_vec*(alpha+alpha_) \n",
    "             + self.y*(alpha-alpha_))\n",
    "        \"\"\"\n",
    "        \n",
    "        obj = cvx.Maximize(-0.5*cvx.quad_form(t, self.k_matrix) + self.epsilon*np.ones(self.n)*(-t + 2*alpha) + self.y*t) \n",
    "        const = [cvx.sum(t) == 0 ]\n",
    "        for i in range(self.n) : \n",
    "            const += [t[i] >= -self.c, alpha[i] >=0]\n",
    "            const += [t[i] <= self.c, alpha[i] <= self.c]\n",
    "        svr = cvx.Problem(obj, const)\n",
    "        svr.solve()\n",
    "        \n",
    "        t = np.array(t.value).flatten()\n",
    "        alpha = np.array(alpha.value).flatten() \n",
    "        alpha_ = t + alpha\n",
    "        \n",
    "        return alpha_, alpha\n",
    "        "
   ]
  },
  {
   "cell_type": "code",
   "execution_count": 56,
   "id": "5af50b14",
   "metadata": {},
   "outputs": [
    {
     "name": "stderr",
     "output_type": "stream",
     "text": [
      "C:\\Users\\PC\\anaconda3\\lib\\site-packages\\cvxpy\\expressions\\expression.py:564: UserWarning: \n",
      "This use of ``*`` has resulted in matrix multiplication.\n",
      "Using ``*`` for matrix multiplication has been deprecated since CVXPY 1.1.\n",
      "    Use ``*`` for matrix-scalar and vector-scalar multiplication.\n",
      "    Use ``@`` for matrix-matrix and matrix-vector multiplication.\n",
      "    Use ``multiply`` for elementwise multiplication.\n",
      "This code path has been hit 11 times so far.\n",
      "\n",
      "  warnings.warn(msg, UserWarning)\n",
      "C:\\Users\\PC\\anaconda3\\lib\\site-packages\\cvxpy\\expressions\\expression.py:564: UserWarning: \n",
      "This use of ``*`` has resulted in matrix multiplication.\n",
      "Using ``*`` for matrix multiplication has been deprecated since CVXPY 1.1.\n",
      "    Use ``*`` for matrix-scalar and vector-scalar multiplication.\n",
      "    Use ``@`` for matrix-matrix and matrix-vector multiplication.\n",
      "    Use ``multiply`` for elementwise multiplication.\n",
      "This code path has been hit 12 times so far.\n",
      "\n",
      "  warnings.warn(msg, UserWarning)\n"
     ]
    },
    {
     "ename": "DCPError",
     "evalue": "Problem does not follow DCP rules. Specifically:\nThe objective is not DCP. Its following subexpressions are not:\nQuadForm(var7322, [[1.27945473e-05 2.64791823e-04 4.77625432e-04 ... 3.49777540e-02\n  3.50186573e-02 3.53316438e-02]\n [2.64791823e-04 5.48004614e-03 9.88478185e-03 ... 7.23888312e-01\n  7.24734834e-01 7.31212301e-01]\n [4.77625432e-04 9.88478185e-03 1.78299433e-02 ... 1.30573318e+00\n  1.30726011e+00 1.31894402e+00]\n ...\n [3.49777540e-02 7.23888312e-01 1.30573318e+00 ... 9.56222402e+01\n  9.57340617e+01 9.65897046e+01]\n [3.50186573e-02 7.24734834e-01 1.30726011e+00 ... 9.57340617e+01\n  9.58460141e+01 9.67026575e+01]\n [3.53316438e-02 7.31212301e-01 1.31894402e+00 ... 9.65897046e+01\n  9.67026575e+01 9.75669574e+01]])",
     "output_type": "error",
     "traceback": [
      "\u001b[1;31m---------------------------------------------------------------------------\u001b[0m",
      "\u001b[1;31mDCPError\u001b[0m                                  Traceback (most recent call last)",
      "\u001b[1;32m<ipython-input-56-117876a217fd>\u001b[0m in \u001b[0;36m<module>\u001b[1;34m\u001b[0m\n\u001b[0;32m      1\u001b[0m \u001b[0mtest\u001b[0m \u001b[1;33m=\u001b[0m \u001b[0mSVR\u001b[0m\u001b[1;33m(\u001b[0m\u001b[0mX\u001b[0m\u001b[1;33m,\u001b[0m\u001b[0my\u001b[0m\u001b[1;33m,\u001b[0m \u001b[1;36m3\u001b[0m\u001b[1;33m,\u001b[0m \u001b[1;36m3\u001b[0m\u001b[1;33m,\u001b[0m \u001b[1;34m\"\"\u001b[0m\u001b[1;33m)\u001b[0m\u001b[1;33m\u001b[0m\u001b[1;33m\u001b[0m\u001b[0m\n\u001b[1;32m----> 2\u001b[1;33m \u001b[0mb\u001b[0m \u001b[1;33m=\u001b[0m \u001b[0mtest\u001b[0m\u001b[1;33m.\u001b[0m\u001b[0mfind_alpha\u001b[0m\u001b[1;33m(\u001b[0m\u001b[1;33m)\u001b[0m\u001b[1;33m\u001b[0m\u001b[1;33m\u001b[0m\u001b[0m\n\u001b[0m\u001b[0;32m      3\u001b[0m \u001b[1;33m\u001b[0m\u001b[0m\n\u001b[0;32m      4\u001b[0m \u001b[0mprint\u001b[0m\u001b[1;33m(\u001b[0m\u001b[0mnp\u001b[0m\u001b[1;33m.\u001b[0m\u001b[0mshape\u001b[0m\u001b[1;33m(\u001b[0m\u001b[0mb\u001b[0m\u001b[1;33m)\u001b[0m\u001b[1;33m)\u001b[0m\u001b[1;33m\u001b[0m\u001b[1;33m\u001b[0m\u001b[0m\n",
      "\u001b[1;32m<ipython-input-40-9f3b872401e2>\u001b[0m in \u001b[0;36mfind_alpha\u001b[1;34m(self)\u001b[0m\n\u001b[0;32m     48\u001b[0m             \u001b[0mconst\u001b[0m \u001b[1;33m+=\u001b[0m \u001b[1;33m[\u001b[0m\u001b[0mt\u001b[0m\u001b[1;33m[\u001b[0m\u001b[0mi\u001b[0m\u001b[1;33m]\u001b[0m \u001b[1;33m<=\u001b[0m \u001b[0mself\u001b[0m\u001b[1;33m.\u001b[0m\u001b[0mc\u001b[0m\u001b[1;33m,\u001b[0m \u001b[0malpha\u001b[0m\u001b[1;33m[\u001b[0m\u001b[0mi\u001b[0m\u001b[1;33m]\u001b[0m \u001b[1;33m<=\u001b[0m \u001b[0mself\u001b[0m\u001b[1;33m.\u001b[0m\u001b[0mc\u001b[0m\u001b[1;33m]\u001b[0m\u001b[1;33m\u001b[0m\u001b[1;33m\u001b[0m\u001b[0m\n\u001b[0;32m     49\u001b[0m         \u001b[0msvr\u001b[0m \u001b[1;33m=\u001b[0m \u001b[0mcvx\u001b[0m\u001b[1;33m.\u001b[0m\u001b[0mProblem\u001b[0m\u001b[1;33m(\u001b[0m\u001b[0mobj\u001b[0m\u001b[1;33m,\u001b[0m \u001b[0mconst\u001b[0m\u001b[1;33m)\u001b[0m\u001b[1;33m\u001b[0m\u001b[1;33m\u001b[0m\u001b[0m\n\u001b[1;32m---> 50\u001b[1;33m         \u001b[0msvr\u001b[0m\u001b[1;33m.\u001b[0m\u001b[0msolve\u001b[0m\u001b[1;33m(\u001b[0m\u001b[1;33m)\u001b[0m\u001b[1;33m\u001b[0m\u001b[1;33m\u001b[0m\u001b[0m\n\u001b[0m\u001b[0;32m     51\u001b[0m \u001b[1;33m\u001b[0m\u001b[0m\n\u001b[0;32m     52\u001b[0m         \u001b[0mt\u001b[0m \u001b[1;33m=\u001b[0m \u001b[0mnp\u001b[0m\u001b[1;33m.\u001b[0m\u001b[0marray\u001b[0m\u001b[1;33m(\u001b[0m\u001b[0mt\u001b[0m\u001b[1;33m.\u001b[0m\u001b[0mvalue\u001b[0m\u001b[1;33m)\u001b[0m\u001b[1;33m.\u001b[0m\u001b[0mflatten\u001b[0m\u001b[1;33m(\u001b[0m\u001b[1;33m)\u001b[0m\u001b[1;33m\u001b[0m\u001b[1;33m\u001b[0m\u001b[0m\n",
      "\u001b[1;32m~\\anaconda3\\lib\\site-packages\\cvxpy\\problems\\problem.py\u001b[0m in \u001b[0;36msolve\u001b[1;34m(self, *args, **kwargs)\u001b[0m\n\u001b[0;32m    471\u001b[0m         \u001b[1;32melse\u001b[0m\u001b[1;33m:\u001b[0m\u001b[1;33m\u001b[0m\u001b[1;33m\u001b[0m\u001b[0m\n\u001b[0;32m    472\u001b[0m             \u001b[0msolve_func\u001b[0m \u001b[1;33m=\u001b[0m \u001b[0mProblem\u001b[0m\u001b[1;33m.\u001b[0m\u001b[0m_solve\u001b[0m\u001b[1;33m\u001b[0m\u001b[1;33m\u001b[0m\u001b[0m\n\u001b[1;32m--> 473\u001b[1;33m         \u001b[1;32mreturn\u001b[0m \u001b[0msolve_func\u001b[0m\u001b[1;33m(\u001b[0m\u001b[0mself\u001b[0m\u001b[1;33m,\u001b[0m \u001b[1;33m*\u001b[0m\u001b[0margs\u001b[0m\u001b[1;33m,\u001b[0m \u001b[1;33m**\u001b[0m\u001b[0mkwargs\u001b[0m\u001b[1;33m)\u001b[0m\u001b[1;33m\u001b[0m\u001b[1;33m\u001b[0m\u001b[0m\n\u001b[0m\u001b[0;32m    474\u001b[0m \u001b[1;33m\u001b[0m\u001b[0m\n\u001b[0;32m    475\u001b[0m     \u001b[1;33m@\u001b[0m\u001b[0mclassmethod\u001b[0m\u001b[1;33m\u001b[0m\u001b[1;33m\u001b[0m\u001b[0m\n",
      "\u001b[1;32m~\\anaconda3\\lib\\site-packages\\cvxpy\\problems\\problem.py\u001b[0m in \u001b[0;36m_solve\u001b[1;34m(self, solver, warm_start, verbose, gp, qcp, requires_grad, enforce_dpp, **kwargs)\u001b[0m\n\u001b[0;32m    964\u001b[0m                 \u001b[1;32mreturn\u001b[0m \u001b[0mself\u001b[0m\u001b[1;33m.\u001b[0m\u001b[0mvalue\u001b[0m\u001b[1;33m\u001b[0m\u001b[1;33m\u001b[0m\u001b[0m\n\u001b[0;32m    965\u001b[0m \u001b[1;33m\u001b[0m\u001b[0m\n\u001b[1;32m--> 966\u001b[1;33m         data, solving_chain, inverse_data = self.get_problem_data(\n\u001b[0m\u001b[0;32m    967\u001b[0m             solver, gp, enforce_dpp, verbose)\n\u001b[0;32m    968\u001b[0m \u001b[1;33m\u001b[0m\u001b[0m\n",
      "\u001b[1;32m~\\anaconda3\\lib\\site-packages\\cvxpy\\problems\\problem.py\u001b[0m in \u001b[0;36mget_problem_data\u001b[1;34m(self, solver, gp, enforce_dpp, verbose)\u001b[0m\n\u001b[0;32m    579\u001b[0m         \u001b[1;32mif\u001b[0m \u001b[0mkey\u001b[0m \u001b[1;33m!=\u001b[0m \u001b[0mself\u001b[0m\u001b[1;33m.\u001b[0m\u001b[0m_cache\u001b[0m\u001b[1;33m.\u001b[0m\u001b[0mkey\u001b[0m\u001b[1;33m:\u001b[0m\u001b[1;33m\u001b[0m\u001b[1;33m\u001b[0m\u001b[0m\n\u001b[0;32m    580\u001b[0m             \u001b[0mself\u001b[0m\u001b[1;33m.\u001b[0m\u001b[0m_cache\u001b[0m\u001b[1;33m.\u001b[0m\u001b[0minvalidate\u001b[0m\u001b[1;33m(\u001b[0m\u001b[1;33m)\u001b[0m\u001b[1;33m\u001b[0m\u001b[1;33m\u001b[0m\u001b[0m\n\u001b[1;32m--> 581\u001b[1;33m             solving_chain = self._construct_chain(\n\u001b[0m\u001b[0;32m    582\u001b[0m                 solver=solver, gp=gp, enforce_dpp=enforce_dpp)\n\u001b[0;32m    583\u001b[0m             \u001b[0mself\u001b[0m\u001b[1;33m.\u001b[0m\u001b[0m_cache\u001b[0m\u001b[1;33m.\u001b[0m\u001b[0mkey\u001b[0m \u001b[1;33m=\u001b[0m \u001b[0mkey\u001b[0m\u001b[1;33m\u001b[0m\u001b[1;33m\u001b[0m\u001b[0m\n",
      "\u001b[1;32m~\\anaconda3\\lib\\site-packages\\cvxpy\\problems\\problem.py\u001b[0m in \u001b[0;36m_construct_chain\u001b[1;34m(self, solver, gp, enforce_dpp)\u001b[0m\n\u001b[0;32m    807\u001b[0m         \u001b[0mcandidate_solvers\u001b[0m \u001b[1;33m=\u001b[0m \u001b[0mself\u001b[0m\u001b[1;33m.\u001b[0m\u001b[0m_find_candidate_solvers\u001b[0m\u001b[1;33m(\u001b[0m\u001b[0msolver\u001b[0m\u001b[1;33m=\u001b[0m\u001b[0msolver\u001b[0m\u001b[1;33m,\u001b[0m \u001b[0mgp\u001b[0m\u001b[1;33m=\u001b[0m\u001b[0mgp\u001b[0m\u001b[1;33m)\u001b[0m\u001b[1;33m\u001b[0m\u001b[1;33m\u001b[0m\u001b[0m\n\u001b[0;32m    808\u001b[0m         \u001b[0mself\u001b[0m\u001b[1;33m.\u001b[0m\u001b[0m_sort_candidate_solvers\u001b[0m\u001b[1;33m(\u001b[0m\u001b[0mcandidate_solvers\u001b[0m\u001b[1;33m)\u001b[0m\u001b[1;33m\u001b[0m\u001b[1;33m\u001b[0m\u001b[0m\n\u001b[1;32m--> 809\u001b[1;33m         return construct_solving_chain(self, candidate_solvers, gp=gp,\n\u001b[0m\u001b[0;32m    810\u001b[0m                                        enforce_dpp=enforce_dpp)\n\u001b[0;32m    811\u001b[0m \u001b[1;33m\u001b[0m\u001b[0m\n",
      "\u001b[1;32m~\\anaconda3\\lib\\site-packages\\cvxpy\\reductions\\solvers\\solving_chain.py\u001b[0m in \u001b[0;36mconstruct_solving_chain\u001b[1;34m(problem, candidates, gp, enforce_dpp)\u001b[0m\n\u001b[0;32m    153\u001b[0m     \u001b[1;32mif\u001b[0m \u001b[0mlen\u001b[0m\u001b[1;33m(\u001b[0m\u001b[0mproblem\u001b[0m\u001b[1;33m.\u001b[0m\u001b[0mvariables\u001b[0m\u001b[1;33m(\u001b[0m\u001b[1;33m)\u001b[0m\u001b[1;33m)\u001b[0m \u001b[1;33m==\u001b[0m \u001b[1;36m0\u001b[0m\u001b[1;33m:\u001b[0m\u001b[1;33m\u001b[0m\u001b[1;33m\u001b[0m\u001b[0m\n\u001b[0;32m    154\u001b[0m         \u001b[1;32mreturn\u001b[0m \u001b[0mSolvingChain\u001b[0m\u001b[1;33m(\u001b[0m\u001b[0mreductions\u001b[0m\u001b[1;33m=\u001b[0m\u001b[1;33m[\u001b[0m\u001b[0mConstantSolver\u001b[0m\u001b[1;33m(\u001b[0m\u001b[1;33m)\u001b[0m\u001b[1;33m]\u001b[0m\u001b[1;33m)\u001b[0m\u001b[1;33m\u001b[0m\u001b[1;33m\u001b[0m\u001b[0m\n\u001b[1;32m--> 155\u001b[1;33m     \u001b[0mreductions\u001b[0m \u001b[1;33m=\u001b[0m \u001b[0m_reductions_for_problem_class\u001b[0m\u001b[1;33m(\u001b[0m\u001b[0mproblem\u001b[0m\u001b[1;33m,\u001b[0m \u001b[0mcandidates\u001b[0m\u001b[1;33m,\u001b[0m \u001b[0mgp\u001b[0m\u001b[1;33m)\u001b[0m\u001b[1;33m\u001b[0m\u001b[1;33m\u001b[0m\u001b[0m\n\u001b[0m\u001b[0;32m    156\u001b[0m \u001b[1;33m\u001b[0m\u001b[0m\n\u001b[0;32m    157\u001b[0m     \u001b[0mdpp_context\u001b[0m \u001b[1;33m=\u001b[0m \u001b[1;34m'dcp'\u001b[0m \u001b[1;32mif\u001b[0m \u001b[1;32mnot\u001b[0m \u001b[0mgp\u001b[0m \u001b[1;32melse\u001b[0m \u001b[1;34m'dgp'\u001b[0m\u001b[1;33m\u001b[0m\u001b[1;33m\u001b[0m\u001b[0m\n",
      "\u001b[1;32m~\\anaconda3\\lib\\site-packages\\cvxpy\\reductions\\solvers\\solving_chain.py\u001b[0m in \u001b[0;36m_reductions_for_problem_class\u001b[1;34m(problem, candidates, gp)\u001b[0m\n\u001b[0;32m     89\u001b[0m             append += (\"\\nHowever, the problem does follow DQCP rules. \"\n\u001b[0;32m     90\u001b[0m                        \"Consider calling solve() with `qcp=True`.\")\n\u001b[1;32m---> 91\u001b[1;33m         raise DCPError(\n\u001b[0m\u001b[0;32m     92\u001b[0m             \"Problem does not follow DCP rules. Specifically:\\n\" + append)\n\u001b[0;32m     93\u001b[0m     \u001b[1;32melif\u001b[0m \u001b[0mgp\u001b[0m \u001b[1;32mand\u001b[0m \u001b[1;32mnot\u001b[0m \u001b[0mproblem\u001b[0m\u001b[1;33m.\u001b[0m\u001b[0mis_dgp\u001b[0m\u001b[1;33m(\u001b[0m\u001b[1;33m)\u001b[0m\u001b[1;33m:\u001b[0m\u001b[1;33m\u001b[0m\u001b[1;33m\u001b[0m\u001b[0m\n",
      "\u001b[1;31mDCPError\u001b[0m: Problem does not follow DCP rules. Specifically:\nThe objective is not DCP. Its following subexpressions are not:\nQuadForm(var7322, [[1.27945473e-05 2.64791823e-04 4.77625432e-04 ... 3.49777540e-02\n  3.50186573e-02 3.53316438e-02]\n [2.64791823e-04 5.48004614e-03 9.88478185e-03 ... 7.23888312e-01\n  7.24734834e-01 7.31212301e-01]\n [4.77625432e-04 9.88478185e-03 1.78299433e-02 ... 1.30573318e+00\n  1.30726011e+00 1.31894402e+00]\n ...\n [3.49777540e-02 7.23888312e-01 1.30573318e+00 ... 9.56222402e+01\n  9.57340617e+01 9.65897046e+01]\n [3.50186573e-02 7.24734834e-01 1.30726011e+00 ... 9.57340617e+01\n  9.58460141e+01 9.67026575e+01]\n [3.53316438e-02 7.31212301e-01 1.31894402e+00 ... 9.65897046e+01\n  9.67026575e+01 9.75669574e+01]])"
     ]
    }
   ],
   "source": [
    "test = SVR(X,y, 3, 3, \"\")\n",
    "b = test.find_alpha()\n",
    "\n",
    "print(np.shape(b))"
   ]
  },
  {
   "cell_type": "code",
   "execution_count": 57,
   "id": "2a34ad4d",
   "metadata": {},
   "outputs": [
    {
     "ename": "NameError",
     "evalue": "name 'b' is not defined",
     "output_type": "error",
     "traceback": [
      "\u001b[1;31m---------------------------------------------------------------------------\u001b[0m",
      "\u001b[1;31mNameError\u001b[0m                                 Traceback (most recent call last)",
      "\u001b[1;32m<ipython-input-57-38a501c8293c>\u001b[0m in \u001b[0;36m<module>\u001b[1;34m\u001b[0m\n\u001b[1;32m----> 1\u001b[1;33m \u001b[0mnp\u001b[0m\u001b[1;33m.\u001b[0m\u001b[0mshape\u001b[0m\u001b[1;33m(\u001b[0m\u001b[0mb\u001b[0m\u001b[1;33m)\u001b[0m\u001b[1;33m\u001b[0m\u001b[1;33m\u001b[0m\u001b[0m\n\u001b[0m",
      "\u001b[1;31mNameError\u001b[0m: name 'b' is not defined"
     ]
    }
   ],
   "source": [
    "np.shape(b)"
   ]
  },
  {
   "cell_type": "code",
   "execution_count": null,
   "id": "c510be27",
   "metadata": {},
   "outputs": [],
   "source": []
  },
  {
   "cell_type": "code",
   "execution_count": null,
   "id": "a643175d",
   "metadata": {},
   "outputs": [],
   "source": []
  }
 ],
 "metadata": {
  "kernelspec": {
   "display_name": "Python 3",
   "language": "python",
   "name": "python3"
  },
  "language_info": {
   "codemirror_mode": {
    "name": "ipython",
    "version": 3
   },
   "file_extension": ".py",
   "mimetype": "text/x-python",
   "name": "python",
   "nbconvert_exporter": "python",
   "pygments_lexer": "ipython3",
   "version": "3.8.8"
  }
 },
 "nbformat": 4,
 "nbformat_minor": 5
}
