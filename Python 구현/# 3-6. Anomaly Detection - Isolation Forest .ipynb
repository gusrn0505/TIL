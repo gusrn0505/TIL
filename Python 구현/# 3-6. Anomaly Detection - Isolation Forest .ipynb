{
 "cells": [
  {
   "cell_type": "markdown",
   "id": "8a97ff34",
   "metadata": {},
   "source": [
    "# Anomaly Detection - Isolation Forest \n",
    "\n",
    "### 강의 자료에 첨부된 수도 코드에 따라 구현하겠음. \n",
    "\n",
    "### Algorithm 1 : iForest(X, t, $\\phi$) \n",
    " Inputs : X - input data, t- number of trees, $\\phi$ - subsampling size \n",
    " \n",
    " Outputs : A set of iTrees \n",
    "\n",
    "1. Initialize Forest \n",
    "2. for i = 1 to t do \n",
    "- X' <- sample(X, $\\phi$) \n",
    "- Forest <- Forest $\\cup$ iTree(X') \n",
    "- end for \n",
    "3. return Forest \n",
    "\n",
    "\n",
    "**구현해야 하는 것**\n",
    "- iTree 함수 구현 \n",
    "- random 추출\n",
    "\n",
    "**필요로 하는 것**\n",
    "- X : list \n",
    "- t : int\n",
    "- phi : int \n",
    "\n",
    "**함수의 형태**\n",
    "- def Forest(X,y,phi) : TreeNode 형식의 iTree의 목록을 지니고 있는 list Forest로 반환 "
   ]
  },
  {
   "cell_type": "code",
   "execution_count": 2,
   "id": "d8a17b1d",
   "metadata": {},
   "outputs": [],
   "source": [
    "import numpy as np\n",
    "import pandas as pd\n",
    "import random as rand\n",
    "\n",
    "from sklearn.datasets import load_iris\n",
    "X = load_iris()['data']\n",
    "X_att = load_iris()[\"feature_names\"]\n",
    "import matplotlib.pyplot as plt\n",
    "import scipy as sc\n",
    "from scipy.stats import norm\n",
    "from sys import maxsize"
   ]
  },
  {
   "cell_type": "code",
   "execution_count": 3,
   "id": "16628bb8",
   "metadata": {},
   "outputs": [],
   "source": [
    "import random\n",
    "\n",
    "def iForest(X,t,sub_size) : \n",
    "    forest = []\n",
    "    for i in range(t) : \n",
    "        sample = random.sample(X, sub_size)\n",
    "        forest.append(iTree(sample))\n",
    "    \n",
    "    return forest"
   ]
  },
  {
   "cell_type": "markdown",
   "id": "9b528e87",
   "metadata": {},
   "source": [
    "##### Algorithm 2 : iTree(X') \n",
    "Inputs : X' - input data \n",
    "Output : an iTree \n",
    "\n",
    "1. if X' cannot be diveded then \n",
    "- return exNode{Size <- |X'| }\n",
    "\n",
    "\n",
    "\n",
    "- else \n",
    "- lt Q be a list of attributes in X' \n",
    "- randomly select an attribute q $\\in$ Q \n",
    "- randomly select a split point p between the max and min values of attribute q in X' \n",
    "- $X_l$ <- filter(X', q<p) \n",
    "- $X_r$ <- filter(X', q>= p) \n",
    "- return inNode{Left M- iTree(Xl), right <- iTree(Xr), splitatt <- q, splitValue <-  p \n",
    "\n",
    "- end if \n",
    "\n",
    "\n",
    "**구현해야 하는 것**\n",
    "- X' 의 divided 여부 : X' 의 크기가 0, 1이거나 남은 샘플이 완전히 동일할 경우. \n",
    "- iTree 노드의 타입 구분 : exNode / inNode \n",
    "- filter \n",
    "- 랜덤 추출\n",
    "\n",
    "**필요로 하는 것**\n",
    "- X' : list \n",
    "\n",
    "**함수의 형태**\n",
    "- def iTree(X') : TreeNode 형식의 iTree 형성 "
   ]
  },
  {
   "cell_type": "code",
   "execution_count": 4,
   "id": "bfbc81f9",
   "metadata": {},
   "outputs": [],
   "source": [
    "# iTree 를 위해 Tree Node 형식 사전 부여 \n",
    "\n",
    "class TreeNode() : \n",
    "    def __init__(self, x : list) -> None : \n",
    "        self.val = x \n",
    "        self.type = None\n",
    "        self.size = None\n",
    "        self.split_att = None\n",
    "        self.split_value = None \n",
    "        self.left = None \n",
    "        self.right = None "
   ]
  },
  {
   "cell_type": "code",
   "execution_count": 5,
   "id": "e742bf2c",
   "metadata": {},
   "outputs": [],
   "source": [
    "# 오류 발생. 아래 코드를 실행시 Kernel 이 죽음 ㄷ. 주어진 메모리 할당량을 초과했기 때문. \n",
    "# DFS 방식으로 코드를 구현하다 보니 메모리를 많이 잡아먹는 듯\n",
    "\n",
    "def iTree(X) : \n",
    "    \n",
    "    tree = TreeNode(X)\n",
    "    if len(X) <= 1  : \n",
    "        tree.type = \"exNode\"\n",
    "        tree.size = len(X)\n",
    "        return tree \n",
    "    \n",
    "    else : \n",
    "        q = X_att\n",
    "        random_q = random.choice(q)\n",
    "        random_q_index = q.index(random_q)\n",
    "        random_val_p = random.choice([X[i][random_q_index] for i in range(len(X))])\n",
    "        X_left = [X[i] for i in range(len(X)) if X[i][random_q_index] < random_val_p]\n",
    "        X_right = [X[i] for i in range(len(X)) if X[i][random_q_index] >= random_val_p]\n",
    "        \n",
    "        tree.type = \"inNode\"\n",
    "        tree.split_att = random_q \n",
    "        tree.split_value = random_val_p\n",
    "        tree.left = iTree(X_left)\n",
    "        tree.right = iTree(X_right)\n",
    "        \n",
    "        return tree         \n",
    "        \n",
    "        "
   ]
  },
  {
   "cell_type": "code",
   "execution_count": null,
   "id": "5cd73098",
   "metadata": {},
   "outputs": [],
   "source": [
    "test = iTree(X) "
   ]
  },
  {
   "cell_type": "markdown",
   "id": "958d239b",
   "metadata": {},
   "source": [
    "##### Algorithm 3 : PathLength(X, T, hlim,e) \n",
    "\n",
    "Inputs : x - an instance, T - an iTree, hlim - height limit, e - current path length : to b intialized to zero when first called \n",
    "\n",
    "Output : path length of x \n",
    "\n",
    "\n",
    "1. if T is an external node or e >=hlim then \n",
    "- return e + c(T.size) {c(.) is defined in Equation 1 } \n",
    "- end if \n",
    "\n",
    "2. a <- T.splitAtt \n",
    "\n",
    "3. if $x_a$ < T.splitValue then \n",
    "- return PathLength(x,T.left, hlim, e+1) \n",
    "\n",
    "\n",
    "- else {x_a >= T.splitValue} \n",
    "- return PathLength(x,T.right,hlim, e+1) \n",
    "- end if \n",
    "\n",
    "\n",
    "**구현해야 하는 것**\n",
    "- iTree 타입 구분할 것 \n",
    "- \n",
    "\n",
    "**필요로 하는 것**\n",
    "- x : 1 x d 행렬의 벡터 \n",
    "- T : TreeNode 형태의 iTree \n",
    "- c(.) : Tree 설정 시 부여한 값 \n",
    "- e : 현재 path 길이\n",
    "\n",
    "**함수의 형태**\n",
    "- def PathLength(x, T, hlim, e) : x의 path length 반환 "
   ]
  },
  {
   "cell_type": "code",
   "execution_count": 6,
   "id": "7acb18b1",
   "metadata": {},
   "outputs": [
    {
     "name": "stdout",
     "output_type": "stream",
     "text": [
      "[0, 1, 2, 3, 4, 5, 6, 7, 8, 9]\n"
     ]
    }
   ],
   "source": [
    "def PathLength(x, T, hlim, e)\n",
    "    if T.type == \"exNode\" or e >= hlim : \n",
    "        return e + T.size\n",
    "    \n",
    "    a = T.split_att \n",
    "    index_a = X_att.index(a)\n",
    "    \n",
    "    if x[index_a] < T.split_val : \n",
    "        return PathLength(x, T.left, hlim, e+1) \n",
    "    else x[index_a] >= T.spli_val : \n",
    "        return PathLength(x, T.right, hlim, e+1)\n",
    "\n"
   ]
  }
 ],
 "metadata": {
  "kernelspec": {
   "display_name": "Python 3",
   "language": "python",
   "name": "python3"
  },
  "language_info": {
   "codemirror_mode": {
    "name": "ipython",
    "version": 3
   },
   "file_extension": ".py",
   "mimetype": "text/x-python",
   "name": "python",
   "nbconvert_exporter": "python",
   "pygments_lexer": "ipython3",
   "version": "3.8.8"
  }
 },
 "nbformat": 4,
 "nbformat_minor": 5
}
