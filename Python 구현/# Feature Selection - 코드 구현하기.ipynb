{
 "cells": [
  {
   "cell_type": "markdown",
   "id": "10ab58d6",
   "metadata": {},
   "source": [
    "# Featrue Selection - Forward selection 코드 구현하기 \n",
    "\n",
    "\n",
    "구현해야하는 것은 크게 아래의 3가지 함수이다. 아래의 함수들을 구현하는 과정을 최대한 세분화하여 모델을 구축할 것 \n",
    "\n",
    "1. measure 함수 (설명력 지표)  \n",
    "- forward_select 함수에서 어떤 변수가 더 좋은지 판단하기 위함 \n",
    "- AIC / adjusted_R_sq 계산 필요 \n",
    "\n",
    "2. forward_select 함수 \n",
    "- 아직 선택되지 않은 후보로부터 P-value 또는 설명력 지표값을 가장 좋게 받은 속성 1개 선택 \n",
    "\n",
    "3. forward_select_goal 함수 \n",
    "- 설명력이 일정 이상의 값(ex-adjusted_R_Sq) forward_select을 반복할 것 \n",
    "\n",
    "###### 방향성  \n",
    "1. Class의 형태로 만들며, 각 기능들을 모듈로 만들 것 \n"
   ]
  },
  {
   "cell_type": "code",
   "execution_count": 4,
   "id": "c4dd788a",
   "metadata": {},
   "outputs": [
    {
     "name": "stderr",
     "output_type": "stream",
     "text": [
      "C:\\Users\\PC\\anaconda3\\lib\\site-packages\\sklearn\\utils\\deprecation.py:87: FutureWarning: Function load_boston is deprecated; `load_boston` is deprecated in 1.0 and will be removed in 1.2.\n",
      "\n",
      "    The Boston housing prices dataset has an ethical problem. You can refer to\n",
      "    the documentation of this function for further details.\n",
      "\n",
      "    The scikit-learn maintainers therefore strongly discourage the use of this\n",
      "    dataset unless the purpose of the code is to study and educate about\n",
      "    ethical issues in data science and machine learning.\n",
      "\n",
      "    In this special case, you can fetch the dataset from the original\n",
      "    source::\n",
      "\n",
      "        import pandas as pd\n",
      "        import numpy as np\n",
      "\n",
      "\n",
      "        data_url = \"http://lib.stat.cmu.edu/datasets/boston\"\n",
      "        raw_df = pd.read_csv(data_url, sep=\"\\s+\", skiprows=22, header=None)\n",
      "        data = np.hstack([raw_df.values[::2, :], raw_df.values[1::2, :2]])\n",
      "        target = raw_df.values[1::2, 2]\n",
      "\n",
      "    Alternative datasets include the California housing dataset (i.e.\n",
      "    :func:`~sklearn.datasets.fetch_california_housing`) and the Ames housing\n",
      "    dataset. You can load the datasets as follows::\n",
      "\n",
      "        from sklearn.datasets import fetch_california_housing\n",
      "        housing = fetch_california_housing()\n",
      "\n",
      "    for the California housing dataset and::\n",
      "\n",
      "        from sklearn.datasets import fetch_openml\n",
      "        housing = fetch_openml(name=\"house_prices\", as_frame=True)\n",
      "\n",
      "    for the Ames housing dataset.\n",
      "    \n",
      "  warnings.warn(msg, category=FutureWarning)\n"
     ]
    }
   ],
   "source": [
    "# 데이터 사용 및 라이브러리 설치 \n",
    "\n",
    "import numpy as np\n",
    "import pandas as pd \n",
    "\n",
    "from sklearn.datasets import load_boston\n",
    "from sklearn.linear_model import LinearRegression \n",
    "\n",
    "boston = load_boston()\n",
    "X = boston.data \n",
    "y = boston.target\n"
   ]
  },
  {
   "cell_type": "code",
   "execution_count": 1,
   "id": "e7af6f1b",
   "metadata": {},
   "outputs": [
    {
     "name": "stdout",
     "output_type": "stream",
     "text": [
      "Requirement already satisfied: IPython in c:\\users\\pc\\anaconda3\\lib\\site-packages (7.22.0)\n",
      "Requirement already satisfied: jedi>=0.16 in c:\\users\\pc\\anaconda3\\lib\\site-packages (from IPython) (0.17.2)\n",
      "Requirement already satisfied: prompt-toolkit!=3.0.0,!=3.0.1,<3.1.0,>=2.0.0 in c:\\users\\pc\\anaconda3\\lib\\site-packages (from IPython) (3.0.17)\n",
      "Requirement already satisfied: setuptools>=18.5 in c:\\users\\pc\\anaconda3\\lib\\site-packages (from IPython) (52.0.0.post20210125)\n",
      "Requirement already satisfied: backcall in c:\\users\\pc\\anaconda3\\lib\\site-packages (from IPython) (0.2.0)\n",
      "Requirement already satisfied: pickleshare in c:\\users\\pc\\anaconda3\\lib\\site-packages (from IPython) (0.7.5)\n",
      "Requirement already satisfied: decorator in c:\\users\\pc\\anaconda3\\lib\\site-packages (from IPython) (5.0.6)\n",
      "Requirement already satisfied: colorama in c:\\users\\pc\\appdata\\roaming\\python\\python38\\site-packages (from IPython) (0.4.4)\n",
      "Requirement already satisfied: traitlets>=4.2 in c:\\users\\pc\\anaconda3\\lib\\site-packages (from IPython) (5.0.5)\n",
      "Requirement already satisfied: pygments in c:\\users\\pc\\anaconda3\\lib\\site-packages (from IPython) (2.8.1)\n",
      "Requirement already satisfied: parso<0.8.0,>=0.7.0 in c:\\users\\pc\\anaconda3\\lib\\site-packages (from jedi>=0.16->IPython) (0.7.0)\n",
      "Requirement already satisfied: wcwidth in c:\\users\\pc\\anaconda3\\lib\\site-packages (from prompt-toolkit!=3.0.0,!=3.0.1,<3.1.0,>=2.0.0->IPython) (0.2.5)\n",
      "Requirement already satisfied: ipython-genutils in c:\\users\\pc\\anaconda3\\lib\\site-packages (from traitlets>=4.2->IPython) (0.2.0)\n"
     ]
    }
   ],
   "source": [
    "!pip install IPython \n",
    "from IPython.display import Image"
   ]
  },
  {
   "cell_type": "markdown",
   "id": "6a16563f",
   "metadata": {},
   "source": [
    "### 1. measure 함수 구조 \n",
    "\n",
    "**구현해야하는 것** \n",
    "- AIC : $n *ln(\\frac{SSE}{n}) + 2k$ \n",
    "> k : 변수의 개수 \n",
    "- ad_R_sq : $1- \\frac{(n-1)(SSE)}{(n-k-1)(SST)}$  \n",
    "\n",
    "- SST : $\\sum_{i=1}^{N}(y_i - mean(y))^2$\n",
    "\n",
    "- SSE : $\\sum_{i=1}^{N}(y_i - pred_y)^2$\n",
    "\n",
    "**필요로 하는 것**\n",
    "- n or N : 샘플 데이터의 수 \n",
    "- k : 사용한 변수의 개수 \n",
    "- $y_i$ : 데이터의 결과값\n",
    "- mean(y) : 데이터의 결과값의 평균. np.mean 으로 구현 \n",
    "- pred_y : 예상 결과값. 예측 모델을 구현하여 값을 찾아야 함. \n",
    "\n",
    "**함수의 형태**\n",
    "- 설명력을 계산할 변수들을 입력하면 AIC / ad_R_sq의 결과값이 구분되어 return 될 것 \n",
    "- measure(X, y, selected value : 인덱스 또는 속성명) => Dict .  \n"
   ]
  },
  {
   "cell_type": "code",
   "execution_count": 11,
   "id": "a8671d9b",
   "metadata": {},
   "outputs": [
    {
     "name": "stdout",
     "output_type": "stream",
     "text": [
      "(506, 13)\n",
      "[1.82844292e+03 5.75000000e+03 5.63521000e+03 3.50000000e+01\n",
      " 2.80675700e+02 3.18002500e+03 3.46989000e+04 1.92029160e+03\n",
      " 4.83200000e+03 2.06568000e+05 9.33850000e+03 1.80477060e+05\n",
      " 6.40245000e+03]\n"
     ]
    }
   ],
   "source": [
    "print(np.shape(X))\n",
    "\n",
    "print(sum(X))\n"
   ]
  },
  {
   "cell_type": "code",
   "execution_count": 14,
   "id": "d8986a94",
   "metadata": {},
   "outputs": [],
   "source": [
    "# measure 함수 구현 \n",
    "\n",
    "def measure(X,y, select_val) : \n",
    "    n = np.shape(X)[0]\n",
    "    k = len(select_val)\n",
    "    mean_y = np.mean(y)\n",
    "    select_X = np.take(X, select_val, axis=1)\n",
    "    \n",
    "    model = LinearRegression()\n",
    "    model.fit(select_X,y)\n",
    "    pred_y = model.predict(select_X)\n",
    "    # 여기서 X값에 대입되어야 하는 것은 특정 변수에 대해서 선택된 데이터를 넣어야 하나? \n",
    "\n",
    "    SST = np.sum((y - mean_y)**2)\n",
    "    SSE = np.sum((y-pred_y)**2) \n",
    "    \n",
    "    AIC = n*np.log(SSE/n) + 2*k \n",
    "    ad_R_sq = 1- (n-1)*(SSE) / ((n-k-1)*(SST))\n",
    "    \n",
    "    return {\"AIC\" : AIC, \"ad_R_sq\" : ad_R_sq}\n",
    "    \n"
   ]
  },
  {
   "cell_type": "code",
   "execution_count": 50,
   "id": "54b59ec7",
   "metadata": {},
   "outputs": [
    {
     "data": {
      "text/plain": [
       "{'AIC': 1808.5925888909474, 'ad_R_sq': 0.5824155627936991}"
      ]
     },
     "execution_count": 50,
     "metadata": {},
     "output_type": "execute_result"
    }
   ],
   "source": [
    "test_val1 = [0,1,2,3,4,5]\n",
    "\n",
    "measure(X, y, test_val1)"
   ]
  },
  {
   "cell_type": "markdown",
   "id": "73879ec4",
   "metadata": {},
   "source": [
    "# 2. forward_select 함수 \n",
    "\n",
    "**구현해야하는 것** \n",
    "- 이미 선택한 변수 List와, 변수 후보군 list 구분.\n",
    "- 변수 후보군 중 한개씩 변수를 추가하면서 가장 설명력이 좋은 변수값 선택 \n",
    "- 선택한 변수값을 선택한 변수 list 군으로 포함할 것 \n",
    "\n",
    "\n",
    "**필요한 것**\n",
    "- select_val_lst : 함수의 입력값으로 제시 \n",
    "- candi_val_lst : 모든 변수들의 list - select_val_lst 로 구현 \n",
    "- 설명력 지표로 무엇을 사용할 것인지 제시 \n",
    "\n",
    "**함수의 형태**\n",
    "- 입력값 : select_val_lst, 사용할 설명력 지표, 사용할 모델 \n",
    "- 결과값 : 선택한 변수가 포함된 selected value와 당시 설명력 지표값 \n",
    "- measure(X, y, selected value, 설명력 지표) => selected value , 설명력 지표값 .\n"
   ]
  },
  {
   "cell_type": "code",
   "execution_count": 51,
   "id": "be15fbf7",
   "metadata": {},
   "outputs": [],
   "source": [
    "def forward_select(X, y, select_val_lst, way) : \n",
    "    candi_val_lst = list(set(list(range(np.shape(X)[1]))) - set(select_val_lst))\n",
    "    result = []\n",
    "    \n",
    "    for i in candi_val_lst :\n",
    "        selected_lst = select_val_lst + [i]\n",
    "        result.append(measure(X,y,selected_lst)[way]) \n",
    "        \n",
    "    if way == \"AIC\" : \n",
    "        select_val = candi_val_lst[np.argmin(result)]\n",
    "        best_result = min(result)\n",
    "    if way == \"ad_R_sq\" : \n",
    "        select_val = candi_val_lst[np.argmax(result)]\n",
    "        best_result = max(result)\n",
    "    \n",
    "    select_val_lst.append(select_val)\n",
    "    \n",
    "    \n",
    "    return select_val_lst, best_result\n"
   ]
  },
  {
   "cell_type": "code",
   "execution_count": null,
   "id": "95550129",
   "metadata": {},
   "outputs": [],
   "source": []
  },
  {
   "cell_type": "markdown",
   "id": "7edc9713",
   "metadata": {},
   "source": [
    "# 3. forward_select_goal 함수 \n",
    "**구현해야하는 것** \n",
    "- 원하는 수준의 설명력을 갖추기 전까지 계속 forward_select 함수를 반복할 것 \n",
    "\n",
    "\n",
    "**필요한 것**\n",
    "- select_val_lst : 초기엔 []. forward_select를 진행함에 따라 변수를 추가\n",
    "\n",
    "\n",
    "**함수의 형태**\n",
    "- 입력값 : X,y, 사용할 설명력 지표, 목표 지점  \n",
    "- 결과값 : 최종 선택한 변수들 list "
   ]
  },
  {
   "cell_type": "code",
   "execution_count": 56,
   "id": "5195c536",
   "metadata": {},
   "outputs": [],
   "source": [
    "def forward_select_goal(X,y, way, purpose) : \n",
    "    select_val_lst = [] \n",
    "    result =0\n",
    "    \n",
    "    for i in range(np.shape(X)[0]) : \n",
    "        select_val_lst, result = forward_select(X,y,select_val_lst, way)\n",
    "        \n",
    "        if way == \"AIC\" and result <= purpose : \n",
    "            break \n",
    "        if way == \"ad_R_sq\" and result >= purpose :\n",
    "            break \n",
    "    \n",
    "    return select_val_lst\n",
    "        "
   ]
  },
  {
   "cell_type": "code",
   "execution_count": 61,
   "id": "25248acd",
   "metadata": {},
   "outputs": [
    {
     "data": {
      "text/plain": [
       "[12, 5, 10, 7, 4]"
      ]
     },
     "execution_count": 61,
     "metadata": {},
     "output_type": "execute_result"
    }
   ],
   "source": [
    "forward_select_goal(X,y, \"ad_R_sq\", 0.7)"
   ]
  },
  {
   "cell_type": "markdown",
   "id": "9b74d4b5",
   "metadata": {},
   "source": []
  },
  {
   "cell_type": "code",
   "execution_count": 92,
   "id": "559ec548",
   "metadata": {},
   "outputs": [],
   "source": [
    "# 최종본 & Backward까지 구현하기\n",
    "\n",
    "class Variable_Selection() : \n",
    "    def __init__(self, X,y, model) : \n",
    "        self.X = X \n",
    "        self.y = y \n",
    "        self.n = np.shape(X)[0]\n",
    "        self.model = model \n",
    "        self.all_vars = list(range(np.shape(X)[1]))\n",
    "\n",
    "# measure 함수 구현 \n",
    "    def measure(self, select_val) : \n",
    "        k = len(select_val)\n",
    "        mean_y = np.mean(self.y)\n",
    "        select_X = np.take(self.X, select_val, axis=1)\n",
    "    \n",
    "        self.model.fit(select_X,self.y)\n",
    "        pred_y = self.model.predict(select_X)\n",
    "    # 여기서 X값에 대입되어야 하는 것은 특정 변수에 대해서 선택된 데이터를 넣어야 하나? \n",
    "\n",
    "        SST = np.sum((self.y - mean_y)**2)\n",
    "        SSE = np.sum((self.y-pred_y)**2) \n",
    "    \n",
    "        AIC = self.n*np.log(SSE/self.n) + 2*k \n",
    "        ad_R_sq = 1- (self.n-1)*(SSE) / ((self.n-k-1)*(SST))\n",
    "    \n",
    "        return {\"AIC\" : AIC, \"ad_R_sq\" : ad_R_sq}\n",
    "    \n",
    "\n",
    "    def forward_select(self, select_val_lst, way) : \n",
    "        candi_val_lst = list(set(self.all_vars) - set(select_val_lst))\n",
    "        result = []\n",
    "    \n",
    "        for i in candi_val_lst :\n",
    "            selected_lst = select_val_lst + [i]\n",
    "            result.append(self.measure(selected_lst)[way]) \n",
    "        \n",
    "        if way == \"AIC\" : \n",
    "            select_val = candi_val_lst[np.argmin(result)]\n",
    "            best_result = min(result)\n",
    "        if way == \"ad_R_sq\" : \n",
    "            select_val = candi_val_lst[np.argmax(result)]\n",
    "            best_result = max(result)\n",
    "    \n",
    "        select_val_lst.append(select_val)\n",
    "    \n",
    "        return select_val_lst, best_result\n",
    "\n",
    "\n",
    "    def forward_select_goal(self, way, purpose) : \n",
    "        select_val_lst = [] \n",
    "        result =0\n",
    "    \n",
    "        for i in range(self.n) :  \n",
    "            select_val_lst, result = self.forward_select(select_val_lst, way)\n",
    "        \n",
    "            if (way == \"AIC\" and result <= purpose) or (way == \"ad_R_sq\" and result >= purpose) :\n",
    "                break \n",
    "    \n",
    "        return select_val_lst\n",
    "    \n",
    "    def backward_select(self, select_val_lst, way) : \n",
    "        # select_val_lst 에서 값을 하나씩 빼가는 형태로 \n",
    "        result = []\n",
    "    \n",
    "        for i in select_val_lst :\n",
    "            selected_lst = list(set(select_val_lst) - set([i])) \n",
    "            result.append(self.measure(selected_lst)[way]) \n",
    "        \n",
    "        if way == \"AIC\" : \n",
    "            select_val = select_val_lst[np.argmax(result)]\n",
    "            best_result = max(result)\n",
    "        if way == \"ad_R_sq\" : \n",
    "            select_val = select_val_lst[np.argmin(result)]\n",
    "            best_result = min(result)\n",
    "    \n",
    "        select_val_lst.remove(select_val)\n",
    "    \n",
    "        return select_val_lst, best_result\n",
    "\n",
    "\n",
    "    def backward_select_goal(self, way, purpose) : \n",
    "        select_val_lst = self.all_vars\n",
    "        result =0\n",
    "    \n",
    "        for i in range(self.n) :  \n",
    "            # measure 부분에서 오류 발생. 아마 공 list 를 입력해서 그런 것 같은데. check 필요\n",
    "            select_val_lst, result = self.backward_select(select_val_lst, way)\n",
    "        \n",
    "            if (way == \"AIC\" and result <= purpose) or (way == \"ad_R_sq\" and result >= purpose) :\n",
    "                break \n",
    "    \n",
    "        return select_val_lst"
   ]
  },
  {
   "cell_type": "code",
   "execution_count": 96,
   "id": "5029c259",
   "metadata": {},
   "outputs": [
    {
     "ename": "ValueError",
     "evalue": "Found array with 0 feature(s) (shape=(506, 0)) while a minimum of 1 is required.",
     "output_type": "error",
     "traceback": [
      "\u001b[1;31m---------------------------------------------------------------------------\u001b[0m",
      "\u001b[1;31mValueError\u001b[0m                                Traceback (most recent call last)",
      "\u001b[1;32m<ipython-input-96-e4a81cace55f>\u001b[0m in \u001b[0;36m<module>\u001b[1;34m\u001b[0m\n\u001b[0;32m      1\u001b[0m \u001b[0mtest\u001b[0m \u001b[1;33m=\u001b[0m\u001b[0mVariable_Selection\u001b[0m\u001b[1;33m(\u001b[0m\u001b[0mX\u001b[0m\u001b[1;33m,\u001b[0m\u001b[0my\u001b[0m\u001b[1;33m,\u001b[0m \u001b[0mLinearRegression\u001b[0m\u001b[1;33m(\u001b[0m\u001b[1;33m)\u001b[0m\u001b[1;33m)\u001b[0m\u001b[1;33m\u001b[0m\u001b[1;33m\u001b[0m\u001b[0m\n\u001b[0;32m      2\u001b[0m \u001b[1;31m#print(test.forward_select_goal(\"ad_R_sq\", 0.7))\u001b[0m\u001b[1;33m\u001b[0m\u001b[1;33m\u001b[0m\u001b[1;33m\u001b[0m\u001b[0m\n\u001b[1;32m----> 3\u001b[1;33m \u001b[0mprint\u001b[0m\u001b[1;33m(\u001b[0m\u001b[0mtest\u001b[0m\u001b[1;33m.\u001b[0m\u001b[0mbackward_select_goal\u001b[0m\u001b[1;33m(\u001b[0m\u001b[1;34m\"ad_R_sq\"\u001b[0m\u001b[1;33m,\u001b[0m \u001b[1;36m0.8\u001b[0m\u001b[1;33m)\u001b[0m\u001b[1;33m)\u001b[0m\u001b[1;33m\u001b[0m\u001b[1;33m\u001b[0m\u001b[0m\n\u001b[0m",
      "\u001b[1;32m<ipython-input-92-d4c024fa7f41>\u001b[0m in \u001b[0;36mbackward_select_goal\u001b[1;34m(self, way, purpose)\u001b[0m\n\u001b[0;32m     87\u001b[0m         \u001b[1;32mfor\u001b[0m \u001b[0mi\u001b[0m \u001b[1;32min\u001b[0m \u001b[0mrange\u001b[0m\u001b[1;33m(\u001b[0m\u001b[0mself\u001b[0m\u001b[1;33m.\u001b[0m\u001b[0mn\u001b[0m\u001b[1;33m)\u001b[0m \u001b[1;33m:\u001b[0m\u001b[1;33m\u001b[0m\u001b[1;33m\u001b[0m\u001b[0m\n\u001b[0;32m     88\u001b[0m             \u001b[1;31m# 왜 backward_select 가 정의되지 않았다고 하는걸까\u001b[0m\u001b[1;33m\u001b[0m\u001b[1;33m\u001b[0m\u001b[1;33m\u001b[0m\u001b[0m\n\u001b[1;32m---> 89\u001b[1;33m             \u001b[0mselect_val_lst\u001b[0m\u001b[1;33m,\u001b[0m \u001b[0mresult\u001b[0m \u001b[1;33m=\u001b[0m \u001b[0mself\u001b[0m\u001b[1;33m.\u001b[0m\u001b[0mbackward_select\u001b[0m\u001b[1;33m(\u001b[0m\u001b[0mselect_val_lst\u001b[0m\u001b[1;33m,\u001b[0m \u001b[0mway\u001b[0m\u001b[1;33m)\u001b[0m\u001b[1;33m\u001b[0m\u001b[1;33m\u001b[0m\u001b[0m\n\u001b[0m\u001b[0;32m     90\u001b[0m \u001b[1;33m\u001b[0m\u001b[0m\n\u001b[0;32m     91\u001b[0m             \u001b[1;32mif\u001b[0m \u001b[1;33m(\u001b[0m\u001b[0mway\u001b[0m \u001b[1;33m==\u001b[0m \u001b[1;34m\"AIC\"\u001b[0m \u001b[1;32mand\u001b[0m \u001b[0mresult\u001b[0m \u001b[1;33m<=\u001b[0m \u001b[0mpurpose\u001b[0m\u001b[1;33m)\u001b[0m \u001b[1;32mor\u001b[0m \u001b[1;33m(\u001b[0m\u001b[0mway\u001b[0m \u001b[1;33m==\u001b[0m \u001b[1;34m\"ad_R_sq\"\u001b[0m \u001b[1;32mand\u001b[0m \u001b[0mresult\u001b[0m \u001b[1;33m>=\u001b[0m \u001b[0mpurpose\u001b[0m\u001b[1;33m)\u001b[0m \u001b[1;33m:\u001b[0m\u001b[1;33m\u001b[0m\u001b[1;33m\u001b[0m\u001b[0m\n",
      "\u001b[1;32m<ipython-input-92-d4c024fa7f41>\u001b[0m in \u001b[0;36mbackward_select\u001b[1;34m(self, select_val_lst, way)\u001b[0m\n\u001b[0;32m     67\u001b[0m         \u001b[1;32mfor\u001b[0m \u001b[0mi\u001b[0m \u001b[1;32min\u001b[0m \u001b[0mselect_val_lst\u001b[0m \u001b[1;33m:\u001b[0m\u001b[1;33m\u001b[0m\u001b[1;33m\u001b[0m\u001b[0m\n\u001b[0;32m     68\u001b[0m             \u001b[0mselected_lst\u001b[0m \u001b[1;33m=\u001b[0m \u001b[0mlist\u001b[0m\u001b[1;33m(\u001b[0m\u001b[0mset\u001b[0m\u001b[1;33m(\u001b[0m\u001b[0mselect_val_lst\u001b[0m\u001b[1;33m)\u001b[0m \u001b[1;33m-\u001b[0m \u001b[0mset\u001b[0m\u001b[1;33m(\u001b[0m\u001b[1;33m[\u001b[0m\u001b[0mi\u001b[0m\u001b[1;33m]\u001b[0m\u001b[1;33m)\u001b[0m\u001b[1;33m)\u001b[0m\u001b[1;33m\u001b[0m\u001b[1;33m\u001b[0m\u001b[0m\n\u001b[1;32m---> 69\u001b[1;33m             \u001b[0mresult\u001b[0m\u001b[1;33m.\u001b[0m\u001b[0mappend\u001b[0m\u001b[1;33m(\u001b[0m\u001b[0mself\u001b[0m\u001b[1;33m.\u001b[0m\u001b[0mmeasure\u001b[0m\u001b[1;33m(\u001b[0m\u001b[0mselected_lst\u001b[0m\u001b[1;33m)\u001b[0m\u001b[1;33m[\u001b[0m\u001b[0mway\u001b[0m\u001b[1;33m]\u001b[0m\u001b[1;33m)\u001b[0m\u001b[1;33m\u001b[0m\u001b[1;33m\u001b[0m\u001b[0m\n\u001b[0m\u001b[0;32m     70\u001b[0m \u001b[1;33m\u001b[0m\u001b[0m\n\u001b[0;32m     71\u001b[0m         \u001b[1;32mif\u001b[0m \u001b[0mway\u001b[0m \u001b[1;33m==\u001b[0m \u001b[1;34m\"AIC\"\u001b[0m \u001b[1;33m:\u001b[0m\u001b[1;33m\u001b[0m\u001b[1;33m\u001b[0m\u001b[0m\n",
      "\u001b[1;32m<ipython-input-92-d4c024fa7f41>\u001b[0m in \u001b[0;36mmeasure\u001b[1;34m(self, select_val)\u001b[0m\n\u001b[0;32m     15\u001b[0m         \u001b[0mselect_X\u001b[0m \u001b[1;33m=\u001b[0m \u001b[0mnp\u001b[0m\u001b[1;33m.\u001b[0m\u001b[0mtake\u001b[0m\u001b[1;33m(\u001b[0m\u001b[0mself\u001b[0m\u001b[1;33m.\u001b[0m\u001b[0mX\u001b[0m\u001b[1;33m,\u001b[0m \u001b[0mselect_val\u001b[0m\u001b[1;33m,\u001b[0m \u001b[0maxis\u001b[0m\u001b[1;33m=\u001b[0m\u001b[1;36m1\u001b[0m\u001b[1;33m)\u001b[0m\u001b[1;33m\u001b[0m\u001b[1;33m\u001b[0m\u001b[0m\n\u001b[0;32m     16\u001b[0m \u001b[1;33m\u001b[0m\u001b[0m\n\u001b[1;32m---> 17\u001b[1;33m         \u001b[0mself\u001b[0m\u001b[1;33m.\u001b[0m\u001b[0mmodel\u001b[0m\u001b[1;33m.\u001b[0m\u001b[0mfit\u001b[0m\u001b[1;33m(\u001b[0m\u001b[0mselect_X\u001b[0m\u001b[1;33m,\u001b[0m\u001b[0mself\u001b[0m\u001b[1;33m.\u001b[0m\u001b[0my\u001b[0m\u001b[1;33m)\u001b[0m\u001b[1;33m\u001b[0m\u001b[1;33m\u001b[0m\u001b[0m\n\u001b[0m\u001b[0;32m     18\u001b[0m         \u001b[0mpred_y\u001b[0m \u001b[1;33m=\u001b[0m \u001b[0mself\u001b[0m\u001b[1;33m.\u001b[0m\u001b[0mmodel\u001b[0m\u001b[1;33m.\u001b[0m\u001b[0mpredict\u001b[0m\u001b[1;33m(\u001b[0m\u001b[0mselect_X\u001b[0m\u001b[1;33m)\u001b[0m\u001b[1;33m\u001b[0m\u001b[1;33m\u001b[0m\u001b[0m\n\u001b[0;32m     19\u001b[0m     \u001b[1;31m# 여기서 X값에 대입되어야 하는 것은 특정 변수에 대해서 선택된 데이터를 넣어야 하나?\u001b[0m\u001b[1;33m\u001b[0m\u001b[1;33m\u001b[0m\u001b[1;33m\u001b[0m\u001b[0m\n",
      "\u001b[1;32m~\\anaconda3\\lib\\site-packages\\sklearn\\linear_model\\_base.py\u001b[0m in \u001b[0;36mfit\u001b[1;34m(self, X, y, sample_weight)\u001b[0m\n\u001b[0;32m    660\u001b[0m         \u001b[0maccept_sparse\u001b[0m \u001b[1;33m=\u001b[0m \u001b[1;32mFalse\u001b[0m \u001b[1;32mif\u001b[0m \u001b[0mself\u001b[0m\u001b[1;33m.\u001b[0m\u001b[0mpositive\u001b[0m \u001b[1;32melse\u001b[0m \u001b[1;33m[\u001b[0m\u001b[1;34m\"csr\"\u001b[0m\u001b[1;33m,\u001b[0m \u001b[1;34m\"csc\"\u001b[0m\u001b[1;33m,\u001b[0m \u001b[1;34m\"coo\"\u001b[0m\u001b[1;33m]\u001b[0m\u001b[1;33m\u001b[0m\u001b[1;33m\u001b[0m\u001b[0m\n\u001b[0;32m    661\u001b[0m \u001b[1;33m\u001b[0m\u001b[0m\n\u001b[1;32m--> 662\u001b[1;33m         X, y = self._validate_data(\n\u001b[0m\u001b[0;32m    663\u001b[0m             \u001b[0mX\u001b[0m\u001b[1;33m,\u001b[0m \u001b[0my\u001b[0m\u001b[1;33m,\u001b[0m \u001b[0maccept_sparse\u001b[0m\u001b[1;33m=\u001b[0m\u001b[0maccept_sparse\u001b[0m\u001b[1;33m,\u001b[0m \u001b[0my_numeric\u001b[0m\u001b[1;33m=\u001b[0m\u001b[1;32mTrue\u001b[0m\u001b[1;33m,\u001b[0m \u001b[0mmulti_output\u001b[0m\u001b[1;33m=\u001b[0m\u001b[1;32mTrue\u001b[0m\u001b[1;33m\u001b[0m\u001b[1;33m\u001b[0m\u001b[0m\n\u001b[0;32m    664\u001b[0m         )\n",
      "\u001b[1;32m~\\anaconda3\\lib\\site-packages\\sklearn\\base.py\u001b[0m in \u001b[0;36m_validate_data\u001b[1;34m(self, X, y, reset, validate_separately, **check_params)\u001b[0m\n\u001b[0;32m    579\u001b[0m                 \u001b[0my\u001b[0m \u001b[1;33m=\u001b[0m \u001b[0mcheck_array\u001b[0m\u001b[1;33m(\u001b[0m\u001b[0my\u001b[0m\u001b[1;33m,\u001b[0m \u001b[1;33m**\u001b[0m\u001b[0mcheck_y_params\u001b[0m\u001b[1;33m)\u001b[0m\u001b[1;33m\u001b[0m\u001b[1;33m\u001b[0m\u001b[0m\n\u001b[0;32m    580\u001b[0m             \u001b[1;32melse\u001b[0m\u001b[1;33m:\u001b[0m\u001b[1;33m\u001b[0m\u001b[1;33m\u001b[0m\u001b[0m\n\u001b[1;32m--> 581\u001b[1;33m                 \u001b[0mX\u001b[0m\u001b[1;33m,\u001b[0m \u001b[0my\u001b[0m \u001b[1;33m=\u001b[0m \u001b[0mcheck_X_y\u001b[0m\u001b[1;33m(\u001b[0m\u001b[0mX\u001b[0m\u001b[1;33m,\u001b[0m \u001b[0my\u001b[0m\u001b[1;33m,\u001b[0m \u001b[1;33m**\u001b[0m\u001b[0mcheck_params\u001b[0m\u001b[1;33m)\u001b[0m\u001b[1;33m\u001b[0m\u001b[1;33m\u001b[0m\u001b[0m\n\u001b[0m\u001b[0;32m    582\u001b[0m             \u001b[0mout\u001b[0m \u001b[1;33m=\u001b[0m \u001b[0mX\u001b[0m\u001b[1;33m,\u001b[0m \u001b[0my\u001b[0m\u001b[1;33m\u001b[0m\u001b[1;33m\u001b[0m\u001b[0m\n\u001b[0;32m    583\u001b[0m \u001b[1;33m\u001b[0m\u001b[0m\n",
      "\u001b[1;32m~\\anaconda3\\lib\\site-packages\\sklearn\\utils\\validation.py\u001b[0m in \u001b[0;36mcheck_X_y\u001b[1;34m(X, y, accept_sparse, accept_large_sparse, dtype, order, copy, force_all_finite, ensure_2d, allow_nd, multi_output, ensure_min_samples, ensure_min_features, y_numeric, estimator)\u001b[0m\n\u001b[0;32m    962\u001b[0m         \u001b[1;32mraise\u001b[0m \u001b[0mValueError\u001b[0m\u001b[1;33m(\u001b[0m\u001b[1;34m\"y cannot be None\"\u001b[0m\u001b[1;33m)\u001b[0m\u001b[1;33m\u001b[0m\u001b[1;33m\u001b[0m\u001b[0m\n\u001b[0;32m    963\u001b[0m \u001b[1;33m\u001b[0m\u001b[0m\n\u001b[1;32m--> 964\u001b[1;33m     X = check_array(\n\u001b[0m\u001b[0;32m    965\u001b[0m         \u001b[0mX\u001b[0m\u001b[1;33m,\u001b[0m\u001b[1;33m\u001b[0m\u001b[1;33m\u001b[0m\u001b[0m\n\u001b[0;32m    966\u001b[0m         \u001b[0maccept_sparse\u001b[0m\u001b[1;33m=\u001b[0m\u001b[0maccept_sparse\u001b[0m\u001b[1;33m,\u001b[0m\u001b[1;33m\u001b[0m\u001b[1;33m\u001b[0m\u001b[0m\n",
      "\u001b[1;32m~\\anaconda3\\lib\\site-packages\\sklearn\\utils\\validation.py\u001b[0m in \u001b[0;36mcheck_array\u001b[1;34m(array, accept_sparse, accept_large_sparse, dtype, order, copy, force_all_finite, ensure_2d, allow_nd, ensure_min_samples, ensure_min_features, estimator)\u001b[0m\n\u001b[0;32m    812\u001b[0m         \u001b[0mn_features\u001b[0m \u001b[1;33m=\u001b[0m \u001b[0marray\u001b[0m\u001b[1;33m.\u001b[0m\u001b[0mshape\u001b[0m\u001b[1;33m[\u001b[0m\u001b[1;36m1\u001b[0m\u001b[1;33m]\u001b[0m\u001b[1;33m\u001b[0m\u001b[1;33m\u001b[0m\u001b[0m\n\u001b[0;32m    813\u001b[0m         \u001b[1;32mif\u001b[0m \u001b[0mn_features\u001b[0m \u001b[1;33m<\u001b[0m \u001b[0mensure_min_features\u001b[0m\u001b[1;33m:\u001b[0m\u001b[1;33m\u001b[0m\u001b[1;33m\u001b[0m\u001b[0m\n\u001b[1;32m--> 814\u001b[1;33m             raise ValueError(\n\u001b[0m\u001b[0;32m    815\u001b[0m                 \u001b[1;34m\"Found array with %d feature(s) (shape=%s) while\"\u001b[0m\u001b[1;33m\u001b[0m\u001b[1;33m\u001b[0m\u001b[0m\n\u001b[0;32m    816\u001b[0m                 \u001b[1;34m\" a minimum of %d is required%s.\"\u001b[0m\u001b[1;33m\u001b[0m\u001b[1;33m\u001b[0m\u001b[0m\n",
      "\u001b[1;31mValueError\u001b[0m: Found array with 0 feature(s) (shape=(506, 0)) while a minimum of 1 is required."
     ]
    }
   ],
   "source": [
    "test =Variable_Selection(X,y, LinearRegression()) \n",
    "#print(test.forward_select_goal(\"ad_R_sq\", 0.7))\n",
    "print(test.backward_select_goal(\"ad_R_sq\", 0.8))"
   ]
  },
  {
   "cell_type": "markdown",
   "id": "ffdb4430",
   "metadata": {},
   "source": [
    "# Stepwise selection "
   ]
  },
  {
   "cell_type": "code",
   "execution_count": null,
   "id": "12e80d2c",
   "metadata": {},
   "outputs": [],
   "source": []
  },
  {
   "cell_type": "code",
   "execution_count": null,
   "id": "55db5275",
   "metadata": {},
   "outputs": [],
   "source": []
  },
  {
   "cell_type": "code",
   "execution_count": null,
   "id": "673e1cc7",
   "metadata": {},
   "outputs": [],
   "source": []
  },
  {
   "cell_type": "code",
   "execution_count": null,
   "id": "bd5d9340",
   "metadata": {},
   "outputs": [],
   "source": []
  }
 ],
 "metadata": {
  "kernelspec": {
   "display_name": "Python 3",
   "language": "python",
   "name": "python3"
  },
  "language_info": {
   "codemirror_mode": {
    "name": "ipython",
    "version": 3
   },
   "file_extension": ".py",
   "mimetype": "text/x-python",
   "name": "python",
   "nbconvert_exporter": "python",
   "pygments_lexer": "ipython3",
   "version": "3.8.8"
  }
 },
 "nbformat": 4,
 "nbformat_minor": 5
}
