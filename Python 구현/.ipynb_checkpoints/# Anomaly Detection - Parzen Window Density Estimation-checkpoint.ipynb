{
 "cells": [
  {
   "cell_type": "markdown",
   "id": "1e365087",
   "metadata": {},
   "source": [
    "# Anomaly Detection - Parzen Window Density Estimation \n",
    "\n",
    "1. 확률 밀도 함수에 대한 직접적인 식을 구한다. \n",
    "> $p(x) = \\frac{1}{N} \\sum_{i=1}^N K(\\frac{x^i - x}{h} $ \n",
    "\n",
    "2. 다양한 Kernel 함수에 대해 적용할 수 있도록 Kernel_type을 입력 값으로 받으며, 각 Kernel 함수를 구현한다. \n",
    "> ex)- $K(u) = \\frac{1}{2}1(if |u| <= 1 )$\n",
    "\n",
    "3. 적절한 h의 값(Smoothing parameter)을 찾기 위해 E-M alghrithm 과정을 진행한다. \n",
    "\n",
    "> E : parameter들을 고정하여 객체 확률 탐색. (h -> p(x)) \n",
    "\n",
    "> $p(x) = \\frac{1}{N} \\sum_{i=1}^N K(\\frac{x^i - x}{h} $ \n",
    "\n",
    "\n",
    "> M : 객체 확률을 토대로 Parameter 탐색 (p(x) - > h) \n",
    "\n",
    "> k-nearest neighbor density estimation 계산하기. N * p(x) = k \n",
    "\n",
    "> def k_nearest 함수 설정 : k개의 점을 포함하도록 하는 h의 값 산출.  n x 1 벡터 형태로 나오겠지만 임의로 평균 값을 산출 \n",
    "\n",
    "4. 적절한 h의 값을 토대로 최종 p(x) 값 산출. $x_new$ 값을 대입 시 확률 값이 나오도록 함수 설정 \n",
    "\n",
    "\n",
    "**구현해야하는 것**\n",
    "- $p(x) = \\frac{1}{N} \\sum_{i=1}^N K(\\frac{x^i - x}{h}) $ \n",
    "- def k_nearest\n",
    "- 다양한 K(u)\n",
    "> u가 2차원 이상의 차원일 경우 어떻게 계산할 것인가? \n",
    "\n",
    "- 적정한 h 찾았을 시 최종 p(x) 식을 정하는 함수 \n",
    "\n",
    "**필요한 것**\n",
    "- X\n",
    "- kernel_type \n",
    "- x_new \n",
    "- 임의의 h값. 최초에는 1로 설정 \n",
    "\n",
    "\n",
    "**함수의 형태**\n",
    "- def __init__(self, X, kernel_type) : \n",
    "\n",
    "- def kernel(self, kernel_type, u) : => 커널 값 반환 \n",
    "> u = $\\frac{x_i - x}{h}$ \n",
    "\n",
    "- def p(self, x, kernel_type, h) : => p(x) 값 반환 \n",
    "\n",
    "- def k_nearest(self, p) : => h 값 반환 \n",
    "\n",
    "- def find_h(self, epsilon= 1e-10) : h의 값의 차이가 epsilon값보다 작아질때까지 E-M 알고리즘 반복 \n",
    "\n",
    "- def check_abnormal(self, x_new) : 입력한 x_new 값에 대한 객체 확률 값 반환 \n",
    "\n",
    "\n"
   ]
  },
  {
   "cell_type": "code",
   "execution_count": 1,
   "id": "b26e37a4",
   "metadata": {},
   "outputs": [],
   "source": [
    "import numpy as np\n",
    "import pandas as pd\n",
    "import random as rand\n",
    "\n",
    "from sklearn.datasets import load_iris\n",
    "X = load_iris()['data']\n",
    "\n",
    "import matplotlib.pyplot as plt\n",
    "import scipy as sc\n",
    "from scipy.stats import norm\n",
    "from sys import maxsize"
   ]
  },
  {
   "cell_type": "code",
   "execution_count": 51,
   "id": "5fcfb867",
   "metadata": {},
   "outputs": [],
   "source": [
    "class parzen_window() : \n",
    "    def __init__(self, X, kernel_type) : \n",
    "        self.X = X \n",
    "        self.n = np.shape(X)[0]\n",
    "        self.m = np.shape(X)[1]\n",
    "        \n",
    "        self.kernel_type = kernel_type \n",
    "        self.h = 1 #임의로 설정한 값. \n",
    "        self.p = np.array([self.cal_p(kernel_type, self.X[i], self.h) for i in range(self.n)]) \n",
    "        \n",
    "    def kernel(self, kernel_type, x, h) : \n",
    "        \n",
    "        u_matrix = (np.array(self.X) - np.array(x)) /h # n x m 형태의 행렬 \n",
    "        u = [ np.sqrt((u_matrix[i] ** 2).sum()) for i in range(self.n)] # 각 u_matrix의 벡터들의 길이를 모음\n",
    "        if kernel_type == \"Triangular\" : \n",
    "            k_value = [1-u[i] if u[i] <= 1 else 0 for i in range(self.n)]\n",
    "        \n",
    "        elif kernel_type == \"Epanechnikov\" : \n",
    "            k_value = [3*(1-u[i]**2)/4 if u[i] <= 1 else 0 for i in range(self.n)]\n",
    "\n",
    "        elif kernel_type == \"Quartic\" : \n",
    "            k_value = [15*(1-u[i]**2)/16 if u[i] <= 1 else 0 for i in range(self.n)]\n",
    "            \n",
    "        elif kernel_type == \"gaussian\" : \n",
    "            k_value = [np.exp(-u[i]**2/2)/(np.sqrt(2*np.pi)) if u[i] <= 1 else 0 for i in range(self.n)]\n",
    "        \n",
    "        else : \n",
    "            k_value = [ 1/2 if u[i] <= 1 else 0 for i in range(self.n)]\n",
    "        \n",
    "        return k_value \n",
    "    \n",
    "    \n",
    "    def cal_p(self,  kernel_type, x, h) : # Expectation 역할 \n",
    "        return np.sum(self.kernel(kernel_type, x,h)) / self.n\n",
    "    \n",
    "    def k_nearest(self, x, p) : # Maximization 역할 \n",
    "        k = int(self.n * p)\n",
    "        dist_matrix= (np.array(self.X) - np.array(x))\n",
    "        dist = np.array([ np.sqrt(np.sum(dist_matrix[i] ** 2)) for i in range(self.n)])\n",
    "        index = np.argsort(dist)\n",
    "        h = 2*dist[index][k] # h/2 는 반지름으로, x_i - x의 길이가 k 번째인 경우를 포함하도록 설정한다. \n",
    "        return h \n",
    "    \n",
    "    def find_h(self, epsilon=1e-10) : \n",
    "        pre = self.h \n",
    "        \n",
    "        self.h = np.mean([self.k_nearest(self.X[i], self.p[i]) for i in range(self.n)])\n",
    "        \n",
    "        while pre - self.h > epsilon : \n",
    "            pre = self.h\n",
    "            self.p = np.array([self.cal_p(self.kernel_type, self.X[i], self.h) for i in range(self.n)])\n",
    "            self.h = np.mean([self.k_nearest(self.X[i], self.p[i]) for i in range(self.n)])\n",
    "       \n",
    "        return self.h\n",
    "    \n",
    "    def check_abnormal(self, x_new, epsilon = 0.01) : \n",
    "        p = self.cal_p(self.kernel_type, x_new, self.h)\n",
    "        \n",
    "        if p < epsilon : \n",
    "            return print(x_new, \"is abnormal data. p is \", p)\n",
    "        \n",
    "        else : \n",
    "            return print(x_new, \"is normal data. p is\", p)\n",
    "        \n",
    "        \n",
    "        "
   ]
  },
  {
   "cell_type": "code",
   "execution_count": 52,
   "id": "050086ee",
   "metadata": {},
   "outputs": [
    {
     "name": "stdout",
     "output_type": "stream",
     "text": [
      "[6.2, 2.9, 4.3, 1.3] is normal data. p is 0.20333333333333334\n"
     ]
    }
   ],
   "source": [
    "test = parzen_window(X, \"\")\n",
    "test.find_h()\n",
    "test.check_abnormal( [6.2, 2.9, 4.3, 1.3])\n",
    "\n"
   ]
  },
  {
   "cell_type": "code",
   "execution_count": null,
   "id": "5667ff4f",
   "metadata": {},
   "outputs": [],
   "source": []
  },
  {
   "cell_type": "code",
   "execution_count": null,
   "id": "89343800",
   "metadata": {},
   "outputs": [],
   "source": []
  },
  {
   "cell_type": "code",
   "execution_count": null,
   "id": "ad197dc5",
   "metadata": {},
   "outputs": [],
   "source": []
  },
  {
   "cell_type": "code",
   "execution_count": null,
   "id": "6419fa53",
   "metadata": {},
   "outputs": [],
   "source": []
  },
  {
   "cell_type": "code",
   "execution_count": null,
   "id": "9ec3a142",
   "metadata": {},
   "outputs": [],
   "source": []
  },
  {
   "cell_type": "code",
   "execution_count": null,
   "id": "93805105",
   "metadata": {},
   "outputs": [],
   "source": []
  },
  {
   "cell_type": "code",
   "execution_count": null,
   "id": "57285e14",
   "metadata": {},
   "outputs": [],
   "source": []
  },
  {
   "cell_type": "code",
   "execution_count": null,
   "id": "fbdf9b41",
   "metadata": {},
   "outputs": [],
   "source": []
  },
  {
   "cell_type": "code",
   "execution_count": null,
   "id": "b87fea86",
   "metadata": {},
   "outputs": [],
   "source": []
  },
  {
   "cell_type": "code",
   "execution_count": null,
   "id": "9e2abf29",
   "metadata": {},
   "outputs": [],
   "source": []
  },
  {
   "cell_type": "code",
   "execution_count": null,
   "id": "f35ae226",
   "metadata": {},
   "outputs": [],
   "source": []
  },
  {
   "cell_type": "code",
   "execution_count": null,
   "id": "7c88a86e",
   "metadata": {},
   "outputs": [],
   "source": []
  },
  {
   "cell_type": "code",
   "execution_count": null,
   "id": "daa100e2",
   "metadata": {},
   "outputs": [],
   "source": []
  },
  {
   "cell_type": "code",
   "execution_count": null,
   "id": "8f9301be",
   "metadata": {},
   "outputs": [],
   "source": []
  },
  {
   "cell_type": "code",
   "execution_count": null,
   "id": "e62498a6",
   "metadata": {},
   "outputs": [],
   "source": []
  },
  {
   "cell_type": "code",
   "execution_count": null,
   "id": "ea46d6d7",
   "metadata": {},
   "outputs": [],
   "source": []
  },
  {
   "cell_type": "code",
   "execution_count": null,
   "id": "58173456",
   "metadata": {},
   "outputs": [],
   "source": []
  },
  {
   "cell_type": "code",
   "execution_count": null,
   "id": "08d5917f",
   "metadata": {},
   "outputs": [],
   "source": []
  },
  {
   "cell_type": "code",
   "execution_count": null,
   "id": "616a1362",
   "metadata": {},
   "outputs": [],
   "source": []
  },
  {
   "cell_type": "code",
   "execution_count": null,
   "id": "29eef875",
   "metadata": {},
   "outputs": [],
   "source": []
  },
  {
   "cell_type": "code",
   "execution_count": null,
   "id": "3a7060b3",
   "metadata": {},
   "outputs": [],
   "source": []
  }
 ],
 "metadata": {
  "kernelspec": {
   "display_name": "Python 3",
   "language": "python",
   "name": "python3"
  },
  "language_info": {
   "codemirror_mode": {
    "name": "ipython",
    "version": 3
   },
   "file_extension": ".py",
   "mimetype": "text/x-python",
   "name": "python",
   "nbconvert_exporter": "python",
   "pygments_lexer": "ipython3",
   "version": "3.8.8"
  }
 },
 "nbformat": 4,
 "nbformat_minor": 5
}
