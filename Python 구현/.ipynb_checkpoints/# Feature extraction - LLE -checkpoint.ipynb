{
 "cells": [
  {
   "cell_type": "markdown",
   "id": "5185da23",
   "metadata": {},
   "source": [
    "# Feature extraction - LLE \n",
    "\n",
    "LLE 수도 코드 출처 : 단단한 머신러닝 챕터 10 \n",
    "\n",
    "**입력**\n",
    "- 샘플 세트 D = ${x_1, x_2, ..., x_m}$ \n",
    "- 최근접 이웃 파라미터 k \n",
    "- 저차원 공간 차원수 d' \n",
    "\n",
    "**과정**\n",
    "1. for i = 1,2, ... m do \n",
    "- $x_i$의 최근접 이웃 k를 설정 \n",
    "- 최근접 이웃들로부터 $w_{ij}$ 계산, 그 외 객체에 대해선 $w_ij$ 의 값을 0으로 부여 \n",
    "- end for \n",
    "\n",
    "2. W metrix 값으로부터 M metrix 구하기 \n",
    "3. M에 대해서 고윳값 분해를 진행 \n",
    "4. return M의 최소 d'개 고윳값에 대응하는 특성 벡터 탐색 \n",
    "\n",
    "**출력**\n",
    "- 샘플 세트 D의 저차원 공간에서의 투영 Z = {$z_1, z_2, ..., z_m$} "
   ]
  },
  {
   "cell_type": "code",
   "execution_count": 4,
   "id": "47e16e09",
   "metadata": {},
   "outputs": [
    {
     "name": "stderr",
     "output_type": "stream",
     "text": [
      "C:\\Users\\PC\\anaconda3\\lib\\site-packages\\sklearn\\utils\\deprecation.py:87: FutureWarning: Function load_boston is deprecated; `load_boston` is deprecated in 1.0 and will be removed in 1.2.\n",
      "\n",
      "    The Boston housing prices dataset has an ethical problem. You can refer to\n",
      "    the documentation of this function for further details.\n",
      "\n",
      "    The scikit-learn maintainers therefore strongly discourage the use of this\n",
      "    dataset unless the purpose of the code is to study and educate about\n",
      "    ethical issues in data science and machine learning.\n",
      "\n",
      "    In this special case, you can fetch the dataset from the original\n",
      "    source::\n",
      "\n",
      "        import pandas as pd\n",
      "        import numpy as np\n",
      "\n",
      "\n",
      "        data_url = \"http://lib.stat.cmu.edu/datasets/boston\"\n",
      "        raw_df = pd.read_csv(data_url, sep=\"\\s+\", skiprows=22, header=None)\n",
      "        data = np.hstack([raw_df.values[::2, :], raw_df.values[1::2, :2]])\n",
      "        target = raw_df.values[1::2, 2]\n",
      "\n",
      "    Alternative datasets include the California housing dataset (i.e.\n",
      "    :func:`~sklearn.datasets.fetch_california_housing`) and the Ames housing\n",
      "    dataset. You can load the datasets as follows::\n",
      "\n",
      "        from sklearn.datasets import fetch_california_housing\n",
      "        housing = fetch_california_housing()\n",
      "\n",
      "    for the California housing dataset and::\n",
      "\n",
      "        from sklearn.datasets import fetch_openml\n",
      "        housing = fetch_openml(name=\"house_prices\", as_frame=True)\n",
      "\n",
      "    for the Ames housing dataset.\n",
      "    \n",
      "  warnings.warn(msg, category=FutureWarning)\n"
     ]
    }
   ],
   "source": [
    "# 데이터 사용 및 라이브러리 설치 \n",
    "\n",
    "import numpy as np\n",
    "import pandas as pd\n",
    "import random\n",
    "import heapq\n",
    "\n",
    "from sklearn.datasets import load_boston\n",
    "from sklearn.linear_model import LinearRegression \n",
    "from collections import defaultdict\n",
    "\n",
    "boston = load_boston()\n",
    "X = boston.data \n",
    "y = boston.target\n",
    "model = LinearRegression()"
   ]
  },
  {
   "cell_type": "markdown",
   "id": "014489d1",
   "metadata": {},
   "source": [
    "### __init__ 설정 및 1번 과정 \n",
    "\n",
    "**입력**\n",
    "- 샘플 세트 D = ${x_1, x_2, ..., x_m}$ \n",
    "- 최근접 이웃 파라미터 k \n",
    "- 저차원 공간 차원수 d' \n",
    "\n",
    "**과정**\n",
    "1. for i = 1,2, ... m do \n",
    "- $x_i$의 최근접 이웃 k를 설정 \n",
    "- 최근접 이웃들로부터 $w_{ij}$ 계산, 그 외 객체에 대해선 $w_ij$ 의 값을 0으로 부여 \n",
    "- end for \n",
    "\n",
    "**구현해야하는 것** \n",
    "- 유클리드 거리 기반으로 최근접 이웃 k개 선발 \n",
    "- $x_i$를 복구하는 계수 $w_ij$ 계산, 그외 값들에는 0을 부여 \n",
    "- $w_{ij} = \\frac {\\sum_{k \\in Q_i} C^{-1}_jk}{\\sum_{l,s \\in Q_i} C^{-1}_{ls}} $ \n",
    "\n",
    "**필요한 것**\n",
    "- X : 입력 데이터 \n",
    "- k : 근접 이웃 개수 \n",
    "\n",
    "**함수의 형태**\n",
    "- def __init__(self, X,k,d) \n",
    "\n",
    "- def cal_w(self) : => $W$ metrix \n"
   ]
  },
  {
   "cell_type": "code",
   "execution_count": 2,
   "id": "f373bc75",
   "metadata": {},
   "outputs": [],
   "source": [
    "# inv_dist_metrix = np.reciprocal(dist_metrix) 에서 0으로 나누는 오류가 발생하지만, 실행은 된다 :)\n",
    "\n",
    "class LLE() : \n",
    "    def __init__(self,X,k,d) : \n",
    "        self.X = X\n",
    "        self.n = np.shape(X)[0]\n",
    "        self.m = np.shape(X)[1]\n",
    "        \n",
    "        self.k = k \n",
    "        self.d = d \n",
    "        \n",
    "    def cal_w(self) : \n",
    "        dist_metrix = []\n",
    "        k_neighbor = []\n",
    "        for i in range(self.n) : \n",
    "            dist_vector = [np.linalg.norm(np.array(self.X[i]) - np.array(self.X[j])) for j in range(self.n)]\n",
    "            dist_metrix.append(np.square(dist_vector)) #dist matrix **2 필요\n",
    "            \n",
    "            index = np.argsort(dist_vector)\n",
    "            neighbor = [] \n",
    "            for idx, num in enumerate(index) : \n",
    "                if num <= self.k :  neighbor.append(idx)\n",
    "            \n",
    "            k_neighbor.append(neighbor)\n",
    "    \n",
    "        dist_metrix = np.array(dist_metrix)\n",
    "        inv_dist_metrix = np.reciprocal(dist_metrix) \n",
    "        # 점검 필요. C^{-1}의 값이 필요한 건 맞으나, 이것이 역행렬을 의미하는 것인지 역수를 의미하는 것인지 구분 필요. \n",
    "        # 역행렬로 넣을 시 w의 값이 1을 넘어서며 음수도 나옴. 역수가 맞는듯 \n",
    "        \n",
    "        for i in range(self.n) : \n",
    "            inv_dist_metrix[i,i] = 0 \n",
    "\n",
    "        w = np.zeros(shape = (self.n, self.n))\n",
    "        for i in range(self.n) : \n",
    "            for j in range(self.n) : \n",
    "                up, down = 0,0\n",
    "                for index in k_neighbor[i] : \n",
    "                    if j in k_neighbor[i] : up += inv_dist_metrix[j, index] \n",
    "                    down += np.sum(inv_dist_metrix[index, k_neighbor[i]])\n",
    "                w[i,j] = up / down \n",
    "        \n",
    "        return w\n",
    "                \n",
    "        \n",
    "            \n",
    "        "
   ]
  },
  {
   "cell_type": "code",
   "execution_count": 72,
   "id": "39d8c5b8",
   "metadata": {},
   "outputs": [
    {
     "name": "stderr",
     "output_type": "stream",
     "text": [
      "<ipython-input-71-3f12d975bdbe>:27: RuntimeWarning: divide by zero encountered in reciprocal\n",
      "  inv_dist_metrix = np.reciprocal(dist_metrix)\n"
     ]
    },
    {
     "data": {
      "text/plain": [
       "array([[0.1025635 , 0.        , 0.        , ..., 0.        , 0.        ,\n",
       "        0.        ],\n",
       "       [0.44780782, 0.        , 0.37299421, ..., 0.        , 0.        ,\n",
       "        0.        ],\n",
       "       [0.2282903 , 0.        , 0.        , ..., 0.        , 0.        ,\n",
       "        0.        ],\n",
       "       ...,\n",
       "       [0.        , 0.        , 0.        , ..., 0.        , 0.        ,\n",
       "        0.        ],\n",
       "       [0.        , 0.        , 0.        , ..., 0.        , 0.        ,\n",
       "        0.        ],\n",
       "       [0.        , 0.        , 0.        , ..., 0.        , 0.        ,\n",
       "        0.        ]])"
      ]
     },
     "execution_count": 72,
     "metadata": {},
     "output_type": "execute_result"
    }
   ],
   "source": [
    "test = LLE(X, 2, 4)\n",
    "test.cal_w()\n"
   ]
  },
  {
   "cell_type": "code",
   "execution_count": 5,
   "id": "528e0776",
   "metadata": {},
   "outputs": [
    {
     "name": "stdout",
     "output_type": "stream",
     "text": [
      "[0.34419923 0.         0.22119862 0.43460215]\n"
     ]
    },
    {
     "name": "stderr",
     "output_type": "stream",
     "text": [
      "<ipython-input-2-3f12d975bdbe>:27: RuntimeWarning: divide by zero encountered in reciprocal\n",
      "  inv_dist_metrix = np.reciprocal(dist_metrix)\n"
     ]
    },
    {
     "data": {
      "text/plain": [
       "1.0"
      ]
     },
     "execution_count": 5,
     "metadata": {},
     "output_type": "execute_result"
    }
   ],
   "source": [
    "a= [[1,2,3,4], [6,5,4,3], [7,8,3,1], [2,6,4,3]]\n",
    "test = LLE(a, 2, 2)\n",
    "print(test.cal_w()[0])\n",
    "sum(test.cal_w()[0])"
   ]
  },
  {
   "cell_type": "markdown",
   "id": "ec0c80fe",
   "metadata": {},
   "source": [
    "### 2. W metrix 값으로부터 M metrix 구하기 \n",
    "### 3. M에 대해서 고윳값 분해를 진행 \n",
    "### 4. return M의 최소 d'개 고윳값에 대응하는 특성 벡터 탐색\n",
    "\n",
    "**구현해야하는 것** \n",
    "- M : $(I-W)^T(I-W).$ \n",
    "\n",
    "- 고윳값 분해 \n",
    "- 최소 차원 d' 만큼의 특성 벡터 탐색 \n",
    "\n",
    "\n",
    "**필요한 것**\n",
    "- w metrix \n",
    "- d' \n",
    "\n",
    "**함수의 형태**\n",
    "- def m(self) : m metrix  \n",
    "\n",
    "- def eigen(self) : => d 개의 고윳값과 d개의 고유벡터 반환\n",
    "\n",
    "- def lle_goal(self) : => d개의  특성 벡터 반환 "
   ]
  },
  {
   "cell_type": "code",
   "execution_count": 73,
   "id": "fe117681",
   "metadata": {},
   "outputs": [],
   "source": [
    "# inv_dist_metrix = np.reciprocal(dist_metrix) 에서 0으로 나누는 오류가 발생하지만, 실행은 된다 :)\n",
    "\n",
    "class LLE() : \n",
    "    def __init__(self,X,k,d) : \n",
    "        self.X = X\n",
    "        self.n = np.shape(X)[0]\n",
    "        self.m = np.shape(X)[1]\n",
    "        \n",
    "        self.k = k \n",
    "        self.d = d \n",
    "        \n",
    "    def cal_w(self) : \n",
    "        dist_metrix = []\n",
    "        k_neighbor = []\n",
    "        for i in range(self.n) : \n",
    "            dist_vector = [np.linalg.norm(np.array(self.X[i]) - np.array(self.X[j])) for j in range(self.n)]\n",
    "            dist_metrix.append(np.square(dist_vector))\n",
    "            \n",
    "            index = np.argsort(dist_vector)\n",
    "            neighbor = [] \n",
    "            for idx, num in enumerate(index) : \n",
    "                if num <= self.k :  neighbor.append(idx)\n",
    "            \n",
    "            k_neighbor.append(neighbor)\n",
    "    \n",
    "        dist_metrix = np.array(dist_metrix)\n",
    "        inv_dist_metrix = np.reciprocal(dist_metrix)\n",
    "        for i in range(self.n) : \n",
    "            inv_dist_metrix[i,i] = 0 \n",
    "\n",
    "        w = np.zeros(shape = (self.n, self.n))\n",
    "        for i in range(self.n) : \n",
    "            for j in range(self.n) : \n",
    "                up, down = 0,0\n",
    "                for index in k_neighbor[i] : \n",
    "                    if j in k_neighbor[i] : up += inv_dist_metrix[j, index] \n",
    "                    down += np.sum(inv_dist_metrix[index, k_neighbor[i]])\n",
    "                w[i,j] = up / down \n",
    "        \n",
    "        return w\n",
    "                \n",
    "        \n",
    "    def m(self, metrix) : \n",
    "        I = np.identity(n)\n",
    "        return np.dot((I-metrix).T, (I-metrix)) \n",
    "    \n",
    "    def eigen(self,metrix) : \n",
    "        rank = np.linalg.matrix_rank(metrix)\n",
    "        if self.d < rank : print(\"please increase d over \",rank )\n",
    "    \n",
    "        eigenvalue, eigenvector = np.linalg.eig(metrix)\n",
    "        index = np.argsort(eigenvalue)[::-1]\n",
    "        eigenvalue = eigenvalue[index]\n",
    "        eigenvector = eigenvector[index, :] \n",
    "        return eigenvalue[:self.d], eigenvector[:self.d, : ]\n",
    "    \n",
    "    def lle_goal(self) : \n",
    "        metrix = self.cal_w()\n",
    "        eigenvalue, eigenvector = self.eigen(metrix)\n",
    "        eigen_digonal = np.sqrt(np.diag(eigenvalue))\n",
    "        return np.dot(eigen_digonal, eigenvector) \n",
    "        \n",
    "        \n",
    "        "
   ]
  },
  {
   "cell_type": "code",
   "execution_count": 74,
   "id": "23333894",
   "metadata": {},
   "outputs": [
    {
     "name": "stderr",
     "output_type": "stream",
     "text": [
      "<ipython-input-73-0cb6cc12826a>:27: RuntimeWarning: divide by zero encountered in reciprocal\n",
      "  inv_dist_metrix = np.reciprocal(dist_metrix)\n"
     ]
    },
    {
     "name": "stdout",
     "output_type": "stream",
     "text": [
      "please increase d over  301\n"
     ]
    },
    {
     "data": {
      "text/plain": [
       "array([[ 0.00000000e+00+0.00000000e+00j,  0.00000000e+00+0.00000000e+00j,\n",
       "         0.00000000e+00+0.00000000e+00j, ...,\n",
       "         3.07816807e-62+1.21333151e-61j,  3.07816807e-62-1.21333151e-61j,\n",
       "        -1.21076328e-62+0.00000000e+00j],\n",
       "       [ 0.00000000e+00+0.00000000e+00j,  0.00000000e+00+0.00000000e+00j,\n",
       "         0.00000000e+00+0.00000000e+00j, ...,\n",
       "        -4.17741062e-62-5.59438477e-62j, -4.17741062e-62+5.59438477e-62j,\n",
       "        -7.01029385e-63+0.00000000e+00j],\n",
       "       [ 0.00000000e+00+0.00000000e+00j,  0.00000000e+00+0.00000000e+00j,\n",
       "         0.00000000e+00+0.00000000e+00j, ...,\n",
       "         2.23772383e-76-3.44723560e-75j,  2.23772383e-76+3.44723560e-75j,\n",
       "         5.87114601e-76+0.00000000e+00j],\n",
       "       [ 0.00000000e+00+0.00000000e+00j,  0.00000000e+00+0.00000000e+00j,\n",
       "         0.00000000e+00+0.00000000e+00j, ...,\n",
       "         7.16968429e-61+4.39068936e-61j,  7.16968429e-61-4.39068936e-61j,\n",
       "         1.25014694e-61+0.00000000e+00j]])"
      ]
     },
     "execution_count": 74,
     "metadata": {},
     "output_type": "execute_result"
    }
   ],
   "source": [
    "test = LLE(X, 2, 4)\n",
    "test.lle_goal()\n"
   ]
  }
 ],
 "metadata": {
  "kernelspec": {
   "display_name": "Python 3",
   "language": "python",
   "name": "python3"
  },
  "language_info": {
   "codemirror_mode": {
    "name": "ipython",
    "version": 3
   },
   "file_extension": ".py",
   "mimetype": "text/x-python",
   "name": "python",
   "nbconvert_exporter": "python",
   "pygments_lexer": "ipython3",
   "version": "3.8.8"
  }
 },
 "nbformat": 4,
 "nbformat_minor": 5
}
