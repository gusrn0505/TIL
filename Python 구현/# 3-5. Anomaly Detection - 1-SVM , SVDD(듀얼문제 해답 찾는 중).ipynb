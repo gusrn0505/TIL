{
 "cells": [
  {
   "cell_type": "markdown",
   "id": "37e09a87",
   "metadata": {},
   "source": [
    "# Anomaly Detection : 1-SVM / SVDD \n",
    "\n",
    "## 과거 SVM, SVR과 동일하게 cvxopt 모듈이 Error가 계속 발생함. 추후 한꺼번에 해결이 필요하겠음. \n",
    "\n",
    "\n",
    "## 1- SVM \n",
    "\n",
    "1. 목적함수 및 라그랑주 함수 정의 \n",
    "\n",
    "> $L = \\frac{1}{2}||w||^2 + \\frac{1}{vl}\\sum_{i=1}^l \\xi_i - \\rho - \\sum_{i=1}^l \\alpha_i(w * \\phi(x_i) - \\rho + \\xi_i) - \\sum_{i=1}^l \\beta_i \\xi_i$ \n",
    "\n",
    "2. 듀얼문제로 전환 및 Kernel Trick 적용 \n",
    "\n",
    "> $min L =\\frac{1}{2}\\sum_{i=1}^l \\sum_{j=1}^l \\alpha_i \\alpha_jK(x_i,x_j)$ \n",
    "\n",
    ">s.t. $\\sum_{i=1}^l \\alpha_i = 1, 0 <= \\alpha_i <= \\frac{1}{vl}$\n",
    "\n",
    "3. 2번에서 도출한 Convex 식의 해($\\alpha$) 값 산출하기 \n",
    "\n",
    "4. 도출한 $\\alpha$ 값을 기반으로 w, $\\beta$ 계산하기 \n",
    "\n",
    "> $w = \\sum_{i=1}^l \\alpha_i\\phi(x_i)$ \n",
    "\n",
    "\n",
    "**구현해야 하는 것**\n",
    "- Kernel 함수\n",
    "- 제한 조건이 있는 Convex 함수 해 찾기 \n",
    "\n",
    "**필요한 것**\n",
    "- X \n",
    "- y\n",
    "- kernel 함수 \n",
    "- convex 함수를 풀 모듈 : cvxopt \n",
    "- vl \n",
    "\n",
    "**함수의 형태** \n",
    "- def __init__(self,X,kernel_type, v,l) : \n",
    "\n",
    "- def kernel(self, kernel_type) : -> K(x_i, x_j)의 값을 가진 n x n 행렬. \n",
    "\n",
    "- def find_alpha(self,kernel_matrix) : alpha 값 반환   \n",
    "\n"
   ]
  },
  {
   "cell_type": "code",
   "execution_count": 32,
   "id": "91410b9f",
   "metadata": {},
   "outputs": [],
   "source": [
    "import numpy as np\n",
    "import pandas as pd\n",
    "import random as rand\n",
    "\n",
    "from sklearn.datasets import load_iris\n",
    "X = load_iris()['data']\n",
    "\n",
    "import matplotlib.pyplot as plt\n",
    "import scipy as sc\n",
    "from scipy.stats import norm\n",
    "from sys import maxsize"
   ]
  },
  {
   "cell_type": "code",
   "execution_count": 28,
   "id": "ff5cae9b",
   "metadata": {},
   "outputs": [],
   "source": [
    "import cvxopt\n",
    "import cvxopt.solvers\n",
    "\n",
    "class One_SVM() : \n",
    "    def __init__(self,X,y, kernel_type, v,l) : \n",
    "        self.X = X \n",
    "        self.y = y \n",
    "        self.n = np.shape(X)[0]\n",
    "        self.m = np.shape(X)[1] \n",
    "        \n",
    "        self.kernel_type = kernel_type \n",
    "        self.k_matrix = self.kernel_matrix()\n",
    "        \n",
    "        self.v = v\n",
    "        self.l = self.n\n",
    "        \n",
    "    def kernel(self, x1, x2, b = 1, d =3, sigma = 0.1, kappa = 2, theta = 3) : \n",
    "        if self.kernel_type == \"polynomial\" : \n",
    "            return (np.dot(x1, x2) +b) ** d \n",
    "        \n",
    "        elif self.kernel_type == \"RBF\" : \n",
    "            return np.exp(-np.linalg.norm(x1-x2)**2 / (sigma **2))\n",
    "        \n",
    "        elif self.kernel_type == \"MLP\" : \n",
    "            return np.tanh(kappa * np.dot(x1, x2) + theta) \n",
    "    \n",
    "    def kernel_matrix(self) : \n",
    "        k_matrix = np.zeros((self.n, self.n))\n",
    "        for i in range(self.n) : \n",
    "            for j in range(self.n) : \n",
    "                k_matrix[i,j] = self.kernel(self.X[i], self.X[j])\n",
    "        return k_matrix\n",
    "    \n",
    "    def find_alpha(self) : \n",
    "        P = cvxopt.matrix(self.k_matrix) \n",
    "        q = cvxopt.matrix(np.zeros((self.n,1)))\n",
    "        G = cvxopt.matrix(np.vstack((np.identity(self.n), -np.identity(self.n)))) \n",
    "        h = cvxopt.matrix(np.hstack((np.ones(self.n,)/(self.v*self.l), np.zeros(self.n))))\n",
    "        A = cvxopt.matrix(np.ones((1, self.n)))\n",
    "        b = cvxopt.matrix(np.zeros(1))\n",
    "                          \n",
    "        sol = cvxopt.solvers.qp(P,q,G,h,A,b)\n",
    "        alphas = np.array(sol['x'])\n",
    "        threshold = 1e-4 \n",
    "                          \n",
    "        return alphas\n",
    "        \n",
    "                          \n",
    "                          \n",
    "        \n",
    "            \n",
    "        \n",
    "        \n",
    "    "
   ]
  },
  {
   "cell_type": "code",
   "execution_count": 35,
   "id": "7f789cd7",
   "metadata": {},
   "outputs": [
    {
     "name": "stdout",
     "output_type": "stream",
     "text": [
      "     pcost       dcost       gap    pres   dres\n",
      " 0:      nan      nan  nan    nan    nan\n"
     ]
    },
    {
     "ename": "ValueError",
     "evalue": "domain error",
     "output_type": "error",
     "traceback": [
      "\u001b[1;31m---------------------------------------------------------------------------\u001b[0m",
      "\u001b[1;31mValueError\u001b[0m                                Traceback (most recent call last)",
      "\u001b[1;32m<ipython-input-35-ba8004c08a59>\u001b[0m in \u001b[0;36m<module>\u001b[1;34m\u001b[0m\n\u001b[0;32m      1\u001b[0m \u001b[0mtest\u001b[0m \u001b[1;33m=\u001b[0m \u001b[0mOne_SVM\u001b[0m\u001b[1;33m(\u001b[0m\u001b[0mX\u001b[0m\u001b[1;33m,\u001b[0m \u001b[1;34m\"\"\u001b[0m\u001b[1;33m,\u001b[0m \u001b[1;36m0.1\u001b[0m\u001b[1;33m,\u001b[0m \u001b[1;36m150\u001b[0m\u001b[1;33m)\u001b[0m\u001b[1;33m\u001b[0m\u001b[1;33m\u001b[0m\u001b[0m\n\u001b[1;32m----> 2\u001b[1;33m \u001b[0mtest\u001b[0m\u001b[1;33m.\u001b[0m\u001b[0mfind_alpha\u001b[0m\u001b[1;33m(\u001b[0m\u001b[1;33m)\u001b[0m\u001b[1;33m\u001b[0m\u001b[1;33m\u001b[0m\u001b[0m\n\u001b[0m",
      "\u001b[1;32m<ipython-input-28-35d2db357def>\u001b[0m in \u001b[0;36mfind_alpha\u001b[1;34m(self)\u001b[0m\n\u001b[0;32m     39\u001b[0m         \u001b[0mb\u001b[0m \u001b[1;33m=\u001b[0m \u001b[0mcvxopt\u001b[0m\u001b[1;33m.\u001b[0m\u001b[0mmatrix\u001b[0m\u001b[1;33m(\u001b[0m\u001b[0mnp\u001b[0m\u001b[1;33m.\u001b[0m\u001b[0mzeros\u001b[0m\u001b[1;33m(\u001b[0m\u001b[1;36m1\u001b[0m\u001b[1;33m)\u001b[0m\u001b[1;33m)\u001b[0m\u001b[1;33m\u001b[0m\u001b[1;33m\u001b[0m\u001b[0m\n\u001b[0;32m     40\u001b[0m \u001b[1;33m\u001b[0m\u001b[0m\n\u001b[1;32m---> 41\u001b[1;33m         \u001b[0msol\u001b[0m \u001b[1;33m=\u001b[0m \u001b[0mcvxopt\u001b[0m\u001b[1;33m.\u001b[0m\u001b[0msolvers\u001b[0m\u001b[1;33m.\u001b[0m\u001b[0mqp\u001b[0m\u001b[1;33m(\u001b[0m\u001b[0mP\u001b[0m\u001b[1;33m,\u001b[0m\u001b[0mq\u001b[0m\u001b[1;33m,\u001b[0m\u001b[0mG\u001b[0m\u001b[1;33m,\u001b[0m\u001b[0mh\u001b[0m\u001b[1;33m,\u001b[0m\u001b[0mA\u001b[0m\u001b[1;33m,\u001b[0m\u001b[0mb\u001b[0m\u001b[1;33m)\u001b[0m\u001b[1;33m\u001b[0m\u001b[1;33m\u001b[0m\u001b[0m\n\u001b[0m\u001b[0;32m     42\u001b[0m         \u001b[0malphas\u001b[0m \u001b[1;33m=\u001b[0m \u001b[0mnp\u001b[0m\u001b[1;33m.\u001b[0m\u001b[0marray\u001b[0m\u001b[1;33m(\u001b[0m\u001b[0msol\u001b[0m\u001b[1;33m[\u001b[0m\u001b[1;34m'x'\u001b[0m\u001b[1;33m]\u001b[0m\u001b[1;33m)\u001b[0m\u001b[1;33m\u001b[0m\u001b[1;33m\u001b[0m\u001b[0m\n\u001b[0;32m     43\u001b[0m         \u001b[0mthreshold\u001b[0m \u001b[1;33m=\u001b[0m \u001b[1;36m1e-4\u001b[0m\u001b[1;33m\u001b[0m\u001b[1;33m\u001b[0m\u001b[0m\n",
      "\u001b[1;32m~\\anaconda3\\lib\\site-packages\\cvxopt\\coneprog.py\u001b[0m in \u001b[0;36mqp\u001b[1;34m(P, q, G, h, A, b, solver, kktsolver, initvals, **kwargs)\u001b[0m\n\u001b[0;32m   4483\u001b[0m             'residual as dual infeasibility certificate': dinfres}\n\u001b[0;32m   4484\u001b[0m \u001b[1;33m\u001b[0m\u001b[0m\n\u001b[1;32m-> 4485\u001b[1;33m     \u001b[1;32mreturn\u001b[0m \u001b[0mconeqp\u001b[0m\u001b[1;33m(\u001b[0m\u001b[0mP\u001b[0m\u001b[1;33m,\u001b[0m \u001b[0mq\u001b[0m\u001b[1;33m,\u001b[0m \u001b[0mG\u001b[0m\u001b[1;33m,\u001b[0m \u001b[0mh\u001b[0m\u001b[1;33m,\u001b[0m \u001b[1;32mNone\u001b[0m\u001b[1;33m,\u001b[0m \u001b[0mA\u001b[0m\u001b[1;33m,\u001b[0m  \u001b[0mb\u001b[0m\u001b[1;33m,\u001b[0m \u001b[0minitvals\u001b[0m\u001b[1;33m,\u001b[0m \u001b[0mkktsolver\u001b[0m \u001b[1;33m=\u001b[0m \u001b[0mkktsolver\u001b[0m\u001b[1;33m,\u001b[0m \u001b[0moptions\u001b[0m \u001b[1;33m=\u001b[0m \u001b[0moptions\u001b[0m\u001b[1;33m)\u001b[0m\u001b[1;33m\u001b[0m\u001b[1;33m\u001b[0m\u001b[0m\n\u001b[0m",
      "\u001b[1;32m~\\anaconda3\\lib\\site-packages\\cvxopt\\coneprog.py\u001b[0m in \u001b[0;36mconeqp\u001b[1;34m(P, q, G, h, dims, A, b, initvals, kktsolver, xnewcopy, xdot, xaxpy, xscal, ynewcopy, ydot, yaxpy, yscal, **kwargs)\u001b[0m\n\u001b[0;32m   2241\u001b[0m         \u001b[1;31m# lmbdasq = lambda o lambda.\u001b[0m\u001b[1;33m\u001b[0m\u001b[1;33m\u001b[0m\u001b[1;33m\u001b[0m\u001b[0m\n\u001b[0;32m   2242\u001b[0m \u001b[1;33m\u001b[0m\u001b[0m\n\u001b[1;32m-> 2243\u001b[1;33m         \u001b[1;32mif\u001b[0m \u001b[0miters\u001b[0m \u001b[1;33m==\u001b[0m \u001b[1;36m0\u001b[0m\u001b[1;33m:\u001b[0m  \u001b[0mW\u001b[0m \u001b[1;33m=\u001b[0m \u001b[0mmisc\u001b[0m\u001b[1;33m.\u001b[0m\u001b[0mcompute_scaling\u001b[0m\u001b[1;33m(\u001b[0m\u001b[0ms\u001b[0m\u001b[1;33m,\u001b[0m \u001b[0mz\u001b[0m\u001b[1;33m,\u001b[0m \u001b[0mlmbda\u001b[0m\u001b[1;33m,\u001b[0m \u001b[0mdims\u001b[0m\u001b[1;33m)\u001b[0m\u001b[1;33m\u001b[0m\u001b[1;33m\u001b[0m\u001b[0m\n\u001b[0m\u001b[0;32m   2244\u001b[0m         \u001b[0mmisc\u001b[0m\u001b[1;33m.\u001b[0m\u001b[0mssqr\u001b[0m\u001b[1;33m(\u001b[0m\u001b[0mlmbdasq\u001b[0m\u001b[1;33m,\u001b[0m \u001b[0mlmbda\u001b[0m\u001b[1;33m,\u001b[0m \u001b[0mdims\u001b[0m\u001b[1;33m)\u001b[0m\u001b[1;33m\u001b[0m\u001b[1;33m\u001b[0m\u001b[0m\n\u001b[0;32m   2245\u001b[0m \u001b[1;33m\u001b[0m\u001b[0m\n",
      "\u001b[1;32m~\\anaconda3\\lib\\site-packages\\cvxopt\\misc.py\u001b[0m in \u001b[0;36mcompute_scaling\u001b[1;34m(s, z, lmbda, dims, mnl)\u001b[0m\n\u001b[0;32m    283\u001b[0m \u001b[1;33m\u001b[0m\u001b[0m\n\u001b[0;32m    284\u001b[0m     \u001b[0mm\u001b[0m \u001b[1;33m=\u001b[0m \u001b[0mdims\u001b[0m\u001b[1;33m[\u001b[0m\u001b[1;34m'l'\u001b[0m\u001b[1;33m]\u001b[0m\u001b[1;33m\u001b[0m\u001b[1;33m\u001b[0m\u001b[0m\n\u001b[1;32m--> 285\u001b[1;33m     \u001b[0mW\u001b[0m\u001b[1;33m[\u001b[0m\u001b[1;34m'd'\u001b[0m\u001b[1;33m]\u001b[0m \u001b[1;33m=\u001b[0m \u001b[0mbase\u001b[0m\u001b[1;33m.\u001b[0m\u001b[0msqrt\u001b[0m\u001b[1;33m(\u001b[0m \u001b[0mbase\u001b[0m\u001b[1;33m.\u001b[0m\u001b[0mdiv\u001b[0m\u001b[1;33m(\u001b[0m \u001b[0ms\u001b[0m\u001b[1;33m[\u001b[0m\u001b[0mmnl\u001b[0m\u001b[1;33m:\u001b[0m\u001b[0mmnl\u001b[0m\u001b[1;33m+\u001b[0m\u001b[0mm\u001b[0m\u001b[1;33m]\u001b[0m\u001b[1;33m,\u001b[0m \u001b[0mz\u001b[0m\u001b[1;33m[\u001b[0m\u001b[0mmnl\u001b[0m\u001b[1;33m:\u001b[0m\u001b[0mmnl\u001b[0m\u001b[1;33m+\u001b[0m\u001b[0mm\u001b[0m\u001b[1;33m]\u001b[0m \u001b[1;33m)\u001b[0m\u001b[1;33m)\u001b[0m\u001b[1;33m\u001b[0m\u001b[1;33m\u001b[0m\u001b[0m\n\u001b[0m\u001b[0;32m    286\u001b[0m     \u001b[0mW\u001b[0m\u001b[1;33m[\u001b[0m\u001b[1;34m'di'\u001b[0m\u001b[1;33m]\u001b[0m \u001b[1;33m=\u001b[0m \u001b[0mW\u001b[0m\u001b[1;33m[\u001b[0m\u001b[1;34m'd'\u001b[0m\u001b[1;33m]\u001b[0m\u001b[1;33m**\u001b[0m\u001b[1;33m-\u001b[0m\u001b[1;36m1\u001b[0m\u001b[1;33m\u001b[0m\u001b[1;33m\u001b[0m\u001b[0m\n\u001b[0;32m    287\u001b[0m     \u001b[0mlmbda\u001b[0m\u001b[1;33m[\u001b[0m\u001b[0mmnl\u001b[0m\u001b[1;33m:\u001b[0m\u001b[0mmnl\u001b[0m\u001b[1;33m+\u001b[0m\u001b[0mm\u001b[0m\u001b[1;33m]\u001b[0m \u001b[1;33m=\u001b[0m \u001b[0mbase\u001b[0m\u001b[1;33m.\u001b[0m\u001b[0msqrt\u001b[0m\u001b[1;33m(\u001b[0m \u001b[0mbase\u001b[0m\u001b[1;33m.\u001b[0m\u001b[0mmul\u001b[0m\u001b[1;33m(\u001b[0m \u001b[0ms\u001b[0m\u001b[1;33m[\u001b[0m\u001b[0mmnl\u001b[0m\u001b[1;33m:\u001b[0m\u001b[0mmnl\u001b[0m\u001b[1;33m+\u001b[0m\u001b[0mm\u001b[0m\u001b[1;33m]\u001b[0m\u001b[1;33m,\u001b[0m \u001b[0mz\u001b[0m\u001b[1;33m[\u001b[0m\u001b[0mmnl\u001b[0m\u001b[1;33m:\u001b[0m\u001b[0mmnl\u001b[0m\u001b[1;33m+\u001b[0m\u001b[0mm\u001b[0m\u001b[1;33m]\u001b[0m \u001b[1;33m)\u001b[0m \u001b[1;33m)\u001b[0m\u001b[1;33m\u001b[0m\u001b[1;33m\u001b[0m\u001b[0m\n",
      "\u001b[1;31mValueError\u001b[0m: domain error"
     ]
    }
   ],
   "source": [
    "test = One_SVM(X, \"\", 0.1, 150)\n",
    "\n",
    "# 또다시 듀얼문제 해답 찾는 부분에서 오류 발생.. \n",
    "test.find_alpha()"
   ]
  },
  {
   "cell_type": "code",
   "execution_count": 11,
   "id": "c4022e37",
   "metadata": {},
   "outputs": [
    {
     "data": {
      "text/plain": [
       "array([[ 1.,  0.,  0.],\n",
       "       [ 0.,  1.,  0.],\n",
       "       [ 0.,  0.,  1.],\n",
       "       [-1., -0., -0.],\n",
       "       [-0., -1., -0.],\n",
       "       [-0., -0., -1.]])"
      ]
     },
     "execution_count": 11,
     "metadata": {},
     "output_type": "execute_result"
    }
   ],
   "source": [
    "np.vstack((np.identity(3), -np.identity(3)))"
   ]
  }
 ],
 "metadata": {
  "kernelspec": {
   "display_name": "Python 3",
   "language": "python",
   "name": "python3"
  },
  "language_info": {
   "codemirror_mode": {
    "name": "ipython",
    "version": 3
   },
   "file_extension": ".py",
   "mimetype": "text/x-python",
   "name": "python",
   "nbconvert_exporter": "python",
   "pygments_lexer": "ipython3",
   "version": "3.8.8"
  }
 },
 "nbformat": 4,
 "nbformat_minor": 5
}
