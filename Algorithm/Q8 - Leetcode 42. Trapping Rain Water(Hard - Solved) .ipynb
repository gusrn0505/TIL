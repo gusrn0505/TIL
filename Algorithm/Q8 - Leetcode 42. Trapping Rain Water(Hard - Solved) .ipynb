{
 "cells": [
  {
   "cell_type": "markdown",
   "id": "fca85267",
   "metadata": {},
   "source": [
    "# Q8 - Leetcode 42. Trapping Rain Water \n",
    "\n",
    "Given n non-negative integers representing an elevation map where the width of each bar is 1, compute how much water it can trap after raining."
   ]
  },
  {
   "cell_type": "markdown",
   "id": "d08ebfe2",
   "metadata": {},
   "source": [
    "Input: height = [0,1,0,2,1,0,1,3,2,1,2,1]\n",
    "Output: 6\n",
    "Explanation: The above elevation map (black section) is represented by array [0,1,0,2,1,0,1,3,2,1,2,1]. In this case, 6 units of rain water (blue section) are being trapped."
   ]
  },
  {
   "cell_type": "markdown",
   "id": "2a8abb3b",
   "metadata": {},
   "source": [
    "Input: height = [4,2,0,3,2,5]\n",
    "Output: 9"
   ]
  },
  {
   "cell_type": "code",
   "execution_count": 42,
   "id": "b451431d",
   "metadata": {},
   "outputs": [],
   "source": [
    "E1 = [0,1,0,2,1,0,1,3,2,1,2,1]\n",
    "E2 = [4,2,0,3,2,5]"
   ]
  },
  {
   "cell_type": "code",
   "execution_count": null,
   "id": "2340a9de",
   "metadata": {},
   "outputs": [],
   "source": [
    "# 최초값 \n",
    "\n",
    "class Solution:\n",
    "    def trap(self, height):"
   ]
  },
  {
   "cell_type": "markdown",
   "id": "0297b3a2",
   "metadata": {},
   "source": [
    "##### 조건\n",
    "\n",
    "1. 총 빗물의 양은 각각의 빗물이 고인 정도를 합한 값이다. \n",
    "\n",
    "2. 각 빗물의 양은 (x 축의 폭) * (y축의 높이)의 형태로 표현할 수 있다. \n",
    "- 빗물을 계산할 때 가로/세로 층을 어떻게 나누는가에 따라 2가지 방향성이 있는데, 여기서는 가로 방향 1층씩 빗물의 양을 쌓아가는 형태로 계산하겠음. \n",
    "\n",
    "3. x축의 폭, y축의 높이를 정의하는 것이 필요함. \n",
    "- x축의 폭(가로 방향 1층의 양 끝) : 현재 위치(index) - 1층의 좌측 끝\n",
    "- y축의 높이 : ('1층의 좌측 끝의 높이'와 현재 높이 중 최소값) - 해당 층의 바닥 높이 \n",
    "\n",
    "4. 계속 고려해야할 값과 더 이상 고려 안해도 되는 값들을 잘 정리해야함. \n",
    "- 더 이상 고려안해도 되는 경우 \n",
    "> 이미 빗물을 채워넣은 층의 값들. \n",
    "> 왼쪽 -> 오른 방향으로 나아가다 지금까지 중 가장 높은 높이 나타날 때 기준 좌측에 있는 값들.\n",
    "- 계속 고려해야 하는 값들 \n",
    "> 아직 빗물이 안 차 있으면서 가장 높은 값이 갱신이 안되었을 떄 \n",
    "\n",
    "- 추가 사항 : 높이가 동일한 경우 둘 중 하나의 값만 추가해주면 됨 \n",
    "\n",
    "- 위의 경우들을 Stack을 통해서 잘 정리해줘야 함. \n"
   ]
  },
  {
   "cell_type": "code",
   "execution_count": 18,
   "id": "f88d2516",
   "metadata": {},
   "outputs": [],
   "source": [
    "# x 축의 폭, y축의 높이 구체화 \n",
    "\n",
    "class Solution:\n",
    "    def trap(self, height):\n",
    "\n",
    "        stack = [] \n",
    "        water =0 \n",
    "        bound = 0 \n",
    "\n",
    "        for i in range(len(height)) : \n",
    "            # Stack에 값이 있으며(<=> 과거에 고려할 점이 남아 있으며)\n",
    "            # 층의 좌측값의 높이(<=> height(stack[-1]))가 현재 높이보다 작거나 같을 때 \n",
    "            while len(stack)!=0 and height[stack[-1]] <= height[i] :  \n",
    "                last_point = stack.pop() \n",
    "                x_length = i - last_point -1\n",
    "                y_length = min(height[last_point], height[i]) - bound \n",
    "                water += x_length * y_length \n",
    "                print(water, \"x_length :\", x_length, \"i:\", i, \"last point: \", last_point, \"y_length :\",y_length)\n",
    "                # 층별 바닥 갱신하기 \n",
    "                bound = min(height[last_point], height[i])\n",
    "        \n",
    "        # 시작점, 그리고 이전 높이와 지금의 높이가 같지 않을 때에만 Stack에 값 추가하기  \n",
    "            if i ==0 or height[i-1] !=height[i] : \n",
    "                stack.append(i)\n",
    "        return water\n",
    "        "
   ]
  },
  {
   "cell_type": "code",
   "execution_count": 77,
   "id": "c79970ae",
   "metadata": {},
   "outputs": [],
   "source": [
    "test=Solution() "
   ]
  },
  {
   "cell_type": "code",
   "execution_count": 81,
   "id": "b51092b6",
   "metadata": {},
   "outputs": [
    {
     "name": "stdout",
     "output_type": "stream",
     "text": [
      "[0, 1, 2, 3]\n",
      "pop 3\n",
      "[0, 1, 2]\n",
      "pop 2\n",
      "[0, 1]\n",
      "pop 1\n",
      "[0]\n",
      "pop 0\n"
     ]
    },
    {
     "data": {
      "text/plain": [
       "1"
      ]
     },
     "execution_count": 81,
     "metadata": {},
     "output_type": "execute_result"
    }
   ],
   "source": [
    "test.trap(E3)"
   ]
  },
  {
   "cell_type": "markdown",
   "id": "126af49c",
   "metadata": {},
   "source": [
    "#### 개선점 \n",
    "위의 풀이는 \n",
    "1. 현재 인덱스 기준으로 좌측 Maximum을 넘지 못했을 경우를 고려못한다. \n",
    "- ex)- E2 사례 \n",
    "\n",
    "2. bound가 적절히 갱신되지 못한다. \n",
    "- y 축의 높이가 음수인 경우가 발생한다.\n",
    "\n",
    "따라서 x_length, y_length, bound 에 대한 정의를 수정함. \n",
    "> x_length = 현재 위치 - stack 에서 pop한 이후 이전 값\n",
    "> boung = height[last_point] \n",
    "> y_length = min(height[stack[-1]], height[i]) - bound \n"
   ]
  },
  {
   "cell_type": "code",
   "execution_count": 66,
   "id": "0799b50c",
   "metadata": {},
   "outputs": [],
   "source": [
    "# 예외 처리 수정 \n",
    "\n",
    "class Solution:\n",
    "    def trap(self, height):\n",
    "\n",
    "        stack = [] \n",
    "        water =0 \n",
    "        if len(height) <= 1 : return water\n",
    "\n",
    "        for i in range(len(height)) : \n",
    "            # Stack에 값이 있으며(<=> 과거에 고려할 점이 남아 있으며)\n",
    "            # 층의 좌측값의 높이(<=> height(stack[-1]))가 현재 높이보다 작거나 같을 때 \n",
    "            while len(stack)>=1 and height[stack[-1]] <= height[i] :  \n",
    "                last_point = stack.pop() \n",
    "                if len(stack) == 0 : break\n",
    "                x_length = i - stack[-1] -1\n",
    "                y_length = min(height[stack[-1]], height[i]) - height[last_point] \n",
    "                water += x_length * y_length \n",
    "                print(water, \"x_length :\", x_length, \"i:\", i, \"last point: \", last_point, \"y_length :\",y_length)\n",
    "                # 층별 바닥 갱신하기 \n",
    "        \n",
    "        # 시작점, 그리고 이전 높이와 지금의 높이가 같지 않을 때에만 Stack에 값 추가하기  \n",
    "            if i ==0 or height[i-1] !=height[i] : \n",
    "                stack.append(i)\n",
    "        return water\n",
    "        "
   ]
  },
  {
   "cell_type": "markdown",
   "id": "a15eb741",
   "metadata": {},
   "source": [
    "### 추가 개선점 \n",
    "\n",
    "- height[0]의 값과 height[1]의 값이 같을 경우도 Stack에 값을 추가하여 값이 다르게 나타남. \n",
    "\n",
    "- 따라서, 위의 예외를 처리해주기 위해서 조건을 추가해줌 "
   ]
  },
  {
   "cell_type": "code",
   "execution_count": null,
   "id": "bd7b6b54",
   "metadata": {},
   "outputs": [],
   "source": [
    "# 예외 처리 수정 \n",
    "\n",
    "class Solution:\n",
    "    def trap(self, height):\n",
    "\n",
    "        stack = [] \n",
    "        water =0 \n",
    "        if len(height) <= 1 : return water\n",
    "\n",
    "        for i in range(len(height)) : \n",
    "            # Stack에 값이 있으며(<=> 과거에 고려할 점이 남아 있으며)\n",
    "            # 층의 좌측값의 높이(<=> height(stack[-1]))가 현재 높이보다 작거나 같을 때 \n",
    "            while len(stack)>=1 and height[stack[-1]] <= height[i] :  \n",
    "                last_point = stack.pop() \n",
    "                if len(stack) == 0 : break\n",
    "                x_length = i - stack[-1] -1\n",
    "                y_length = min(height[stack[-1]], height[i]) - height[last_point] \n",
    "                water += x_length * y_length \n",
    "                print(water, \"x_length :\", x_length, \"i:\", i, \"last point: \", last_point, \"y_length :\",y_length)\n",
    "                # 층별 바닥 갱신하기 \n",
    "        \n",
    "        # 시작점, 그리고 이전 높이와 지금의 높이가 같지 않을 때에만 Stack에 값 추가하기  \n",
    "            if i == 0 and height[0] !=height[1] : \n",
    "                stack.append(i)\n",
    "            \n",
    "            if i > 0 or height[i-1] !=height[i] : \n",
    "                stack.append(i)\n",
    "        return water\n",
    "        "
   ]
  },
  {
   "cell_type": "code",
   "execution_count": 70,
   "id": "969b7a8c",
   "metadata": {},
   "outputs": [],
   "source": [
    "# 최종 수정안 \n",
    "\n",
    "class Solution:\n",
    "    def trap(self, height):\n",
    "\n",
    "        stack = [] \n",
    "        water =0 \n",
    "        if len(height) <= 1 : return water\n",
    "\n",
    "        for i in range(len(height)) : \n",
    "            while len(stack)>=1 and height[stack[-1]] <= height[i] :  \n",
    "                last_point = stack.pop() \n",
    "                if len(stack) == 0 : break\n",
    "                x_length = i - stack[-1] -1\n",
    "                y_length = min(height[stack[-1]], height[i]) - height[last_point] \n",
    "                water += x_length * y_length \n",
    "\n",
    "            if i == 0 and height[0] !=height[1] : \n",
    "                stack.append(i)\n",
    "            \n",
    "            if i > 0 or height[i-1] !=height[i] : \n",
    "                stack.append(i)\n",
    "        return water\n",
    "        "
   ]
  },
  {
   "cell_type": "markdown",
   "id": "abc8ca76",
   "metadata": {},
   "source": [
    "## 결과 - Success \n",
    "**Runtime: 176 ms, faster than 12.47%** of Python3 online submissions for Trapping Rain Water.\n",
    "**Memory Usage: 15.9 MB, less than 16.84%** of Python3 online submissions for Trapping Rain Water."
   ]
  },
  {
   "cell_type": "code",
   "execution_count": null,
   "id": "24375639",
   "metadata": {},
   "outputs": [],
   "source": []
  },
  {
   "cell_type": "markdown",
   "id": "e9212229",
   "metadata": {},
   "source": [
    "## 책 풀이 "
   ]
  },
  {
   "cell_type": "code",
   "execution_count": 76,
   "id": "e395a59c",
   "metadata": {},
   "outputs": [],
   "source": [
    "class Solution:\n",
    "    def trap(self, height):\n",
    "        stack = [0] \n",
    "        cur = 0 \n",
    "        sum = 0 \n",
    "\n",
    "        while stack and cur < len(height)-1 : \n",
    "            cur += 1 \n",
    "\n",
    "            while height[stack[-1]] < height[cur] :\n",
    "                print(stack)\n",
    "                prev = stack.pop() \n",
    "                print(\"pop\", prev)\n",
    "                if not len(stack) : break\n",
    "                water = min(height[cur], height[stack[-1]]) - height[prev]\n",
    "                \n",
    "                distance = cur - stack[-1] -1 \n",
    "\n",
    "                sum += water * distance\n",
    "            # while 반복 구문이 끝난 뒤 prev의 값은 현재 높이보다 작은 Top_left 값임. \n",
    "            \n",
    "            stack.append(cur)\n",
    "        \n",
    "        return sum \n"
   ]
  },
  {
   "cell_type": "markdown",
   "id": "d9ec1f5c",
   "metadata": {},
   "source": [
    "책 풀이와 내 풀이의 기본 논리는 동일함. \n",
    "\n",
    "단, 각 논리를 세부적으로 구현하는 과정이 일부 다름\n",
    "- stack에 처음부터 초기값(0)을 추가함. \n",
    "- while 절을 통해서 인덱스 1 값부터 고려해줌. (<=> 내 풀이의 경우 for 절을 사용했기 때문에 0부터 고려해줬어야 함) \n",
    "- 연속해서 높이가 같은 경우에도 stack에 추가해준 뒤 pop 시켜 계산에 방해되지 않도록 했음. \n",
    "\n",
    "그 결과 첫 풀이에서 인덱스가 0일 때, 아닐 때를 굳이 구분해줄 필요가 없없음. "
   ]
  },
  {
   "cell_type": "code",
   "execution_count": null,
   "id": "65283a77",
   "metadata": {},
   "outputs": [],
   "source": []
  },
  {
   "cell_type": "code",
   "execution_count": null,
   "id": "1323018b",
   "metadata": {},
   "outputs": [],
   "source": []
  },
  {
   "cell_type": "code",
   "execution_count": null,
   "id": "e1b49b48",
   "metadata": {},
   "outputs": [],
   "source": []
  },
  {
   "cell_type": "code",
   "execution_count": null,
   "id": "d01fa8d8",
   "metadata": {},
   "outputs": [],
   "source": []
  }
 ],
 "metadata": {
  "kernelspec": {
   "display_name": "Python 3",
   "language": "python",
   "name": "python3"
  },
  "language_info": {
   "codemirror_mode": {
    "name": "ipython",
    "version": 3
   },
   "file_extension": ".py",
   "mimetype": "text/x-python",
   "name": "python",
   "nbconvert_exporter": "python",
   "pygments_lexer": "ipython3",
   "version": "3.8.8"
  }
 },
 "nbformat": 4,
 "nbformat_minor": 5
}
