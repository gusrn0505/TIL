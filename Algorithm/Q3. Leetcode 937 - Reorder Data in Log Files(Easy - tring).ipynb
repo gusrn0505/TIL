{
 "cells": [
  {
   "cell_type": "markdown",
   "id": "44f1e5ee",
   "metadata": {},
   "source": [
    "### Q3. Leetcode 937 - Reorder Data in Log Files \n",
    "\n",
    "You are given an array of logs. Each log is a space-delimited string of words, where the first word is the identifier.\n",
    "\n",
    "There are two types of logs:\n",
    "\n",
    "Letter-logs: All words (except the identifier) consist of lowercase English letters.\n",
    "Digit-logs: All words (except the identifier) consist of digits.\n",
    "Reorder these logs so that:\n",
    "\n",
    "The letter-logs come before all digit-logs.\n",
    "The letter-logs are sorted lexicographically by their contents. If their contents are the same, then sort them lexicographically by their identifiers.\n",
    "The digit-logs maintain their relative ordering.\n",
    "Return the final order of the logs."
   ]
  },
  {
   "cell_type": "markdown",
   "id": "3f51282f",
   "metadata": {},
   "source": [
    "Example 1:\n",
    "\n",
    "Input: logs = [\"dig1 8 1 5 1\",\"let1 art can\",\"dig2 3 6\",\"let2 own kit dig\",\"let3 art zero\"]\n",
    "\n",
    "Output: [\"let1 art can\",\"let3 art zero\",\"let2 own kit dig\",\"dig1 8 1 5 1\",\"dig2 3 6\"]\n",
    "\n",
    "Explanation:\n",
    "\n",
    "The letter-log contents are all different, so their ordering is \"art can\", \"art zero\", \"own kit dig\".\n",
    "The digit-logs have a relative order of \"dig1 8 1 5 1\", \"dig2 3 6\"."
   ]
  },
  {
   "cell_type": "markdown",
   "id": "22d066bf",
   "metadata": {},
   "source": [
    "Example 2:\n",
    "\n",
    "Input: logs = [\"a1 9 2 3 1\",\"g1 act car\",\"zo4 4 7\",\"ab1 off key dog\",\"a8 act zoo\"]\n",
    "\n",
    "Output: [\"g1 act car\",\"a8 act zoo\",\"ab1 off key dog\",\"a1 9 2 3 1\",\"zo4 4 7\"]"
   ]
  },
  {
   "cell_type": "code",
   "execution_count": null,
   "id": "bb0d5e6b",
   "metadata": {},
   "outputs": [],
   "source": [
    "# 초기값 \n",
    "\n",
    "class Solution:\n",
    "    def reorderLogFiles(self, logs: List[str]) -> List[str]:"
   ]
  },
  {
   "cell_type": "code",
   "execution_count": 1,
   "id": "c1b35a9d",
   "metadata": {},
   "outputs": [],
   "source": [
    "E1 = [\"dig1 8 1 5 1\",\"let1 art can\",\"dig2 3 6\",\"let2 own kit dig\",\"let3 art zero\"]\n",
    "E2 = [\"a1 9 2 3 1\",\"g1 act car\",\"zo4 4 7\",\"ab1 off key dog\",\"a8 act zoo\"]"
   ]
  },
  {
   "cell_type": "markdown",
   "id": "80aadab5",
   "metadata": {},
   "source": [
    "**조건** \n",
    "1. 로그의 가장 앞 부분은 식별자이다. \n",
    "2. 문자로 구성된 로그가 숫자 로그보다 앞에 온다 \n",
    "3. 식별자는 순서에 영향을 끼치지 않지만, 문자가 동일할 경우 식별자 순으로 한다.\n",
    "4. 숫자 로그는 입력 순서대로 한다. "
   ]
  },
  {
   "cell_type": "markdown",
   "id": "6428e061",
   "metadata": {},
   "source": [
    "**문제풀이**\n",
    "1. 각 입력값에서 식별자와 로그(식별자 뒷 부분)를 구분해야 한다.\n",
    "  > list 내의 문자열을 Split()을 통해 list로 만든 후 slicing 을 통해서 구별할 것\n",
    "  추가로 log 부분은 join() 메서드를 통해서 다시 묶을 것. \n",
    "2. 로그가 문자인지 숫자인지 구분해야 한다. \n",
    " - 문자 로그와 숫자 로그를 분리, 구분하여 문자 로그를 앞에 둬야 한다. \n",
    " > 문자 로그, 숫자 로그를 각자 모으는 list를 만들어 보관하고 나중에 합친다. \n",
    "3. 로그가 동일한 경우 식별자의 크기를 비교하여 순서를 정한다. \n",
    " - 식별자의 크기를 비교할 방법은? 문자열(stirng) 크기 비교 방안 필요\n",
    "\n",
    "* 4번 조건을 고려하여 list 내에 있는 값을 비교하는 순서는 앞 -> 뒤로 해야한다. \n",
    " - for, 또는 while & list를 deque로 설정하여 popleft()을 통해 추출하는 것이 방법. "
   ]
  },
  {
   "cell_type": "code",
   "execution_count": 14,
   "id": "d8e8c5c6",
   "metadata": {},
   "outputs": [
    {
     "name": "stdout",
     "output_type": "stream",
     "text": [
      "char:\n",
      "dig1 8 1 5 1\n",
      "Identifier:\n",
      "dig1\n",
      "log:\n",
      "8 1 5 1\n",
      "char:\n",
      "let1 art can\n",
      "Identifier:\n",
      "let1\n",
      "log:\n",
      "art can\n",
      "char:\n",
      "dig2 3 6\n",
      "Identifier:\n",
      "dig2\n",
      "log:\n",
      "3 6\n",
      "char:\n",
      "let2 own kit dig\n",
      "Identifier:\n",
      "let2\n",
      "log:\n",
      "own kit dig\n",
      "char:\n",
      "let3 art zero\n",
      "Identifier:\n",
      "let3\n",
      "log:\n",
      "art zero\n"
     ]
    }
   ],
   "source": [
    "# 식별자와 로그 구분 \n",
    "\n",
    "for char in E1 : \n",
    "    item = char.split()\n",
    "    print(\"char:\", char, \"Identifier:\", item[0], \"log:\", \" \".join(item[1:]), sep='\\n')\n"
   ]
  },
  {
   "cell_type": "code",
   "execution_count": 18,
   "id": "3f8b0b9a",
   "metadata": {},
   "outputs": [
    {
     "name": "stdout",
     "output_type": "stream",
     "text": [
      "False\n",
      "num: [['dig1', '8', '1', '5', '1'], ['dig2', '3', '6']]\n",
      "Str: [['let1', 'art', 'can'], ['let2', 'own', 'kit', 'dig'], ['let3', 'art', 'zero']]\n"
     ]
    }
   ],
   "source": [
    "# 로그가 숫자인지 문자인지 구분하기 \n",
    "# 뛰어쓰기를 포함한 숫자 문자열은 isnumeric()으로는 구분되지 않는다. \n",
    "\n",
    "print(\"9 2 3\".isnumeric())\n",
    "\n",
    "# 따라서 로그들의 값이 문자와 숫자가 서로 섞여 있는 적은 없기에, 로그 일부가 숫자인지 아닌지만 점검한다\n",
    "\n",
    "num_log = []\n",
    "str_log = []\n",
    "\n",
    "for char in E1 : \n",
    "    item = char.split()\n",
    "    if item[1].isnumeric() : \n",
    "        num_log.append(item)\n",
    "    else : str_log.append(item) \n",
    "\n",
    "\n",
    "print(\"num:\", num_log)\n",
    "print(\"Str:\", str_log)\n",
    "\n",
    "# 원하는 형태로 구분이 되었음을 확인할 수 있음. "
   ]
  },
  {
   "cell_type": "markdown",
   "id": "ccce9a94",
   "metadata": {},
   "source": [
    "#### 로그 값이 같을 때 식별자 크기 비교하기 \n",
    "\n",
    "로그 값이 같은 것이 있는지는 어떻게 확인하고 구분할 것인가? \n",
    "- set을 사용해서 중복값이 있는지 없는지 확인가능. 중복되는 것이 어떠한 값인지 확인가능.  메모리는 늘어날 수 있으나 중복이 있을 떄만 추가 식별할 수 있다. \n",
    "- 각 값마다 for 절을 돌려도 됨.(계산 양이 많아져 권장 x ) \n",
    "- in list 를 사용하여 유무를 식별해도 된다. 모든 경우에 적용해야 해서 계산량이 많아진다. \n",
    "\n",
    "\n",
    "- 중복되는 값들의 인덱스를 식별하여, 식별자의 크기를 비교하여 순서를 바꿔야 한다. \n",
    "> 이건 for 절 순서에 따라 하나 하나 진행하면 될 듯. \n",
    "(ex - if \"log\" in list :) \n",
    " 문제는 이렇게 적용하려면 log만 따로 모아진 list가 있어야 함. 이건 따로 모아서 합치면 되니 어렵지 않음. \n",
    " 또한 중복되는 값이 3개 이상인 경우는 어떻게 처리할 지 정해야 함. \n",
    " \n",
    " \n",
    " 1. 동일한 값이 있는지 확인한다. \n",
    " 2. 동일한 값이 있을 경우, 각 값들의 인덱스를 추출한다. \n",
    " 3. 추출한 인덱스에 대해서 크기를 비교한다.\n"
   ]
  },
  {
   "cell_type": "code",
   "execution_count": null,
   "id": "4d08f555",
   "metadata": {},
   "outputs": [],
   "source": []
  },
  {
   "cell_type": "code",
   "execution_count": null,
   "id": "1b4a722c",
   "metadata": {},
   "outputs": [],
   "source": []
  },
  {
   "cell_type": "code",
   "execution_count": null,
   "id": "6714d957",
   "metadata": {},
   "outputs": [],
   "source": []
  },
  {
   "cell_type": "code",
   "execution_count": null,
   "id": "9d1d3e80",
   "metadata": {},
   "outputs": [],
   "source": []
  },
  {
   "cell_type": "code",
   "execution_count": null,
   "id": "1097072f",
   "metadata": {},
   "outputs": [],
   "source": []
  },
  {
   "cell_type": "code",
   "execution_count": null,
   "id": "518ff49a",
   "metadata": {},
   "outputs": [],
   "source": []
  },
  {
   "cell_type": "code",
   "execution_count": null,
   "id": "c2678f91",
   "metadata": {},
   "outputs": [],
   "source": []
  },
  {
   "cell_type": "code",
   "execution_count": null,
   "id": "a86f8948",
   "metadata": {},
   "outputs": [],
   "source": []
  },
  {
   "cell_type": "code",
   "execution_count": null,
   "id": "22b5f282",
   "metadata": {},
   "outputs": [],
   "source": []
  },
  {
   "cell_type": "code",
   "execution_count": null,
   "id": "ab9090d1",
   "metadata": {},
   "outputs": [],
   "source": []
  },
  {
   "cell_type": "code",
   "execution_count": null,
   "id": "129d60f8",
   "metadata": {},
   "outputs": [],
   "source": []
  },
  {
   "cell_type": "code",
   "execution_count": null,
   "id": "2d824a8e",
   "metadata": {},
   "outputs": [],
   "source": []
  },
  {
   "cell_type": "code",
   "execution_count": null,
   "id": "d25ec92b",
   "metadata": {},
   "outputs": [],
   "source": []
  },
  {
   "cell_type": "code",
   "execution_count": null,
   "id": "4a50275a",
   "metadata": {},
   "outputs": [],
   "source": []
  },
  {
   "cell_type": "code",
   "execution_count": null,
   "id": "0838dcf4",
   "metadata": {},
   "outputs": [],
   "source": []
  }
 ],
 "metadata": {
  "kernelspec": {
   "display_name": "Python 3",
   "language": "python",
   "name": "python3"
  },
  "language_info": {
   "codemirror_mode": {
    "name": "ipython",
    "version": 3
   },
   "file_extension": ".py",
   "mimetype": "text/x-python",
   "name": "python",
   "nbconvert_exporter": "python",
   "pygments_lexer": "ipython3",
   "version": "3.8.8"
  }
 },
 "nbformat": 4,
 "nbformat_minor": 5
}
