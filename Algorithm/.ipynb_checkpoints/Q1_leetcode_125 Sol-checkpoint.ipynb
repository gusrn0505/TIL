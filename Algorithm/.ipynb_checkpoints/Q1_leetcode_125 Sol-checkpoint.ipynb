{
 "cells": [
  {
   "cell_type": "markdown",
   "id": "806943ab",
   "metadata": {},
   "source": [
    "### Q1. Leetcode 125 : Valid Palindorme \n",
    "\n",
    "A phrase is a palindrome if, after converting all uppercase letters into lowercase letters and removing all non-alphanumeric characters, it reads the same forward and backward. Alphanumeric characters include letters and numbers.\n",
    "\n",
    "Given a string s, return true if it is a palindrome, or false otherwise."
   ]
  },
  {
   "cell_type": "markdown",
   "id": "427ea8c4",
   "metadata": {},
   "source": [
    "Example 1:\n",
    "\n",
    "Input: s = \"A man, a plan, a canal: Panama\"\n",
    "Output: true\n",
    "Explanation: \"amanaplanacanalpanama\" is a palindrome."
   ]
  },
  {
   "cell_type": "markdown",
   "id": "c235fc28",
   "metadata": {},
   "source": [
    "Example 2:\n",
    "\n",
    "Input: s = \"race a car\"\n",
    "Output: false\n",
    "Explanation: \"raceacar\" is not a palindrome."
   ]
  },
  {
   "cell_type": "markdown",
   "id": "3bdc6c1e",
   "metadata": {},
   "source": [
    "Example 3:\n",
    "\n",
    "Input: s = \" \"\n",
    "Output: true\n",
    "Explanation: s is an empty string \"\" after removing non-alphanumeric characters.\n",
    "Since an empty string reads the same forward and backward, it is a palindrome."
   ]
  },
  {
   "cell_type": "code",
   "execution_count": null,
   "id": "a8ae9d72",
   "metadata": {},
   "outputs": [],
   "source": [
    "# 초기 설정값 \n",
    "class Solution: \n",
    "    def isPalidrome(self, s) : "
   ]
  },
  {
   "cell_type": "markdown",
   "id": "f6e25022",
   "metadata": {},
   "source": [
    "고려할 점 \n",
    " 1. 대소문자를 구분하지 않는다 \n",
    " 2. 영문자와 숫자만을 대상으로 한다.  \n",
    " => 전처리를 해줘야 한다. \n",
    " 3. 추출한 값과 역순을 비교해야한다. (list의 형태로 표현하면 쉽게 끝난다) "
   ]
  },
  {
   "cell_type": "code",
   "execution_count": 2,
   "id": "35afec2e",
   "metadata": {},
   "outputs": [],
   "source": [
    "E1 = \"A man, a plan, a canal: Panama\""
   ]
  },
  {
   "cell_type": "code",
   "execution_count": 3,
   "id": "2b3fd9b4",
   "metadata": {},
   "outputs": [],
   "source": [
    "E2 = \"race a car\""
   ]
  },
  {
   "cell_type": "code",
   "execution_count": 4,
   "id": "704502bd",
   "metadata": {},
   "outputs": [],
   "source": [
    "E3 = \" \""
   ]
  },
  {
   "cell_type": "code",
   "execution_count": 5,
   "id": "59d8b47c",
   "metadata": {},
   "outputs": [
    {
     "data": {
      "text/plain": [
       "'A man, a plan, a canal: Panama'"
      ]
     },
     "execution_count": 5,
     "metadata": {},
     "output_type": "execute_result"
    }
   ],
   "source": [
    "str(E1)"
   ]
  },
  {
   "cell_type": "markdown",
   "id": "4021f81f",
   "metadata": {},
   "source": [
    "조건 1은 해결하기 쉽다. \n",
    " - str.upper() / str.lower() 을 적용하여 하나로 통일시키면 된다. \n",
    "\n",
    "조건 2을 해결하기 위해서 영문자와 추출한 후 list에 추가한다. \n",
    "이를 위해선 문자열의 세부 타입(영문자, 숫자 등)을 구별할 **정규표현식(re)의 사용이 필요**하다.  "
   ]
  },
  {
   "cell_type": "code",
   "execution_count": 6,
   "id": "447825af",
   "metadata": {},
   "outputs": [],
   "source": [
    "import re"
   ]
  },
  {
   "cell_type": "code",
   "execution_count": 7,
   "id": "796538ce",
   "metadata": {},
   "outputs": [
    {
     "data": {
      "text/plain": [
       "'AmanaplanacanalPanama'"
      ]
     },
     "execution_count": 7,
     "metadata": {},
     "output_type": "execute_result"
    }
   ],
   "source": [
    "# 영어 대소문자, 숫자를 제외한 모든 것을 '' 로 변환하기\n",
    "\n",
    "re.sub('[^A-Za-z0-9]', '', E1)"
   ]
  },
  {
   "cell_type": "code",
   "execution_count": 9,
   "id": "728c76f9",
   "metadata": {},
   "outputs": [
    {
     "name": "stdout",
     "output_type": "stream",
     "text": [
      "['A', 'm', 'a', 'n', 'a', 'p', 'l', 'a', 'n', 'a', 'c', 'a', 'n', 'a', 'l', 'P', 'a', 'n', 'a', 'm', 'a']\n",
      "['a', 'm', 'a', 'n', 'a', 'P', 'l', 'a', 'n', 'a', 'c', 'a', 'n', 'a', 'l', 'p', 'a', 'n', 'a', 'm', 'A']\n"
     ]
    }
   ],
   "source": [
    "# 테스트. str을 list로 변환하기. 그리고 역 순으로 뒤집어보기. \n",
    "test = re.sub('[^A-Za-z0-9]', '', E1)\n",
    "test = list(test)\n",
    "\n",
    "print(test)\n",
    "print(test[::-1])"
   ]
  },
  {
   "cell_type": "code",
   "execution_count": 21,
   "id": "b0c5be6b",
   "metadata": {},
   "outputs": [
    {
     "name": "stdout",
     "output_type": "stream",
     "text": [
      "['a', 'm', 'a', 'n', 'a', 'p', 'l', 'a', 'n', 'a', 'c', 'a', 'n', 'a', 'l', 'p', 'a', 'n', 'a', 'm', 'a']\n",
      "['a', 'm', 'a', 'n', 'a', 'p', 'l', 'a', 'n', 'a', 'c', 'a', 'n', 'a', 'l', 'p', 'a', 'n', 'a', 'm', 'a']\n"
     ]
    },
    {
     "data": {
      "text/plain": [
       "True"
      ]
     },
     "execution_count": 21,
     "metadata": {},
     "output_type": "execute_result"
    }
   ],
   "source": [
    "# 테스트. str을 list로 변환하기. 그리고 역 순으로 뒤집어보기. \n",
    "test = re.sub('[^A-Za-z0-9]', '', E1).lower()\n",
    "test = list(test)\n",
    "\n",
    "print(test)\n",
    "print(test[::-1])\n",
    "\n",
    "test == test[::-1]"
   ]
  },
  {
   "cell_type": "code",
   "execution_count": 28,
   "id": "9f716e92",
   "metadata": {},
   "outputs": [],
   "source": [
    "# 최종본 \n",
    "\n",
    "class Solution: \n",
    "    def isPalindrome(self, s) : \n",
    "        string = list(re.sub('[^A-Za-z0-9]', '', s).lower())\n",
    "        if string == string[::-1] : \n",
    "            return True\n",
    "        else : \n",
    "            False            "
   ]
  },
  {
   "cell_type": "code",
   "execution_count": 29,
   "id": "f579dac9",
   "metadata": {},
   "outputs": [],
   "source": [
    "# 최종본 결과 확인하기 \n",
    "\n",
    "class Solution: \n",
    "    def isPalindrome(self, s) : \n",
    "        string = list(re.sub('[^A-Za-z0-9]', '', s).lower())\n",
    "        if string == string[::-1] : \n",
    "            return print(\"True\")\n",
    "        else : \n",
    "            return print(\"False\")"
   ]
  },
  {
   "cell_type": "code",
   "execution_count": 59,
   "id": "a99443cc",
   "metadata": {},
   "outputs": [],
   "source": [
    "Test = Solution()"
   ]
  },
  {
   "cell_type": "code",
   "execution_count": 70,
   "id": "b3cc93f7",
   "metadata": {},
   "outputs": [
    {
     "name": "stdout",
     "output_type": "stream",
     "text": [
      "True\n",
      "False\n",
      "True\n"
     ]
    }
   ],
   "source": [
    "print(Test.isPalindrome(E1)) # True\n",
    "print(Test.isPalindrome(E2)) # False\n",
    "print(Test.isPalindrome(E3)) # True"
   ]
  },
  {
   "cell_type": "markdown",
   "id": "842c9cde",
   "metadata": {},
   "source": [
    "위의 예제 3개에 대해서 전부 맞게 나옴. "
   ]
  },
  {
   "cell_type": "markdown",
   "id": "8083b728",
   "metadata": {},
   "source": [
    "Leetcode 문제 풀이 결과 : Success \n",
    "\n",
    "Runtime: **96 ms, faster than 13.43%** of Python3 online submissions for Valid Palindrome.\n",
    "Memory Usage: **16.2 MB, less than 14.60%** of Python3 online submissions for Valid Palindrome.\n",
    "\n",
    "> 풀이로는 성공했지만 좋은 방법이라고 하긴 어려움. "
   ]
  },
  {
   "cell_type": "markdown",
   "id": "6e3b341e",
   "metadata": {},
   "source": [
    "### 추가 조치 \n",
    " 1. else 부분을 넣지 않아도 충분히 구동됨 "
   ]
  },
  {
   "cell_type": "code",
   "execution_count": 34,
   "id": "b9983b58",
   "metadata": {},
   "outputs": [],
   "source": [
    "# 수정본\n",
    "\n",
    "class Solution: \n",
    "    def isPalindrome(self, s) : \n",
    "        string = list(re.sub('[^A-Za-z0-9]', '', s).lower())\n",
    "        if string == string[::-1] : \n",
    "            return True"
   ]
  },
  {
   "cell_type": "markdown",
   "id": "8ef1431a",
   "metadata": {},
   "source": [
    "Leetcode 문제 풀이 결과 : Success\n",
    "\n",
    "Runtime: **51 ms, faster than 68.89%** of Python3 online submissions for Valid Palindrome.\n",
    "Memory Usage: **16.1 MB, less than 14.79%** of Python3 online submissions for Valid Palindrome.\n",
    "\n",
    "=> 상당히 runtime이 개선됨. else 상황을 고려하지 않아도 되어 속도가 절반 가량 증가한것으로 생각됨. "
   ]
  },
  {
   "cell_type": "markdown",
   "id": "a46d7adb",
   "metadata": {},
   "source": [
    "## 아래는 과거 풀이. "
   ]
  },
  {
   "cell_type": "markdown",
   "id": "554ccfb9",
   "metadata": {},
   "source": [
    "### 1번 풀이 "
   ]
  },
  {
   "cell_type": "code",
   "execution_count": 33,
   "id": "f5b77f40",
   "metadata": {},
   "outputs": [],
   "source": [
    "# Runtime: 292 ms\n",
    "# Memory Usage: 15.3 MB\n",
    "\n",
    "import re \n",
    "\n",
    "class Solution:\n",
    "    def isPalindrome(self, s) :\n",
    "        #1 글자만 불러와 list로 만들기 \n",
    "        p = re.compile('[a-zA-Z0-9]')\n",
    "        result = p.findall(s.lower())\n",
    "\n",
    "        #2 list로 불려온 각 글자별로 pop(0), pop()로 불러와 하나 하나 비교하기 \n",
    "        # & 홀수의 경우 중간 경우 고려하기 \n",
    "        while len(result) > 1 : \n",
    "            if result.pop(0) != result.pop() : return False\n",
    "\n",
    "        return True "
   ]
  },
  {
   "cell_type": "markdown",
   "id": "93559927",
   "metadata": {},
   "source": [
    "**풀이과정**\n",
    " 1) 주어진 \"s\" 에 대해서 정규표현식을 통해서 조건을 만족하는 것만을, \n",
    " \n",
    " 2) findall 방법을 통해서 list로 변환하였고 \n",
    " \n",
    " 이후\n",
    " \n",
    " 3) pop(0) 와 pop()을 사용하여, 앞의 값과 끝 값이 같은지 계속 비교하였다. \n",
    " \n",
    " **장점** \n",
    "  1. pop, pop(0)을 사용함으로써 새로운 변수(ex- result[::-1])을 생성할 필요가 없어 memory를 적게 사용하였다. \n",
    " \n",
    " \n",
    " **개선점** \n",
    "  1. list에서 pop(0)은 O(n)의 복잡도를 가지기 때문에, deque로 정의하면 보다 Runtime이 줄어들 것. \n",
    "  2. compile 후 진행하면 코드가 보다 길어짐. 기존 안 대로 그 외의 경우를 공백으로 변환. \n",
    "  "
   ]
  },
  {
   "cell_type": "markdown",
   "id": "b4bebf98",
   "metadata": {},
   "source": [
    "### 1번 풀이 개선안"
   ]
  },
  {
   "cell_type": "code",
   "execution_count": 67,
   "id": "f56f8f55",
   "metadata": {},
   "outputs": [],
   "source": [
    "# Runtime: 89 ms\n",
    "# Memory Usage: 15.6 MB\n",
    "\n",
    "import re \n",
    "from collections import deque\n",
    "\n",
    "class Solution:\n",
    "    def isPalindrome(self, s) :\n",
    "        #1 글자만 불러와 list로 만들기 \n",
    "        result = deque(re.sub('[^A-Za-z0-9]', '', s).lower())\n",
    "\n",
    "        #2 list로 불려온 각 글자별로 pop(0), pop()로 불러와 하나 하나 비교하기 \n",
    "        # & 홀수의 경우 중간 경우 고려하기 \n",
    "        while len(result) >1 : \n",
    "            if result.popleft() != result.pop() : return False\n",
    "\n",
    "        return True "
   ]
  },
  {
   "cell_type": "markdown",
   "id": "3e085e23",
   "metadata": {},
   "source": [
    "개선 후 평가 \n",
    " 1. Runtime이 확실히 줄어듬. 하지만 pop() 과정 자체가 추가적인 계산이 필요한 만큼 앞서 풀이보다 좋은 성과를 가져오진 못함. "
   ]
  },
  {
   "cell_type": "markdown",
   "id": "5e3fe490",
   "metadata": {},
   "source": [
    "### 2번 풀이 "
   ]
  },
  {
   "cell_type": "code",
   "execution_count": null,
   "id": "83c412bf",
   "metadata": {},
   "outputs": [],
   "source": [
    "# Runtime: 48 ms\n",
    "# Memory Usage: 20.1 MB\n",
    "\n",
    "class Solution:\n",
    "    def isPalindrome(self, s: str) :\n",
    "        n_list = []\n",
    "        for character in s : \n",
    "            if character.isalnum() is True : n_list.append(character.lower())        \n",
    "        return bool(n_list == n_list[::-1])\n",
    "        ### 1번 풀이 "
   ]
  },
  {
   "cell_type": "markdown",
   "id": "4af0ce37",
   "metadata": {},
   "source": [
    "**풀이과정**\n",
    " 1) 빈 list(n_list)을 만든 후, character가 숫자나, 알파벳을 경우에만 소문자로 변경하여 list에 추가 \n",
    " 2) list 값을 역순과 비교하여 True / False 확인 \n",
    " \n",
    " **장점** \n",
    "  1. 풀이과정이 단순하듯이 Runtime이 가장 빠르게 나옴. \n",
    "  "
   ]
  },
  {
   "cell_type": "markdown",
   "id": "f9d05088",
   "metadata": {},
   "source": [
    "## 최종 풀이 개선안"
   ]
  },
  {
   "cell_type": "code",
   "execution_count": null,
   "id": "fc6f1514",
   "metadata": {},
   "outputs": [],
   "source": [
    "# 최종 수정본\n",
    "\n",
    "class Solution: \n",
    "    def isPalindrome(self, s) : \n",
    "        string = list(re.sub('[^A-Za-z0-9]', '', s).lower())\n",
    "        if string == string[::-1] : \n",
    "            return True"
   ]
  },
  {
   "cell_type": "markdown",
   "id": "4879fba0",
   "metadata": {},
   "source": [
    "**초안 풀이**\n",
    "Runtime: 96 ms, faster than 13.43% of Python3 online submissions for Valid Palindrome. Memory Usage: 16.2 MB, less than 14.60% of Python3 online submissions for Valid Palindrome\n",
    "\n",
    "**1번 풀이**\n",
    " Runtime: 292 ms\n",
    " Memory Usage: 15.3 MB\n",
    "\n",
    "**1번 수정안**\n",
    " Runtime: 89 ms\n",
    " Memory Usage: 15.6 MB\n",
    "\n",
    "\n",
    "**2번 풀이**\n",
    " Runtime: 48 ms\n",
    " Memory Usage: 20.1 MB\n",
    "\n",
    "**초안 수정본**\n",
    " Runtime: 51 ms, faster than 68.89% of Python3 online submissions for Valid   Palindrome. Memory Usage: 16.1 MB, less than 14.79% of Python3 online submissions for Valid Palindrome.\n",
    "\n",
    "\n",
    "\n",
    "## 풀이 과정이 단순할 수록, 기본 기능을 사용할수록 성능이 좋게 나온다. "
   ]
  }
 ],
 "metadata": {
  "kernelspec": {
   "display_name": "Python 3",
   "language": "python",
   "name": "python3"
  },
  "language_info": {
   "codemirror_mode": {
    "name": "ipython",
    "version": 3
   },
   "file_extension": ".py",
   "mimetype": "text/x-python",
   "name": "python",
   "nbconvert_exporter": "python",
   "pygments_lexer": "ipython3",
   "version": "3.8.8"
  }
 },
 "nbformat": 4,
 "nbformat_minor": 5
}
