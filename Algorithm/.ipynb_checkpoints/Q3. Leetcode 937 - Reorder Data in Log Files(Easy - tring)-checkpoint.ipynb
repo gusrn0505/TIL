{
 "cells": [
  {
   "cell_type": "markdown",
   "id": "44f1e5ee",
   "metadata": {},
   "source": [
    "### Q3. Leetcode 937 - Reorder Data in Log Files \n",
    "\n",
    "You are given an array of logs. Each log is a space-delimited string of words, where the first word is the identifier.\n",
    "\n",
    "There are two types of logs:\n",
    "\n",
    "Letter-logs: All words (except the identifier) consist of lowercase English letters.\n",
    "Digit-logs: All words (except the identifier) consist of digits.\n",
    "Reorder these logs so that:\n",
    "\n",
    "The letter-logs come before all digit-logs.\n",
    "The letter-logs are sorted lexicographically by their contents. If their contents are the same, then sort them lexicographically by their identifiers.\n",
    "The digit-logs maintain their relative ordering.\n",
    "Return the final order of the logs."
   ]
  },
  {
   "cell_type": "markdown",
   "id": "3f51282f",
   "metadata": {},
   "source": [
    "Example 1:\n",
    "\n",
    "Input: logs = [\"dig1 8 1 5 1\",\"let1 art can\",\"dig2 3 6\",\"let2 own kit dig\",\"let3 art zero\"]\n",
    "\n",
    "Output: [\"let1 art can\",\"let3 art zero\",\"let2 own kit dig\",\"dig1 8 1 5 1\",\"dig2 3 6\"]\n",
    "\n",
    "Explanation:\n",
    "\n",
    "The letter-log contents are all different, so their ordering is \"art can\", \"art zero\", \"own kit dig\".\n",
    "The digit-logs have a relative order of \"dig1 8 1 5 1\", \"dig2 3 6\"."
   ]
  },
  {
   "cell_type": "markdown",
   "id": "22d066bf",
   "metadata": {},
   "source": [
    "Example 2:\n",
    "\n",
    "Input: logs = [\"a1 9 2 3 1\",\"g1 act car\",\"zo4 4 7\",\"ab1 off key dog\",\"a8 act zoo\"]\n",
    "\n",
    "Output: [\"g1 act car\",\"a8 act zoo\",\"ab1 off key dog\",\"a1 9 2 3 1\",\"zo4 4 7\"]"
   ]
  },
  {
   "cell_type": "code",
   "execution_count": null,
   "id": "8d8173df",
   "metadata": {},
   "outputs": [],
   "source": [
    "['let1 art can', 'let2 own kit dig', 'let3 art zero', 'dig1 8 1 5 1', 'dig2 3 6']\n",
    "['g1 act car', 'ab1 off key dog', 'a8 act zoo', 'a1 9 2 3 1', 'zo4 4 7']\n",
    "['let3 art can', 'let2 own kit dig', 'let4 art can', 'dig1 8 1 5 1', 'dig2 3 6']"
   ]
  },
  {
   "cell_type": "code",
   "execution_count": null,
   "id": "bb0d5e6b",
   "metadata": {},
   "outputs": [],
   "source": [
    "# 초기값 \n",
    "\n",
    "class Solution:\n",
    "    def reorderLogFiles(self, logs: List[str]) -> List[str]:"
   ]
  },
  {
   "cell_type": "code",
   "execution_count": 18,
   "id": "c1b35a9d",
   "metadata": {},
   "outputs": [],
   "source": [
    "E1 = [\"dig1 8 1 5 1\",\"let1 art can\",\"dig2 3 6\",\"let2 own kit dig\",\"let3 art zero\"]\n",
    "E2 = [\"a1 9 2 3 1\",\"g1 act car\",\"zo4 4 7\",\"ab1 off key dog\",\"a8 act zoo\"]"
   ]
  },
  {
   "cell_type": "markdown",
   "id": "80aadab5",
   "metadata": {},
   "source": [
    "**조건** \n",
    "1. 로그의 가장 앞 부분은 식별자이다. \n",
    "2. 문자로 구성된 로그가 숫자 로그보다 앞에 온다 \n",
    "3. 문자열은 사전 순서대로 정렬한다. \n",
    "4. 식별자는 순서에 영향을 끼치지 않지만, 문자가 동일할 경우 식별자 순으로 한다.\n",
    "5. 숫자 로그는 입력 순서대로 한다. "
   ]
  },
  {
   "cell_type": "markdown",
   "id": "6428e061",
   "metadata": {},
   "source": [
    "**문제풀이**\n",
    "1. 각 입력값에서 식별자와 로그(식별자 뒷 부분)를 구분해야 한다.\n",
    "  > list 내의 문자열을 Split()을 통해 list로 만든 후 slicing 을 통해서 구별할 것\n",
    "  추가로 log 부분은 join() 메서드를 통해서 다시 묶을 것. \n",
    "2. 로그가 문자인지 숫자인지 구분해야 한다. \n",
    " - 문자 로그와 숫자 로그를 분리, 구분하여 문자 로그를 앞에 둬야 한다. \n",
    " > 문자 로그, 숫자 로그를 각자 모으는 list를 만들어 보관하고 나중에 합친다. \n",
    " \n",
    "3. 문자열을 사전 순서대로 정렬한다. \n",
    " - sort() 함수 사용 \n",
    "  \n",
    "4. 로그가 동일한 경우 식별자의 크기를 비교하여 순서를 정한다.  "
   ]
  },
  {
   "cell_type": "code",
   "execution_count": 14,
   "id": "d8e8c5c6",
   "metadata": {},
   "outputs": [
    {
     "name": "stdout",
     "output_type": "stream",
     "text": [
      "char:\n",
      "dig1 8 1 5 1\n",
      "Identifier:\n",
      "dig1\n",
      "log:\n",
      "8 1 5 1\n",
      "char:\n",
      "let1 art can\n",
      "Identifier:\n",
      "let1\n",
      "log:\n",
      "art can\n",
      "char:\n",
      "dig2 3 6\n",
      "Identifier:\n",
      "dig2\n",
      "log:\n",
      "3 6\n",
      "char:\n",
      "let2 own kit dig\n",
      "Identifier:\n",
      "let2\n",
      "log:\n",
      "own kit dig\n",
      "char:\n",
      "let3 art zero\n",
      "Identifier:\n",
      "let3\n",
      "log:\n",
      "art zero\n"
     ]
    }
   ],
   "source": [
    "# 식별자와 로그 구분 \n",
    "\n",
    "for char in E1 : \n",
    "    item = char.split()\n",
    "    print(\"char:\", char, \"Identifier:\", item[0], \"log:\", \" \".join(item[1:]), sep='\\n')\n"
   ]
  },
  {
   "cell_type": "code",
   "execution_count": 41,
   "id": "3f8b0b9a",
   "metadata": {},
   "outputs": [
    {
     "name": "stdout",
     "output_type": "stream",
     "text": [
      "False\n",
      "num: ['8 1 5 1', '3 6']\n",
      "Str: ['art can', 'own kit dig', 'art zero']\n"
     ]
    }
   ],
   "source": [
    "# 로그가 숫자인지 문자인지 구분하기 \n",
    "# 뛰어쓰기를 포함한 숫자 문자열은 isnumeric()으로는 구분되지 않는다. \n",
    "\n",
    "print(\"9 2 3\".isnumeric())\n",
    "\n",
    "# 따라서 로그들의 값이 문자와 숫자가 서로 섞여 있는 적은 없기에, 로그 일부가 숫자인지 아닌지만 점검한다\n",
    "\n",
    "num_log = []\n",
    "str_log = []\n",
    "\n",
    "for char in E1 : \n",
    "    item = char.split()\n",
    "    if item[1].isnumeric() : \n",
    "        num_log.append(\" \".join(item[1:]))\n",
    "    else : str_log.append(\" \".join(item[1:])) \n",
    "\n",
    "\n",
    "print(\"num:\", num_log)\n",
    "print(\"Str:\", str_log)\n",
    "\n",
    "# 원하는 형태로 구분이 되었음을 확인할 수 있음. "
   ]
  },
  {
   "cell_type": "markdown",
   "id": "ccce9a94",
   "metadata": {},
   "source": [
    "#### 로그 값이 같을 때 식별자 크기 비교하기 \n",
    "\n",
    "로그 값이 같은 것이 있는지는 어떻게 확인하고 구분할 것인가? \n",
    " 1. 마지막에 중복값이 있는지 확인한 다음, 있을 경우 sort 진행.  \n",
    " - set을 사용해서 중복값이 있는지 없는지 확인가능. \n",
    " - 중복되는 값들의 index 만을 추출하여 각 과정에 대해서 sort 진행할 것. \n",
    "  * sort 기능이 적용이 안된다면, 직접 sort 진행하는 알고리즘 구상할 것 \n",
    " \n",
    " \n",
    " 2. list에 append 할때마다 비교하여 값을 뽑아내도 됨. \n",
    "- 각 값마다 for 절을 돌려도 됨.(계산 양이 많아져 권장 x ) \n",
    "- in list 를 사용하여 유무를 식별해도 된다. 모든 경우에 적용해야 해서 계산량이 많아진다. \n",
    "\n",
    " 3. 2번의 중재안으로, 중복되는 값들이 있다면 각 값들의 index만 따로 추출하는 것도 괜찮을 듯. 여러 중복값이 있다고 가정할 때 graph 형태로 저장하는 것도 좋겠음 .\n",
    " \n",
    " \n",
    "**4. sorted 와 람다식을 통해 다중 조건 정렬을 사용한다.** \n"
   ]
  },
  {
   "cell_type": "markdown",
   "id": "72098efe",
   "metadata": {},
   "source": [
    "## 4번 풀이로 시도. \n",
    "\n",
    "\n",
    "sorted() 메서드와 람다를 사용하면 리스트 아이템의 각 요소 순서대로 정렬 가능 "
   ]
  },
  {
   "cell_type": "code",
   "execution_count": 48,
   "id": "b74adc55",
   "metadata": {},
   "outputs": [
    {
     "name": "stdout",
     "output_type": "stream",
     "text": [
      "[(1, 0), (4, 0), (2, 1), (3, 2), (4, 2), (4, 3)]\n",
      "[(1, 0), (4, 0), (2, 1), (3, 2), (4, 2), (4, 3)]\n"
     ]
    }
   ],
   "source": [
    "# 예시. 두번쨰 인자를 기준으로 sorting 하고, 그 다음 첫번째 인자를 정렬하기 \n",
    "\n",
    "a = [(4,0), (4,3), (4,2), (3,2), (2,1), (1,0)]\n",
    "\n",
    "a.sort(key = lambda x : (x[1], x[0]) )\n",
    "\n",
    "print(a)"
   ]
  },
  {
   "cell_type": "markdown",
   "id": "1ba43fa1",
   "metadata": {},
   "source": [
    "위의 sort 와 lambda 의 예시처럼 정렬하기 위해서 \n",
    "\n",
    "1. 문자 로그들을 2개 인자를 가진 list 형태로 재조합\n",
    "2. 로그를 먼저 사전식으로 정렬 후, 식별자를 정렬하는 순으로 구현할 것 "
   ]
  },
  {
   "cell_type": "code",
   "execution_count": 49,
   "id": "b1c465f9",
   "metadata": {},
   "outputs": [
    {
     "name": "stdout",
     "output_type": "stream",
     "text": [
      "num: [['dig1', '8 1 5 1'], ['dig2', '3 6']]\n",
      "Str: [['let1', 'art can'], ['let2', 'own kit dig'], ['let3', 'art zero']]\n",
      "after sort: [['let1', 'art can'], ['let3', 'art zero'], ['let2', 'own kit dig']]\n"
     ]
    }
   ],
   "source": [
    "num_log = []\n",
    "str_log = []\n",
    "\n",
    "for char in E1 : \n",
    "    item = char.split()\n",
    "    if item[1].isnumeric() : \n",
    "        num_log.append([item[0], \" \".join(item[1:])])\n",
    "    else : str_log.append([item[0], \" \".join(item[1:])]) \n",
    "\n",
    "\n",
    "print(\"num:\", num_log)\n",
    "print(\"Str:\", str_log)\n",
    "\n",
    "\n",
    "str_log.sort(key = lambda x : (x[1], x[0]))\n",
    "print(\"after sort:\", str_log)"
   ]
  },
  {
   "cell_type": "code",
   "execution_count": 51,
   "id": "aba2392c",
   "metadata": {},
   "outputs": [],
   "source": [
    "# 최종 종합 \n",
    "\n",
    "class Solution:\n",
    "    def reorderLogFiles(self, logs) :\n",
    "        num_log = []\n",
    "        str_log = []\n",
    "        for char in logs : \n",
    "            item = char.split()\n",
    "            if item[1].isnumeric() : \n",
    "                num_log.append(\" \".join(item))\n",
    "            else : str_log.append([item[0], \" \".join(item[1:])]) \n",
    "        \n",
    "        str_log.sort(key = lambda x : (x[1], x[0]))\n",
    "        \n",
    "        # 문자 로그 식별자와 로그 재결합 \n",
    "        for i in range(len(str_log)) : \n",
    "            str_log[i] = \" \".join(str_log[i])\n",
    "        \n",
    "        # 문자 로그, 숫자 로그 순으로 순서 맞추기 \n",
    "        return str_log + num_log\n"
   ]
  },
  {
   "cell_type": "code",
   "execution_count": 52,
   "id": "c2e8c5b8",
   "metadata": {},
   "outputs": [],
   "source": [
    "test = Solution()"
   ]
  },
  {
   "cell_type": "code",
   "execution_count": 55,
   "id": "1d6759f8",
   "metadata": {},
   "outputs": [
    {
     "data": {
      "text/plain": [
       "['let1 art can',\n",
       " 'let3 art zero',\n",
       " 'let2 own kit dig',\n",
       " 'dig1 8 1 5 1',\n",
       " 'dig2 3 6']"
      ]
     },
     "execution_count": 55,
     "metadata": {},
     "output_type": "execute_result"
    }
   ],
   "source": [
    "test.reorderLogFiles(E1)"
   ]
  },
  {
   "cell_type": "code",
   "execution_count": 56,
   "id": "0d2bcdde",
   "metadata": {},
   "outputs": [
    {
     "data": {
      "text/plain": [
       "['g1 act car', 'a8 act zoo', 'ab1 off key dog', 'a1 9 2 3 1', 'zo4 4 7']"
      ]
     },
     "execution_count": 56,
     "metadata": {},
     "output_type": "execute_result"
    }
   ],
   "source": [
    "test.reorderLogFiles(E2)"
   ]
  },
  {
   "cell_type": "code",
   "execution_count": 57,
   "id": "7d348996",
   "metadata": {},
   "outputs": [
    {
     "data": {
      "text/plain": [
       "['let3 art can',\n",
       " 'let4 art can',\n",
       " 'let2 own kit dig',\n",
       " 'dig1 8 1 5 1',\n",
       " 'dig2 3 6']"
      ]
     },
     "execution_count": 57,
     "metadata": {},
     "output_type": "execute_result"
    }
   ],
   "source": [
    "test.reorderLogFiles(E3)"
   ]
  },
  {
   "cell_type": "markdown",
   "id": "a3a6af43",
   "metadata": {},
   "source": [
    "## 결과\n",
    "\n",
    "**Success**\n",
    "Details \n",
    "Runtime: **82 ms, faster than 5.05%** of Python3 online submissions for Reorder Data in Log Files.\n",
    "Memory Usage: **14 MB, less than 90.07%** of Python3 online submissions for Reorder Data in Log Files."
   ]
  },
  {
   "cell_type": "markdown",
   "id": "e8b74fba",
   "metadata": {},
   "source": [
    "### 예전 풀이 1 "
   ]
  },
  {
   "cell_type": "code",
   "execution_count": 59,
   "id": "fad604a6",
   "metadata": {},
   "outputs": [],
   "source": [
    "class Solution:\n",
    "    def reorderLogFiles(self, logs):\n",
    "        \n",
    "        l_list = [] \n",
    "        n_list = [] \n",
    "        #1 숫자와 문자 구분하기 \n",
    "        for log in logs : \n",
    "            if log.split()[-1].isalpha() : \n",
    "                l_list.append(log)\n",
    "\n",
    "            else : \n",
    "                n_list.append(log)\n",
    "\n",
    "        #1 split으로 식별자와 그 뒤 내용 구분하기 \n",
    "\n",
    "        l_list.sort(key = lambda x : (x.split()[1:], x.split()[0]))\n",
    "\n",
    "\n",
    "        return l_list + n_list\n",
    "\n",
    "        "
   ]
  },
  {
   "cell_type": "markdown",
   "id": "b88cfb19",
   "metadata": {},
   "source": [
    "## 결과 \n",
    "\n",
    "Runtime : 36ms \n",
    "Memory : 14.1MB"
   ]
  },
  {
   "cell_type": "markdown",
   "id": "4c1a4c39",
   "metadata": {},
   "source": [
    "### 개선점 \n",
    "\n",
    "- 예전 풀이 1번에 나와있듯이 sort를 할 때, 식별자와 로그를 구분하는 과정을 한번에 처리할 수 있음. \n",
    "\n",
    "- 첫 풀이에서는 join() 메서드 등 추가 과정이 들어갔기 때문에 Runtime이 2배 이상 소요된 것으로 판단됨."
   ]
  },
  {
   "cell_type": "markdown",
   "id": "34ee59c8",
   "metadata": {},
   "source": [
    "## 아래 풀이는 3번 풀이로 문제 풀이를 시도한 것. \n",
    "### 단, 문자열을 사전 순서대로 정렬하라는 조건을 놓쳐 맞는 답은 아님.\n",
    "\n",
    "\n",
    "### 느낀 점. 최대한 함수를 사용하자. 각 과정을 하나 하나 구현하는 것은 너무 비효율적이다. "
   ]
  },
  {
   "cell_type": "code",
   "execution_count": 8,
   "id": "4d08f555",
   "metadata": {},
   "outputs": [
    {
     "name": "stdout",
     "output_type": "stream",
     "text": [
      "defaultdict(<class 'list'>, {})\n",
      "defaultdict(<class 'list'>, {'art can': [0, 2]})\n"
     ]
    }
   ],
   "source": [
    "# 3번 방법 적용. 식별자와 로그 분리 및 각 인덱스 추출 진행. \n",
    "\n",
    "from collections import defaultdict\n",
    "\n",
    "num_log = []\n",
    "num_iden = [] \n",
    "str_log = []\n",
    "str_iden = []\n",
    "\n",
    "num_graph = defaultdict(list)\n",
    "str_graph = defaultdict(list)\n",
    "\n",
    "for char in E3 : \n",
    "    item = char.split()\n",
    "    log = \" \".join(item[1:])\n",
    "    if item[1].isnumeric() : \n",
    "        num_iden.append(item[0])\n",
    "        if log in num_log : \n",
    "            num_graph[log].append(len(num_log))\n",
    "        num_log.append(log)\n",
    "\n",
    "    else : \n",
    "        str_iden.append(item[0])\n",
    "        if log in str_log : \n",
    "            str_graph[log].append(len(num_log))        \n",
    "        str_log.append(log)\n",
    "\n",
    "# index 추출할 때 맨 처음의 중복 값의 인덱스가 미포함되었기 때문에 추가 작업 실시 \n",
    "for key in  str_graph.keys() : \n",
    "    str_graph[key] = [str_log.index(key)] + str_graph[key] \n",
    "for key in  num_graph.keys() : \n",
    "    num_graph[key] = [num_log.index(key)] + num_graph[key]\n",
    "\n",
    "        \n",
    "print(num_graph)\n",
    "print(str_graph)\n",
    "        \n",
    "        "
   ]
  },
  {
   "cell_type": "code",
   "execution_count": 1,
   "id": "1b4a722c",
   "metadata": {},
   "outputs": [],
   "source": [
    "# 로그 값이 같으면서, 식별자는 다른 예시 제작. \n",
    "\n",
    "E3 = [\"dig1 8 1 5 1\",\"let4 art can\",\"dig2 3 6\",\"let2 own kit dig\",\"let3 art can\"]"
   ]
  },
  {
   "cell_type": "code",
   "execution_count": 10,
   "id": "f7ebddd2",
   "metadata": {},
   "outputs": [],
   "source": [
    "# 인덱스 추출한 값을 기반으로 식별자의 sort 필요. \n",
    "# 이때 어차피 로그의 값은 같기 때문에 식별자만 sort 하여 위치에 맞게 정열시켜주면 됨. \n",
    "\n",
    "dup_str_iden = [] \n",
    "dup_num_iden = [] \n",
    "\n",
    "for key in  str_graph.keys() : \n",
    "    str_graph[key] = [str_log.index(key)] + str_graph[key] \n",
    "    for index in str_graph[key] : \n",
    "        dup_str_iden.append(str_iden[index])\n",
    "    dup_str_iden.sort() \n",
    "    i = 0\n",
    "    for index in str_graph[key] : \n",
    "        str_iden[index] = dup_str_iden[i]\n",
    "        i += 1 \n",
    "    \n",
    "for key in  num_graph.keys() : \n",
    "    num_graph[key] = [num_log.index(key)] + num_graph[key]\n",
    "    for index in num_graph[key] : \n",
    "        dup_num_iden.append(num_iden[index])\n",
    "    dup_num_iden.sort() \n",
    "    i = 0\n",
    "    for index in num_graph[key] : \n",
    "        num_iden[index] = dup_num_iden[i]\n",
    "        i += 1 \n",
    "\n"
   ]
  },
  {
   "cell_type": "code",
   "execution_count": 13,
   "id": "9d1d3e80",
   "metadata": {},
   "outputs": [
    {
     "name": "stdout",
     "output_type": "stream",
     "text": [
      "['art can', 'art zero']\n"
     ]
    }
   ],
   "source": [
    "a = [\"art zero\", \"art can\"]\n",
    "a.sort()\n",
    "print(a)"
   ]
  },
  {
   "cell_type": "code",
   "execution_count": 35,
   "id": "1097072f",
   "metadata": {},
   "outputs": [],
   "source": [
    "## 최종 버전. 마지막에 식별자와 로그를 전부 합치기 \n",
    "\n",
    "from collections import defaultdict\n",
    "class Solution:\n",
    "    def reorderLogFiles(self, logs) :\n",
    "        num_log = []\n",
    "        num_iden = []\n",
    "        dup_str_iden = [] \n",
    "\n",
    "        str_log = []\n",
    "        str_iden = []\n",
    "        dup_num_iden = [] \n",
    "\n",
    "        num_graph = defaultdict(list)\n",
    "        str_graph = defaultdict(list)\n",
    "\n",
    "        # 숫자 로그와 문자 로그 분리 \n",
    "        for char in logs : \n",
    "            item = char.split()\n",
    "            log = \" \".join(item[1:])\n",
    "            if item[1].isnumeric() : \n",
    "                num_iden.append(item[0])\n",
    "            \n",
    "            # 중복 값이 있을 경우 graph에 인덱스를 따로 추출하기 \n",
    "                if log in num_log : \n",
    "                    num_graph[log].append(len(num_log))\n",
    "                num_log.append(log)\n",
    "\n",
    "            else : \n",
    "                str_iden.append(item[0])\n",
    "                if log in str_log : \n",
    "                    str_graph[log].append(len(num_log))        \n",
    "                str_log.append(log)\n",
    "\n",
    "            \n",
    "        # 로그가 중복된 인덱스를 기반으로 식별자 위치 수정하기\n",
    "        for key in  str_graph.keys() : \n",
    "            # index 추출할 때 맨 처음의 중복 값의 인덱스가 미포함되었기 때문에 추가 작업 실시 \n",
    "            str_graph[key] = [str_log.index(key)] + str_graph[key] \n",
    "            for index in str_graph[key] : \n",
    "                dup_str_iden.append(str_iden[index])\n",
    "            dup_str_iden.sort() \n",
    "            i = 0\n",
    "            \n",
    "            # sorting 한 것들을 기존 식별자들 위치에 돌려놓기. \n",
    "            for index in str_graph[key] : \n",
    "                str_iden[index] = dup_str_iden[i]\n",
    "                i += 1 \n",
    "    \n",
    "        for key in  num_graph.keys() : \n",
    "            num_graph[key] = [num_log.index(key)] + num_graph[key]\n",
    "            for index in num_graph[key] : \n",
    "                dup_num_iden.append(num_iden[index])\n",
    "            dup_num_iden.sort() \n",
    "            i = 0\n",
    "            for index in num_graph[key] : \n",
    "                num_iden[index] = dup_num_iden[i]\n",
    "                i += 1 \n",
    "\n",
    "\n",
    "        #분리된 식별자와 로그 값 합치기 \n",
    "        for i in range(len(num_iden)) : \n",
    "            num_iden[i] = num_iden[i] + \" \" + num_log[i] \n",
    "        \n",
    "        for i in range(len(str_iden)) : \n",
    "            str_iden[i] = str_iden[i] + \" \" + str_log[i] \n",
    "        \n",
    "        # 문자 로그, 숫자 로그 순으로 반환 \n",
    "        \n",
    "        return str_iden + num_iden\n",
    "\n",
    "        "
   ]
  },
  {
   "cell_type": "code",
   "execution_count": 36,
   "id": "518ff49a",
   "metadata": {},
   "outputs": [],
   "source": [
    "test = Solution()"
   ]
  },
  {
   "cell_type": "code",
   "execution_count": 39,
   "id": "c2678f91",
   "metadata": {},
   "outputs": [
    {
     "name": "stdout",
     "output_type": "stream",
     "text": [
      "['let1 art can', 'let2 own kit dig', 'let3 art zero', 'dig1 8 1 5 1', 'dig2 3 6']\n",
      "['g1 act car', 'ab1 off key dog', 'a8 act zoo', 'a1 9 2 3 1', 'zo4 4 7']\n",
      "['let3 art can', 'let2 own kit dig', 'let4 art can', 'dig1 8 1 5 1', 'dig2 3 6']\n"
     ]
    }
   ],
   "source": [
    "print(test.reorderLogFiles(E1))\n",
    "print(test.reorderLogFiles(E2))\n",
    "print(test.reorderLogFiles(E3))\n"
   ]
  },
  {
   "cell_type": "code",
   "execution_count": null,
   "id": "a86f8948",
   "metadata": {},
   "outputs": [],
   "source": [
    "# 로그 값이 같으면서, 식별자는 다른 예시 제작. \n",
    "\n",
    "E3 = [\"dig1 8 1 5 1\",\"let4 art can\",\"dig2 3 6\",\"let2 own kit dig\",\"let3 art can\"]"
   ]
  }
 ],
 "metadata": {
  "kernelspec": {
   "display_name": "Python 3",
   "language": "python",
   "name": "python3"
  },
  "language_info": {
   "codemirror_mode": {
    "name": "ipython",
    "version": 3
   },
   "file_extension": ".py",
   "mimetype": "text/x-python",
   "name": "python",
   "nbconvert_exporter": "python",
   "pygments_lexer": "ipython3",
   "version": "3.8.8"
  }
 },
 "nbformat": 4,
 "nbformat_minor": 5
}
