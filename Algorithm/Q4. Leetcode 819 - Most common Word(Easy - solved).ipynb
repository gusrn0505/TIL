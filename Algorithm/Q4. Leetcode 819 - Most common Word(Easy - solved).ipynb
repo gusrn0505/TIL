{
 "cells": [
  {
   "cell_type": "markdown",
   "id": "bb979ad0",
   "metadata": {},
   "source": [
    "### Q4. Leetcode 819 - Most common Word\n",
    "\n",
    "Given a string paragraph and a string array of the banned words banned, return the most frequent word that is not banned. It is guaranteed there is at least one word that is not banned, and that the answer is unique.\n",
    "\n",
    "The words in paragraph are case-insensitive and the answer should be returned in lowercase."
   ]
  },
  {
   "cell_type": "markdown",
   "id": "3a69d3d0",
   "metadata": {},
   "source": [
    "Example 1:\n",
    "\n",
    "Input: paragraph = \"Bob hit a ball, the hit BALL flew far after it was hit.\", banned = [\"hit\"]\n",
    "Output: \"ball\"\n",
    "Explanation: \n",
    "\"hit\" occurs 3 times, but it is a banned word.\n",
    "\"ball\" occurs twice (and no other word does), so it is the most frequent non-banned word in the paragraph. \n",
    "Note that words in the paragraph are not case sensitive,\n",
    "that punctuation is ignored (even if adjacent to words, such as \"ball,\"), \n",
    "and that \"hit\" isn't the answer even though it occurs more because it is banned."
   ]
  },
  {
   "cell_type": "markdown",
   "id": "d9e2275b",
   "metadata": {},
   "source": [
    "Example 2:\n",
    "\n",
    "Input: paragraph = \"a.\", banned = []\n",
    "Output: \"a\""
   ]
  },
  {
   "cell_type": "markdown",
   "id": "5235f420",
   "metadata": {},
   "source": [
    "조건 \n",
    "\n",
    "1. 가장 흔하게 등장하는 단어를 출력하라 \n",
    "2. 대소문자 구분을 하지 않는다.\n",
    "3. 구두점 또한 무시한다. \n",
    "4. 금지 단어를 제외한 나머지 단어 중 가장 빈도가 높은 단어를 반환한다. "
   ]
  },
  {
   "cell_type": "markdown",
   "id": "f881ba7f",
   "metadata": {},
   "source": [
    "**풀이** \n",
    "\n",
    "1. 구두점 / 대소문자에 대해 전처리 진행 \n",
    "- 정규 표현식 이용. \n",
    "\n",
    "2. defaultdict 를 사용하여 graph 형태로 각 단어별 빈도 수 측정하기\n",
    "\n",
    "3. 금지 단어에 해댱하는 graph key를 가진 값 제거하기 \n",
    "\n",
    "4. graph \n"
   ]
  },
  {
   "cell_type": "code",
   "execution_count": null,
   "id": "845b2e74",
   "metadata": {},
   "outputs": [],
   "source": [
    "# 초기 값 \n",
    "\n",
    "class Solution:\n",
    "    def mostCommonWord(self, paragraph: str, banned: List[str]) -> str:"
   ]
  },
  {
   "cell_type": "code",
   "execution_count": 2,
   "id": "a31f0f97",
   "metadata": {},
   "outputs": [],
   "source": [
    "E1 =  \"Bob hit a ball, the hit BALL flew far after it was hit.\"\n",
    "E1_banned = [\"hit\"]\n",
    "\n",
    "E2 = \"a.\"\n",
    "E2_banned = []"
   ]
  },
  {
   "cell_type": "code",
   "execution_count": 3,
   "id": "3f999dce",
   "metadata": {},
   "outputs": [],
   "source": [
    "# 정규 표현식 라이브러리 설치 \n",
    "import re "
   ]
  },
  {
   "cell_type": "code",
   "execution_count": 67,
   "id": "e59e9146",
   "metadata": {},
   "outputs": [
    {
     "name": "stdout",
     "output_type": "stream",
     "text": [
      "Bob hit a ball  the hit BALL flew far after it was hit \n",
      "['Bob', 'hit', 'a', 'ball', '', 'the', 'hit', 'BALL', 'flew', 'far', 'after', 'it', 'was', 'hit', '']\n"
     ]
    }
   ],
   "source": [
    "# 구두점 제거 및 각 단어별 구분\n",
    "preprocess = re.sub('[^a-zA-Z0-9]', ' ', E1)\n",
    "print(preprocess)\n",
    "\n",
    "preprocess = preprocess.split(' ')\n",
    "print(preprocess)"
   ]
  },
  {
   "cell_type": "code",
   "execution_count": 70,
   "id": "bf23d6f0",
   "metadata": {},
   "outputs": [
    {
     "name": "stdout",
     "output_type": "stream",
     "text": [
      "defaultdict(<class 'int'>, {'bob': 1, 'hit': 3, 'a': 1, 'ball': 2, 'the': 1, 'flew': 1, 'far': 1, 'after': 1, 'it': 1, 'was': 1})\n"
     ]
    }
   ],
   "source": [
    "# defaultdict 을 통해서 각 단어별 빈도수 확인 \n",
    "from collections import defaultdict \n",
    "\n",
    "graph = defaultdict(int)\n",
    "\n",
    "for word in preprocess : \n",
    "    graph[word.lower()] += 1 \n",
    "\n",
    "# graph 에서 key 값이 ' ' 인 경우 제거 필요. \n",
    "if '' in graph : \n",
    "    graph.pop('')\n",
    "\n",
    "print(graph)"
   ]
  },
  {
   "cell_type": "code",
   "execution_count": 66,
   "id": "79475f39",
   "metadata": {},
   "outputs": [
    {
     "name": "stdout",
     "output_type": "stream",
     "text": [
      "defaultdict(<class 'int'>, {'bob': 1, 'a': 1, 'ball': 2, '': 2, 'the': 1, 'flew': 1, 'far': 1, 'after': 1, 'it': 1, 'was': 1})\n"
     ]
    }
   ],
   "source": [
    "# banned에 해당하는 key 값 제거하기 \n",
    "\n",
    "for ban in E1_banned : \n",
    "    graph.pop(ban)\n",
    "\n",
    "print(graph)"
   ]
  },
  {
   "cell_type": "code",
   "execution_count": 55,
   "id": "7ec28606",
   "metadata": {},
   "outputs": [
    {
     "name": "stdout",
     "output_type": "stream",
     "text": [
      "ball\n"
     ]
    }
   ],
   "source": [
    "# graph 중에서 가장 빈도가 높은 단어 반환하기 \n",
    "\n",
    "a = sorted(graph.items(), key= lambda x : -x[1])\n",
    "max_fre = a[0][0]\n",
    "\n",
    "print(max_fre)"
   ]
  },
  {
   "cell_type": "code",
   "execution_count": 61,
   "id": "4ddcf432",
   "metadata": {},
   "outputs": [],
   "source": [
    "# 초안 \n",
    "# 예외 발생. graph.pop(ban) 부분에서 ban에 해당하는 key 값이 없다면 오류가 발생함. \n",
    "\n",
    "\n",
    "import re\n",
    "from collections import defaultdict\n",
    "\n",
    "class Solution:\n",
    "    def mostCommonWord(self, paragraph, banned) :\n",
    "        preprocess = re.sub('[^a-zA-Z0-9\\s]', '', paragraph).split(' ')\n",
    "        graph = defaultdict(int)\n",
    "        for word in preprocess : \n",
    "            graph[word.lower()] += 1 \n",
    "        for ban in banned : \n",
    "            graph.pop(ban)\n",
    "        result = sorted(graph.items(), key = lambda x : -x[1])\n",
    "        return result[0][0]\n"
   ]
  },
  {
   "cell_type": "code",
   "execution_count": 77,
   "id": "6954f46c",
   "metadata": {},
   "outputs": [],
   "source": [
    "test = Solution()"
   ]
  },
  {
   "cell_type": "code",
   "execution_count": 60,
   "id": "9a3a606c",
   "metadata": {},
   "outputs": [
    {
     "data": {
      "text/plain": [
       "'hit'"
      ]
     },
     "execution_count": 60,
     "metadata": {},
     "output_type": "execute_result"
    }
   ],
   "source": [
    "test.mostCommonWord(E1, E1_banned)\n",
    "\n",
    "test.mostCommonWord(E2, E2_banned)\n"
   ]
  },
  {
   "cell_type": "code",
   "execution_count": 75,
   "id": "3f30fd63",
   "metadata": {},
   "outputs": [],
   "source": [
    "# 수정안 \n",
    "\n",
    "import re\n",
    "from collections import defaultdict\n",
    "\n",
    "class Solution:\n",
    "    def mostCommonWord(self, paragraph, banned) :\n",
    "        preprocess = re.sub('[^a-zA-Z0-9\\s]', ' ', paragraph).split(' ')\n",
    "        graph = defaultdict(int)\n",
    "        for word in preprocess : \n",
    "            graph[word.lower()] += 1 \n",
    "            if '' in graph : graph.pop('')\n",
    "        for ban in banned : \n",
    "            if ban in graph.keys() : graph.pop(ban)\n",
    "        result = sorted(graph.items(), key = lambda x : -x[1])\n",
    "        return result[0][0]\n",
    "\n",
    "\n"
   ]
  },
  {
   "cell_type": "markdown",
   "id": "d5d94811",
   "metadata": {},
   "source": [
    "#### 결과 \n",
    "\n",
    "**Success**\n",
    "Details \n",
    "Runtime: **44 ms, faster than 56.84%** of Python3 online submissions for Most Common Word.\n",
    "Memory Usage: **14 MB, less than 87.39%** of Python3 online submissions for Most Common Word."
   ]
  },
  {
   "cell_type": "markdown",
   "id": "0cfa5926",
   "metadata": {},
   "source": [
    "## 이전 풀이 "
   ]
  },
  {
   "cell_type": "code",
   "execution_count": null,
   "id": "4c275e43",
   "metadata": {},
   "outputs": [],
   "source": [
    "import re\n",
    "\n",
    "class Solution:\n",
    "    def mostCommonWord(self, paragraph, banned) :\n",
    "        #1 전처리. 소문자로 통일 및 단어별로 다 짜르기 >  list 컨프리헨션 & 정규화 \n",
    "        words = [word for word in re.sub(r'[^\\w]', ' ', paragraph).lower().split() if word not in banned]\n",
    "\n",
    "        #2 전처리한 단어에 대해서 각 횟수를 셀 것 \n",
    "        dic = {} \n",
    "        for word in words : \n",
    "            try : \n",
    "                dic[word] += 1 \n",
    "            except : \n",
    "                dic[word] = 1 \n",
    "        res =sorted(dic.items(), key = lambda x : x[1], reverse=True)\n",
    "        return res[0][0]"
   ]
  },
  {
   "cell_type": "markdown",
   "id": "e47d1982",
   "metadata": {},
   "source": [
    "이전 풀이와 지금 풀이가 거의 동일 \n",
    "\n",
    "개선할 점으로 전처리 과정이 매우 효율적으로 이뤄져 있음. "
   ]
  },
  {
   "cell_type": "code",
   "execution_count": 80,
   "id": "61a19d36",
   "metadata": {
    "scrolled": true
   },
   "outputs": [],
   "source": [
    "# 최종 개선안 \n",
    "\n",
    "import re\n",
    "from collections import defaultdict\n",
    "\n",
    "class Solution:\n",
    "    def mostCommonWord(self, paragraph, banned) :\n",
    "        #1 전처리. 소문자로 통일 및 단어별로 다 짜르기 >  list 컨프리헨션 & 정규화 \n",
    "        words = [word for word in re.sub(r'[^\\w]', ' ', paragraph).lower().split() if word not in banned]\n",
    "\n",
    "        #2 전처리한 단어에 대해서 각 횟수를 셀 것 \n",
    "        graph = defaultdict(int) \n",
    "        for word in words : \n",
    "            graph[word] +=1 \n",
    "        res =sorted(graph.items(), key = lambda x : x[1], reverse=True)\n",
    "        return res[0][0]"
   ]
  },
  {
   "cell_type": "markdown",
   "id": "98e88344",
   "metadata": {},
   "source": [
    "#### 결과 \n",
    "\n",
    "**Success**\n",
    "Details \n",
    "Runtime: **52 ms, faster than 43.38%** of Python3 online submissions for Most Common Word.\n",
    "Memory Usage: **13.8 MB, less than 96.96%** of Python3 online submissions for Most Common Word.\n",
    "\n",
    "오히려 Runtime이 증가함. 과정은 대부분 동일하나, 새로운 라이브러리를 불러오고 적용하는 과정에서 runtime이 증가한 것으로 판단됨\n"
   ]
  },
  {
   "cell_type": "code",
   "execution_count": null,
   "id": "06b0e693",
   "metadata": {},
   "outputs": [],
   "source": []
  },
  {
   "cell_type": "code",
   "execution_count": null,
   "id": "c71db0c0",
   "metadata": {},
   "outputs": [],
   "source": []
  },
  {
   "cell_type": "code",
   "execution_count": null,
   "id": "8ebdd758",
   "metadata": {},
   "outputs": [],
   "source": []
  },
  {
   "cell_type": "code",
   "execution_count": null,
   "id": "d02e2f08",
   "metadata": {},
   "outputs": [],
   "source": []
  },
  {
   "cell_type": "code",
   "execution_count": null,
   "id": "aaddac8f",
   "metadata": {},
   "outputs": [],
   "source": []
  },
  {
   "cell_type": "code",
   "execution_count": null,
   "id": "a873a683",
   "metadata": {},
   "outputs": [],
   "source": []
  }
 ],
 "metadata": {
  "kernelspec": {
   "display_name": "Python 3",
   "language": "python",
   "name": "python3"
  },
  "language_info": {
   "codemirror_mode": {
    "name": "ipython",
    "version": 3
   },
   "file_extension": ".py",
   "mimetype": "text/x-python",
   "name": "python",
   "nbconvert_exporter": "python",
   "pygments_lexer": "ipython3",
   "version": "3.8.8"
  }
 },
 "nbformat": 4,
 "nbformat_minor": 5
}
