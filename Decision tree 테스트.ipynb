{
 "cells": [
  {
   "cell_type": "code",
   "execution_count": 1,
   "metadata": {},
   "outputs": [],
   "source": [
    "# To support both python 2 and python 3\n",
    "from __future__ import division, print_function, unicode_literals\n",
    "\n",
    "# Common imports\n",
    "import numpy as np\n",
    "import os\n",
    "\n",
    "# to make this notebook's output stable across runs\n",
    "np.random.seed(42)\n",
    "\n",
    "# To plot pretty figures\n",
    "%matplotlib inline\n",
    "import matplotlib as mpl\n",
    "import matplotlib.pyplot as plt\n",
    "mpl.rc('axes', labelsize=14)\n",
    "mpl.rc('xtick', labelsize=12)\n",
    "mpl.rc('ytick', labelsize=12)"
   ]
  },
  {
   "cell_type": "code",
   "execution_count": 2,
   "metadata": {},
   "outputs": [
    {
     "name": "stdout",
     "output_type": "stream",
     "text": [
      "Requirement already satisfied: graphviz in c:\\programdata\\anaconda3\\envs\\seegen\\lib\\site-packages (0.20.1)\n"
     ]
    }
   ],
   "source": [
    "!pip install graphviz"
   ]
  },
  {
   "cell_type": "code",
   "execution_count": 44,
   "metadata": {},
   "outputs": [],
   "source": [
    "import pandas as pd\n",
    "import csv \n",
    "real_X = np.empty((0,5))\n",
    "real_y = np.array([]) \n",
    "f = open(\"./test/test_stomach.csv\", 'r', encoding= \"UTF-8\")\n",
    "reader = csv.reader(f)\n",
    "for num, line in enumerate(reader) : \n",
    "    if num == 0 : continue\n",
    "    real_X= np.append(real_X, [line[:5]], axis=0)\n",
    "    real_y= np.append(real_y, line[5])\n",
    "f.close()\n"
   ]
  },
  {
   "cell_type": "code",
   "execution_count": 51,
   "metadata": {},
   "outputs": [
    {
     "data": {
      "text/html": [
       "<style>#sk-container-id-9 {color: black;background-color: white;}#sk-container-id-9 pre{padding: 0;}#sk-container-id-9 div.sk-toggleable {background-color: white;}#sk-container-id-9 label.sk-toggleable__label {cursor: pointer;display: block;width: 100%;margin-bottom: 0;padding: 0.3em;box-sizing: border-box;text-align: center;}#sk-container-id-9 label.sk-toggleable__label-arrow:before {content: \"▸\";float: left;margin-right: 0.25em;color: #696969;}#sk-container-id-9 label.sk-toggleable__label-arrow:hover:before {color: black;}#sk-container-id-9 div.sk-estimator:hover label.sk-toggleable__label-arrow:before {color: black;}#sk-container-id-9 div.sk-toggleable__content {max-height: 0;max-width: 0;overflow: hidden;text-align: left;background-color: #f0f8ff;}#sk-container-id-9 div.sk-toggleable__content pre {margin: 0.2em;color: black;border-radius: 0.25em;background-color: #f0f8ff;}#sk-container-id-9 input.sk-toggleable__control:checked~div.sk-toggleable__content {max-height: 200px;max-width: 100%;overflow: auto;}#sk-container-id-9 input.sk-toggleable__control:checked~label.sk-toggleable__label-arrow:before {content: \"▾\";}#sk-container-id-9 div.sk-estimator input.sk-toggleable__control:checked~label.sk-toggleable__label {background-color: #d4ebff;}#sk-container-id-9 div.sk-label input.sk-toggleable__control:checked~label.sk-toggleable__label {background-color: #d4ebff;}#sk-container-id-9 input.sk-hidden--visually {border: 0;clip: rect(1px 1px 1px 1px);clip: rect(1px, 1px, 1px, 1px);height: 1px;margin: -1px;overflow: hidden;padding: 0;position: absolute;width: 1px;}#sk-container-id-9 div.sk-estimator {font-family: monospace;background-color: #f0f8ff;border: 1px dotted black;border-radius: 0.25em;box-sizing: border-box;margin-bottom: 0.5em;}#sk-container-id-9 div.sk-estimator:hover {background-color: #d4ebff;}#sk-container-id-9 div.sk-parallel-item::after {content: \"\";width: 100%;border-bottom: 1px solid gray;flex-grow: 1;}#sk-container-id-9 div.sk-label:hover label.sk-toggleable__label {background-color: #d4ebff;}#sk-container-id-9 div.sk-serial::before {content: \"\";position: absolute;border-left: 1px solid gray;box-sizing: border-box;top: 0;bottom: 0;left: 50%;z-index: 0;}#sk-container-id-9 div.sk-serial {display: flex;flex-direction: column;align-items: center;background-color: white;padding-right: 0.2em;padding-left: 0.2em;position: relative;}#sk-container-id-9 div.sk-item {position: relative;z-index: 1;}#sk-container-id-9 div.sk-parallel {display: flex;align-items: stretch;justify-content: center;background-color: white;position: relative;}#sk-container-id-9 div.sk-item::before, #sk-container-id-9 div.sk-parallel-item::before {content: \"\";position: absolute;border-left: 1px solid gray;box-sizing: border-box;top: 0;bottom: 0;left: 50%;z-index: -1;}#sk-container-id-9 div.sk-parallel-item {display: flex;flex-direction: column;z-index: 1;position: relative;background-color: white;}#sk-container-id-9 div.sk-parallel-item:first-child::after {align-self: flex-end;width: 50%;}#sk-container-id-9 div.sk-parallel-item:last-child::after {align-self: flex-start;width: 50%;}#sk-container-id-9 div.sk-parallel-item:only-child::after {width: 0;}#sk-container-id-9 div.sk-dashed-wrapped {border: 1px dashed gray;margin: 0 0.4em 0.5em 0.4em;box-sizing: border-box;padding-bottom: 0.4em;background-color: white;}#sk-container-id-9 div.sk-label label {font-family: monospace;font-weight: bold;display: inline-block;line-height: 1.2em;}#sk-container-id-9 div.sk-label-container {text-align: center;}#sk-container-id-9 div.sk-container {/* jupyter's `normalize.less` sets `[hidden] { display: none; }` but bootstrap.min.css set `[hidden] { display: none !important; }` so we also need the `!important` here to be able to override the default hidden behavior on the sphinx rendered scikit-learn.org. See: https://github.com/scikit-learn/scikit-learn/issues/21755 */display: inline-block !important;position: relative;}#sk-container-id-9 div.sk-text-repr-fallback {display: none;}</style><div id=\"sk-container-id-9\" class=\"sk-top-container\"><div class=\"sk-text-repr-fallback\"><pre>DecisionTreeClassifier(max_depth=5, random_state=40)</pre><b>In a Jupyter environment, please rerun this cell to show the HTML representation or trust the notebook. <br />On GitHub, the HTML representation is unable to render, please try loading this page with nbviewer.org.</b></div><div class=\"sk-container\" hidden><div class=\"sk-item\"><div class=\"sk-estimator sk-toggleable\"><input class=\"sk-toggleable__control sk-hidden--visually\" id=\"sk-estimator-id-9\" type=\"checkbox\" checked><label for=\"sk-estimator-id-9\" class=\"sk-toggleable__label sk-toggleable__label-arrow\">DecisionTreeClassifier</label><div class=\"sk-toggleable__content\"><pre>DecisionTreeClassifier(max_depth=5, random_state=40)</pre></div></div></div></div></div>"
      ],
      "text/plain": [
       "DecisionTreeClassifier(max_depth=5, random_state=40)"
      ]
     },
     "execution_count": 51,
     "metadata": {},
     "output_type": "execute_result"
    }
   ],
   "source": [
    "from sklearn.tree import DecisionTreeClassifier\n",
    "\n",
    "tree_clf = DecisionTreeClassifier(max_depth=5, random_state=40)\n",
    "tree_clf.fit(real_X, real_y)"
   ]
  },
  {
   "cell_type": "code",
   "execution_count": 52,
   "metadata": {},
   "outputs": [
    {
     "data": {
      "image/svg+xml": "<?xml version=\"1.0\" encoding=\"UTF-8\" standalone=\"no\"?>\n<!DOCTYPE svg PUBLIC \"-//W3C//DTD SVG 1.1//EN\"\n \"http://www.w3.org/Graphics/SVG/1.1/DTD/svg11.dtd\">\n<!-- Generated by graphviz version 2.50.0 (0)\n -->\n<!-- Title: Tree Pages: 1 -->\n<svg width=\"1720pt\" height=\"581pt\"\n viewBox=\"0.00 0.00 1719.50 581.00\" xmlns=\"http://www.w3.org/2000/svg\" xmlns:xlink=\"http://www.w3.org/1999/xlink\">\n<g id=\"graph0\" class=\"graph\" transform=\"scale(1 1) rotate(0) translate(4 577)\">\n<title>Tree</title>\n<polygon fill=\"white\" stroke=\"transparent\" points=\"-4,4 -4,-577 1715.5,-577 1715.5,4 -4,4\"/>\n<!-- 0 -->\n<g id=\"node1\" class=\"node\">\n<title>0</title>\n<path fill=\"#3b9ee5\" stroke=\"black\" d=\"M633.5,-573C633.5,-573 532.5,-573 532.5,-573 526.5,-573 520.5,-567 520.5,-561 520.5,-561 520.5,-517 520.5,-517 520.5,-511 526.5,-505 532.5,-505 532.5,-505 633.5,-505 633.5,-505 639.5,-505 645.5,-511 645.5,-517 645.5,-517 645.5,-561 645.5,-561 645.5,-567 639.5,-573 633.5,-573\"/>\n<text text-anchor=\"middle\" x=\"583\" y=\"-557.8\" font-family=\"Helvetica,sans-Serif\" font-size=\"14.00\">prediction &lt;= 0.5</text>\n<text text-anchor=\"middle\" x=\"583\" y=\"-542.8\" font-family=\"Helvetica,sans-Serif\" font-size=\"14.00\">gini = 0.017</text>\n<text text-anchor=\"middle\" x=\"583\" y=\"-527.8\" font-family=\"Helvetica,sans-Serif\" font-size=\"14.00\">samples = 7263</text>\n<text text-anchor=\"middle\" x=\"583\" y=\"-512.8\" font-family=\"Helvetica,sans-Serif\" font-size=\"14.00\">value = [63, 7200]</text>\n</g>\n<!-- 1 -->\n<g id=\"node2\" class=\"node\">\n<title>1</title>\n<path fill=\"#399de5\" stroke=\"black\" d=\"M438.5,-469C438.5,-469 319.5,-469 319.5,-469 313.5,-469 307.5,-463 307.5,-457 307.5,-457 307.5,-413 307.5,-413 307.5,-407 313.5,-401 319.5,-401 319.5,-401 438.5,-401 438.5,-401 444.5,-401 450.5,-407 450.5,-413 450.5,-413 450.5,-457 450.5,-457 450.5,-463 444.5,-469 438.5,-469\"/>\n<text text-anchor=\"middle\" x=\"379\" y=\"-453.8\" font-family=\"Helvetica,sans-Serif\" font-size=\"14.00\">slide_score &lt;= 0.612</text>\n<text text-anchor=\"middle\" x=\"379\" y=\"-438.8\" font-family=\"Helvetica,sans-Serif\" font-size=\"14.00\">gini = 0.001</text>\n<text text-anchor=\"middle\" x=\"379\" y=\"-423.8\" font-family=\"Helvetica,sans-Serif\" font-size=\"14.00\">samples = 6731</text>\n<text text-anchor=\"middle\" x=\"379\" y=\"-408.8\" font-family=\"Helvetica,sans-Serif\" font-size=\"14.00\">value = [3, 6728]</text>\n</g>\n<!-- 0&#45;&gt;1 -->\n<g id=\"edge1\" class=\"edge\">\n<title>0&#45;&gt;1</title>\n<path fill=\"none\" stroke=\"black\" d=\"M520.41,-506.7C499.5,-496.25 475.98,-484.49 454.22,-473.61\"/>\n<polygon fill=\"black\" stroke=\"black\" points=\"455.52,-470.35 445.01,-469.01 452.39,-476.61 455.52,-470.35\"/>\n<text text-anchor=\"middle\" x=\"452.92\" y=\"-489.02\" font-family=\"Helvetica,sans-Serif\" font-size=\"14.00\">True</text>\n</g>\n<!-- 12 -->\n<g id=\"node13\" class=\"node\">\n<title>12</title>\n<path fill=\"#52a9e8\" stroke=\"black\" d=\"M856.5,-469C856.5,-469 763.5,-469 763.5,-469 757.5,-469 751.5,-463 751.5,-457 751.5,-457 751.5,-413 751.5,-413 751.5,-407 757.5,-401 763.5,-401 763.5,-401 856.5,-401 856.5,-401 862.5,-401 868.5,-407 868.5,-413 868.5,-413 868.5,-457 868.5,-457 868.5,-463 862.5,-469 856.5,-469\"/>\n<text text-anchor=\"middle\" x=\"810\" y=\"-453.8\" font-family=\"Helvetica,sans-Serif\" font-size=\"14.00\">avg_p &lt;= 0.954</text>\n<text text-anchor=\"middle\" x=\"810\" y=\"-438.8\" font-family=\"Helvetica,sans-Serif\" font-size=\"14.00\">gini = 0.2</text>\n<text text-anchor=\"middle\" x=\"810\" y=\"-423.8\" font-family=\"Helvetica,sans-Serif\" font-size=\"14.00\">samples = 532</text>\n<text text-anchor=\"middle\" x=\"810\" y=\"-408.8\" font-family=\"Helvetica,sans-Serif\" font-size=\"14.00\">value = [60, 472]</text>\n</g>\n<!-- 0&#45;&gt;12 -->\n<g id=\"edge12\" class=\"edge\">\n<title>0&#45;&gt;12</title>\n<path fill=\"none\" stroke=\"black\" d=\"M645.63,-509.86C675.6,-496.39 711.54,-480.24 742.15,-466.49\"/>\n<polygon fill=\"black\" stroke=\"black\" points=\"743.79,-469.59 751.47,-462.3 740.92,-463.2 743.79,-469.59\"/>\n<text text-anchor=\"middle\" x=\"742.59\" y=\"-481.97\" font-family=\"Helvetica,sans-Serif\" font-size=\"14.00\">False</text>\n</g>\n<!-- 2 -->\n<g id=\"node3\" class=\"node\">\n<title>2</title>\n<path fill=\"#3b9ee5\" stroke=\"black\" d=\"M235,-365C235,-365 117,-365 117,-365 111,-365 105,-359 105,-353 105,-353 105,-309 105,-309 105,-303 111,-297 117,-297 117,-297 235,-297 235,-297 241,-297 247,-303 247,-309 247,-309 247,-353 247,-353 247,-359 241,-365 235,-365\"/>\n<text text-anchor=\"middle\" x=\"176\" y=\"-349.8\" font-family=\"Helvetica,sans-Serif\" font-size=\"14.00\">slide_score &lt;= 0.611</text>\n<text text-anchor=\"middle\" x=\"176\" y=\"-334.8\" font-family=\"Helvetica,sans-Serif\" font-size=\"14.00\">gini = 0.018</text>\n<text text-anchor=\"middle\" x=\"176\" y=\"-319.8\" font-family=\"Helvetica,sans-Serif\" font-size=\"14.00\">samples = 109</text>\n<text text-anchor=\"middle\" x=\"176\" y=\"-304.8\" font-family=\"Helvetica,sans-Serif\" font-size=\"14.00\">value = [1, 108]</text>\n</g>\n<!-- 1&#45;&gt;2 -->\n<g id=\"edge2\" class=\"edge\">\n<title>1&#45;&gt;2</title>\n<path fill=\"none\" stroke=\"black\" d=\"M313.09,-400.88C293.22,-390.9 271.27,-379.87 250.87,-369.62\"/>\n<polygon fill=\"black\" stroke=\"black\" points=\"252.43,-366.49 241.92,-365.12 249.29,-372.74 252.43,-366.49\"/>\n</g>\n<!-- 5 -->\n<g id=\"node6\" class=\"node\">\n<title>5</title>\n<path fill=\"#399de5\" stroke=\"black\" d=\"M425.5,-365C425.5,-365 332.5,-365 332.5,-365 326.5,-365 320.5,-359 320.5,-353 320.5,-353 320.5,-309 320.5,-309 320.5,-303 326.5,-297 332.5,-297 332.5,-297 425.5,-297 425.5,-297 431.5,-297 437.5,-303 437.5,-309 437.5,-309 437.5,-353 437.5,-353 437.5,-359 431.5,-365 425.5,-365\"/>\n<text text-anchor=\"middle\" x=\"379\" y=\"-349.8\" font-family=\"Helvetica,sans-Serif\" font-size=\"14.00\">avg_p &lt;= 0.868</text>\n<text text-anchor=\"middle\" x=\"379\" y=\"-334.8\" font-family=\"Helvetica,sans-Serif\" font-size=\"14.00\">gini = 0.001</text>\n<text text-anchor=\"middle\" x=\"379\" y=\"-319.8\" font-family=\"Helvetica,sans-Serif\" font-size=\"14.00\">samples = 6622</text>\n<text text-anchor=\"middle\" x=\"379\" y=\"-304.8\" font-family=\"Helvetica,sans-Serif\" font-size=\"14.00\">value = [2, 6620]</text>\n</g>\n<!-- 1&#45;&gt;5 -->\n<g id=\"edge5\" class=\"edge\">\n<title>1&#45;&gt;5</title>\n<path fill=\"none\" stroke=\"black\" d=\"M379,-400.88C379,-392.78 379,-383.98 379,-375.47\"/>\n<polygon fill=\"black\" stroke=\"black\" points=\"382.5,-375.3 379,-365.3 375.5,-375.3 382.5,-375.3\"/>\n</g>\n<!-- 3 -->\n<g id=\"node4\" class=\"node\">\n<title>3</title>\n<path fill=\"#399de5\" stroke=\"black\" d=\"M98,-253.5C98,-253.5 12,-253.5 12,-253.5 6,-253.5 0,-247.5 0,-241.5 0,-241.5 0,-212.5 0,-212.5 0,-206.5 6,-200.5 12,-200.5 12,-200.5 98,-200.5 98,-200.5 104,-200.5 110,-206.5 110,-212.5 110,-212.5 110,-241.5 110,-241.5 110,-247.5 104,-253.5 98,-253.5\"/>\n<text text-anchor=\"middle\" x=\"55\" y=\"-238.3\" font-family=\"Helvetica,sans-Serif\" font-size=\"14.00\">gini = 0.0</text>\n<text text-anchor=\"middle\" x=\"55\" y=\"-223.3\" font-family=\"Helvetica,sans-Serif\" font-size=\"14.00\">samples = 108</text>\n<text text-anchor=\"middle\" x=\"55\" y=\"-208.3\" font-family=\"Helvetica,sans-Serif\" font-size=\"14.00\">value = [0, 108]</text>\n</g>\n<!-- 2&#45;&gt;3 -->\n<g id=\"edge3\" class=\"edge\">\n<title>2&#45;&gt;3</title>\n<path fill=\"none\" stroke=\"black\" d=\"M136.71,-296.88C122.76,-285.12 107.07,-271.89 93.2,-260.2\"/>\n<polygon fill=\"black\" stroke=\"black\" points=\"95.18,-257.29 85.27,-253.52 90.66,-262.64 95.18,-257.29\"/>\n</g>\n<!-- 4 -->\n<g id=\"node5\" class=\"node\">\n<title>4</title>\n<path fill=\"#e58139\" stroke=\"black\" d=\"M211.5,-253.5C211.5,-253.5 140.5,-253.5 140.5,-253.5 134.5,-253.5 128.5,-247.5 128.5,-241.5 128.5,-241.5 128.5,-212.5 128.5,-212.5 128.5,-206.5 134.5,-200.5 140.5,-200.5 140.5,-200.5 211.5,-200.5 211.5,-200.5 217.5,-200.5 223.5,-206.5 223.5,-212.5 223.5,-212.5 223.5,-241.5 223.5,-241.5 223.5,-247.5 217.5,-253.5 211.5,-253.5\"/>\n<text text-anchor=\"middle\" x=\"176\" y=\"-238.3\" font-family=\"Helvetica,sans-Serif\" font-size=\"14.00\">gini = 0.0</text>\n<text text-anchor=\"middle\" x=\"176\" y=\"-223.3\" font-family=\"Helvetica,sans-Serif\" font-size=\"14.00\">samples = 1</text>\n<text text-anchor=\"middle\" x=\"176\" y=\"-208.3\" font-family=\"Helvetica,sans-Serif\" font-size=\"14.00\">value = [1, 0]</text>\n</g>\n<!-- 2&#45;&gt;4 -->\n<g id=\"edge4\" class=\"edge\">\n<title>2&#45;&gt;4</title>\n<path fill=\"none\" stroke=\"black\" d=\"M176,-296.88C176,-286.33 176,-274.6 176,-263.85\"/>\n<polygon fill=\"black\" stroke=\"black\" points=\"179.5,-263.52 176,-253.52 172.5,-263.52 179.5,-263.52\"/>\n</g>\n<!-- 6 -->\n<g id=\"node7\" class=\"node\">\n<title>6</title>\n<path fill=\"#399de5\" stroke=\"black\" d=\"M346.5,-253.5C346.5,-253.5 253.5,-253.5 253.5,-253.5 247.5,-253.5 241.5,-247.5 241.5,-241.5 241.5,-241.5 241.5,-212.5 241.5,-212.5 241.5,-206.5 247.5,-200.5 253.5,-200.5 253.5,-200.5 346.5,-200.5 346.5,-200.5 352.5,-200.5 358.5,-206.5 358.5,-212.5 358.5,-212.5 358.5,-241.5 358.5,-241.5 358.5,-247.5 352.5,-253.5 346.5,-253.5\"/>\n<text text-anchor=\"middle\" x=\"300\" y=\"-238.3\" font-family=\"Helvetica,sans-Serif\" font-size=\"14.00\">gini = 0.0</text>\n<text text-anchor=\"middle\" x=\"300\" y=\"-223.3\" font-family=\"Helvetica,sans-Serif\" font-size=\"14.00\">samples = 4036</text>\n<text text-anchor=\"middle\" x=\"300\" y=\"-208.3\" font-family=\"Helvetica,sans-Serif\" font-size=\"14.00\">value = [0, 4036]</text>\n</g>\n<!-- 5&#45;&gt;6 -->\n<g id=\"edge6\" class=\"edge\">\n<title>5&#45;&gt;6</title>\n<path fill=\"none\" stroke=\"black\" d=\"M353.35,-296.88C344.58,-285.56 334.76,-272.88 325.96,-261.52\"/>\n<polygon fill=\"black\" stroke=\"black\" points=\"328.66,-259.28 319.77,-253.52 323.12,-263.57 328.66,-259.28\"/>\n</g>\n<!-- 7 -->\n<g id=\"node8\" class=\"node\">\n<title>7</title>\n<path fill=\"#399de5\" stroke=\"black\" d=\"M481.5,-261C481.5,-261 388.5,-261 388.5,-261 382.5,-261 376.5,-255 376.5,-249 376.5,-249 376.5,-205 376.5,-205 376.5,-199 382.5,-193 388.5,-193 388.5,-193 481.5,-193 481.5,-193 487.5,-193 493.5,-199 493.5,-205 493.5,-205 493.5,-249 493.5,-249 493.5,-255 487.5,-261 481.5,-261\"/>\n<text text-anchor=\"middle\" x=\"435\" y=\"-245.8\" font-family=\"Helvetica,sans-Serif\" font-size=\"14.00\">avg_p &lt;= 0.868</text>\n<text text-anchor=\"middle\" x=\"435\" y=\"-230.8\" font-family=\"Helvetica,sans-Serif\" font-size=\"14.00\">gini = 0.002</text>\n<text text-anchor=\"middle\" x=\"435\" y=\"-215.8\" font-family=\"Helvetica,sans-Serif\" font-size=\"14.00\">samples = 2586</text>\n<text text-anchor=\"middle\" x=\"435\" y=\"-200.8\" font-family=\"Helvetica,sans-Serif\" font-size=\"14.00\">value = [2, 2584]</text>\n</g>\n<!-- 5&#45;&gt;7 -->\n<g id=\"edge7\" class=\"edge\">\n<title>5&#45;&gt;7</title>\n<path fill=\"none\" stroke=\"black\" d=\"M397.18,-296.88C401.88,-288.33 406.99,-279.01 411.9,-270.07\"/>\n<polygon fill=\"black\" stroke=\"black\" points=\"414.97,-271.75 416.72,-261.3 408.84,-268.38 414.97,-271.75\"/>\n</g>\n<!-- 8 -->\n<g id=\"node9\" class=\"node\">\n<title>8</title>\n<path fill=\"#e58139\" stroke=\"black\" d=\"M337.5,-149.5C337.5,-149.5 266.5,-149.5 266.5,-149.5 260.5,-149.5 254.5,-143.5 254.5,-137.5 254.5,-137.5 254.5,-108.5 254.5,-108.5 254.5,-102.5 260.5,-96.5 266.5,-96.5 266.5,-96.5 337.5,-96.5 337.5,-96.5 343.5,-96.5 349.5,-102.5 349.5,-108.5 349.5,-108.5 349.5,-137.5 349.5,-137.5 349.5,-143.5 343.5,-149.5 337.5,-149.5\"/>\n<text text-anchor=\"middle\" x=\"302\" y=\"-134.3\" font-family=\"Helvetica,sans-Serif\" font-size=\"14.00\">gini = 0.0</text>\n<text text-anchor=\"middle\" x=\"302\" y=\"-119.3\" font-family=\"Helvetica,sans-Serif\" font-size=\"14.00\">samples = 1</text>\n<text text-anchor=\"middle\" x=\"302\" y=\"-104.3\" font-family=\"Helvetica,sans-Serif\" font-size=\"14.00\">value = [1, 0]</text>\n</g>\n<!-- 7&#45;&gt;8 -->\n<g id=\"edge8\" class=\"edge\">\n<title>7&#45;&gt;8</title>\n<path fill=\"none\" stroke=\"black\" d=\"M391.82,-192.88C376.33,-181.01 358.91,-167.65 343.56,-155.88\"/>\n<polygon fill=\"black\" stroke=\"black\" points=\"345.34,-152.83 335.28,-149.52 341.08,-158.38 345.34,-152.83\"/>\n</g>\n<!-- 9 -->\n<g id=\"node10\" class=\"node\">\n<title>9</title>\n<path fill=\"#399de5\" stroke=\"black\" d=\"M490,-157C490,-157 380,-157 380,-157 374,-157 368,-151 368,-145 368,-145 368,-101 368,-101 368,-95 374,-89 380,-89 380,-89 490,-89 490,-89 496,-89 502,-95 502,-101 502,-101 502,-145 502,-145 502,-151 496,-157 490,-157\"/>\n<text text-anchor=\"middle\" x=\"435\" y=\"-141.8\" font-family=\"Helvetica,sans-Serif\" font-size=\"14.00\">patch_num &lt;= 13.5</text>\n<text text-anchor=\"middle\" x=\"435\" y=\"-126.8\" font-family=\"Helvetica,sans-Serif\" font-size=\"14.00\">gini = 0.001</text>\n<text text-anchor=\"middle\" x=\"435\" y=\"-111.8\" font-family=\"Helvetica,sans-Serif\" font-size=\"14.00\">samples = 2585</text>\n<text text-anchor=\"middle\" x=\"435\" y=\"-96.8\" font-family=\"Helvetica,sans-Serif\" font-size=\"14.00\">value = [1, 2584]</text>\n</g>\n<!-- 7&#45;&gt;9 -->\n<g id=\"edge9\" class=\"edge\">\n<title>7&#45;&gt;9</title>\n<path fill=\"none\" stroke=\"black\" d=\"M435,-192.88C435,-184.78 435,-175.98 435,-167.47\"/>\n<polygon fill=\"black\" stroke=\"black\" points=\"438.5,-167.3 435,-157.3 431.5,-167.3 438.5,-167.3\"/>\n</g>\n<!-- 10 -->\n<g id=\"node11\" class=\"node\">\n<title>10</title>\n<path fill=\"#399de5\" stroke=\"black\" d=\"M346,-53C346,-53 260,-53 260,-53 254,-53 248,-47 248,-41 248,-41 248,-12 248,-12 248,-6 254,0 260,0 260,0 346,0 346,0 352,0 358,-6 358,-12 358,-12 358,-41 358,-41 358,-47 352,-53 346,-53\"/>\n<text text-anchor=\"middle\" x=\"303\" y=\"-37.8\" font-family=\"Helvetica,sans-Serif\" font-size=\"14.00\">gini = 0.003</text>\n<text text-anchor=\"middle\" x=\"303\" y=\"-22.8\" font-family=\"Helvetica,sans-Serif\" font-size=\"14.00\">samples = 615</text>\n<text text-anchor=\"middle\" x=\"303\" y=\"-7.8\" font-family=\"Helvetica,sans-Serif\" font-size=\"14.00\">value = [1, 614]</text>\n</g>\n<!-- 9&#45;&gt;10 -->\n<g id=\"edge10\" class=\"edge\">\n<title>9&#45;&gt;10</title>\n<path fill=\"none\" stroke=\"black\" d=\"M388.83,-88.95C375.29,-79.25 360.51,-68.68 347.1,-59.07\"/>\n<polygon fill=\"black\" stroke=\"black\" points=\"349.12,-56.21 338.95,-53.24 345.04,-61.9 349.12,-56.21\"/>\n</g>\n<!-- 11 -->\n<g id=\"node12\" class=\"node\">\n<title>11</title>\n<path fill=\"#399de5\" stroke=\"black\" d=\"M481.5,-53C481.5,-53 388.5,-53 388.5,-53 382.5,-53 376.5,-47 376.5,-41 376.5,-41 376.5,-12 376.5,-12 376.5,-6 382.5,0 388.5,0 388.5,0 481.5,0 481.5,0 487.5,0 493.5,-6 493.5,-12 493.5,-12 493.5,-41 493.5,-41 493.5,-47 487.5,-53 481.5,-53\"/>\n<text text-anchor=\"middle\" x=\"435\" y=\"-37.8\" font-family=\"Helvetica,sans-Serif\" font-size=\"14.00\">gini = 0.0</text>\n<text text-anchor=\"middle\" x=\"435\" y=\"-22.8\" font-family=\"Helvetica,sans-Serif\" font-size=\"14.00\">samples = 1970</text>\n<text text-anchor=\"middle\" x=\"435\" y=\"-7.8\" font-family=\"Helvetica,sans-Serif\" font-size=\"14.00\">value = [0, 1970]</text>\n</g>\n<!-- 9&#45;&gt;11 -->\n<g id=\"edge11\" class=\"edge\">\n<title>9&#45;&gt;11</title>\n<path fill=\"none\" stroke=\"black\" d=\"M435,-88.95C435,-80.72 435,-71.85 435,-63.48\"/>\n<polygon fill=\"black\" stroke=\"black\" points=\"438.5,-63.24 435,-53.24 431.5,-63.24 438.5,-63.24\"/>\n</g>\n<!-- 13 -->\n<g id=\"node14\" class=\"node\">\n<title>13</title>\n<path fill=\"#49a5e7\" stroke=\"black\" d=\"M865.5,-365C865.5,-365 754.5,-365 754.5,-365 748.5,-365 742.5,-359 742.5,-353 742.5,-353 742.5,-309 742.5,-309 742.5,-303 748.5,-297 754.5,-297 754.5,-297 865.5,-297 865.5,-297 871.5,-297 877.5,-303 877.5,-309 877.5,-309 877.5,-353 877.5,-353 877.5,-359 871.5,-365 865.5,-365\"/>\n<text text-anchor=\"middle\" x=\"810\" y=\"-349.8\" font-family=\"Helvetica,sans-Serif\" font-size=\"14.00\">slide_score &lt;= 0.91</text>\n<text text-anchor=\"middle\" x=\"810\" y=\"-334.8\" font-family=\"Helvetica,sans-Serif\" font-size=\"14.00\">gini = 0.138</text>\n<text text-anchor=\"middle\" x=\"810\" y=\"-319.8\" font-family=\"Helvetica,sans-Serif\" font-size=\"14.00\">samples = 470</text>\n<text text-anchor=\"middle\" x=\"810\" y=\"-304.8\" font-family=\"Helvetica,sans-Serif\" font-size=\"14.00\">value = [35, 435]</text>\n</g>\n<!-- 12&#45;&gt;13 -->\n<g id=\"edge13\" class=\"edge\">\n<title>12&#45;&gt;13</title>\n<path fill=\"none\" stroke=\"black\" d=\"M810,-400.88C810,-392.78 810,-383.98 810,-375.47\"/>\n<polygon fill=\"black\" stroke=\"black\" points=\"813.5,-375.3 810,-365.3 806.5,-375.3 813.5,-375.3\"/>\n</g>\n<!-- 26 -->\n<g id=\"node27\" class=\"node\">\n<title>26</title>\n<path fill=\"#bfdff7\" stroke=\"black\" d=\"M1292,-365C1292,-365 1182,-365 1182,-365 1176,-365 1170,-359 1170,-353 1170,-353 1170,-309 1170,-309 1170,-303 1176,-297 1182,-297 1182,-297 1292,-297 1292,-297 1298,-297 1304,-303 1304,-309 1304,-309 1304,-353 1304,-353 1304,-359 1298,-365 1292,-365\"/>\n<text text-anchor=\"middle\" x=\"1237\" y=\"-349.8\" font-family=\"Helvetica,sans-Serif\" font-size=\"14.00\">patch_num &lt;= 94.0</text>\n<text text-anchor=\"middle\" x=\"1237\" y=\"-334.8\" font-family=\"Helvetica,sans-Serif\" font-size=\"14.00\">gini = 0.481</text>\n<text text-anchor=\"middle\" x=\"1237\" y=\"-319.8\" font-family=\"Helvetica,sans-Serif\" font-size=\"14.00\">samples = 62</text>\n<text text-anchor=\"middle\" x=\"1237\" y=\"-304.8\" font-family=\"Helvetica,sans-Serif\" font-size=\"14.00\">value = [25, 37]</text>\n</g>\n<!-- 12&#45;&gt;26 -->\n<g id=\"edge26\" class=\"edge\">\n<title>12&#45;&gt;26</title>\n<path fill=\"none\" stroke=\"black\" d=\"M868.92,-419.92C944.66,-401.83 1076.33,-370.38 1159.95,-350.41\"/>\n<polygon fill=\"black\" stroke=\"black\" points=\"1160.99,-353.76 1169.9,-348.03 1159.36,-346.95 1160.99,-353.76\"/>\n</g>\n<!-- 14 -->\n<g id=\"node15\" class=\"node\">\n<title>14</title>\n<path fill=\"#3fa0e6\" stroke=\"black\" d=\"M795,-261C795,-261 677,-261 677,-261 671,-261 665,-255 665,-249 665,-249 665,-205 665,-205 665,-199 671,-193 677,-193 677,-193 795,-193 795,-193 801,-193 807,-199 807,-205 807,-205 807,-249 807,-249 807,-255 801,-261 795,-261\"/>\n<text text-anchor=\"middle\" x=\"736\" y=\"-245.8\" font-family=\"Helvetica,sans-Serif\" font-size=\"14.00\">patch_num &lt;= 453.5</text>\n<text text-anchor=\"middle\" x=\"736\" y=\"-230.8\" font-family=\"Helvetica,sans-Serif\" font-size=\"14.00\">gini = 0.061</text>\n<text text-anchor=\"middle\" x=\"736\" y=\"-215.8\" font-family=\"Helvetica,sans-Serif\" font-size=\"14.00\">samples = 319</text>\n<text text-anchor=\"middle\" x=\"736\" y=\"-200.8\" font-family=\"Helvetica,sans-Serif\" font-size=\"14.00\">value = [10, 309]</text>\n</g>\n<!-- 13&#45;&gt;14 -->\n<g id=\"edge14\" class=\"edge\">\n<title>13&#45;&gt;14</title>\n<path fill=\"none\" stroke=\"black\" d=\"M785.97,-296.88C779.64,-288.15 772.73,-278.62 766.12,-269.51\"/>\n<polygon fill=\"black\" stroke=\"black\" points=\"768.86,-267.34 760.16,-261.3 763.2,-271.45 768.86,-267.34\"/>\n</g>\n<!-- 19 -->\n<g id=\"node20\" class=\"node\">\n<title>19</title>\n<path fill=\"#60b0ea\" stroke=\"black\" d=\"M931,-261C931,-261 837,-261 837,-261 831,-261 825,-255 825,-249 825,-249 825,-205 825,-205 825,-199 831,-193 837,-193 837,-193 931,-193 931,-193 937,-193 943,-199 943,-205 943,-205 943,-249 943,-249 943,-255 937,-261 931,-261\"/>\n<text text-anchor=\"middle\" x=\"884\" y=\"-245.8\" font-family=\"Helvetica,sans-Serif\" font-size=\"14.00\">prediction &lt;= 1.5</text>\n<text text-anchor=\"middle\" x=\"884\" y=\"-230.8\" font-family=\"Helvetica,sans-Serif\" font-size=\"14.00\">gini = 0.276</text>\n<text text-anchor=\"middle\" x=\"884\" y=\"-215.8\" font-family=\"Helvetica,sans-Serif\" font-size=\"14.00\">samples = 151</text>\n<text text-anchor=\"middle\" x=\"884\" y=\"-200.8\" font-family=\"Helvetica,sans-Serif\" font-size=\"14.00\">value = [25, 126]</text>\n</g>\n<!-- 13&#45;&gt;19 -->\n<g id=\"edge19\" class=\"edge\">\n<title>13&#45;&gt;19</title>\n<path fill=\"none\" stroke=\"black\" d=\"M834.03,-296.88C840.36,-288.15 847.27,-278.62 853.88,-269.51\"/>\n<polygon fill=\"black\" stroke=\"black\" points=\"856.8,-271.45 859.84,-261.3 851.14,-267.34 856.8,-271.45\"/>\n</g>\n<!-- 15 -->\n<g id=\"node16\" class=\"node\">\n<title>15</title>\n<path fill=\"#3fa0e6\" stroke=\"black\" d=\"M661,-157C661,-157 543,-157 543,-157 537,-157 531,-151 531,-145 531,-145 531,-101 531,-101 531,-95 537,-89 543,-89 543,-89 661,-89 661,-89 667,-89 673,-95 673,-101 673,-101 673,-145 673,-145 673,-151 667,-157 661,-157\"/>\n<text text-anchor=\"middle\" x=\"602\" y=\"-141.8\" font-family=\"Helvetica,sans-Serif\" font-size=\"14.00\">patch_num &lt;= 308.5</text>\n<text text-anchor=\"middle\" x=\"602\" y=\"-126.8\" font-family=\"Helvetica,sans-Serif\" font-size=\"14.00\">gini = 0.055</text>\n<text text-anchor=\"middle\" x=\"602\" y=\"-111.8\" font-family=\"Helvetica,sans-Serif\" font-size=\"14.00\">samples = 318</text>\n<text text-anchor=\"middle\" x=\"602\" y=\"-96.8\" font-family=\"Helvetica,sans-Serif\" font-size=\"14.00\">value = [9, 309]</text>\n</g>\n<!-- 14&#45;&gt;15 -->\n<g id=\"edge15\" class=\"edge\">\n<title>14&#45;&gt;15</title>\n<path fill=\"none\" stroke=\"black\" d=\"M692.49,-192.88C680.21,-183.53 666.71,-173.26 653.98,-163.57\"/>\n<polygon fill=\"black\" stroke=\"black\" points=\"655.82,-160.57 645.75,-157.3 651.58,-166.14 655.82,-160.57\"/>\n</g>\n<!-- 18 -->\n<g id=\"node19\" class=\"node\">\n<title>18</title>\n<path fill=\"#e58139\" stroke=\"black\" d=\"M774.5,-149.5C774.5,-149.5 703.5,-149.5 703.5,-149.5 697.5,-149.5 691.5,-143.5 691.5,-137.5 691.5,-137.5 691.5,-108.5 691.5,-108.5 691.5,-102.5 697.5,-96.5 703.5,-96.5 703.5,-96.5 774.5,-96.5 774.5,-96.5 780.5,-96.5 786.5,-102.5 786.5,-108.5 786.5,-108.5 786.5,-137.5 786.5,-137.5 786.5,-143.5 780.5,-149.5 774.5,-149.5\"/>\n<text text-anchor=\"middle\" x=\"739\" y=\"-134.3\" font-family=\"Helvetica,sans-Serif\" font-size=\"14.00\">gini = 0.0</text>\n<text text-anchor=\"middle\" x=\"739\" y=\"-119.3\" font-family=\"Helvetica,sans-Serif\" font-size=\"14.00\">samples = 1</text>\n<text text-anchor=\"middle\" x=\"739\" y=\"-104.3\" font-family=\"Helvetica,sans-Serif\" font-size=\"14.00\">value = [1, 0]</text>\n</g>\n<!-- 14&#45;&gt;18 -->\n<g id=\"edge18\" class=\"edge\">\n<title>14&#45;&gt;18</title>\n<path fill=\"none\" stroke=\"black\" d=\"M736.97,-192.88C737.29,-182.22 737.64,-170.35 737.96,-159.52\"/>\n<polygon fill=\"black\" stroke=\"black\" points=\"741.45,-159.62 738.25,-149.52 734.46,-159.41 741.45,-159.62\"/>\n</g>\n<!-- 16 -->\n<g id=\"node17\" class=\"node\">\n<title>16</title>\n<path fill=\"#3e9fe6\" stroke=\"black\" d=\"M610,-53C610,-53 524,-53 524,-53 518,-53 512,-47 512,-41 512,-41 512,-12 512,-12 512,-6 518,0 524,0 524,0 610,0 610,0 616,0 622,-6 622,-12 622,-12 622,-41 622,-41 622,-47 616,-53 610,-53\"/>\n<text text-anchor=\"middle\" x=\"567\" y=\"-37.8\" font-family=\"Helvetica,sans-Serif\" font-size=\"14.00\">gini = 0.044</text>\n<text text-anchor=\"middle\" x=\"567\" y=\"-22.8\" font-family=\"Helvetica,sans-Serif\" font-size=\"14.00\">samples = 310</text>\n<text text-anchor=\"middle\" x=\"567\" y=\"-7.8\" font-family=\"Helvetica,sans-Serif\" font-size=\"14.00\">value = [7, 303]</text>\n</g>\n<!-- 15&#45;&gt;16 -->\n<g id=\"edge16\" class=\"edge\">\n<title>15&#45;&gt;16</title>\n<path fill=\"none\" stroke=\"black\" d=\"M589.76,-88.95C586.61,-80.44 583.21,-71.26 580.02,-62.65\"/>\n<polygon fill=\"black\" stroke=\"black\" points=\"583.29,-61.4 576.53,-53.24 576.72,-63.83 583.29,-61.4\"/>\n</g>\n<!-- 17 -->\n<g id=\"node18\" class=\"node\">\n<title>17</title>\n<path fill=\"#7bbeee\" stroke=\"black\" d=\"M723.5,-53C723.5,-53 652.5,-53 652.5,-53 646.5,-53 640.5,-47 640.5,-41 640.5,-41 640.5,-12 640.5,-12 640.5,-6 646.5,0 652.5,0 652.5,0 723.5,0 723.5,0 729.5,0 735.5,-6 735.5,-12 735.5,-12 735.5,-41 735.5,-41 735.5,-47 729.5,-53 723.5,-53\"/>\n<text text-anchor=\"middle\" x=\"688\" y=\"-37.8\" font-family=\"Helvetica,sans-Serif\" font-size=\"14.00\">gini = 0.375</text>\n<text text-anchor=\"middle\" x=\"688\" y=\"-22.8\" font-family=\"Helvetica,sans-Serif\" font-size=\"14.00\">samples = 8</text>\n<text text-anchor=\"middle\" x=\"688\" y=\"-7.8\" font-family=\"Helvetica,sans-Serif\" font-size=\"14.00\">value = [2, 6]</text>\n</g>\n<!-- 15&#45;&gt;17 -->\n<g id=\"edge17\" class=\"edge\">\n<title>15&#45;&gt;17</title>\n<path fill=\"none\" stroke=\"black\" d=\"M632.08,-88.95C640.4,-79.8 649.44,-69.87 657.77,-60.71\"/>\n<polygon fill=\"black\" stroke=\"black\" points=\"660.44,-62.99 664.58,-53.24 655.26,-58.28 660.44,-62.99\"/>\n</g>\n<!-- 20 -->\n<g id=\"node21\" class=\"node\">\n<title>20</title>\n<path fill=\"#c0e0f7\" stroke=\"black\" d=\"M940.5,-157C940.5,-157 821.5,-157 821.5,-157 815.5,-157 809.5,-151 809.5,-145 809.5,-145 809.5,-101 809.5,-101 809.5,-95 815.5,-89 821.5,-89 821.5,-89 940.5,-89 940.5,-89 946.5,-89 952.5,-95 952.5,-101 952.5,-101 952.5,-145 952.5,-145 952.5,-151 946.5,-157 940.5,-157\"/>\n<text text-anchor=\"middle\" x=\"881\" y=\"-141.8\" font-family=\"Helvetica,sans-Serif\" font-size=\"14.00\">slide_score &lt;= 0.993</text>\n<text text-anchor=\"middle\" x=\"881\" y=\"-126.8\" font-family=\"Helvetica,sans-Serif\" font-size=\"14.00\">gini = 0.482</text>\n<text text-anchor=\"middle\" x=\"881\" y=\"-111.8\" font-family=\"Helvetica,sans-Serif\" font-size=\"14.00\">samples = 32</text>\n<text text-anchor=\"middle\" x=\"881\" y=\"-96.8\" font-family=\"Helvetica,sans-Serif\" font-size=\"14.00\">value = [13, 19]</text>\n</g>\n<!-- 19&#45;&gt;20 -->\n<g id=\"edge20\" class=\"edge\">\n<title>19&#45;&gt;20</title>\n<path fill=\"none\" stroke=\"black\" d=\"M883.03,-192.88C882.79,-184.78 882.53,-175.98 882.28,-167.47\"/>\n<polygon fill=\"black\" stroke=\"black\" points=\"885.77,-167.19 881.98,-157.3 878.77,-167.4 885.77,-167.19\"/>\n</g>\n<!-- 23 -->\n<g id=\"node24\" class=\"node\">\n<title>23</title>\n<path fill=\"#4fa8e8\" stroke=\"black\" d=\"M1093,-157C1093,-157 983,-157 983,-157 977,-157 971,-151 971,-145 971,-145 971,-101 971,-101 971,-95 977,-89 983,-89 983,-89 1093,-89 1093,-89 1099,-89 1105,-95 1105,-101 1105,-101 1105,-145 1105,-145 1105,-151 1099,-157 1093,-157\"/>\n<text text-anchor=\"middle\" x=\"1038\" y=\"-141.8\" font-family=\"Helvetica,sans-Serif\" font-size=\"14.00\">patch_num &lt;= 33.0</text>\n<text text-anchor=\"middle\" x=\"1038\" y=\"-126.8\" font-family=\"Helvetica,sans-Serif\" font-size=\"14.00\">gini = 0.181</text>\n<text text-anchor=\"middle\" x=\"1038\" y=\"-111.8\" font-family=\"Helvetica,sans-Serif\" font-size=\"14.00\">samples = 119</text>\n<text text-anchor=\"middle\" x=\"1038\" y=\"-96.8\" font-family=\"Helvetica,sans-Serif\" font-size=\"14.00\">value = [12, 107]</text>\n</g>\n<!-- 19&#45;&gt;23 -->\n<g id=\"edge23\" class=\"edge\">\n<title>19&#45;&gt;23</title>\n<path fill=\"none\" stroke=\"black\" d=\"M934,-192.88C948.46,-183.3 964.38,-172.76 979.32,-162.86\"/>\n<polygon fill=\"black\" stroke=\"black\" points=\"981.58,-165.56 987.99,-157.12 977.72,-159.73 981.58,-165.56\"/>\n</g>\n<!-- 21 -->\n<g id=\"node22\" class=\"node\">\n<title>21</title>\n<path fill=\"#77bced\" stroke=\"black\" d=\"M844,-53C844,-53 766,-53 766,-53 760,-53 754,-47 754,-41 754,-41 754,-12 754,-12 754,-6 760,0 766,0 766,0 844,0 844,0 850,0 856,-6 856,-12 856,-12 856,-41 856,-41 856,-47 850,-53 844,-53\"/>\n<text text-anchor=\"middle\" x=\"805\" y=\"-37.8\" font-family=\"Helvetica,sans-Serif\" font-size=\"14.00\">gini = 0.363</text>\n<text text-anchor=\"middle\" x=\"805\" y=\"-22.8\" font-family=\"Helvetica,sans-Serif\" font-size=\"14.00\">samples = 21</text>\n<text text-anchor=\"middle\" x=\"805\" y=\"-7.8\" font-family=\"Helvetica,sans-Serif\" font-size=\"14.00\">value = [5, 16]</text>\n</g>\n<!-- 20&#45;&gt;21 -->\n<g id=\"edge21\" class=\"edge\">\n<title>20&#45;&gt;21</title>\n<path fill=\"none\" stroke=\"black\" d=\"M854.42,-88.95C847.21,-79.98 839.39,-70.27 832.15,-61.26\"/>\n<polygon fill=\"black\" stroke=\"black\" points=\"834.69,-58.84 825.7,-53.24 829.24,-63.22 834.69,-58.84\"/>\n</g>\n<!-- 22 -->\n<g id=\"node23\" class=\"node\">\n<title>22</title>\n<path fill=\"#efb083\" stroke=\"black\" d=\"M960,-53C960,-53 886,-53 886,-53 880,-53 874,-47 874,-41 874,-41 874,-12 874,-12 874,-6 880,0 886,0 886,0 960,0 960,0 966,0 972,-6 972,-12 972,-12 972,-41 972,-41 972,-47 966,-53 960,-53\"/>\n<text text-anchor=\"middle\" x=\"923\" y=\"-37.8\" font-family=\"Helvetica,sans-Serif\" font-size=\"14.00\">gini = 0.397</text>\n<text text-anchor=\"middle\" x=\"923\" y=\"-22.8\" font-family=\"Helvetica,sans-Serif\" font-size=\"14.00\">samples = 11</text>\n<text text-anchor=\"middle\" x=\"923\" y=\"-7.8\" font-family=\"Helvetica,sans-Serif\" font-size=\"14.00\">value = [8, 3]</text>\n</g>\n<!-- 20&#45;&gt;22 -->\n<g id=\"edge22\" class=\"edge\">\n<title>20&#45;&gt;22</title>\n<path fill=\"none\" stroke=\"black\" d=\"M895.69,-88.95C899.47,-80.44 903.55,-71.26 907.38,-62.65\"/>\n<polygon fill=\"black\" stroke=\"black\" points=\"910.7,-63.8 911.56,-53.24 904.3,-60.95 910.7,-63.8\"/>\n</g>\n<!-- 24 -->\n<g id=\"node25\" class=\"node\">\n<title>24</title>\n<path fill=\"#e58139\" stroke=\"black\" d=\"M1073.5,-53C1073.5,-53 1002.5,-53 1002.5,-53 996.5,-53 990.5,-47 990.5,-41 990.5,-41 990.5,-12 990.5,-12 990.5,-6 996.5,0 1002.5,0 1002.5,0 1073.5,0 1073.5,0 1079.5,0 1085.5,-6 1085.5,-12 1085.5,-12 1085.5,-41 1085.5,-41 1085.5,-47 1079.5,-53 1073.5,-53\"/>\n<text text-anchor=\"middle\" x=\"1038\" y=\"-37.8\" font-family=\"Helvetica,sans-Serif\" font-size=\"14.00\">gini = 0.0</text>\n<text text-anchor=\"middle\" x=\"1038\" y=\"-22.8\" font-family=\"Helvetica,sans-Serif\" font-size=\"14.00\">samples = 1</text>\n<text text-anchor=\"middle\" x=\"1038\" y=\"-7.8\" font-family=\"Helvetica,sans-Serif\" font-size=\"14.00\">value = [1, 0]</text>\n</g>\n<!-- 23&#45;&gt;24 -->\n<g id=\"edge24\" class=\"edge\">\n<title>23&#45;&gt;24</title>\n<path fill=\"none\" stroke=\"black\" d=\"M1038,-88.95C1038,-80.72 1038,-71.85 1038,-63.48\"/>\n<polygon fill=\"black\" stroke=\"black\" points=\"1041.5,-63.24 1038,-53.24 1034.5,-63.24 1041.5,-63.24\"/>\n</g>\n<!-- 25 -->\n<g id=\"node26\" class=\"node\">\n<title>25</title>\n<path fill=\"#4da7e8\" stroke=\"black\" d=\"M1208,-53C1208,-53 1116,-53 1116,-53 1110,-53 1104,-47 1104,-41 1104,-41 1104,-12 1104,-12 1104,-6 1110,0 1116,0 1116,0 1208,0 1208,0 1214,0 1220,-6 1220,-12 1220,-12 1220,-41 1220,-41 1220,-47 1214,-53 1208,-53\"/>\n<text text-anchor=\"middle\" x=\"1162\" y=\"-37.8\" font-family=\"Helvetica,sans-Serif\" font-size=\"14.00\">gini = 0.169</text>\n<text text-anchor=\"middle\" x=\"1162\" y=\"-22.8\" font-family=\"Helvetica,sans-Serif\" font-size=\"14.00\">samples = 118</text>\n<text text-anchor=\"middle\" x=\"1162\" y=\"-7.8\" font-family=\"Helvetica,sans-Serif\" font-size=\"14.00\">value = [11, 107]</text>\n</g>\n<!-- 23&#45;&gt;25 -->\n<g id=\"edge25\" class=\"edge\">\n<title>23&#45;&gt;25</title>\n<path fill=\"none\" stroke=\"black\" d=\"M1081.37,-88.95C1093.97,-79.34 1107.71,-68.87 1120.21,-59.34\"/>\n<polygon fill=\"black\" stroke=\"black\" points=\"1122.4,-62.08 1128.23,-53.24 1118.15,-56.51 1122.4,-62.08\"/>\n</g>\n<!-- 27 -->\n<g id=\"node28\" class=\"node\">\n<title>27</title>\n<path fill=\"#5eafea\" stroke=\"black\" d=\"M1280.5,-261C1280.5,-261 1193.5,-261 1193.5,-261 1187.5,-261 1181.5,-255 1181.5,-249 1181.5,-249 1181.5,-205 1181.5,-205 1181.5,-199 1187.5,-193 1193.5,-193 1193.5,-193 1280.5,-193 1280.5,-193 1286.5,-193 1292.5,-199 1292.5,-205 1292.5,-205 1292.5,-249 1292.5,-249 1292.5,-255 1286.5,-261 1280.5,-261\"/>\n<text text-anchor=\"middle\" x=\"1237\" y=\"-245.8\" font-family=\"Helvetica,sans-Serif\" font-size=\"14.00\">avg_p &lt;= 0.955</text>\n<text text-anchor=\"middle\" x=\"1237\" y=\"-230.8\" font-family=\"Helvetica,sans-Serif\" font-size=\"14.00\">gini = 0.264</text>\n<text text-anchor=\"middle\" x=\"1237\" y=\"-215.8\" font-family=\"Helvetica,sans-Serif\" font-size=\"14.00\">samples = 32</text>\n<text text-anchor=\"middle\" x=\"1237\" y=\"-200.8\" font-family=\"Helvetica,sans-Serif\" font-size=\"14.00\">value = [5, 27]</text>\n</g>\n<!-- 26&#45;&gt;27 -->\n<g id=\"edge27\" class=\"edge\">\n<title>26&#45;&gt;27</title>\n<path fill=\"none\" stroke=\"black\" d=\"M1237,-296.88C1237,-288.78 1237,-279.98 1237,-271.47\"/>\n<polygon fill=\"black\" stroke=\"black\" points=\"1240.5,-271.3 1237,-261.3 1233.5,-271.3 1240.5,-271.3\"/>\n</g>\n<!-- 32 -->\n<g id=\"node33\" class=\"node\">\n<title>32</title>\n<path fill=\"#f2c09c\" stroke=\"black\" d=\"M1487,-261C1487,-261 1393,-261 1393,-261 1387,-261 1381,-255 1381,-249 1381,-249 1381,-205 1381,-205 1381,-199 1387,-193 1393,-193 1393,-193 1487,-193 1487,-193 1493,-193 1499,-199 1499,-205 1499,-205 1499,-249 1499,-249 1499,-255 1493,-261 1487,-261\"/>\n<text text-anchor=\"middle\" x=\"1440\" y=\"-245.8\" font-family=\"Helvetica,sans-Serif\" font-size=\"14.00\">prediction &lt;= 1.5</text>\n<text text-anchor=\"middle\" x=\"1440\" y=\"-230.8\" font-family=\"Helvetica,sans-Serif\" font-size=\"14.00\">gini = 0.444</text>\n<text text-anchor=\"middle\" x=\"1440\" y=\"-215.8\" font-family=\"Helvetica,sans-Serif\" font-size=\"14.00\">samples = 30</text>\n<text text-anchor=\"middle\" x=\"1440\" y=\"-200.8\" font-family=\"Helvetica,sans-Serif\" font-size=\"14.00\">value = [20, 10]</text>\n</g>\n<!-- 26&#45;&gt;32 -->\n<g id=\"edge32\" class=\"edge\">\n<title>26&#45;&gt;32</title>\n<path fill=\"none\" stroke=\"black\" d=\"M1302.91,-296.88C1324.99,-285.79 1349.64,-273.4 1371.89,-262.22\"/>\n<polygon fill=\"black\" stroke=\"black\" points=\"1373.57,-265.3 1380.93,-257.68 1370.42,-259.04 1373.57,-265.3\"/>\n</g>\n<!-- 28 -->\n<g id=\"node29\" class=\"node\">\n<title>28</title>\n<path fill=\"#e58139\" stroke=\"black\" d=\"M1206.5,-149.5C1206.5,-149.5 1135.5,-149.5 1135.5,-149.5 1129.5,-149.5 1123.5,-143.5 1123.5,-137.5 1123.5,-137.5 1123.5,-108.5 1123.5,-108.5 1123.5,-102.5 1129.5,-96.5 1135.5,-96.5 1135.5,-96.5 1206.5,-96.5 1206.5,-96.5 1212.5,-96.5 1218.5,-102.5 1218.5,-108.5 1218.5,-108.5 1218.5,-137.5 1218.5,-137.5 1218.5,-143.5 1212.5,-149.5 1206.5,-149.5\"/>\n<text text-anchor=\"middle\" x=\"1171\" y=\"-134.3\" font-family=\"Helvetica,sans-Serif\" font-size=\"14.00\">gini = 0.0</text>\n<text text-anchor=\"middle\" x=\"1171\" y=\"-119.3\" font-family=\"Helvetica,sans-Serif\" font-size=\"14.00\">samples = 1</text>\n<text text-anchor=\"middle\" x=\"1171\" y=\"-104.3\" font-family=\"Helvetica,sans-Serif\" font-size=\"14.00\">value = [1, 0]</text>\n</g>\n<!-- 27&#45;&gt;28 -->\n<g id=\"edge28\" class=\"edge\">\n<title>27&#45;&gt;28</title>\n<path fill=\"none\" stroke=\"black\" d=\"M1215.57,-192.88C1208.38,-181.78 1200.36,-169.37 1193.12,-158.18\"/>\n<polygon fill=\"black\" stroke=\"black\" points=\"1195.88,-156.01 1187.51,-149.52 1190.01,-159.82 1195.88,-156.01\"/>\n</g>\n<!-- 29 -->\n<g id=\"node30\" class=\"node\">\n<title>29</title>\n<path fill=\"#56ace9\" stroke=\"black\" d=\"M1359,-157C1359,-157 1249,-157 1249,-157 1243,-157 1237,-151 1237,-145 1237,-145 1237,-101 1237,-101 1237,-95 1243,-89 1249,-89 1249,-89 1359,-89 1359,-89 1365,-89 1371,-95 1371,-101 1371,-101 1371,-145 1371,-145 1371,-151 1365,-157 1359,-157\"/>\n<text text-anchor=\"middle\" x=\"1304\" y=\"-141.8\" font-family=\"Helvetica,sans-Serif\" font-size=\"14.00\">patch_num &lt;= 48.0</text>\n<text text-anchor=\"middle\" x=\"1304\" y=\"-126.8\" font-family=\"Helvetica,sans-Serif\" font-size=\"14.00\">gini = 0.225</text>\n<text text-anchor=\"middle\" x=\"1304\" y=\"-111.8\" font-family=\"Helvetica,sans-Serif\" font-size=\"14.00\">samples = 31</text>\n<text text-anchor=\"middle\" x=\"1304\" y=\"-96.8\" font-family=\"Helvetica,sans-Serif\" font-size=\"14.00\">value = [4, 27]</text>\n</g>\n<!-- 27&#45;&gt;29 -->\n<g id=\"edge29\" class=\"edge\">\n<title>27&#45;&gt;29</title>\n<path fill=\"none\" stroke=\"black\" d=\"M1258.75,-192.88C1264.43,-184.24 1270.62,-174.82 1276.55,-165.79\"/>\n<polygon fill=\"black\" stroke=\"black\" points=\"1279.56,-167.58 1282.13,-157.3 1273.71,-163.74 1279.56,-167.58\"/>\n</g>\n<!-- 30 -->\n<g id=\"node31\" class=\"node\">\n<title>30</title>\n<path fill=\"#399de5\" stroke=\"black\" d=\"M1335,-53C1335,-53 1257,-53 1257,-53 1251,-53 1245,-47 1245,-41 1245,-41 1245,-12 1245,-12 1245,-6 1251,0 1257,0 1257,0 1335,0 1335,0 1341,0 1347,-6 1347,-12 1347,-12 1347,-41 1347,-41 1347,-47 1341,-53 1335,-53\"/>\n<text text-anchor=\"middle\" x=\"1296\" y=\"-37.8\" font-family=\"Helvetica,sans-Serif\" font-size=\"14.00\">gini = 0.0</text>\n<text text-anchor=\"middle\" x=\"1296\" y=\"-22.8\" font-family=\"Helvetica,sans-Serif\" font-size=\"14.00\">samples = 13</text>\n<text text-anchor=\"middle\" x=\"1296\" y=\"-7.8\" font-family=\"Helvetica,sans-Serif\" font-size=\"14.00\">value = [0, 13]</text>\n</g>\n<!-- 29&#45;&gt;30 -->\n<g id=\"edge30\" class=\"edge\">\n<title>29&#45;&gt;30</title>\n<path fill=\"none\" stroke=\"black\" d=\"M1301.2,-88.95C1300.5,-80.62 1299.74,-71.65 1299.02,-63.2\"/>\n<polygon fill=\"black\" stroke=\"black\" points=\"1302.51,-62.91 1298.18,-53.24 1295.53,-63.5 1302.51,-62.91\"/>\n</g>\n<!-- 31 -->\n<g id=\"node32\" class=\"node\">\n<title>31</title>\n<path fill=\"#72b9ec\" stroke=\"black\" d=\"M1455,-53C1455,-53 1377,-53 1377,-53 1371,-53 1365,-47 1365,-41 1365,-41 1365,-12 1365,-12 1365,-6 1371,0 1377,0 1377,0 1455,0 1455,0 1461,0 1467,-6 1467,-12 1467,-12 1467,-41 1467,-41 1467,-47 1461,-53 1455,-53\"/>\n<text text-anchor=\"middle\" x=\"1416\" y=\"-37.8\" font-family=\"Helvetica,sans-Serif\" font-size=\"14.00\">gini = 0.346</text>\n<text text-anchor=\"middle\" x=\"1416\" y=\"-22.8\" font-family=\"Helvetica,sans-Serif\" font-size=\"14.00\">samples = 18</text>\n<text text-anchor=\"middle\" x=\"1416\" y=\"-7.8\" font-family=\"Helvetica,sans-Serif\" font-size=\"14.00\">value = [4, 14]</text>\n</g>\n<!-- 29&#45;&gt;31 -->\n<g id=\"edge31\" class=\"edge\">\n<title>29&#45;&gt;31</title>\n<path fill=\"none\" stroke=\"black\" d=\"M1343.17,-88.95C1354.34,-79.53 1366.49,-69.27 1377.61,-59.89\"/>\n<polygon fill=\"black\" stroke=\"black\" points=\"1380.11,-62.36 1385.5,-53.24 1375.6,-57.01 1380.11,-62.36\"/>\n</g>\n<!-- 33 -->\n<g id=\"node34\" class=\"node\">\n<title>33</title>\n<path fill=\"#e58139\" stroke=\"black\" d=\"M1479,-149.5C1479,-149.5 1401,-149.5 1401,-149.5 1395,-149.5 1389,-143.5 1389,-137.5 1389,-137.5 1389,-108.5 1389,-108.5 1389,-102.5 1395,-96.5 1401,-96.5 1401,-96.5 1479,-96.5 1479,-96.5 1485,-96.5 1491,-102.5 1491,-108.5 1491,-108.5 1491,-137.5 1491,-137.5 1491,-143.5 1485,-149.5 1479,-149.5\"/>\n<text text-anchor=\"middle\" x=\"1440\" y=\"-134.3\" font-family=\"Helvetica,sans-Serif\" font-size=\"14.00\">gini = 0.0</text>\n<text text-anchor=\"middle\" x=\"1440\" y=\"-119.3\" font-family=\"Helvetica,sans-Serif\" font-size=\"14.00\">samples = 12</text>\n<text text-anchor=\"middle\" x=\"1440\" y=\"-104.3\" font-family=\"Helvetica,sans-Serif\" font-size=\"14.00\">value = [12, 0]</text>\n</g>\n<!-- 32&#45;&gt;33 -->\n<g id=\"edge33\" class=\"edge\">\n<title>32&#45;&gt;33</title>\n<path fill=\"none\" stroke=\"black\" d=\"M1440,-192.88C1440,-182.33 1440,-170.6 1440,-159.85\"/>\n<polygon fill=\"black\" stroke=\"black\" points=\"1443.5,-159.52 1440,-149.52 1436.5,-159.52 1443.5,-159.52\"/>\n</g>\n<!-- 34 -->\n<g id=\"node35\" class=\"node\">\n<title>34</title>\n<path fill=\"#d7ebfa\" stroke=\"black\" d=\"M1608.5,-157C1608.5,-157 1521.5,-157 1521.5,-157 1515.5,-157 1509.5,-151 1509.5,-145 1509.5,-145 1509.5,-101 1509.5,-101 1509.5,-95 1515.5,-89 1521.5,-89 1521.5,-89 1608.5,-89 1608.5,-89 1614.5,-89 1620.5,-95 1620.5,-101 1620.5,-101 1620.5,-145 1620.5,-145 1620.5,-151 1614.5,-157 1608.5,-157\"/>\n<text text-anchor=\"middle\" x=\"1565\" y=\"-141.8\" font-family=\"Helvetica,sans-Serif\" font-size=\"14.00\">avg_p &lt;= 0.968</text>\n<text text-anchor=\"middle\" x=\"1565\" y=\"-126.8\" font-family=\"Helvetica,sans-Serif\" font-size=\"14.00\">gini = 0.494</text>\n<text text-anchor=\"middle\" x=\"1565\" y=\"-111.8\" font-family=\"Helvetica,sans-Serif\" font-size=\"14.00\">samples = 18</text>\n<text text-anchor=\"middle\" x=\"1565\" y=\"-96.8\" font-family=\"Helvetica,sans-Serif\" font-size=\"14.00\">value = [8, 10]</text>\n</g>\n<!-- 32&#45;&gt;34 -->\n<g id=\"edge34\" class=\"edge\">\n<title>32&#45;&gt;34</title>\n<path fill=\"none\" stroke=\"black\" d=\"M1480.58,-192.88C1491.94,-183.62 1504.39,-173.45 1516.17,-163.85\"/>\n<polygon fill=\"black\" stroke=\"black\" points=\"1518.66,-166.33 1524.19,-157.3 1514.23,-160.91 1518.66,-166.33\"/>\n</g>\n<!-- 35 -->\n<g id=\"node36\" class=\"node\">\n<title>35</title>\n<path fill=\"#65b3eb\" stroke=\"black\" d=\"M1586,-53C1586,-53 1512,-53 1512,-53 1506,-53 1500,-47 1500,-41 1500,-41 1500,-12 1500,-12 1500,-6 1506,0 1512,0 1512,0 1586,0 1586,0 1592,0 1598,-6 1598,-12 1598,-12 1598,-41 1598,-41 1598,-47 1592,-53 1586,-53\"/>\n<text text-anchor=\"middle\" x=\"1549\" y=\"-37.8\" font-family=\"Helvetica,sans-Serif\" font-size=\"14.00\">gini = 0.298</text>\n<text text-anchor=\"middle\" x=\"1549\" y=\"-22.8\" font-family=\"Helvetica,sans-Serif\" font-size=\"14.00\">samples = 11</text>\n<text text-anchor=\"middle\" x=\"1549\" y=\"-7.8\" font-family=\"Helvetica,sans-Serif\" font-size=\"14.00\">value = [2, 9]</text>\n</g>\n<!-- 34&#45;&gt;35 -->\n<g id=\"edge35\" class=\"edge\">\n<title>34&#45;&gt;35</title>\n<path fill=\"none\" stroke=\"black\" d=\"M1559.4,-88.95C1557.99,-80.62 1556.48,-71.65 1555.04,-63.2\"/>\n<polygon fill=\"black\" stroke=\"black\" points=\"1558.48,-62.51 1553.36,-53.24 1551.58,-63.68 1558.48,-62.51\"/>\n</g>\n<!-- 36 -->\n<g id=\"node37\" class=\"node\">\n<title>36</title>\n<path fill=\"#e9965a\" stroke=\"black\" d=\"M1699.5,-53C1699.5,-53 1628.5,-53 1628.5,-53 1622.5,-53 1616.5,-47 1616.5,-41 1616.5,-41 1616.5,-12 1616.5,-12 1616.5,-6 1622.5,0 1628.5,0 1628.5,0 1699.5,0 1699.5,0 1705.5,0 1711.5,-6 1711.5,-12 1711.5,-12 1711.5,-41 1711.5,-41 1711.5,-47 1705.5,-53 1699.5,-53\"/>\n<text text-anchor=\"middle\" x=\"1664\" y=\"-37.8\" font-family=\"Helvetica,sans-Serif\" font-size=\"14.00\">gini = 0.245</text>\n<text text-anchor=\"middle\" x=\"1664\" y=\"-22.8\" font-family=\"Helvetica,sans-Serif\" font-size=\"14.00\">samples = 7</text>\n<text text-anchor=\"middle\" x=\"1664\" y=\"-7.8\" font-family=\"Helvetica,sans-Serif\" font-size=\"14.00\">value = [6, 1]</text>\n</g>\n<!-- 34&#45;&gt;36 -->\n<g id=\"edge36\" class=\"edge\">\n<title>34&#45;&gt;36</title>\n<path fill=\"none\" stroke=\"black\" d=\"M1599.63,-88.95C1609.4,-79.62 1620.03,-69.47 1629.78,-60.16\"/>\n<polygon fill=\"black\" stroke=\"black\" points=\"1632.22,-62.67 1637.04,-53.24 1627.39,-57.61 1632.22,-62.67\"/>\n</g>\n</g>\n</svg>\n",
      "text/plain": [
       "<graphviz.sources.Source at 0x1e0aeed4490>"
      ]
     },
     "execution_count": 52,
     "metadata": {},
     "output_type": "execute_result"
    }
   ],
   "source": [
    "from graphviz import Source\n",
    "from sklearn.tree import export_graphviz\n",
    "\n",
    "x_class = np.array(['D', 'N'])\n",
    "x_feature = np.array(['slide_score', 'patch_num', 'avg_p', 'var_p', 'prediction'])\n",
    "export_graphviz(\n",
    "        tree_clf,\n",
    "        out_file=\"Classification.dot\",\n",
    "        feature_names=x_feature,\n",
    "        rounded=True,\n",
    "        filled=True\n",
    "    )\n",
    "\n",
    "Source.from_file(\"Classification.dot\")"
   ]
  },
  {
   "cell_type": "code",
   "execution_count": 53,
   "metadata": {},
   "outputs": [
    {
     "name": "stdout",
     "output_type": "stream",
     "text": [
      "Accuracy: 0.9950\n"
     ]
    }
   ],
   "source": [
    "from sklearn.metrics import accuracy_score\n",
    "\n",
    "y_pred_tr = tree_clf.predict(real_X)\n",
    "print('Accuracy: %.4f' % accuracy_score(real_y, y_pred_tr))"
   ]
  },
  {
   "cell_type": "code",
   "execution_count": 67,
   "metadata": {},
   "outputs": [],
   "source": [
    "X = np.array([ [float(x[1]), float(x[2])] for x in real_X if x[4] != 0 ])\n",
    "axes = [np.max(X , axis=0), np.min(X, axis=0)]"
   ]
  },
  {
   "cell_type": "code",
   "execution_count": 80,
   "metadata": {},
   "outputs": [
    {
     "data": {
      "text/plain": [
       "[array([1.36500000e+03, 9.99947906e-01]), array([1., 0.])]"
      ]
     },
     "execution_count": 80,
     "metadata": {},
     "output_type": "execute_result"
    }
   ],
   "source": [
    "axes"
   ]
  },
  {
   "cell_type": "code",
   "execution_count": 79,
   "metadata": {},
   "outputs": [
    {
     "ename": "TypeError",
     "evalue": "'float' object is not subscriptable",
     "output_type": "error",
     "traceback": [
      "\u001b[1;31m---------------------------------------------------------------------------\u001b[0m",
      "\u001b[1;31mTypeError\u001b[0m                                 Traceback (most recent call last)",
      "Cell \u001b[1;32mIn[79], line 34\u001b[0m\n\u001b[0;32m     31\u001b[0m         plt\u001b[39m.\u001b[39mlegend(loc\u001b[39m=\u001b[39m\u001b[39m\"\u001b[39m\u001b[39mlower right\u001b[39m\u001b[39m\"\u001b[39m, fontsize\u001b[39m=\u001b[39m\u001b[39m14\u001b[39m)\n\u001b[0;32m     33\u001b[0m plt\u001b[39m.\u001b[39mfigure(figsize\u001b[39m=\u001b[39m(\u001b[39m8\u001b[39m, \u001b[39m4\u001b[39m))\n\u001b[1;32m---> 34\u001b[0m plot_decision_boundary(tree_clf, real_X, real_y)\n\u001b[0;32m     35\u001b[0m plt\u001b[39m.\u001b[39mplot([\u001b[39m2.45\u001b[39m, \u001b[39m2.45\u001b[39m], [\u001b[39m0\u001b[39m, \u001b[39m3\u001b[39m], \u001b[39m\"\u001b[39m\u001b[39mk-\u001b[39m\u001b[39m\"\u001b[39m, linewidth\u001b[39m=\u001b[39m\u001b[39m2\u001b[39m)\n\u001b[0;32m     36\u001b[0m plt\u001b[39m.\u001b[39mplot([\u001b[39m2.45\u001b[39m, \u001b[39m7.5\u001b[39m], [\u001b[39m1.75\u001b[39m, \u001b[39m1.75\u001b[39m], \u001b[39m\"\u001b[39m\u001b[39mk--\u001b[39m\u001b[39m\"\u001b[39m, linewidth\u001b[39m=\u001b[39m\u001b[39m2\u001b[39m)\n",
      "Cell \u001b[1;32mIn[79], line 9\u001b[0m, in \u001b[0;36mplot_decision_boundary\u001b[1;34m(clf, X, y, axes, legend, plot_training)\u001b[0m\n\u001b[0;32m      8\u001b[0m \u001b[39mdef\u001b[39;00m \u001b[39mplot_decision_boundary\u001b[39m(clf, X, y, axes\u001b[39m=\u001b[39m[\u001b[39m0\u001b[39m, \u001b[39m7.5\u001b[39m, \u001b[39m0\u001b[39m, \u001b[39m3\u001b[39m], legend\u001b[39m=\u001b[39m\u001b[39mFalse\u001b[39;00m, plot_training\u001b[39m=\u001b[39m\u001b[39mTrue\u001b[39;00m):\n\u001b[1;32m----> 9\u001b[0m     x1s \u001b[39m=\u001b[39m np\u001b[39m.\u001b[39mlinspace(axes[\u001b[39m1\u001b[39;49m][\u001b[39m0\u001b[39;49m], axes[\u001b[39m0\u001b[39m][\u001b[39m0\u001b[39m], \u001b[39m100\u001b[39m) \u001b[39m# 0~ 7.5 값 사이에 100개로 나누기 \u001b[39;00m\n\u001b[0;32m     10\u001b[0m     x2s \u001b[39m=\u001b[39m np\u001b[39m.\u001b[39mlinspace(\u001b[39m0\u001b[39m, \u001b[39m1\u001b[39m, \u001b[39m100\u001b[39m)\n\u001b[0;32m     11\u001b[0m     x1, x2 \u001b[39m=\u001b[39m np\u001b[39m.\u001b[39mmeshgrid(x1s, x2s) \u001b[39m#x1s 가 x 좌표로, x2s 가 y 좌표처럼 입력됨\u001b[39;00m\n",
      "\u001b[1;31mTypeError\u001b[0m: 'float' object is not subscriptable"
     ]
    },
    {
     "data": {
      "text/plain": [
       "<Figure size 800x400 with 0 Axes>"
      ]
     },
     "metadata": {},
     "output_type": "display_data"
    }
   ],
   "source": [
    "# 위의 과정을 시각화하기 \n",
    "\n",
    "from matplotlib.colors import ListedColormap\n",
    "\n",
    "X = np.array([ [int(x[1]), float(x[2])] for x in real_X if x[4] != 0 ])\n",
    "axes = [np.max(X , axis=0), np.min(X, axis=0)]\n",
    "\n",
    "def plot_decision_boundary(clf, X, y, axes=[0, 7.5, 0, 3], legend=False, plot_training=True):\n",
    "    x1s = np.linspace(axes[1][0], axes[0][0], 100) # 0~ 7.5 값 사이에 100개로 나누기 \n",
    "    x2s = np.linspace(0, 1, 100)\n",
    "    x1, x2 = np.meshgrid(x1s, x2s) #x1s 가 x 좌표로, x2s 가 y 좌표처럼 입력됨\n",
    "    X_new = np.c_[x1.ravel(), x2.ravel()] \n",
    "    #ravel() : 1차원으로 평평하게 배열\n",
    "    # np.c_ : 2개의 1차원 배열을 세로로 붙여서 2차원 배열 만들기 \n",
    "    # => (x,y) 2차원 좌표 값으로 표현하기. \n",
    "\n",
    "    y_pred = clf.predict(X_new).reshape(x1.shape)\n",
    "    custom_cmap = ListedColormap(['#fafab0','#9898ff','#a0faa0']) # 해당 색깔로 익히기 \n",
    "    plt.contourf(x1, x2, y_pred, alpha=0.3, cmap=custom_cmap) # 등치선 표현하기 \n",
    "    custom_cmap2 = ListedColormap(['#7d7d58','#4c4c7f','#507d50'])\n",
    "    \n",
    "    plt.contour(x1, x2, y_pred, cmap=custom_cmap2, alpha=0.8)\n",
    "    if plot_training:\n",
    "        plt.plot(X[:, 0][y=='N'], X[:, 1][y=='N'], \"yo\", label=\"GT-N\")\n",
    "        plt.plot(X[:, 0][y=='D'], X[:, 1][y=='D'], \"bs\", label=\"GT-D\")\n",
    "        plt.plot(X[:, 0][y=='M'], X[:, 1][y=='M'], \"g^\", label=\"GT-M\")\n",
    "        plt.axis(axes)\n",
    "    plt.xlabel(\"patch_num\", fontsize=14)\n",
    "    plt.ylabel(\"patch_num\", fontsize=14)\n",
    "    if legend:\n",
    "        plt.legend(loc=\"lower right\", fontsize=14)\n",
    "\n",
    "plt.figure(figsize=(8, 4))\n",
    "plot_decision_boundary(tree_clf, real_X, real_y)\n",
    "plt.plot([2.45, 2.45], [0, 3], \"k-\", linewidth=2)\n",
    "plt.plot([2.45, 7.5], [1.75, 1.75], \"k--\", linewidth=2)\n",
    "plt.plot([4.95, 4.95], [0, 1.75], \"k:\", linewidth=2)\n",
    "plt.plot([4.85, 4.85], [1.75, 3], \"k:\", linewidth=2)\n",
    "plt.text(1.40, 1.0, \"Depth=0\", fontsize=15)\n",
    "plt.text(3.2, 1.80, \"Depth=1\", fontsize=13)\n",
    "plt.text(4.05, 0.5, \"(Depth=2)\", fontsize=11)\n",
    "\n",
    "plt.show()"
   ]
  },
  {
   "cell_type": "code",
   "execution_count": 81,
   "metadata": {},
   "outputs": [
    {
     "name": "stderr",
     "output_type": "stream",
     "text": [
      "C:\\Users\\Administrator\\AppData\\Local\\Temp\\ipykernel_16308\\1386026544.py:1: DeprecationWarning: `np.float` is a deprecated alias for the builtin `float`. To silence this warning, use `float` by itself. Doing this will not modify any behavior and is safe. If you specifically wanted the numpy scalar type, use `np.float64` here.\n",
      "Deprecated in NumPy 1.20; for more details and guidance: https://numpy.org/devdocs/release/1.20.0-notes.html#deprecations\n",
      "  np.linspace(np.float(1),int(10),100)\n"
     ]
    },
    {
     "data": {
      "text/plain": [
       "array([ 1.        ,  1.09090909,  1.18181818,  1.27272727,  1.36363636,\n",
       "        1.45454545,  1.54545455,  1.63636364,  1.72727273,  1.81818182,\n",
       "        1.90909091,  2.        ,  2.09090909,  2.18181818,  2.27272727,\n",
       "        2.36363636,  2.45454545,  2.54545455,  2.63636364,  2.72727273,\n",
       "        2.81818182,  2.90909091,  3.        ,  3.09090909,  3.18181818,\n",
       "        3.27272727,  3.36363636,  3.45454545,  3.54545455,  3.63636364,\n",
       "        3.72727273,  3.81818182,  3.90909091,  4.        ,  4.09090909,\n",
       "        4.18181818,  4.27272727,  4.36363636,  4.45454545,  4.54545455,\n",
       "        4.63636364,  4.72727273,  4.81818182,  4.90909091,  5.        ,\n",
       "        5.09090909,  5.18181818,  5.27272727,  5.36363636,  5.45454545,\n",
       "        5.54545455,  5.63636364,  5.72727273,  5.81818182,  5.90909091,\n",
       "        6.        ,  6.09090909,  6.18181818,  6.27272727,  6.36363636,\n",
       "        6.45454545,  6.54545455,  6.63636364,  6.72727273,  6.81818182,\n",
       "        6.90909091,  7.        ,  7.09090909,  7.18181818,  7.27272727,\n",
       "        7.36363636,  7.45454545,  7.54545455,  7.63636364,  7.72727273,\n",
       "        7.81818182,  7.90909091,  8.        ,  8.09090909,  8.18181818,\n",
       "        8.27272727,  8.36363636,  8.45454545,  8.54545455,  8.63636364,\n",
       "        8.72727273,  8.81818182,  8.90909091,  9.        ,  9.09090909,\n",
       "        9.18181818,  9.27272727,  9.36363636,  9.45454545,  9.54545455,\n",
       "        9.63636364,  9.72727273,  9.81818182,  9.90909091, 10.        ])"
      ]
     },
     "execution_count": 81,
     "metadata": {},
     "output_type": "execute_result"
    }
   ],
   "source": [
    "np.linspace(np.float(1),int(10),100)"
   ]
  },
  {
   "cell_type": "code",
   "execution_count": null,
   "metadata": {},
   "outputs": [],
   "source": []
  }
 ],
 "metadata": {
  "kernelspec": {
   "display_name": "Seegen",
   "language": "python",
   "name": "python3"
  },
  "language_info": {
   "codemirror_mode": {
    "name": "ipython",
    "version": 3
   },
   "file_extension": ".py",
   "mimetype": "text/x-python",
   "name": "python",
   "nbconvert_exporter": "python",
   "pygments_lexer": "ipython3",
   "version": "3.9.15 (main, Nov 24 2022, 14:39:17) [MSC v.1916 64 bit (AMD64)]"
  },
  "orig_nbformat": 4,
  "vscode": {
   "interpreter": {
    "hash": "b53e616386802968728cd9617b77c9b10382f37f137d8418f0b818df705fbb2e"
   }
  }
 },
 "nbformat": 4,
 "nbformat_minor": 2
}
