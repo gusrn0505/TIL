{
 "cells": [
  {
   "cell_type": "markdown",
   "metadata": {},
   "source": [
    "## # Preprocessing.ipynb\n",
    "\n",
    "### # from Raw to Preprocessed_for_classification"
   ]
  },
  {
   "cell_type": "code",
   "execution_count": 1,
   "metadata": {},
   "outputs": [],
   "source": [
    "import sys\n",
    "import os\n",
    "import os.path as osp\n",
    "import re\n",
    "from glob import glob\n",
    "import shutil\n",
    "\n",
    "import numpy as np\n",
    "import pandas as pd\n",
    "\n",
    "from tqdm import tqdm\n",
    "\n",
    "from sklearn.model_selection import train_test_split"
   ]
  },
  {
   "cell_type": "code",
   "execution_count": 2,
   "metadata": {},
   "outputs": [
    {
     "name": "stdout",
     "output_type": "stream",
     "text": [
      "전체 데이터 수: 30578\n"
     ]
    }
   ],
   "source": [
    "base_PATH='/home/test/hdd/Dataset/chicken/Dataset/raw/classification'\n",
    "# 전체 데이터 경로 가져오기\n",
    "total_path=glob(osp.join(base_PATH, '*', '*.jpg'))\n",
    "\n",
    "print('전체 데이터 수:',len(total_path))"
   ]
  },
  {
   "cell_type": "code",
   "execution_count": 3,
   "metadata": {},
   "outputs": [],
   "source": [
    "# 정상 닭 데이터 경로\n",
    "class_0_path=glob(osp.join(base_PATH, '0','*.jpg'))\n",
    "# 파계 데이터 경로\n",
    "class_1_path=glob(osp.join(base_PATH, '1', '*.jpg'))"
   ]
  },
  {
   "cell_type": "code",
   "execution_count": 4,
   "metadata": {},
   "outputs": [
    {
     "name": "stdout",
     "output_type": "stream",
     "text": [
      "정상 닭 이미지 수: 30493\n",
      "파계 이미지 수: 85\n"
     ]
    }
   ],
   "source": [
    "# 정상 닭 이미지 개수\n",
    "print('정상 닭 이미지 수:',len(class_0_path))\n",
    "# 파계 이미지 개수\n",
    "print('파계 이미지 수:',len(class_1_path))"
   ]
  },
  {
   "cell_type": "code",
   "execution_count": 5,
   "metadata": {},
   "outputs": [],
   "source": [
    "# 파계를 train : val : test = 55 : 15: 15 = 약 0.65 : 0.175 : 0.175 비율로 나눔\n",
    "idx_class_1=list(range(0,len(class_1_path)))\n",
    "np.random.seed(42)\n",
    "np.random.shuffle(idx_class_1)\n",
    "\n",
    "train_class_1=class_1_path[:55]\n",
    "val_class_1=class_1_path[55:70]\n",
    "test_class_1=class_1_path[70:]"
   ]
  },
  {
   "cell_type": "code",
   "execution_count": 6,
   "metadata": {},
   "outputs": [],
   "source": [
    "# validation & test -> Normal : Abnormal = 90 : 10 가 되도록 구성\n",
    "idx_class_0=list(range(0, len(class_0_path)))\n",
    "np.random.seed(42)\n",
    "np.random.shuffle(idx_class_0)\n",
    "\n",
    "val_idx=15*9\n",
    "test_idx=15*9\n",
    "\n",
    "train_class_0=class_0_path[(val_idx+test_idx):]\n",
    "val_class_0=class_0_path[:val_idx]\n",
    "test_class_0=class_0_path[val_idx:(val_idx+test_idx)]"
   ]
  },
  {
   "cell_type": "code",
   "execution_count": 7,
   "metadata": {},
   "outputs": [],
   "source": [
    "# 정상 닭과 파계 데이터를 합침\n",
    "#train_path=train_class_0+train_class_1 + train_class_1*19  # over-sampling : 약 20배\n",
    "train_path=train_class_0+train_class_1 ## 이번 연구에서는 over-sampling을 진행하지 않음\n",
    "val_path=val_class_0+val_class_1\n",
    "test_path=test_class_0+test_class_1"
   ]
  },
  {
   "cell_type": "code",
   "execution_count": 8,
   "metadata": {},
   "outputs": [
    {
     "name": "stdout",
     "output_type": "stream",
     "text": [
      "Train set size: 30278\n",
      "Validation set size: 150\n",
      "Test set size: 150\n"
     ]
    }
   ],
   "source": [
    "print(f\"Train set size: {len(train_path)}\")\n",
    "## Oversampling 수행 시 31323, 미 수행시 30278개\n",
    "print(f\"Validation set size: {len(val_path)}\")\n",
    "print(f\"Test set size: {len(test_path)}\")"
   ]
  },
  {
   "cell_type": "code",
   "execution_count": 9,
   "metadata": {},
   "outputs": [
    {
     "name": "stdout",
     "output_type": "stream",
     "text": [
      "Oversampling 31323\n",
      "No Oversampling 30278\n",
      "gap 1045\n"
     ]
    }
   ],
   "source": [
    "print('Oversampling', len(train_class_0+train_class_1 + train_class_1*19))\n",
    "print('No Oversampling', len(train_class_0+train_class_1))\n",
    "print('gap',len(train_class_0+train_class_1 + train_class_1*19)-len(train_class_0+train_class_1))"
   ]
  },
  {
   "cell_type": "code",
   "execution_count": null,
   "metadata": {},
   "outputs": [],
   "source": [
    "# train, val, test 폴더 생성\n",
    "folder_list=['train','val','test']\n",
    "dst_base_PATH='/home/test/hdd/Dataset/chicken/Dataset/preprocessed2'\n",
    "\n",
    "for fd in folder_list:\n",
    "    folder_path=osp.join(dst_base_PATH, fd)\n",
    "    if not osp.exists(folder_path):\n",
    "        os.mkdir(folder_path)\n",
    "        \n",
    "    for i in range(2):\n",
    "        folder=osp.join(folder_path, str(i))\n",
    "        if not osp.exists(folder):\n",
    "            os.mkdir(folder)"
   ]
  },
  {
   "cell_type": "code",
   "execution_count": 25,
   "metadata": {},
   "outputs": [
    {
     "name": "stderr",
     "output_type": "stream",
     "text": [
      "100%|██████████| 30278/30278 [04:32<00:00, 111.11it/s] \n",
      "100%|██████████| 150/150 [00:00<00:00, 215.40it/s]\n",
      "100%|██████████| 150/150 [00:00<00:00, 416.36it/s]\n"
     ]
    }
   ],
   "source": [
    "dict_={'train': train_path, 'val': val_path, 'test': test_path}\n",
    "\n",
    "# preprocessed 폴더로 데이터 복사\n",
    "for key, values in dict_.items():\n",
    "    for path in tqdm(values):\n",
    "        img_src=path\n",
    "        json_src=path.replace('.jpg','.json')\n",
    "        \n",
    "        label=path.split('/')[-2]\n",
    "        img_name=osp.split(img_src)[1]\n",
    "        json_name=osp.split(json_src)[1]\n",
    "                \n",
    "        img_dst=osp.join(dst_base_PATH, key, label, img_name)\n",
    "        json_dst=osp.join(dst_base_PATH, key, label, json_name)\n",
    "        \n",
    "        # for oversampling\n",
    "        if key=='train':\n",
    "            if osp.exists(img_dst):\n",
    "                while True:\n",
    "                    img_name='a'+img_name\n",
    "                    img_dst=osp.join(dst_base_PATH, key, label, img_name)\n",
    "                    if not osp.exists(img_dst):\n",
    "                        json_dst=img_dst.replace('.jpg','.json')\n",
    "                        break\n",
    "                    \n",
    "        \n",
    "        _=shutil.copyfile(img_src, img_dst)\n",
    "        _=shutil.copyfile(json_src, json_dst)"
   ]
  },
  {
   "cell_type": "code",
   "execution_count": null,
   "metadata": {},
   "outputs": [],
   "source": []
  }
 ],
 "metadata": {
  "kernelspec": {
   "display_name": "Python 3",
   "language": "python",
   "name": "python3"
  },
  "language_info": {
   "codemirror_mode": {
    "name": "ipython",
    "version": 3
   },
   "file_extension": ".py",
   "mimetype": "text/x-python",
   "name": "python",
   "nbconvert_exporter": "python",
   "pygments_lexer": "ipython3",
   "version": "3.8.5"
  }
 },
 "nbformat": 4,
 "nbformat_minor": 4
}
