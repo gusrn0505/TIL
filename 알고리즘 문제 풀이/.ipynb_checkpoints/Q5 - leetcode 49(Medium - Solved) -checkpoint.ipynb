{
 "cells": [
  {
   "cell_type": "markdown",
   "id": "be5071b2",
   "metadata": {},
   "source": [
    "## Q5 - leetcode 49(Medium) \n",
    "\n",
    "Given an array of strings strs, group the anagrams together. You can return the answer in any order.\n",
    "\n",
    "An Anagram is a word or phrase formed by rearranging the letters of a different word or phrase, typically using all the original letters exactly once."
   ]
  },
  {
   "cell_type": "markdown",
   "id": "8290d9ab",
   "metadata": {},
   "source": [
    "Example 1:\n",
    "\n",
    "Input: strs = [\"eat\",\"tea\",\"tan\",\"ate\",\"nat\",\"bat\"]\n",
    "Output: [[\"bat\"],[\"nat\",\"tan\"],[\"ate\",\"eat\",\"tea\"]]"
   ]
  },
  {
   "cell_type": "markdown",
   "id": "c1c72ecf",
   "metadata": {},
   "source": [
    "Example 2:\n",
    "\n",
    "Input: strs = [\"\"]\n",
    "Output: [[\"\"]]"
   ]
  },
  {
   "cell_type": "markdown",
   "id": "0e933b43",
   "metadata": {},
   "source": [
    "Example 3:\n",
    "\n",
    "Input: strs = [\"a\"]\n",
    "Output: [[\"a\"]]"
   ]
  },
  {
   "cell_type": "markdown",
   "id": "68196e5b",
   "metadata": {},
   "source": [
    "조건 \n",
    "1. 애너그럼 관계인 항목들을 식별해야 한다.\n",
    "- 애너그럼 관계 : 철자의 위치를 바꾸었을 때 동일한 단어들\n",
    "> 즉, 각 단어마다 철자의 갯수를 파악한다면 판단할 수 있음.\n",
    "> 각 단어별 list 메서드사용 및 sorted() 메서드를 통해서 사전식으로 나열 진행 \n",
    "\n",
    "2. 애너그럼 관계인 항목끼리 묶어야 한다. \n",
    "> defaultdict 형식을 통해서 graph 표현 \n"
   ]
  },
  {
   "cell_type": "code",
   "execution_count": 1,
   "id": "695cd28d",
   "metadata": {},
   "outputs": [],
   "source": [
    "E1 =  [\"eat\",\"tea\",\"tan\",\"ate\",\"nat\",\"bat\"]\n",
    "E2 =  [\"\"]\n",
    "E3 =  [\"a\"]"
   ]
  },
  {
   "cell_type": "code",
   "execution_count": null,
   "id": "79f7cce3",
   "metadata": {},
   "outputs": [],
   "source": [
    "# 초기값 \n",
    "\n",
    "class Solution:\n",
    "    def groupAnagrams(self, strs) :"
   ]
  },
  {
   "cell_type": "code",
   "execution_count": 6,
   "id": "352cd2c2",
   "metadata": {},
   "outputs": [
    {
     "name": "stdout",
     "output_type": "stream",
     "text": [
      "example\n",
      "['a', 'e', 't']\n",
      "['a', 'e', 't']\n",
      "['a', 'n', 't']\n",
      "['a', 'e', 't']\n",
      "['a', 'n', 't']\n",
      "['a', 'b', 't']\n"
     ]
    }
   ],
   "source": [
    "# split() 메서드 및 sorted() 메서드를 통해서 사전식으로 철자 나열 및 횟수 비교\n",
    "\n",
    "for word in E1 : \n",
    "    a = sorted(list(word))\n",
    "    print(a)"
   ]
  },
  {
   "cell_type": "code",
   "execution_count": 12,
   "id": "c349d15f",
   "metadata": {},
   "outputs": [
    {
     "name": "stdout",
     "output_type": "stream",
     "text": [
      "defaultdict(<class 'list'>, {'aet': ['eat', 'tea', 'ate'], 'ant': ['tan', 'nat'], 'abt': ['bat']})\n",
      "dict_values([['eat', 'tea', 'ate'], ['tan', 'nat'], ['bat']])\n"
     ]
    }
   ],
   "source": [
    "# defaultdict 형식을 통해서 graph 표현 \n",
    "\n",
    "from collections import defaultdict \n",
    "\n",
    "graph = defaultdict(list)\n",
    "\n",
    "for word in E1 : \n",
    "    graph[''.join(sorted(list(word)))].append(word)\n",
    "\n",
    "print(graph)\n",
    "print(graph.values())\n"
   ]
  },
  {
   "cell_type": "code",
   "execution_count": 13,
   "id": "a59693e1",
   "metadata": {},
   "outputs": [],
   "source": [
    "# 초안 \n",
    "\n",
    "from collections import defaultdict\n",
    "class Solution:\n",
    "    def groupAnagrams(self, strs) :\n",
    "        graph = defaultdict(list)\n",
    "        for word in strs : \n",
    "            graph[\"\".join(sorted(list(word)))].append(word)\n",
    "        \n",
    "        return graph.values()\n",
    "        \n",
    "       \n",
    "    \n",
    "        \n",
    "        "
   ]
  },
  {
   "cell_type": "code",
   "execution_count": 14,
   "id": "24576b3e",
   "metadata": {},
   "outputs": [],
   "source": [
    "test = Solution()"
   ]
  },
  {
   "cell_type": "code",
   "execution_count": 19,
   "id": "f09a3d36",
   "metadata": {},
   "outputs": [
    {
     "name": "stdout",
     "output_type": "stream",
     "text": [
      "dict_values([['eat', 'tea', 'ate'], ['tan', 'nat'], ['bat']])\n",
      "dict_values([['']])\n",
      "dict_values([['a']])\n"
     ]
    }
   ],
   "source": [
    "print(test.groupAnagrams(E1))\n",
    "print(test.groupAnagrams(E2))\n",
    "print(test.groupAnagrams(E3))"
   ]
  },
  {
   "cell_type": "markdown",
   "id": "22d4aea2",
   "metadata": {},
   "source": [
    "#### 결과 \n",
    "\n",
    "Runtime: **100 ms, faster than 83.99%** of Python3 online submissions for Group Anagrams.\n",
    "Memory Usage: **17.9 MB, less than 54.33%** of Python3 online submissions for Group Anagrams."
   ]
  },
  {
   "cell_type": "markdown",
   "id": "c8bfa225",
   "metadata": {},
   "source": [
    "### 이전 풀이 "
   ]
  },
  {
   "cell_type": "code",
   "execution_count": null,
   "id": "741330ec",
   "metadata": {},
   "outputs": [],
   "source": [
    "class Solution:\n",
    "    def groupAnagrams(self, strs) :\n",
    "        anagrams = collections.defaultdict(list)\n",
    "\n",
    "        for word in strs : \n",
    "            anagrams[''.join(sorted(word))].append(word)\n",
    "        \n",
    "        return list(anagrams.values())"
   ]
  },
  {
   "cell_type": "markdown",
   "id": "71b65a2e",
   "metadata": {},
   "source": [
    "### 차이 \n",
    "- 각 단어에 대해 list를 언제 씌워주는 가. \n",
    "\n",
    "이전 풀이의 결과 \n",
    "\n",
    "**Runtime: 92 ms**\n",
    "\n",
    "**Memory Usage: 17 MB**\n",
    "\n",
    "#### 개선점 \n",
    "- 처리를 마지막에 진행해주는 것이 성능이 좀 더 좋다. \n",
    "\n",
    "#### 알아둘 점 \n",
    "- 특정 문자열에 대해서 sorted() 메서드를 쓰면 list의 형태로 반환한다. \n"
   ]
  },
  {
   "cell_type": "code",
   "execution_count": null,
   "id": "388bc61b",
   "metadata": {},
   "outputs": [],
   "source": []
  },
  {
   "cell_type": "code",
   "execution_count": null,
   "id": "fa0a2d48",
   "metadata": {},
   "outputs": [],
   "source": []
  },
  {
   "cell_type": "code",
   "execution_count": null,
   "id": "df16bccc",
   "metadata": {},
   "outputs": [],
   "source": []
  },
  {
   "cell_type": "code",
   "execution_count": null,
   "id": "d4caf60d",
   "metadata": {},
   "outputs": [],
   "source": []
  },
  {
   "cell_type": "code",
   "execution_count": null,
   "id": "20f0480f",
   "metadata": {},
   "outputs": [],
   "source": []
  },
  {
   "cell_type": "code",
   "execution_count": null,
   "id": "5955445e",
   "metadata": {},
   "outputs": [],
   "source": []
  },
  {
   "cell_type": "code",
   "execution_count": null,
   "id": "ba19b571",
   "metadata": {},
   "outputs": [],
   "source": []
  },
  {
   "cell_type": "code",
   "execution_count": null,
   "id": "9cea4f01",
   "metadata": {},
   "outputs": [],
   "source": []
  },
  {
   "cell_type": "code",
   "execution_count": null,
   "id": "9a29f570",
   "metadata": {},
   "outputs": [],
   "source": []
  },
  {
   "cell_type": "code",
   "execution_count": null,
   "id": "141412f4",
   "metadata": {},
   "outputs": [],
   "source": []
  },
  {
   "cell_type": "code",
   "execution_count": null,
   "id": "a713be06",
   "metadata": {},
   "outputs": [],
   "source": []
  },
  {
   "cell_type": "code",
   "execution_count": null,
   "id": "d09c2df7",
   "metadata": {},
   "outputs": [],
   "source": []
  },
  {
   "cell_type": "code",
   "execution_count": null,
   "id": "33672f45",
   "metadata": {},
   "outputs": [],
   "source": []
  },
  {
   "cell_type": "code",
   "execution_count": null,
   "id": "3d621aed",
   "metadata": {},
   "outputs": [],
   "source": []
  },
  {
   "cell_type": "code",
   "execution_count": null,
   "id": "16d6907e",
   "metadata": {},
   "outputs": [],
   "source": []
  },
  {
   "cell_type": "code",
   "execution_count": null,
   "id": "94982b49",
   "metadata": {},
   "outputs": [],
   "source": []
  },
  {
   "cell_type": "code",
   "execution_count": null,
   "id": "752d8044",
   "metadata": {},
   "outputs": [],
   "source": []
  },
  {
   "cell_type": "code",
   "execution_count": null,
   "id": "022f3e08",
   "metadata": {},
   "outputs": [],
   "source": []
  }
 ],
 "metadata": {
  "kernelspec": {
   "display_name": "Python 3",
   "language": "python",
   "name": "python3"
  },
  "language_info": {
   "codemirror_mode": {
    "name": "ipython",
    "version": 3
   },
   "file_extension": ".py",
   "mimetype": "text/x-python",
   "name": "python",
   "nbconvert_exporter": "python",
   "pygments_lexer": "ipython3",
   "version": "3.8.8"
  }
 },
 "nbformat": 4,
 "nbformat_minor": 5
}
