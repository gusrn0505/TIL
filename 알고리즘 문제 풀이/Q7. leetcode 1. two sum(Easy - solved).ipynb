{
 "cells": [
  {
   "cell_type": "markdown",
   "id": "47f8e0d3",
   "metadata": {},
   "source": [
    "## Q7 - leetcode 1. two sum \n",
    "\n",
    "Given an array of integers nums and an integer target, return indices of the two numbers such that they add up to target.\n",
    "\n",
    "You may assume that each input would have exactly one solution, and you may not use the same element twice.\n",
    "\n",
    "You can return the answer in any order."
   ]
  },
  {
   "cell_type": "markdown",
   "id": "3636ab47",
   "metadata": {},
   "source": [
    "Example 1:\n",
    "\n",
    "Input: nums = [2,7,11,15], target = 9\n",
    "Output: [0,1]\n",
    "Explanation: Because nums[0] + nums[1] == 9, we return [0, 1]."
   ]
  },
  {
   "cell_type": "markdown",
   "id": "ba42870e",
   "metadata": {},
   "source": [
    "Example 2:\n",
    "\n",
    "Input: nums = [3,2,4], target = 6\n",
    "Output: [1,2]"
   ]
  },
  {
   "cell_type": "markdown",
   "id": "cabf725f",
   "metadata": {},
   "source": [
    "Example 3:\n",
    "\n",
    "Input: nums = [3,3], target = 6\n",
    "Output: [0,1]"
   ]
  },
  {
   "cell_type": "code",
   "execution_count": null,
   "id": "07c451ca",
   "metadata": {},
   "outputs": [],
   "source": [
    "# 초기값\n",
    "\n",
    "class Solution:\n",
    "    def twoSum(self, nums, target) :"
   ]
  },
  {
   "cell_type": "code",
   "execution_count": 2,
   "id": "b7a71192",
   "metadata": {},
   "outputs": [],
   "source": [
    "E1 = [2,7,11,15]\n",
    "E1_target = 9\n",
    "\n",
    "E2 = [3,2,4]\n",
    "E2_target = 6 \n",
    "\n",
    "E3 = [3,3]\n",
    "E3_target = 6"
   ]
  },
  {
   "cell_type": "markdown",
   "id": "2c686d8c",
   "metadata": {},
   "source": [
    "조건 \n",
    "1. 리스트로 주어진 수의 조합을 통해서 target 수에 맞춰라. \n",
    "2. 한번 쓴 수는 다시 사용하면 안된다. "
   ]
  },
  {
   "cell_type": "markdown",
   "id": "3e9ee06f",
   "metadata": {},
   "source": [
    "### 풀이 \n",
    "1. brutal force 방식으로 수의 조합을 찾아낸다. \n",
    "\n",
    "2. a + b = target <=> b = target - a 공식을 이용한다. \n",
    "- b의 값은 \"target-a\" 와 동일해야 하나, a와 동일한 인덱스이면 안된다. \n"
   ]
  },
  {
   "cell_type": "code",
   "execution_count": 6,
   "id": "3cb23c4f",
   "metadata": {},
   "outputs": [],
   "source": [
    "# 2번 풀이 적용 \n",
    "class Solution:\n",
    "    def twoSum(self, nums, target) :\n",
    "        for i, num in enumerate(nums) : \n",
    "            if target - num in nums[i+1:] : \n",
    "                return [i, nums[i+1:].index(target-num) + i+1]\n",
    "        "
   ]
  },
  {
   "cell_type": "code",
   "execution_count": 7,
   "id": "d07807b7",
   "metadata": {},
   "outputs": [
    {
     "name": "stdout",
     "output_type": "stream",
     "text": [
      "[0, 1]\n",
      "[1, 2]\n",
      "[0, 1]\n"
     ]
    }
   ],
   "source": [
    "test = Solution() \n",
    "print(test.twoSum(E1, E1_target))\n",
    "print(test.twoSum(E2, E2_target))\n",
    "print(test.twoSum(E3, E3_target))"
   ]
  },
  {
   "cell_type": "markdown",
   "id": "341fa160",
   "metadata": {},
   "source": [
    "## 결과 - Success \n",
    "\n",
    "**Runtime: 752 ms, faster than 34.79%** of Python3 online submissions for Two Sum.\n",
    "**Memory Usage: 14.9 MB, less than 87.64%** of Python3 online submissions for Two Sum."
   ]
  },
  {
   "cell_type": "markdown",
   "id": "91d6b7f0",
   "metadata": {},
   "source": [
    "# 이전 풀이 "
   ]
  },
  {
   "cell_type": "code",
   "execution_count": null,
   "id": "acadaa74",
   "metadata": {},
   "outputs": [],
   "source": [
    "class Solution:\n",
    "    def twoSum(self, nums, target) :\n",
    "        graph = {} \n",
    "        for i, value in enumerate(nums) : \n",
    "            graph[value] = i \n",
    "        \n",
    "        for i, value in enumerate(nums) : \n",
    "            left = target - value \n",
    "            if left in graph and i != graph[left] : \n",
    "                return [i, graph[left]]"
   ]
  },
  {
   "cell_type": "markdown",
   "id": "fa40943f",
   "metadata": {},
   "source": [
    "##### 개선점 \n",
    "\n",
    "이전 풀이에는 dictionary 를 사용하여 index를 호출하는 속도를 비약적으로 향상시킴. \n",
    "단, 이 풀이 방식은 two sum에서는 사용할 수 있으나, 다른 풀이에 사용하기엔 어려운 점이 있음. \n",
    "왜냐하면 key 값 1개 당 index를 하나밖에 저장하지 못해, 최종적으로 graph[value] 에는 가장 마지막 index만 기록되기 때문. \n",
    "\n",
    "물론 이 방법은 defaultdict(list)를 사용하면 해결되나, 그럴 경우 계산 속도가 늦쳐질 것. \n",
    "\n",
    "위의 graph 방법은 two-sum 문제에 한해서 가장 최적화된 풀이라 할 수 있음. "
   ]
  },
  {
   "cell_type": "code",
   "execution_count": null,
   "id": "fef976c9",
   "metadata": {},
   "outputs": [],
   "source": []
  },
  {
   "cell_type": "code",
   "execution_count": null,
   "id": "edf73ab2",
   "metadata": {},
   "outputs": [],
   "source": []
  }
 ],
 "metadata": {
  "kernelspec": {
   "display_name": "Python 3",
   "language": "python",
   "name": "python3"
  },
  "language_info": {
   "codemirror_mode": {
    "name": "ipython",
    "version": 3
   },
   "file_extension": ".py",
   "mimetype": "text/x-python",
   "name": "python",
   "nbconvert_exporter": "python",
   "pygments_lexer": "ipython3",
   "version": "3.8.8"
  }
 },
 "nbformat": 4,
 "nbformat_minor": 5
}
