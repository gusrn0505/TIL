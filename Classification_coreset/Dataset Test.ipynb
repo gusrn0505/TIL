{
 "cells": [
  {
   "cell_type": "code",
   "execution_count": 2,
   "metadata": {},
   "outputs": [],
   "source": [
    "from __future__ import print_function, division\n",
    "import os\n",
    "import torch\n",
    "\n",
    "\n",
    "# DataLoader은 Dataset을 샘플에 쉽게 접근할 수 있도록 순회가능한 객체(iterable)로 감쌉니다\n",
    "from torch.utils.data import Dataset, DataLoader\n",
    "from torchvision import transforms, utils, datasets\n",
    "from torchvision.transforms import ToTensor\n",
    "import torchvision.models as models \n",
    "\n",
    "import pprint\n",
    "from datetime import datetime\n",
    "\n",
    "\n",
    "\n",
    "import torch.nn as nn\n",
    "import torch.nn.functional as F\n",
    "import torch.optim as optim\n",
    "from torch.optim.lr_scheduler import StepLR\n",
    "\n",
    "\n",
    "from auto_encoder import MNIST_BN_32_64_256, ae_train\n",
    "\n",
    "from active_learn import argparser"
   ]
  },
  {
   "cell_type": "code",
   "execution_count": 4,
   "id": "a68852ba",
   "metadata": {},
   "outputs": [],
   "source": [
    "import numpy as np\n",
    "original_data = datasets.MNIST(\n",
    "        root=\"data\",\n",
    "        train=True,\n",
    "        download=True,\n",
    "        transform=ToTensor()\n",
    "    )\n",
    "\n",
    "\n",
    "original_all = []\n",
    "original_dataset = []\n",
    "original_label = [] \n",
    "\n",
    "for sample in original_data : \n",
    "    original_all.append(sample)\n",
    "    feature = np.array(sample[0])\n",
    "    original_dataset.append(feature)\n",
    "    original_label.append(sample[1])\n",
    "    \n",
    "unlabeled_dataset = original_dataset[:]\n",
    "unlabeled_dataset_label = original_label[:]\n",
    "labeled_dataset = [] \n",
    "labeled_dataset_label = []"
   ]
  },
  {
   "cell_type": "code",
   "execution_count": 5,
   "id": "cd3f524e",
   "metadata": {},
   "outputs": [],
   "source": [
    "use_cuda = True\n",
    "\n",
    "\n",
    "device = torch.device(\"cuda\" if use_cuda else \"cpu\")\n",
    "    # use_cuda가 true라면 kwargs를 다음과 같이 지정하기. \n",
    "kwargs = {'num_workers': 1, 'pin_memory': True} if use_cuda else {}\n",
    "\n",
    "    # 데이터 변경시 수정 필요 \n",
    "ae_training_data = datasets.MNIST(\n",
    "    root=\"data\",\n",
    "    train=True,\n",
    "    download=True,\n",
    "    transform=ToTensor())\n",
    "    # 데이터 변경시 수정 필요 \n",
    "ae_test_data = datasets.MNIST(\n",
    "    root=\"data\",\n",
    "    train=False,\n",
    "    download=True,\n",
    "    transform=ToTensor())\n",
    "\n",
    "kwargs = {'num_workers': 1, 'pin_memory': True} if True else {}"
   ]
  },
  {
   "cell_type": "code",
   "execution_count": 9,
   "id": "1ddfe17c",
   "metadata": {},
   "outputs": [],
   "source": [
    "class ConvAutoEncoder(nn.Module):\n",
    "  def __init__(self, input_size, cnn_kernel, cnn_stride, cnn_padding):\n",
    "    super(ConvAutoEncoder, self).__init__()\n",
    "    \n",
    "    # Encoder\n",
    "    self.cnn_layer1 = nn.Sequential(\n",
    "      # (1,28,28) -> (16,16,16)\n",
    "      nn.Conv2d(1, 16, kernel_size = cnn_kernel, stride=cnn_stride, padding=2),\n",
    "      nn.ReLU(),\n",
    "      nn.BatchNorm2d(16), \n",
    "      # (16,16,16) -> (32, 8, 8)\n",
    "      nn.Conv2d(16, 32, kernel_size = cnn_kernel, stride=cnn_stride, padding=cnn_padding),\n",
    "      nn.ReLU(), \n",
    "      nn.BatchNorm2d(32), \n",
    "      # (32, 8, 8) -> (64, 4, 4)\n",
    "      nn.Conv2d(32, 64, kernel_size = cnn_kernel, stride=cnn_stride, padding=cnn_padding),\n",
    "      nn.ReLU(), \n",
    "      nn.BatchNorm2d(64),\n",
    "      #(64, 4, 4) -> (64, 2,2)\n",
    "      nn.MaxPool2d(2,2)\n",
    "      )\n",
    "\n",
    "\n",
    "    self.fc_encoder = nn.Sequential(\n",
    "      nn.Linear(256, 64),\n",
    "      nn.ReLU(),\n",
    "      nn.Linear(64, 8),\n",
    "      nn.ReLU(),\n",
    "      nn.Linear(8, 2),\n",
    "      nn.ReLU()\n",
    "    )\n",
    "\n",
    "    self.fc_decoder = nn.Sequential(\n",
    "      nn.Linear(2, 8),\n",
    "      nn.ReLU(),\n",
    "      nn.Linear(8, 64),\n",
    "      nn.ReLU(),\n",
    "      nn.Linear(64, 256),\n",
    "      nn.ReLU()\n",
    "    )\n",
    "\n",
    "    # Decoder \n",
    "    # ConvTranspose2d : output H/W = Kernel size + stride(input size -1) - 2 padding\n",
    "    # (N, 3, cnn2_size, cnn2_size) => (N, 3, cnn1_size, cnn1_size)\n",
    "    self.tran_cnn_layer1 = nn.Sequential(\n",
    "      nn.ConvTranspose2d(64, 64, kernel_size = cnn_kernel, stride =cnn_stride, padding =cnn_padding),\n",
    "      nn.ReLU(),\n",
    "      nn.BatchNorm2d(64), \n",
    "      nn.ConvTranspose2d(64, 32, kernel_size = cnn_kernel, stride =cnn_stride, padding =cnn_padding),\n",
    "      nn.ReLU(),\n",
    "      nn.BatchNorm2d(32),\n",
    "      nn.ConvTranspose2d(32, 16, kernel_size = cnn_kernel, stride =cnn_stride, padding =cnn_padding),\n",
    "      nn.ReLU(),\n",
    "      nn.BatchNorm2d(16),\n",
    "      #(16, 16, 16) => (1, 28, 28)\n",
    "      nn.ConvTranspose2d(16, 1, kernel_size = cnn_kernel, stride =cnn_stride, padding =2),\n",
    "      nn.ReLU()\n",
    "    )\n",
    "\n",
    "    \n",
    "  def forward(self, x):\n",
    "    out = self.cnn_layer1(x)\n",
    "    out = torch.flatten(out, 1) # batchsize - 64, 32 * cnn2^2  \n",
    "    out = self.fc_encoder(out) # 64, 32 * cnn2^2 -> 64, 2\n",
    "    out = self.fc_decoder(out) # 64, 2 => 64, 32 * cnn2^2 2048\n",
    "    out = out.view(len(x), 64, 2, 2)  # (batch_size, , H, W)\n",
    "    out = self.tran_cnn_layer1(out)\n",
    "    return out\n",
    "\n",
    "  def get_codes(self, x):\n",
    "    out = self.cnn_layer1(x) \n",
    "    out = torch.flatten(out, 1)\n",
    "    out = self.fc_encoder(out)\n",
    "    return out "
   ]
  },
  {
   "cell_type": "code",
   "execution_count": 4,
   "id": "89b4146d",
   "metadata": {},
   "outputs": [],
   "source": [
    "AE = MNIST_BN_32_64_256(10, 2)\n",
    "AE_loss = nn.MSELoss()\n",
    "\n",
    "    \n",
    "AE = AE.to(device)\n",
    "\n",
    "AE_optimizer = optim.Adam(AE.parameters(), lr=0.001)\n"
   ]
  },
  {
   "cell_type": "code",
   "execution_count": 5,
   "id": "7ba09bd4",
   "metadata": {},
   "outputs": [
    {
     "name": "stdout",
     "output_type": "stream",
     "text": [
      "Epoch [0/50], Train Loss: 66.4009, Test Loss: 8.6346 *\n",
      "Epoch [10/50], Train Loss: 37.7085, Test Loss: 6.1433 *\n",
      "Epoch [20/50], Train Loss: 36.0642, Test Loss: 5.9384 *\n",
      "Epoch [30/50], Train Loss: 35.2442, Test Loss: 5.8541 *\n",
      "Epoch [40/50], Train Loss: 34.6748, Test Loss: 5.7733 *\n"
     ]
    }
   ],
   "source": [
    "ae_train(AE, ae_training_data, ae_test_data, device, AE_loss, AE_optimizer, 50, kwargs)"
   ]
  },
  {
   "cell_type": "code",
   "execution_count": 5,
   "id": "8f2815e6",
   "metadata": {},
   "outputs": [
    {
     "name": "stdout",
     "output_type": "stream",
     "text": [
      "Epoch [0/200], Train Loss: 64.2840, Test Loss: 9.7392 *\n",
      "Epoch [10/200], Train Loss: 36.5596, Test Loss: 6.0318 *\n",
      "Epoch [20/200], Train Loss: 35.0725, Test Loss: 5.8455 *\n",
      "Epoch [30/200], Train Loss: 34.2586, Test Loss: 5.7100 *\n",
      "Epoch [40/200], Train Loss: 33.8398, Test Loss: 5.6435 *\n",
      "Epoch [50/200], Train Loss: 33.6228, Test Loss: 5.6383 *\n",
      "Epoch [60/200], Train Loss: 33.3531, Test Loss: 5.5703 *\n",
      "Epoch [70/200], Train Loss: 33.0642, Test Loss: 5.5627 *\n",
      "Epoch [80/200], Train Loss: 33.0067, Test Loss: 5.5746\n",
      "Epoch [90/200], Train Loss: 32.8135, Test Loss: 5.5239 *\n",
      "Epoch [100/200], Train Loss: 32.6338, Test Loss: 5.5524\n",
      "Epoch [110/200], Train Loss: 32.5695, Test Loss: 5.4864 *\n",
      "Epoch [120/200], Train Loss: 32.5104, Test Loss: 5.5197\n",
      "Epoch [130/200], Train Loss: 32.6238, Test Loss: 5.4821 *\n",
      "Epoch [140/200], Train Loss: 32.4893, Test Loss: 5.5158\n",
      "Epoch [150/200], Train Loss: 32.3975, Test Loss: 5.4536 *\n",
      "Epoch [160/200], Train Loss: 32.3485, Test Loss: 5.4515 *\n",
      "Epoch [170/200], Train Loss: 32.2176, Test Loss: 5.4752\n",
      "Epoch [180/200], Train Loss: 32.0023, Test Loss: 5.4463 *\n",
      "Epoch [190/200], Train Loss: 32.0766, Test Loss: 5.5328\n"
     ]
    }
   ],
   "source": [
    "PATH = './weights/MNIST/'\n",
    "if not os.path.exists(PATH): os.mkdir(PATH)\n",
    "\n",
    "        # 한번만 Train을 시킬 방법이 없을까? \n",
    "ae_train(AE, ae_training_data, ae_test_data, device, AE_loss, AE_optimizer, 200, kwargs)\n",
    "\n",
    "torch.save(AE, PATH + 'CAE.pt')  # 전체 모델 저장\n",
    "    \n",
    "torch.save(AE.state_dict(), PATH + 'CAE_state_dict.pt')  # 모델 객체의 state_dict 저장\n",
    "torch.save({'model': AE.state_dict(),\n",
    "        'optimizer': AE_optimizer.state_dict()\n",
    "    }, PATH + 'CAE_all.tar') "
   ]
  },
  {
   "cell_type": "code",
   "execution_count": 6,
   "id": "96de29f2",
   "metadata": {},
   "outputs": [
    {
     "name": "stderr",
     "output_type": "stream",
     "text": [
      "C:\\Users\\user\\AppData\\Local\\Temp\\ipykernel_29324\\3866845871.py:3: UserWarning: Creating a tensor from a list of numpy.ndarrays is extremely slow. Please consider converting the list to a single numpy.ndarray with numpy.array() before converting to a tensor. (Triggered internally at  ..\\torch\\csrc\\utils\\tensor_new.cpp:204.)\n",
      "  test = torch.tensor(test)\n"
     ]
    }
   ],
   "source": [
    "from active_learn import get_features\n",
    "test = unlabeled_dataset[:1000]\n",
    "test = torch.tensor(test)\n",
    "\n",
    "a = get_features(AE, unlabeled_dataset, \"cuda\")\n",
    "#b = AE(test)"
   ]
  },
  {
   "cell_type": "code",
   "execution_count": 6,
   "id": "b464784f",
   "metadata": {},
   "outputs": [],
   "source": [
    "from active_learn import get_features\n",
    "PATH = './weights/MNIST/'\n",
    "B = torch.load(PATH + 'CAE.pt')\n",
    "\n",
    "b = get_features(B, unlabeled_dataset, \"cuda\")"
   ]
  },
  {
   "cell_type": "code",
   "execution_count": 10,
   "id": "9949a4fb",
   "metadata": {},
   "outputs": [
    {
     "ename": "TypeError",
     "evalue": "unhashable type: 'numpy.ndarray'",
     "output_type": "error",
     "traceback": [
      "\u001b[1;31m---------------------------------------------------------------------------\u001b[0m",
      "\u001b[1;31mTypeError\u001b[0m                                 Traceback (most recent call last)",
      "\u001b[1;32mc:\\Users\\user\\Desktop\\TIL\\Classification_coreset\\Dataset Test.ipynb 셀 10\u001b[0m in \u001b[0;36m<cell line: 1>\u001b[1;34m()\u001b[0m\n\u001b[1;32m----> <a href='vscode-notebook-cell:/c%3A/Users/user/Desktop/TIL/Classification_coreset/Dataset%20Test.ipynb#X12sZmlsZQ%3D%3D?line=0'>1</a>\u001b[0m \u001b[39mset\u001b[39;49m(\u001b[39mlist\u001b[39;49m(b))\n",
      "\u001b[1;31mTypeError\u001b[0m: unhashable type: 'numpy.ndarray'"
     ]
    }
   ],
   "source": [
    "set(b)"
   ]
  },
  {
   "cell_type": "code",
   "execution_count": 7,
   "id": "5e98ae86",
   "metadata": {},
   "outputs": [
    {
     "data": {
      "text/plain": [
       "<function matplotlib.pyplot.show(close=None, block=None)>"
      ]
     },
     "execution_count": 7,
     "metadata": {},
     "output_type": "execute_result"
    },
    {
     "data": {
      "image/png": "[encoded data removed]",
      "text/plain": [
       "<Figure size 432x288 with 1 Axes>"
      ]
     },
     "metadata": {
      "needs_background": "light"
     },
     "output_type": "display_data"
    }
   ],
   "source": [
    "from matplotlib import pyplot as plt \n",
    "a = np.array(a)\n",
    "x = a[:,0]\n",
    "y = a[:,1]\n",
    "\n",
    "plt.scatter(x,y, s=1)\n",
    "plt.show"
   ]
  }
 ],
 "metadata": {
  "kernelspec": {
   "display_name": "Python 3 (ipykernel)",
   "language": "python",
   "name": "python3"
  },
  "language_info": {
   "codemirror_mode": {
    "name": "ipython",
    "version": 3
   },
   "file_extension": ".py",
   "mimetype": "text/x-python",
   "name": "python",
   "nbconvert_exporter": "python",
   "pygments_lexer": "ipython3",
   "version": "3.10.8"
  },
  "vscode": {
   "interpreter": {
    "hash": "7ce5735ac0795ce80d9ca82db09fbd3aedd56acddf82388eb9cd49352a280e35"
   }
  }
 },
 "nbformat": 4,
 "nbformat_minor": 5
}
