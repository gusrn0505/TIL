{
 "cells": [
  {
   "cell_type": "markdown",
   "id": "206d1154",
   "metadata": {},
   "source": [
    "# Ensemble Learning - Adaboost\n",
    "\n",
    "\n",
    "### 알고리즘은 강의 자료 참고 \n",
    "Input : Required ensemble size T \n",
    "\n",
    "Input : Training set S = {(x1,y1), (x2,y2), ... , (xn, yn)}, where yi $\\in$ {-1,+1} \n",
    "\n",
    "1. Define a uniform distribution D1(i) over elements of S \n",
    "2. for t =1 to T do \n",
    "- Train a model ht using distribution Dt \n",
    "- Calculate $\\epsilon_t = P_{D_t}(h_t(x) \\neq y)$ \n",
    "\n",
    "- if $\\epsilon_t >= 0.5 $ break \n",
    "\n",
    "- Set $\\alpha_t = \\frac{1}{2}ln(\\frac{1-\\epsilon _t}{\\epsilon_t}) $\n",
    "- Update $D_{t+1}(i) = \\frac{D_t(i)exp(=\\alpha_ty_ih_t(x_i))}{Z_t}$ \n",
    "- where $Z_t$ is a normalization factor so that $D_{t+1}$ is a valid distribution \n",
    "- end for \n",
    "\n",
    "3. For a new testing point(x', y') \n",
    "4. H(x') = sign($\\sum_{t=1}^T \\alpha_th_t(x')$) \n",
    "\n"
   ]
  },
  {
   "cell_type": "code",
   "execution_count": 5,
   "id": "5b058c35",
   "metadata": {},
   "outputs": [],
   "source": [
    "import numpy as np\n",
    "import pandas as pd\n",
    "import random as rand\n",
    "\n",
    "from sklearn.datasets import load_iris\n",
    "X = load_iris()['data'][:100]\n",
    "\n",
    "# y의 값을 +1, -1 둘 중 하나로 변경 \n",
    "y = load_iris()[\"target\"][:100]\n",
    "y[:50] = -1\n",
    "y= y.reshape(-1,1)\n",
    "S = np.concatenate((X,y), axis=1)\n",
    "\n",
    "import matplotlib.pyplot as plt\n",
    "import scipy as sc\n",
    "from scipy.stats import norm\n",
    "from sys import maxsize"
   ]
  },
  {
   "cell_type": "markdown",
   "id": "aa756221",
   "metadata": {},
   "source": [
    "**구현해야 하는 것**\n",
    "- Stump tree \n",
    "- $\\epsilon$ \n",
    "- $\\alpha_t$ \n",
    "- $Z_t$ \n",
    "- $H(x')$ \n",
    "\n",
    "**필요한 것**\n",
    "- T\n",
    "- data : y의 값이 +1, -1으로 정의되어 있을 것 \n",
    "\n",
    "**함수의 형태** \n",
    "- def ababoost(T,S) \n",
    "\n",
    "<아래는 외부 함수로 구현> \n",
    "- def stump_tree(data): 랜덤한 한 변수와 특성을 기준으로 분류\n",
    "- def epsilon(data) : > data의 output 결과와 h 함수로 도출된 결과가 다른 정도 반환 \n",
    "- def alpha(epsilon) : > 입실론 값 입력시 alpha 값 반환\n"
   ]
  },
  {
   "cell_type": "code",
   "execution_count": 181,
   "id": "66d20521",
   "metadata": {},
   "outputs": [],
   "source": [
    "# stump_tree 함수 구현 \n",
    "def stump_tree(data) : \n",
    "    chose_var = data[np.random.choice(range(len(data)))]\n",
    "    chose_att = np.random.choice(range(np.shape(data)[1]-1))\n",
    "    crit = chose_var[chose_att]\n",
    "    \n",
    "    left = [] \n",
    "    right = [] \n",
    "    result = np.zeros(len(data))\n",
    "    for index in range(len(data)) : \n",
    "        if data[index][chose_att] > crit : right.append(index)\n",
    "        else : left.append(index)\n",
    "    \n",
    "    right_result = [1 if data[right][i,-1] == 1 else 0 for i in range(len(right)) ] \n",
    "    left_result = [1 if data[left][i,-1] == -1 else 0 for i in range(len(left)) ]\n",
    "    if np.sum(right_result) + np.sum(left_result) > len(data)/2 : \n",
    "        result[right] = 1 \n",
    "        result[left] = -1 \n",
    "        direction = \"right\" \n",
    "    else : \n",
    "        result[right] = -1 \n",
    "        result[left] = 1 \n",
    "        direction = \"left\"\n",
    "    return result, chose_att, crit, direction \n",
    "\n",
    "def cal_stump_tree(vector, chose_att, crit, direction) :\n",
    "    if vector[chose_att] > crit :\n",
    "        if direction == \"right\":  return 1\n",
    "        else : return -1 \n",
    "        \n",
    "    else : \n",
    "        if direction == \"right\" : return -1 \n",
    "        else : return 1 "
   ]
  },
  {
   "cell_type": "code",
   "execution_count": 176,
   "id": "97a9d8be",
   "metadata": {},
   "outputs": [
    {
     "name": "stdout",
     "output_type": "stream",
     "text": [
      "[-1. -1. -1. -1. -1. -1. -1. -1. -1. -1. -1. -1. -1. -1.  1.  1. -1. -1.\n",
      "  1. -1. -1. -1. -1. -1. -1. -1. -1. -1. -1. -1. -1. -1. -1. -1. -1. -1.\n",
      " -1. -1. -1. -1. -1. -1. -1. -1. -1. -1. -1. -1. -1. -1.  1.  1.  1. -1.\n",
      "  1.  1.  1. -1.  1. -1. -1.  1.  1.  1.  1.  1.  1.  1.  1.  1.  1.  1.\n",
      "  1.  1.  1.  1.  1.  1.  1.  1. -1. -1.  1.  1. -1.  1.  1.  1.  1. -1.\n",
      " -1.  1.  1. -1.  1.  1.  1.  1. -1.  1.] 0 5.5 right\n"
     ]
    },
    {
     "data": {
      "text/plain": [
       "-1"
      ]
     },
     "execution_count": 176,
     "metadata": {},
     "output_type": "execute_result"
    }
   ],
   "source": [
    "a,b,c,d = stump_tree(S)\n",
    "print(a,b,c,d)\n",
    "a = [ 5.1,  3.5,  1.4,  0.2, -1. ]\n",
    "\n",
    "cal_stump_tree(a,b,c,d)"
   ]
  },
  {
   "cell_type": "code",
   "execution_count": 164,
   "id": "5adee0df",
   "metadata": {},
   "outputs": [],
   "source": [
    "import math\n",
    "\n",
    "# h_t는 Stump_tree 함수에 D_t 값을 입력한 것. \n",
    "def epsilon(data) : \n",
    "    result = 0 \n",
    "    h_result,_,_,_ = stump_tree(data)\n",
    "    for i in range(len(data)) : \n",
    "        if data[i,-1] != h_result[i] : result += 1 \n",
    "    return result / np.shape(data)[0]\n",
    "                \n",
    "def alpha(epsilon) :\n",
    "    return math.log((1-epsilon)/(epsilon + 1e-20))/2\n"
   ]
  },
  {
   "cell_type": "code",
   "execution_count": 183,
   "id": "8edb8de6",
   "metadata": {},
   "outputs": [],
   "source": [
    "#ht 를 수식으로 남기는 방법이 애매함. \n",
    "\n",
    "def adaboost(T,data, new_vector) : \n",
    "    D_list = [] \n",
    "    D = np.ones(len(data)) / len(data) \n",
    "    D_list.append(D)\n",
    "    \n",
    "    alpha_list = []\n",
    "    h_list = [] \n",
    "    \n",
    "    for t in range(T) :\n",
    "        Z = 0 \n",
    "        \n",
    "        # 아래처럼 Random Choice로 샘플을 골라내는 게 맞을까? \n",
    "        new_index = np.random.choice(range(len(data)), len(data), p=D)\n",
    "        new_data = data[new_index]\n",
    "        epsil = epsilon(new_data)\n",
    "        \n",
    "        h, chose_att, crit, direction = stump_tree(new_data)\n",
    "        h_list.append([chose_att, crit, direction])\n",
    "        a = alpha(epsil)\n",
    "        alpha_list.append(a)\n",
    "        new_D = [] \n",
    "        for i in range(len(new_data)) : \n",
    "            new_D_value =  D[i]* np.exp(-a * new_data[i][-1] * h[i])\n",
    "            Z += new_D_value\n",
    "            new_D.append(new_D_value)\n",
    "        \n",
    "        D = np.array(new_D)/Z\n",
    "    \n",
    "    result = 0 \n",
    "    for t in range(T):\n",
    "        chose_att, crit, direction = h_list[t]\n",
    "        result += alpha_list[t] * cal_stump_tree(new_vector, chose_att, crit, direction)\n",
    "    \n",
    "    if result > 0 : return 1\n",
    "    else : return -1 \n"
   ]
  },
  {
   "cell_type": "code",
   "execution_count": 140,
   "id": "c4ef9ae2",
   "metadata": {},
   "outputs": [
    {
     "name": "stdout",
     "output_type": "stream",
     "text": [
      "[<function cal_stump_tree at 0x000001FBC1093940>]\n"
     ]
    }
   ],
   "source": [
    "a = []\n",
    "a.append(cal_stump_tree)\n",
    "print(a)"
   ]
  },
  {
   "cell_type": "code",
   "execution_count": 209,
   "id": "d2deb04a",
   "metadata": {},
   "outputs": [
    {
     "data": {
      "text/plain": [
       "-1"
      ]
     },
     "execution_count": 209,
     "metadata": {},
     "output_type": "execute_result"
    }
   ],
   "source": [
    "a = [ 5.1,  3.5,  1.4,  0.2, -1. ]\n",
    "\n",
    "adaboost(10, S, a)"
   ]
  },
  {
   "cell_type": "code",
   "execution_count": 158,
   "id": "934005fa",
   "metadata": {},
   "outputs": [
    {
     "ename": "SyntaxError",
     "evalue": "invalid syntax (<ipython-input-158-57e2a59d8f90>, line 1)",
     "output_type": "error",
     "traceback": [
      "\u001b[1;36m  File \u001b[1;32m\"<ipython-input-158-57e2a59d8f90>\"\u001b[1;36m, line \u001b[1;32m1\u001b[0m\n\u001b[1;33m    **a\u001b[0m\n\u001b[1;37m    ^\u001b[0m\n\u001b[1;31mSyntaxError\u001b[0m\u001b[1;31m:\u001b[0m invalid syntax\n"
     ]
    }
   ],
   "source": []
  },
  {
   "cell_type": "code",
   "execution_count": null,
   "id": "ec0d8d55",
   "metadata": {},
   "outputs": [],
   "source": []
  },
  {
   "cell_type": "code",
   "execution_count": null,
   "id": "b3fa081f",
   "metadata": {},
   "outputs": [],
   "source": []
  },
  {
   "cell_type": "code",
   "execution_count": null,
   "id": "409bfd16",
   "metadata": {},
   "outputs": [],
   "source": []
  },
  {
   "cell_type": "code",
   "execution_count": null,
   "id": "cbe7c30e",
   "metadata": {},
   "outputs": [],
   "source": []
  }
 ],
 "metadata": {
  "kernelspec": {
   "display_name": "Python 3 (ipykernel)",
   "language": "python",
   "name": "python3"
  },
  "language_info": {
   "codemirror_mode": {
    "name": "ipython",
    "version": 3
   },
   "file_extension": ".py",
   "mimetype": "text/x-python",
   "name": "python",
   "nbconvert_exporter": "python",
   "pygments_lexer": "ipython3",
   "version": "3.10.6"
  }
 },
 "nbformat": 4,
 "nbformat_minor": 5
}
