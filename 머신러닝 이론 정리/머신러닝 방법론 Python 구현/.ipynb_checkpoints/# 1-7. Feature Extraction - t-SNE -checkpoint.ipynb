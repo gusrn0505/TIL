{
 "cells": [
  {
   "cell_type": "markdown",
   "id": "8a368458",
   "metadata": {},
   "source": [
    "# Feature Extraction - t-SNE \n",
    "\n",
    "#### 참고 - https://woosikyang.github.io/first-post.html\n",
    "\n",
    "1. 적절한 이웃 반경 설정하기 - 원하는 수준의 엔트로피에 맞춰서\n",
    "- $x_i$ 는 원래 차원에서 가우시안 분포에 따라 분포한다 했을 때, 표준편차의 크기에 따라 $x_j$ 를 유의미한 이웃으로 고려할 수도 아닐 수도 있음\n",
    "  \n",
    "  - <=> radius(=표준편차)에 $p_{j|i}$ 값과 엔트로피는 비례한다\n",
    "- 따라서 우리가 원하는 엔트로피 정도에 따라 반경(radius)를 계산한다.\n",
    "\n",
    "\n",
    "2. 저차원 표현에 대한 비용 함수 - Kullback Leiber divergence - 설정하여, gradient 값 구하기 \n",
    "\n",
    "3. $y_i$에 대한 gradient 값을 기반으로 gradient descent 방법을 통해 y값 근접시키기. "
   ]
  },
  {
   "cell_type": "code",
   "execution_count": 2,
   "id": "5dfd7143",
   "metadata": {},
   "outputs": [
    {
     "name": "stderr",
     "output_type": "stream",
     "text": [
      "C:\\Users\\PC\\anaconda3\\lib\\site-packages\\sklearn\\utils\\deprecation.py:87: FutureWarning: Function load_boston is deprecated; `load_boston` is deprecated in 1.0 and will be removed in 1.2.\n",
      "\n",
      "    The Boston housing prices dataset has an ethical problem. You can refer to\n",
      "    the documentation of this function for further details.\n",
      "\n",
      "    The scikit-learn maintainers therefore strongly discourage the use of this\n",
      "    dataset unless the purpose of the code is to study and educate about\n",
      "    ethical issues in data science and machine learning.\n",
      "\n",
      "    In this special case, you can fetch the dataset from the original\n",
      "    source::\n",
      "\n",
      "        import pandas as pd\n",
      "        import numpy as np\n",
      "\n",
      "\n",
      "        data_url = \"http://lib.stat.cmu.edu/datasets/boston\"\n",
      "        raw_df = pd.read_csv(data_url, sep=\"\\s+\", skiprows=22, header=None)\n",
      "        data = np.hstack([raw_df.values[::2, :], raw_df.values[1::2, :2]])\n",
      "        target = raw_df.values[1::2, 2]\n",
      "\n",
      "    Alternative datasets include the California housing dataset (i.e.\n",
      "    :func:`~sklearn.datasets.fetch_california_housing`) and the Ames housing\n",
      "    dataset. You can load the datasets as follows::\n",
      "\n",
      "        from sklearn.datasets import fetch_california_housing\n",
      "        housing = fetch_california_housing()\n",
      "\n",
      "    for the California housing dataset and::\n",
      "\n",
      "        from sklearn.datasets import fetch_openml\n",
      "        housing = fetch_openml(name=\"house_prices\", as_frame=True)\n",
      "\n",
      "    for the Ames housing dataset.\n",
      "    \n",
      "  warnings.warn(msg, category=FutureWarning)\n"
     ]
    }
   ],
   "source": [
    "# 데이터 사용 및 라이브러리 설치 \n",
    "\n",
    "import numpy as np\n",
    "import pandas as pd\n",
    "import random\n",
    "import heapq\n",
    "\n",
    "from sklearn.datasets import load_boston\n",
    "from sklearn.linear_model import LinearRegression \n",
    "from collections import defaultdict\n",
    "\n",
    "boston = load_boston()\n",
    "X = boston.data \n",
    "y = boston.target\n",
    "model = LinearRegression()"
   ]
  },
  {
   "cell_type": "markdown",
   "id": "18fa8730",
   "metadata": {},
   "source": [
    "### 1. 적절한 이웃 반경 설정하기 \n",
    "\n",
    "**구현해야하는 것** \n",
    "- $p_{j|i}$ : 원래 차원(D)에서 객체 i가 j를 이웃으로 선택할 확률\n",
    "> $\\frac{e^{-\\frac{||x_i - x_j||^2}{2 \\sigma_i^2}}}{\\sum_{k \\neq i} e^{-\\frac{||x_i - x_j||^2}{2 \\sigma_i^2}}}$\n",
    "\n",
    "- $p_{ij}$ : $\\frac{p_{i|j} + p_{j|i}}{2n}$\n",
    "\n",
    "- $q_{j|i}$ : 축소된 차원(d)에서 객체 i가 j를 이웃으로 선택할 확율 \n",
    "> $\\frac{(1+ ||y_i - y_j||^2)^{-1}}{\\sum_{k \\neq i}(1+ ||y_i - y_j||^2)^{-1}}$\n",
    "\n",
    "- $h(P_i)$ : 엔트로피. \n",
    "> $\\sum p_{j|i}\\log_2 p_{i|j}$ \n",
    "\n",
    "- $per(P_i)$ : 복잡도. \n",
    "> $2^{h(P_i)}$ \n",
    "\n",
    "- 적정한 $\\sigma_i$ 값을 찾는 함수 \n",
    "\n",
    "\n",
    "**필요한 것**\n",
    "- X : 입력 데이터 \n",
    "- y : 랜덤한 데이터\n",
    "- n : 샘플 개수 \n",
    "\n",
    "**함수의 형태**\n",
    "- def __init__(self, X,s)  \n",
    "\n",
    "- def softmax(self, vector) :=>  softmax 값을 가진 list\n",
    "\n",
    "- def find_sigma(self, matrix, target_per) : => 적정한 sigma list\n",
    "> 필요한 것 : binary_search \n",
    "- def binary_search(self,fn, target, tol=1e-10, max_iter=10000, lower=1e-20, upper=1000.):\n",
    "> 필요한 것 : fn = per 함수\n",
    "\n",
    "- def per(self, vector, s) : =>  $per(P_i)$\n",
    "> 필요한 것 : p 함수 \n",
    "\n",
    "- def p(self, vector, s) : => 한 행의 $p_{j|i}$\n",
    "\n",
    "- def p_matrix(self) : =>  P 매트릭스 \n",
    "\n",
    "- def new_p(self) : => $p_{ij}$ => $p_{ij}$ 로 조정된 매트릭스 \n",
    "\n",
    "- def q(self) : => $q_{j|i}$ 매트릭스 \n",
    "\n",
    "\n"
   ]
  },
  {
   "cell_type": "code",
   "execution_count": 3,
   "id": "76816808",
   "metadata": {},
   "outputs": [
    {
     "data": {
      "text/plain": [
       "array([ 6, 15, 24])"
      ]
     },
     "execution_count": 3,
     "metadata": {},
     "output_type": "execute_result"
    }
   ],
   "source": [
    "a = [[1,2,3], [4,5,6], [7,8,9]]\n",
    "np.sum(a, 1)\n"
   ]
  },
  {
   "cell_type": "code",
   "execution_count": 19,
   "id": "9cec91fe",
   "metadata": {},
   "outputs": [],
   "source": [
    "class tSNE() : \n",
    "    def __init__(self, X, target_p): \n",
    "        self.X = X\n",
    "        self.n = np.shape(X)[0]\n",
    "        self.y = np.random.rand(self.n, self.n)\n",
    "        self.target_p = target_p # 목표 복잡도 \n",
    "        self.s = self.find_sigma(self.X, self.target_p)\n",
    "        \n",
    "    def softmax(self, vector) :\n",
    "        vector = np.array(vector)\n",
    "        return np.exp(vector) / np.exp(vector).sum() \n",
    "    \n",
    "    def p(self, vector, s) : # => 한 벡터만 값을 반환해야 하나?  \n",
    "        vector = [(np.square(vector -self.X[i])) for i in range(self.n)] \n",
    "        vector = vector / (-2*s**2) \n",
    "        s_vector = self.softmax(vector)\n",
    "        return np.array(s_vector) \n",
    "    \n",
    "    def p_matrix(self) : \n",
    "        p_matrix = [] \n",
    "        for i in range(self.n) : \n",
    "            vector = self.p(self.X[i], self.s[i])\n",
    "            p_matrix.append(vector)\n",
    "        return np.array(p_matrix)\n",
    "        \n",
    "    def q_matrix(self) : \n",
    "        q_matrix = [] \n",
    "        for i in range(self.n) : \n",
    "            vector = np.array([-np.sum(np.square(self.y[i] - self.y[j])) for j in range(self.n)])\n",
    "            s_vector = self.softmax(vector)\n",
    "            q_matrix.append(s_vector)\n",
    "        return np.array(q_matrix)\n",
    "    \n",
    "    def new_p_matrix(self) : \n",
    "        matrix = self.p_matrix() \n",
    "        return (matrix + matrix.T)/2\n",
    "    \n",
    "    def per(self, vector, s) : # vector에는 추후 p,q matrix의 각 행을 넣을 것 \n",
    "        vector = self.p(vector, s)\n",
    "        entropy = np.sum([vector[i]*np.log2(vector)[i] for i in range(vector.shape[1])])\n",
    "        return 2**entropy \n",
    "    \n",
    "    def find_sigma(self, matrix, target_per) : # 적정한 sigma list 반환 \n",
    "        sigmas = []\n",
    "        for i in range(matrix.shape[0]) : \n",
    "            fn = lambda s : self.per(matrix[i:i+1, :],np.array(s))\n",
    "            correct_sigma = binary_search(fn, target_per) \n",
    "            sigmas.append(correct_sigma)\n",
    "        return np.array(sigmas) \n",
    "        \n",
    "    def binary_search(self, fn, target, tol=1e-10, max_iter=10000, lower=1e-20, upper=1000.):\n",
    "        for i in range(max_iter):\n",
    "            guess = (lower + upper) / 2.\n",
    "            val = fn(guess)\n",
    "            if val > target:\n",
    "                upper = guess\n",
    "            else:\n",
    "                lower = guess\n",
    "            if np.abs(val - target) <= tol:\n",
    "                break\n",
    "    \n",
    "    \n",
    "        \n",
    "    "
   ]
  },
  {
   "cell_type": "code",
   "execution_count": 20,
   "id": "b80cb068",
   "metadata": {},
   "outputs": [
    {
     "ename": "KeyboardInterrupt",
     "evalue": "",
     "output_type": "error",
     "traceback": [
      "\u001b[1;31m---------------------------------------------------------------------------\u001b[0m",
      "\u001b[1;31mKeyboardInterrupt\u001b[0m                         Traceback (most recent call last)",
      "\u001b[1;32m<ipython-input-20-a09285d6e567>\u001b[0m in \u001b[0;36m<module>\u001b[1;34m\u001b[0m\n\u001b[1;32m----> 1\u001b[1;33m \u001b[0mtest\u001b[0m \u001b[1;33m=\u001b[0m \u001b[0mtSNE\u001b[0m\u001b[1;33m(\u001b[0m\u001b[0mX\u001b[0m\u001b[1;33m,\u001b[0m\u001b[1;36m20\u001b[0m\u001b[1;33m)\u001b[0m\u001b[1;33m\u001b[0m\u001b[1;33m\u001b[0m\u001b[0m\n\u001b[0m\u001b[0;32m      2\u001b[0m \u001b[1;33m\u001b[0m\u001b[0m\n\u001b[0;32m      3\u001b[0m \u001b[0mtest\u001b[0m\u001b[1;33m.\u001b[0m\u001b[0mp_matrix\u001b[0m\u001b[1;33m(\u001b[0m\u001b[1;33m)\u001b[0m\u001b[1;33m\u001b[0m\u001b[1;33m\u001b[0m\u001b[0m\n",
      "\u001b[1;32m<ipython-input-19-abe40fe2378a>\u001b[0m in \u001b[0;36m__init__\u001b[1;34m(self, X, target_p)\u001b[0m\n\u001b[0;32m      5\u001b[0m         \u001b[0mself\u001b[0m\u001b[1;33m.\u001b[0m\u001b[0my\u001b[0m \u001b[1;33m=\u001b[0m \u001b[0mnp\u001b[0m\u001b[1;33m.\u001b[0m\u001b[0mrandom\u001b[0m\u001b[1;33m.\u001b[0m\u001b[0mrand\u001b[0m\u001b[1;33m(\u001b[0m\u001b[0mself\u001b[0m\u001b[1;33m.\u001b[0m\u001b[0mn\u001b[0m\u001b[1;33m,\u001b[0m \u001b[0mself\u001b[0m\u001b[1;33m.\u001b[0m\u001b[0mn\u001b[0m\u001b[1;33m)\u001b[0m\u001b[1;33m\u001b[0m\u001b[1;33m\u001b[0m\u001b[0m\n\u001b[0;32m      6\u001b[0m         \u001b[0mself\u001b[0m\u001b[1;33m.\u001b[0m\u001b[0mtarget_p\u001b[0m \u001b[1;33m=\u001b[0m \u001b[0mtarget_p\u001b[0m \u001b[1;31m# 목표 복잡도\u001b[0m\u001b[1;33m\u001b[0m\u001b[1;33m\u001b[0m\u001b[0m\n\u001b[1;32m----> 7\u001b[1;33m         \u001b[0mself\u001b[0m\u001b[1;33m.\u001b[0m\u001b[0ms\u001b[0m \u001b[1;33m=\u001b[0m \u001b[0mself\u001b[0m\u001b[1;33m.\u001b[0m\u001b[0mfind_sigma\u001b[0m\u001b[1;33m(\u001b[0m\u001b[0mself\u001b[0m\u001b[1;33m.\u001b[0m\u001b[0mX\u001b[0m\u001b[1;33m,\u001b[0m \u001b[0mself\u001b[0m\u001b[1;33m.\u001b[0m\u001b[0mtarget_p\u001b[0m\u001b[1;33m)\u001b[0m\u001b[1;33m\u001b[0m\u001b[1;33m\u001b[0m\u001b[0m\n\u001b[0m\u001b[0;32m      8\u001b[0m \u001b[1;33m\u001b[0m\u001b[0m\n\u001b[0;32m      9\u001b[0m     \u001b[1;32mdef\u001b[0m \u001b[0msoftmax\u001b[0m\u001b[1;33m(\u001b[0m\u001b[0mself\u001b[0m\u001b[1;33m,\u001b[0m \u001b[0mvector\u001b[0m\u001b[1;33m)\u001b[0m \u001b[1;33m:\u001b[0m\u001b[1;33m\u001b[0m\u001b[1;33m\u001b[0m\u001b[0m\n",
      "\u001b[1;32m<ipython-input-19-abe40fe2378a>\u001b[0m in \u001b[0;36mfind_sigma\u001b[1;34m(self, matrix, target_per)\u001b[0m\n\u001b[0;32m     45\u001b[0m         \u001b[1;32mfor\u001b[0m \u001b[0mi\u001b[0m \u001b[1;32min\u001b[0m \u001b[0mrange\u001b[0m\u001b[1;33m(\u001b[0m\u001b[0mmatrix\u001b[0m\u001b[1;33m.\u001b[0m\u001b[0mshape\u001b[0m\u001b[1;33m[\u001b[0m\u001b[1;36m0\u001b[0m\u001b[1;33m]\u001b[0m\u001b[1;33m)\u001b[0m \u001b[1;33m:\u001b[0m\u001b[1;33m\u001b[0m\u001b[1;33m\u001b[0m\u001b[0m\n\u001b[0;32m     46\u001b[0m             \u001b[0mfn\u001b[0m \u001b[1;33m=\u001b[0m \u001b[1;32mlambda\u001b[0m \u001b[0ms\u001b[0m \u001b[1;33m:\u001b[0m \u001b[0mself\u001b[0m\u001b[1;33m.\u001b[0m\u001b[0mper\u001b[0m\u001b[1;33m(\u001b[0m\u001b[0mmatrix\u001b[0m\u001b[1;33m[\u001b[0m\u001b[0mi\u001b[0m\u001b[1;33m:\u001b[0m\u001b[0mi\u001b[0m\u001b[1;33m+\u001b[0m\u001b[1;36m1\u001b[0m\u001b[1;33m,\u001b[0m \u001b[1;33m:\u001b[0m\u001b[1;33m]\u001b[0m\u001b[1;33m,\u001b[0m\u001b[0mnp\u001b[0m\u001b[1;33m.\u001b[0m\u001b[0marray\u001b[0m\u001b[1;33m(\u001b[0m\u001b[0ms\u001b[0m\u001b[1;33m)\u001b[0m\u001b[1;33m)\u001b[0m\u001b[1;33m\u001b[0m\u001b[1;33m\u001b[0m\u001b[0m\n\u001b[1;32m---> 47\u001b[1;33m             \u001b[0mcorrect_sigma\u001b[0m \u001b[1;33m=\u001b[0m \u001b[0mbinary_search\u001b[0m\u001b[1;33m(\u001b[0m\u001b[0mfn\u001b[0m\u001b[1;33m,\u001b[0m \u001b[0mtarget_per\u001b[0m\u001b[1;33m)\u001b[0m\u001b[1;33m\u001b[0m\u001b[1;33m\u001b[0m\u001b[0m\n\u001b[0m\u001b[0;32m     48\u001b[0m             \u001b[0msigmas\u001b[0m\u001b[1;33m.\u001b[0m\u001b[0mappend\u001b[0m\u001b[1;33m(\u001b[0m\u001b[0mcorrect_sigma\u001b[0m\u001b[1;33m)\u001b[0m\u001b[1;33m\u001b[0m\u001b[1;33m\u001b[0m\u001b[0m\n\u001b[0;32m     49\u001b[0m         \u001b[1;32mreturn\u001b[0m \u001b[0mnp\u001b[0m\u001b[1;33m.\u001b[0m\u001b[0marray\u001b[0m\u001b[1;33m(\u001b[0m\u001b[0msigmas\u001b[0m\u001b[1;33m)\u001b[0m\u001b[1;33m\u001b[0m\u001b[1;33m\u001b[0m\u001b[0m\n",
      "\u001b[1;32m<ipython-input-4-91c8efae473b>\u001b[0m in \u001b[0;36mbinary_search\u001b[1;34m(fn, target, tol, max_iter, lower, upper)\u001b[0m\n\u001b[0;32m     30\u001b[0m     \u001b[1;32mfor\u001b[0m \u001b[0mi\u001b[0m \u001b[1;32min\u001b[0m \u001b[0mrange\u001b[0m\u001b[1;33m(\u001b[0m\u001b[0mmax_iter\u001b[0m\u001b[1;33m)\u001b[0m\u001b[1;33m:\u001b[0m\u001b[1;33m\u001b[0m\u001b[1;33m\u001b[0m\u001b[0m\n\u001b[0;32m     31\u001b[0m         \u001b[0mguess\u001b[0m \u001b[1;33m=\u001b[0m \u001b[1;33m(\u001b[0m\u001b[0mlower\u001b[0m \u001b[1;33m+\u001b[0m \u001b[0mupper\u001b[0m\u001b[1;33m)\u001b[0m \u001b[1;33m/\u001b[0m \u001b[1;36m2.\u001b[0m\u001b[1;33m\u001b[0m\u001b[1;33m\u001b[0m\u001b[0m\n\u001b[1;32m---> 32\u001b[1;33m         \u001b[0mval\u001b[0m \u001b[1;33m=\u001b[0m \u001b[0mfn\u001b[0m\u001b[1;33m(\u001b[0m\u001b[0mguess\u001b[0m\u001b[1;33m)\u001b[0m\u001b[1;33m\u001b[0m\u001b[1;33m\u001b[0m\u001b[0m\n\u001b[0m\u001b[0;32m     33\u001b[0m         \u001b[1;32mif\u001b[0m \u001b[0mval\u001b[0m \u001b[1;33m>\u001b[0m \u001b[0mtarget\u001b[0m\u001b[1;33m:\u001b[0m\u001b[1;33m\u001b[0m\u001b[1;33m\u001b[0m\u001b[0m\n\u001b[0;32m     34\u001b[0m             \u001b[0mupper\u001b[0m \u001b[1;33m=\u001b[0m \u001b[0mguess\u001b[0m\u001b[1;33m\u001b[0m\u001b[1;33m\u001b[0m\u001b[0m\n",
      "\u001b[1;32m<ipython-input-19-abe40fe2378a>\u001b[0m in \u001b[0;36m<lambda>\u001b[1;34m(s)\u001b[0m\n\u001b[0;32m     44\u001b[0m         \u001b[0msigmas\u001b[0m \u001b[1;33m=\u001b[0m \u001b[1;33m[\u001b[0m\u001b[1;33m]\u001b[0m\u001b[1;33m\u001b[0m\u001b[1;33m\u001b[0m\u001b[0m\n\u001b[0;32m     45\u001b[0m         \u001b[1;32mfor\u001b[0m \u001b[0mi\u001b[0m \u001b[1;32min\u001b[0m \u001b[0mrange\u001b[0m\u001b[1;33m(\u001b[0m\u001b[0mmatrix\u001b[0m\u001b[1;33m.\u001b[0m\u001b[0mshape\u001b[0m\u001b[1;33m[\u001b[0m\u001b[1;36m0\u001b[0m\u001b[1;33m]\u001b[0m\u001b[1;33m)\u001b[0m \u001b[1;33m:\u001b[0m\u001b[1;33m\u001b[0m\u001b[1;33m\u001b[0m\u001b[0m\n\u001b[1;32m---> 46\u001b[1;33m             \u001b[0mfn\u001b[0m \u001b[1;33m=\u001b[0m \u001b[1;32mlambda\u001b[0m \u001b[0ms\u001b[0m \u001b[1;33m:\u001b[0m \u001b[0mself\u001b[0m\u001b[1;33m.\u001b[0m\u001b[0mper\u001b[0m\u001b[1;33m(\u001b[0m\u001b[0mmatrix\u001b[0m\u001b[1;33m[\u001b[0m\u001b[0mi\u001b[0m\u001b[1;33m:\u001b[0m\u001b[0mi\u001b[0m\u001b[1;33m+\u001b[0m\u001b[1;36m1\u001b[0m\u001b[1;33m,\u001b[0m \u001b[1;33m:\u001b[0m\u001b[1;33m]\u001b[0m\u001b[1;33m,\u001b[0m\u001b[0mnp\u001b[0m\u001b[1;33m.\u001b[0m\u001b[0marray\u001b[0m\u001b[1;33m(\u001b[0m\u001b[0ms\u001b[0m\u001b[1;33m)\u001b[0m\u001b[1;33m)\u001b[0m\u001b[1;33m\u001b[0m\u001b[1;33m\u001b[0m\u001b[0m\n\u001b[0m\u001b[0;32m     47\u001b[0m             \u001b[0mcorrect_sigma\u001b[0m \u001b[1;33m=\u001b[0m \u001b[0mbinary_search\u001b[0m\u001b[1;33m(\u001b[0m\u001b[0mfn\u001b[0m\u001b[1;33m,\u001b[0m \u001b[0mtarget_per\u001b[0m\u001b[1;33m)\u001b[0m\u001b[1;33m\u001b[0m\u001b[1;33m\u001b[0m\u001b[0m\n\u001b[0;32m     48\u001b[0m             \u001b[0msigmas\u001b[0m\u001b[1;33m.\u001b[0m\u001b[0mappend\u001b[0m\u001b[1;33m(\u001b[0m\u001b[0mcorrect_sigma\u001b[0m\u001b[1;33m)\u001b[0m\u001b[1;33m\u001b[0m\u001b[1;33m\u001b[0m\u001b[0m\n",
      "\u001b[1;32m<ipython-input-19-abe40fe2378a>\u001b[0m in \u001b[0;36mper\u001b[1;34m(self, vector, s)\u001b[0m\n\u001b[0;32m     37\u001b[0m \u001b[1;33m\u001b[0m\u001b[0m\n\u001b[0;32m     38\u001b[0m     \u001b[1;32mdef\u001b[0m \u001b[0mper\u001b[0m\u001b[1;33m(\u001b[0m\u001b[0mself\u001b[0m\u001b[1;33m,\u001b[0m \u001b[0mvector\u001b[0m\u001b[1;33m,\u001b[0m \u001b[0ms\u001b[0m\u001b[1;33m)\u001b[0m \u001b[1;33m:\u001b[0m \u001b[1;31m# vector에는 추후 p,q matrix의 각 행을 넣을 것\u001b[0m\u001b[1;33m\u001b[0m\u001b[1;33m\u001b[0m\u001b[0m\n\u001b[1;32m---> 39\u001b[1;33m         \u001b[0mvector\u001b[0m \u001b[1;33m=\u001b[0m \u001b[0mself\u001b[0m\u001b[1;33m.\u001b[0m\u001b[0mp\u001b[0m\u001b[1;33m(\u001b[0m\u001b[0mvector\u001b[0m\u001b[1;33m,\u001b[0m \u001b[0ms\u001b[0m\u001b[1;33m)\u001b[0m\u001b[1;33m\u001b[0m\u001b[1;33m\u001b[0m\u001b[0m\n\u001b[0m\u001b[0;32m     40\u001b[0m         \u001b[0mentropy\u001b[0m \u001b[1;33m=\u001b[0m \u001b[0mnp\u001b[0m\u001b[1;33m.\u001b[0m\u001b[0msum\u001b[0m\u001b[1;33m(\u001b[0m\u001b[1;33m[\u001b[0m\u001b[0mvector\u001b[0m\u001b[1;33m[\u001b[0m\u001b[0mi\u001b[0m\u001b[1;33m]\u001b[0m\u001b[1;33m*\u001b[0m\u001b[0mnp\u001b[0m\u001b[1;33m.\u001b[0m\u001b[0mlog2\u001b[0m\u001b[1;33m(\u001b[0m\u001b[0mvector\u001b[0m\u001b[1;33m)\u001b[0m\u001b[1;33m[\u001b[0m\u001b[0mi\u001b[0m\u001b[1;33m]\u001b[0m \u001b[1;32mfor\u001b[0m \u001b[0mi\u001b[0m \u001b[1;32min\u001b[0m \u001b[0mrange\u001b[0m\u001b[1;33m(\u001b[0m\u001b[0mvector\u001b[0m\u001b[1;33m.\u001b[0m\u001b[0mshape\u001b[0m\u001b[1;33m[\u001b[0m\u001b[1;36m1\u001b[0m\u001b[1;33m]\u001b[0m\u001b[1;33m)\u001b[0m\u001b[1;33m]\u001b[0m\u001b[1;33m)\u001b[0m\u001b[1;33m\u001b[0m\u001b[1;33m\u001b[0m\u001b[0m\n\u001b[0;32m     41\u001b[0m         \u001b[1;32mreturn\u001b[0m \u001b[1;36m2\u001b[0m\u001b[1;33m**\u001b[0m\u001b[0mentropy\u001b[0m\u001b[1;33m\u001b[0m\u001b[1;33m\u001b[0m\u001b[0m\n",
      "\u001b[1;32m<ipython-input-19-abe40fe2378a>\u001b[0m in \u001b[0;36mp\u001b[1;34m(self, vector, s)\u001b[0m\n\u001b[0;32m     13\u001b[0m     \u001b[1;32mdef\u001b[0m \u001b[0mp\u001b[0m\u001b[1;33m(\u001b[0m\u001b[0mself\u001b[0m\u001b[1;33m,\u001b[0m \u001b[0mvector\u001b[0m\u001b[1;33m,\u001b[0m \u001b[0ms\u001b[0m\u001b[1;33m)\u001b[0m \u001b[1;33m:\u001b[0m \u001b[1;31m# => 한 벡터만 값을 반환해야 하나?\u001b[0m\u001b[1;33m\u001b[0m\u001b[1;33m\u001b[0m\u001b[0m\n\u001b[0;32m     14\u001b[0m         \u001b[0mvector\u001b[0m \u001b[1;33m=\u001b[0m \u001b[1;33m[\u001b[0m\u001b[1;33m(\u001b[0m\u001b[0mnp\u001b[0m\u001b[1;33m.\u001b[0m\u001b[0msquare\u001b[0m\u001b[1;33m(\u001b[0m\u001b[0mvector\u001b[0m \u001b[1;33m-\u001b[0m\u001b[0mself\u001b[0m\u001b[1;33m.\u001b[0m\u001b[0mX\u001b[0m\u001b[1;33m[\u001b[0m\u001b[0mi\u001b[0m\u001b[1;33m]\u001b[0m\u001b[1;33m)\u001b[0m\u001b[1;33m)\u001b[0m \u001b[1;32mfor\u001b[0m \u001b[0mi\u001b[0m \u001b[1;32min\u001b[0m \u001b[0mrange\u001b[0m\u001b[1;33m(\u001b[0m\u001b[0mself\u001b[0m\u001b[1;33m.\u001b[0m\u001b[0mn\u001b[0m\u001b[1;33m)\u001b[0m\u001b[1;33m]\u001b[0m\u001b[1;33m\u001b[0m\u001b[1;33m\u001b[0m\u001b[0m\n\u001b[1;32m---> 15\u001b[1;33m         \u001b[0mvector\u001b[0m \u001b[1;33m=\u001b[0m \u001b[0mvector\u001b[0m \u001b[1;33m/\u001b[0m \u001b[1;33m(\u001b[0m\u001b[1;33m-\u001b[0m\u001b[1;36m2\u001b[0m\u001b[1;33m*\u001b[0m\u001b[0ms\u001b[0m\u001b[1;33m**\u001b[0m\u001b[1;36m2\u001b[0m\u001b[1;33m)\u001b[0m\u001b[1;33m\u001b[0m\u001b[1;33m\u001b[0m\u001b[0m\n\u001b[0m\u001b[0;32m     16\u001b[0m         \u001b[0ms_vector\u001b[0m \u001b[1;33m=\u001b[0m \u001b[0mself\u001b[0m\u001b[1;33m.\u001b[0m\u001b[0msoftmax\u001b[0m\u001b[1;33m(\u001b[0m\u001b[0mvector\u001b[0m\u001b[1;33m)\u001b[0m\u001b[1;33m\u001b[0m\u001b[1;33m\u001b[0m\u001b[0m\n\u001b[0;32m     17\u001b[0m         \u001b[1;32mreturn\u001b[0m \u001b[0mnp\u001b[0m\u001b[1;33m.\u001b[0m\u001b[0marray\u001b[0m\u001b[1;33m(\u001b[0m\u001b[0ms_vector\u001b[0m\u001b[1;33m)\u001b[0m\u001b[1;33m\u001b[0m\u001b[1;33m\u001b[0m\u001b[0m\n",
      "\u001b[1;31mKeyboardInterrupt\u001b[0m: "
     ]
    }
   ],
   "source": [
    "test = tSNE(X,20) \n",
    "\n",
    "test.p_matrix()\n"
   ]
  },
  {
   "cell_type": "markdown",
   "id": "1ee3724d",
   "metadata": {},
   "source": [
    "### 2. 저차원 표현에 대한 비용 함수 - Kullback Leiber divergence - 설정하여, gradient 값 구하기 \n",
    "\n",
    "### 3. $y_i$에 대한 gradient 값을 기반으로 gradient descent 방법을 통해 y값 근접시키기. \n",
    "\n",
    "**구현해야하는 것** \n",
    "- Kullback Leiber 함수 \n",
    "- $\\frac {\\delta C}{\\delta y_i}$ \n",
    "\n",
    "**필요한 것**\n",
    "- l_rate : 학습율 \n",
    "- p matrix \n",
    "- q matrix \n",
    "- y 값 \n",
    "\n",
    "**함수의 형태**\n",
    "- def kullback(self, p_matrix, q_matrix) : => 단일 값 반환  \n",
    "\n",
    "- def gradient(self) : => (n x 1) 벡터 반환\n",
    "\n",
    "- def tsne_goal(self) : => y matrix 반환 \n",
    "> 비용함수를 \n"
   ]
  },
  {
   "cell_type": "code",
   "execution_count": 24,
   "id": "c62c31b7",
   "metadata": {},
   "outputs": [],
   "source": [
    "class tSNE() : \n",
    "    def __init__(self, X, target_p, d, learing_rate): \n",
    "        self.X = X\n",
    "        self.n = np.shape(X)[0]\n",
    "        self.y = np.random.rand(self.n, self.d)\n",
    "        \n",
    "        self.l = learning_rate\n",
    "        self.target_p = target_p # 목표 복잡도 \n",
    "        self.s = self.find_sigma(self.X, self.target_p)\n",
    "        \n",
    "    def softmax(self, vector) :\n",
    "        vector = np.array(vector)\n",
    "        return np.exp(vector) / np.exp(vector).sum() \n",
    "    \n",
    "    def p(self, vector, s) : # => 한 벡터만 값을 반환해야 하나?  \n",
    "        vector = [(np.square(vector -self.X[i])) for i in range(self.n)] \n",
    "        vector = vector / (-2*s**2) \n",
    "        s_vector = self.softmax(vector)\n",
    "        return np.array(s_vector) \n",
    "    \n",
    "    def p_matrix(self) : \n",
    "        p_matrix = [] \n",
    "        for i in range(self.n) : \n",
    "            vector = self.p(self.X[i], self.s[i])\n",
    "            p_matrix.append(vector)\n",
    "        return np.array(p_matrix)\n",
    "        \n",
    "    def q_matrix(self) : \n",
    "        q_matrix = [] \n",
    "        for i in range(self.n) : \n",
    "            vector = np.array([-np.sum(np.square(self.y[i] - self.y[j])) for j in range(self.n)])\n",
    "            s_vector = self.softmax(vector)\n",
    "            q_matrix.append(s_vector)\n",
    "        return np.array(q_matrix)\n",
    "    \n",
    "    def new_p_matrix(self) : \n",
    "        matrix = self.p_matrix() \n",
    "        return (matrix + matrix.T)/2\n",
    "    \n",
    "    def per(self, vector, s) : # vector에는 추후 p,q matrix의 각 행을 넣을 것 \n",
    "        vector = self.p(vector, s)\n",
    "        entropy = np.sum([vector[i]*np.log2(vector)[i] for i in range(vector.shape[1])])\n",
    "        return 2**entropy \n",
    "    \n",
    "    def find_sigma(self, matrix, target_per) : # 적정한 sigma list 반환 \n",
    "        sigmas = []\n",
    "        for i in range(matrix.shape[0]) : \n",
    "            fn = lambda s : self.per(matrix[i:i+1, :],np.array(s))\n",
    "            correct_sigma = binary_search(fn, target_per) \n",
    "            sigmas.append(correct_sigma)\n",
    "        return np.array(sigmas) \n",
    "        \n",
    "    def binary_search(self, fn, target, tol=1e-10, max_iter=10000, lower=1e-20, upper=1000.):\n",
    "        for i in range(max_iter):\n",
    "            guess = (lower + upper) / 2.\n",
    "            val = fn(guess)\n",
    "            if val > target:\n",
    "                upper = guess\n",
    "            else:\n",
    "                lower = guess\n",
    "            if np.abs(val - target) <= tol:\n",
    "                break\n",
    "    \n",
    "    def kullback(self, new_p_matrix, q_matrix) : \n",
    "        return np.sum(new_p_matrix * np.log(new_p_matrix / q_matrix)) \n",
    "    \n",
    "    def gradient(self, new_p_matrix, q_matrix) : \n",
    "        gradient_lst = [] \n",
    "        for i in range(self.n ) : \n",
    "            gradient = np.sum(4*[np.dot((self.y[i]-self.y[j]), (new_p_matrix[i,j] - q_matrix[i,j])) / (1 + np.square(self.y[i] -self.y[j])) for j in range(len(new_p_matrix))]) \n",
    "            gradient_lst.append(gradient)\n",
    "        return gradient_lst\n",
    "    \n",
    "    def tsne_goal(self, num_iter) : \n",
    "        new_p_matrix = self.new_p_matrix()\n",
    "        \n",
    "        for i in range(num_iter) : \n",
    "            q_matrix = self.q_matrix() \n",
    "            gradient_vector = self.gradient(new_p_matrix, q_matrix)\n",
    "            self.y = self.y + self.l*gradient_vector.T\n",
    "        return self.y\n",
    "                              \n",
    "            "
   ]
  },
  {
   "cell_type": "code",
   "execution_count": 23,
   "id": "50c3964a",
   "metadata": {},
   "outputs": [
    {
     "data": {
      "text/plain": [
       "20"
      ]
     },
     "execution_count": 23,
     "metadata": {},
     "output_type": "execute_result"
    }
   ],
   "source": [
    "a = np.array([1,2,3])\n",
    "b= np.array([2,3,4]) \n",
    "\n",
    "np.dot(a,b)"
   ]
  },
  {
   "cell_type": "code",
   "execution_count": 22,
   "id": "7a22191a",
   "metadata": {},
   "outputs": [
    {
     "data": {
      "text/plain": [
       "45"
      ]
     },
     "execution_count": 22,
     "metadata": {},
     "output_type": "execute_result"
    }
   ],
   "source": [
    "a = np.array(a)\n",
    "a.sum()"
   ]
  },
  {
   "cell_type": "code",
   "execution_count": null,
   "id": "961f73e2",
   "metadata": {},
   "outputs": [],
   "source": []
  },
  {
   "cell_type": "code",
   "execution_count": null,
   "id": "fad06d46",
   "metadata": {},
   "outputs": [],
   "source": []
  },
  {
   "cell_type": "code",
   "execution_count": null,
   "id": "ff916f89",
   "metadata": {},
   "outputs": [],
   "source": []
  },
  {
   "cell_type": "code",
   "execution_count": null,
   "id": "d72be0dd",
   "metadata": {},
   "outputs": [],
   "source": []
  },
  {
   "cell_type": "code",
   "execution_count": null,
   "id": "85d8edb5",
   "metadata": {},
   "outputs": [],
   "source": []
  },
  {
   "cell_type": "code",
   "execution_count": null,
   "id": "caf85d20",
   "metadata": {},
   "outputs": [],
   "source": []
  },
  {
   "cell_type": "code",
   "execution_count": null,
   "id": "1924301f",
   "metadata": {},
   "outputs": [],
   "source": []
  },
  {
   "cell_type": "code",
   "execution_count": null,
   "id": "5c70e09c",
   "metadata": {},
   "outputs": [],
   "source": []
  },
  {
   "cell_type": "code",
   "execution_count": null,
   "id": "455c8bfb",
   "metadata": {},
   "outputs": [],
   "source": []
  },
  {
   "cell_type": "code",
   "execution_count": null,
   "id": "3cd273b7",
   "metadata": {},
   "outputs": [],
   "source": []
  },
  {
   "cell_type": "code",
   "execution_count": null,
   "id": "00ddff87",
   "metadata": {},
   "outputs": [],
   "source": []
  }
 ],
 "metadata": {
  "kernelspec": {
   "display_name": "Python 3",
   "language": "python",
   "name": "python3"
  },
  "language_info": {
   "codemirror_mode": {
    "name": "ipython",
    "version": 3
   },
   "file_extension": ".py",
   "mimetype": "text/x-python",
   "name": "python",
   "nbconvert_exporter": "python",
   "pygments_lexer": "ipython3",
   "version": "3.8.8"
  }
 },
 "nbformat": 4,
 "nbformat_minor": 5
}
