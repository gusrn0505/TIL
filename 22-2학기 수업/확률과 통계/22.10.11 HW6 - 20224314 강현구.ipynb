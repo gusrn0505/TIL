{
 "cells": [
  {
   "cell_type": "code",
   "execution_count": 1,
   "id": "813c6afa",
   "metadata": {},
   "outputs": [],
   "source": [
    "# 모듈 추가\n",
    "import pandas as pd\n",
    "import xlrd\n",
    "from matplotlib import pyplot as plt \n",
    "import numpy as np \n",
    "import seaborn as sns\n",
    "from scipy import stats"
   ]
  },
  {
   "cell_type": "markdown",
   "id": "4ccad994",
   "metadata": {},
   "source": [
    "# 7.7.8 문제 풀이 \n",
    "\n",
    "Consider the data set of programming errors given in DS 6.6.3. Construct a point\n",
    "estimate of the average number of errors per month. What is the standard error of\n",
    "your point estimate?\n",
    "\n",
    "\n",
    "Answer\n",
    "\n",
    "- let $\\hat \\mu$ = average number of errors\n",
    "- then Var[$\\hat \\mu$] = Var[$\\sum_{i=1}^n x_i /n$] = $\\frac{Var[\\sum_{i=1}^n x_i]}{N^2}$ = $\\frac{Var[x]}{N}$ \n",
    "\n",
    "Standart error of mu_hat : 0.03275422882885261"
   ]
  },
  {
   "cell_type": "code",
   "execution_count": 9,
   "id": "12249e50",
   "metadata": {},
   "outputs": [],
   "source": [
    "f= pd.read_excel(\"./Excel datasets/Chapter 6/ds6.6.3-programming-errors.xls\")"
   ]
  },
  {
   "cell_type": "code",
   "execution_count": 19,
   "id": "253b4a43",
   "metadata": {},
   "outputs": [
    {
     "name": "stdout",
     "output_type": "stream",
     "text": [
      "Standart error of mu_hat : 0.03275422882885261\n"
     ]
    }
   ],
   "source": [
    "mu_hat = np.mean(f)[0]\n",
    "se_hat = np.std(f)[0]\n",
    "n = len(np.array(f))\n",
    "print(\"Standart error of mu_hat :\", se_hat/n)"
   ]
  },
  {
   "cell_type": "code",
   "execution_count": null,
   "id": "d9ad33e7",
   "metadata": {},
   "outputs": [],
   "source": []
  },
  {
   "cell_type": "markdown",
   "id": "be21baaa",
   "metadata": {},
   "source": [
    "# 7.7.12 \n",
    "Suppose that among 24,839 customers of a certain company, exactly 11,842 feel “very satisfied” with the service they received. In order to estimate the satisfaction levels of the customers, a manager contacts a random sample of 80 of these customers and finds out how many of them were “very satisfied.” What is the probability that the manager’s estimate of the proportion of “very satisfied” customers in this group is within 0.10 of the true value?\n",
    "\n",
    "\n",
    "Answer\n",
    "\n",
    "- let $\\hat p$ is point estimate of random samples\n",
    "- Since standard error of point estimate is \"$\\sqrt{\\frac{pq}{n}}$\", \n",
    "- Then, $\\frac{\\hat p - p}{\\sqrt{\\frac{pq}{n}}}$ follows $t_{79}(0,1)$ \n",
    "- t_value를 계산한 다음 그에 따른 t분포의 Cdf를 계산해주면 됨 \n",
    "\n",
    "\n",
    "Probability of p_hat within 0.10 of the true value : 0.9228426662272664"
   ]
  },
  {
   "cell_type": "code",
   "execution_count": 30,
   "id": "7002f7b6",
   "metadata": {},
   "outputs": [
    {
     "name": "stdout",
     "output_type": "stream",
     "text": [
      "Probability of p_hat within 0.10 of the true value : 0.9228426662272664\n"
     ]
    }
   ],
   "source": [
    "p = 11842/24839\n",
    "n=80\n",
    "df = n-1\n",
    "st = np.sqrt(p*(1-p)/80)\n",
    "\n",
    "t_value = 0.1/st \n",
    "t = stats.t(df)\n",
    "\n",
    "prob = 1- (1-t.cdf(t_value))*2\n",
    "print(\"Probability of p_hat within 0.10 of the true value :\", prob)"
   ]
  },
  {
   "cell_type": "code",
   "execution_count": null,
   "id": "7f207819",
   "metadata": {},
   "outputs": [],
   "source": []
  },
  {
   "cell_type": "markdown",
   "id": "1cbb0f01",
   "metadata": {},
   "source": [
    "# 7.7.23 \n",
    "\n",
    "Components have lengths that are independently distributed as a normal distribution with µ = 723 and σ = 3. If an experimenter measures the lengths of a random sample of 11 components, what is the probability that the experimenter’s estimate of µ will be between 722 and 724?\n",
    "\n",
    "Answer \n",
    "- let $\\hat \\mu$ = Average of length \n",
    "- 그럼 $\\frac{\\hat \\mu - \\mu}{\\frac{\\sigma}{11}}$는  자유도 10인 t 분포를 따른다. \n",
    "- 해당 t 분포에 대한 $\\hat \\mu$ 가 722~724 사이에 있을 확률 값을 구한다. \n",
    "\n",
    "Probability of mu_hat within 722~724 of the true value : 0.9154754230467732"
   ]
  },
  {
   "cell_type": "code",
   "execution_count": 32,
   "id": "3c692950",
   "metadata": {},
   "outputs": [
    {
     "name": "stdout",
     "output_type": "stream",
     "text": [
      "Probability of mu_hat within 722~724 of the true value : 0.9154754230467732\n"
     ]
    }
   ],
   "source": [
    "mu = 723\n",
    "sigma = 3 \n",
    "n=11\n",
    "df = n-1\n",
    "st = np.sqrt(sigma/11)\n",
    "\n",
    "t_value = 1/st \n",
    "t = stats.t(df)\n",
    "\n",
    "prob = 1- (1-t.cdf(t_value))*2\n",
    "print(\"Probability of mu_hat within 722~724 of the true value :\", prob)"
   ]
  },
  {
   "cell_type": "code",
   "execution_count": null,
   "id": "406377f6",
   "metadata": {},
   "outputs": [],
   "source": []
  },
  {
   "cell_type": "code",
   "execution_count": null,
   "id": "b4592290",
   "metadata": {},
   "outputs": [],
   "source": []
  }
 ],
 "metadata": {
  "kernelspec": {
   "display_name": "Python 3",
   "language": "python",
   "name": "python3"
  },
  "language_info": {
   "codemirror_mode": {
    "name": "ipython",
    "version": 3
   },
   "file_extension": ".py",
   "mimetype": "text/x-python",
   "name": "python",
   "nbconvert_exporter": "python",
   "pygments_lexer": "ipython3",
   "version": "3.8.8"
  }
 },
 "nbformat": 4,
 "nbformat_minor": 5
}
