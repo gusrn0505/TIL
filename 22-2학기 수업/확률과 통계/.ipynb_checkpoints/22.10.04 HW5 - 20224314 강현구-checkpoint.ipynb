{
 "cells": [
  {
   "cell_type": "code",
   "execution_count": 56,
   "id": "75df091d",
   "metadata": {},
   "outputs": [],
   "source": [
    "# 모듈 추가\n",
    "import pandas as pd\n",
    "import xlrd\n",
    "from matplotlib import pyplot as plt \n",
    "import numpy as np \n",
    "import seaborn as sns\n",
    "from scipy import stats\n",
    "import numpy as np"
   ]
  },
  {
   "cell_type": "markdown",
   "id": "ef6ff7d2",
   "metadata": {},
   "source": [
    "# 6.2.2 문제 풀이\n",
    "DS 6.2.2 shows the evaluations of a new piece of software from a group of 60 trial\n",
    "users. Construct a bar chart and a pie chart for the data set."
   ]
  },
  {
   "cell_type": "code",
   "execution_count": 11,
   "id": "5afc716a",
   "metadata": {},
   "outputs": [],
   "source": [
    "f= pd.read_excel(\"./Excel datasets/Chapter 6/ds6.2.2-software-evaluations.xls\")"
   ]
  },
  {
   "cell_type": "code",
   "execution_count": 26,
   "id": "8926f076",
   "metadata": {},
   "outputs": [
    {
     "name": "stdout",
     "output_type": "stream",
     "text": [
      "Software Evaluations\n",
      "excellent               21\n",
      "good                    17\n",
      "fair                    16\n",
      "bad                      6\n",
      "dtype: int64\n"
     ]
    }
   ],
   "source": [
    "print(f.value_counts())"
   ]
  },
  {
   "cell_type": "code",
   "execution_count": 27,
   "id": "c52aca11",
   "metadata": {},
   "outputs": [
    {
     "name": "stderr",
     "output_type": "stream",
     "text": [
      "C:\\ProgramData\\Anaconda3\\lib\\site-packages\\seaborn\\_decorators.py:36: FutureWarning: Pass the following variable as a keyword arg: x. From version 0.12, the only valid positional argument will be `data`, and passing other arguments without an explicit keyword will result in an error or misinterpretation.\n",
      "  warnings.warn(\n"
     ]
    },
    {
     "data": {
      "image/png": "[encoded data removed]",
      "text/plain": [
       "<Figure size 432x288 with 2 Axes>"
      ]
     },
     "metadata": {
      "needs_background": "light"
     },
     "output_type": "display_data"
    }
   ],
   "source": [
    "plt.subplot(121)\n",
    "sns.countplot(f['Software Evaluations'])\n",
    "\n",
    "\n",
    "plt.subplot(122)\n",
    "plt.pie(f.value_counts())\n",
    "\n",
    "plt.show()"
   ]
  },
  {
   "cell_type": "code",
   "execution_count": null,
   "id": "11ba36a6",
   "metadata": {},
   "outputs": [],
   "source": []
  },
  {
   "cell_type": "markdown",
   "id": "e69e6d3f",
   "metadata": {},
   "source": [
    "# 6.2.4 문제 풀이\n",
    "DS 6.2.4 shows the times taken by 25 students to finish a physical training course.\n",
    "Construct a histogram of the data set with appropriate band widths. Do you think\n",
    "that there are any outliers in the data set?\n",
    "\n",
    "\n",
    "A. Yes. 60을 넘어 존재하는 값이 있다. "
   ]
  },
  {
   "cell_type": "code",
   "execution_count": 28,
   "id": "3ea43ed3",
   "metadata": {},
   "outputs": [],
   "source": [
    "f= pd.read_excel(\"./Excel datasets/Chapter 6/ds6.2.4-physical-training-course-completion-times.xls\")"
   ]
  },
  {
   "cell_type": "code",
   "execution_count": 31,
   "id": "519a44be",
   "metadata": {},
   "outputs": [
    {
     "data": {
      "image/png": "[encoded data removed]",
      "text/plain": [
       "<Figure size 432x288 with 1 Axes>"
      ]
     },
     "metadata": {
      "needs_background": "light"
     },
     "output_type": "display_data"
    }
   ],
   "source": [
    "plt.hist(f)\n",
    "plt.show()"
   ]
  },
  {
   "cell_type": "code",
   "execution_count": null,
   "id": "6cb6e282",
   "metadata": {},
   "outputs": [],
   "source": []
  },
  {
   "cell_type": "markdown",
   "id": "8a47ff79",
   "metadata": {},
   "source": [
    "# 6.2.8 문제 풀이\n",
    "Use a statistical software package to obtain appropriate graphical presentations of\n",
    "each of the following data sets. Obtain more than one graphical presentation where\n",
    "appropriate. Indicate any data observations that might be considered to be outliers.\n",
    "What do your pictures tell you about the data sets?\n",
    "\n",
    "\n",
    "A. Histgram과 Boxplot. Histogram은 전반적인 데이터의 흩어짐 정도를 가시적으로 볼 수 있으며, Boxplot은 Medium, 1st quatile, 3rd quatile을 표기하여 outlier 들을 좀 더 가시적으로 확인할 수 있다. "
   ]
  },
  {
   "cell_type": "code",
   "execution_count": 39,
   "id": "ed87dca8",
   "metadata": {},
   "outputs": [],
   "source": [
    "f= pd.read_excel(\"./Excel datasets/Chapter 6/ds6.1.4-restaurant-service-times.xls\")"
   ]
  },
  {
   "cell_type": "code",
   "execution_count": 40,
   "id": "2076dd5e",
   "metadata": {},
   "outputs": [
    {
     "data": {
      "image/png": "[encoded data removed]",
      "text/plain": [
       "<Figure size 432x288 with 2 Axes>"
      ]
     },
     "metadata": {
      "needs_background": "light"
     },
     "output_type": "display_data"
    }
   ],
   "source": [
    "plt.subplot(121)\n",
    "plt.hist(f)\n",
    "\n",
    "plt.subplot(122)\n",
    "plt.boxplot(f)\n",
    "\n",
    "plt.show()"
   ]
  },
  {
   "cell_type": "code",
   "execution_count": null,
   "id": "6fff134b",
   "metadata": {},
   "outputs": [],
   "source": []
  },
  {
   "cell_type": "markdown",
   "id": "3b26af9b",
   "metadata": {},
   "source": [
    "# 6.3.3. 문제 풀이 \n",
    "Consider the data set of physical training course completion times given in DS 6.2.4.\n",
    "Calculate the sample mean, sample median, sample trimmed mean, and sample standard deviation. Calculate the upper and lower sample quartiles, and draw a boxplot\n",
    "of the data set\n",
    "\n",
    "A. \n",
    "Sample mean : 37.08\n",
    "\n",
    "Sample median : 35.0\n",
    "\n",
    "Sample trimmed mean : 36.095238095238095\n",
    "\n",
    "Sample standard deviation : 8.14822680096719\n",
    "\n",
    "Sample upper quartiles : 34.0\n",
    "\n",
    "Sample lower quartiles : 39.0"
   ]
  },
  {
   "cell_type": "code",
   "execution_count": 67,
   "id": "afa02aed",
   "metadata": {},
   "outputs": [],
   "source": [
    "f= pd.read_excel(\"./Excel datasets/Chapter 6/ds6.2.4-physical-training-course-completion-times.xls\")"
   ]
  },
  {
   "cell_type": "code",
   "execution_count": 65,
   "id": "4604cc16",
   "metadata": {},
   "outputs": [
    {
     "name": "stdout",
     "output_type": "stream",
     "text": [
      "Sample mean : 37.08\n",
      "Sample median : 35.0\n",
      "Sample trimmed mean : 36.095238095238095\n",
      "Sample standard deviation : 8.14822680096719\n",
      "Sample upper quartiles : 34.0\n",
      "Sample lower quartiles : 39.0\n"
     ]
    }
   ],
   "source": [
    "print(\"Sample mean :\", np.mean(f)[0])\n",
    "print(\"Sample median :\", np.median(f, axis=0)[0])\n",
    "print(\"Sample trimmed mean :\", stats.trim_mean(f, 0.1)[0])\n",
    "print(\"Sample standard deviation :\", np.std(f)[0])\n",
    "print(\"Sample upper quartiles :\", np.quantile(f, 0.25, axis=0)[0])\n",
    "print(\"Sample lower quartiles :\", np.quantile(f, 0.75, axis=0)[0])"
   ]
  },
  {
   "cell_type": "code",
   "execution_count": 66,
   "id": "c8e0e969",
   "metadata": {},
   "outputs": [
    {
     "data": {
      "image/png": "[encoded data removed]",
      "text/plain": [
       "<Figure size 432x288 with 1 Axes>"
      ]
     },
     "metadata": {
      "needs_background": "light"
     },
     "output_type": "display_data"
    }
   ],
   "source": [
    "plt.boxplot(f)\n",
    "\n",
    "plt.show()"
   ]
  },
  {
   "cell_type": "code",
   "execution_count": null,
   "id": "8c516ac4",
   "metadata": {},
   "outputs": [],
   "source": []
  },
  {
   "cell_type": "markdown",
   "id": "36cb989e",
   "metadata": {},
   "source": [
    "# 6.3.8 문제풀이 \n",
    "Use a statistical software package to obtain sample statistics and boxplots for the\n",
    "following data sets. What do the sample statistics and boxplots tell you about the\n",
    "data sets?\n",
    "\n",
    "A. \n",
    "Outlier가 0.9 근방에 1개 존재한다. \n",
    "\n",
    "그 외에 평균이 1.1이며, std가 0.05 인 것으로 보아 낮은 편차를 가지고 있다.\n",
    "\n",
    "추가적으로 histgram을 확인해볼 때 정규 분포 형태와 유사함을 알 수 있다. "
   ]
  },
  {
   "cell_type": "code",
   "execution_count": 68,
   "id": "41dfe168",
   "metadata": {},
   "outputs": [],
   "source": [
    "f= pd.read_excel(\"./Excel datasets/Chapter 6/ds6.1.7-paving-slab-weights.xls\")"
   ]
  },
  {
   "cell_type": "code",
   "execution_count": 69,
   "id": "feb31745",
   "metadata": {},
   "outputs": [
    {
     "name": "stdout",
     "output_type": "stream",
     "text": [
      "     Paving Slab Weights\n",
      "0                  1.099\n",
      "1                  1.103\n",
      "2                  1.154\n",
      "3                  1.130\n",
      "4                  1.086\n",
      "..                   ...\n",
      "120                1.105\n",
      "121                1.047\n",
      "122                1.206\n",
      "123                1.066\n",
      "124                1.132\n",
      "\n",
      "[125 rows x 1 columns]\n"
     ]
    }
   ],
   "source": [
    "print(f)"
   ]
  },
  {
   "cell_type": "code",
   "execution_count": 71,
   "id": "0019dd1b",
   "metadata": {},
   "outputs": [
    {
     "name": "stdout",
     "output_type": "stream",
     "text": [
      "Sample mean : 1.1105359983444214\n",
      "Sample median : 1.1100000143051147\n",
      "Sample trimmed mean : 1.1108712854951914\n",
      "Sample standard deviation : 0.052784473419357554\n",
      "Sample Variance : 0.002786200634158864\n",
      "Sample upper quartiles : 1.0829999446868896\n",
      "Sample lower quartiles : 1.1399999856948853\n"
     ]
    }
   ],
   "source": [
    "print(\"Sample mean :\", np.mean(f, axis=0)[0])\n",
    "print(\"Sample median :\", np.median(f, axis=0)[0])\n",
    "print(\"Sample trimmed mean :\", stats.trim_mean(f, 0.1)[0])\n",
    "print(\"Sample standard deviation :\", np.std(f)[0])\n",
    "print(\"Sample Variance :\", np.var(f)[0])\n",
    "print(\"Sample upper quartiles :\", np.quantile(f, 0.25, axis=0)[0])\n",
    "print(\"Sample lower quartiles :\", np.quantile(f, 0.75, axis=0)[0])"
   ]
  },
  {
   "cell_type": "code",
   "execution_count": 74,
   "id": "d74ec351",
   "metadata": {},
   "outputs": [
    {
     "data": {
      "image/png": "[encoded data removed]",
      "text/plain": [
       "<Figure size 432x288 with 2 Axes>"
      ]
     },
     "metadata": {
      "needs_background": "light"
     },
     "output_type": "display_data"
    }
   ],
   "source": [
    "plt.subplot(121)\n",
    "plt.boxplot(f)\n",
    "\n",
    "plt.subplot(122)\n",
    "plt.hist(f)\n",
    "\n",
    "plt.show()"
   ]
  },
  {
   "cell_type": "code",
   "execution_count": null,
   "id": "15a81b43",
   "metadata": {},
   "outputs": [],
   "source": []
  },
  {
   "cell_type": "markdown",
   "id": "14b82602",
   "metadata": {},
   "source": [
    "# 6.3.14 문제풀이 \n",
    "\n",
    "The sample mean is always definitely a better measure than the sample median of the\n",
    "”average” of a data set because it takes into account all of the data values.\n",
    "\n",
    "B. False\n",
    "\n",
    "통계의 분포와, sample statistics의 목적에 따라 다르다. \n",
    "\n",
    "확실히 median이 Mean 보다 좋다고 할 수 있는 예시가 있다.\n",
    "바로 Outlier가 Mean에 큰 영향을 미칠 때이다. \n",
    "\n",
    "예로 들어 한 수업에 학생이 총 10명 있다고 할 때, 1명은 나이가 80살이고 나머진 10살이라고 하자. \n",
    "\n",
    "이때 해당 수업의 학생 대표값은 다수인 10살에 가깝다고 봐야한다. 하지만 mean을 계산하면 17살이 되어 대표값과 상당한 차이를 가지게 된다. "
   ]
  }
 ],
 "metadata": {
  "kernelspec": {
   "display_name": "Python 3 (ipykernel)",
   "language": "python",
   "name": "python3"
  },
  "language_info": {
   "codemirror_mode": {
    "name": "ipython",
    "version": 3
   },
   "file_extension": ".py",
   "mimetype": "text/x-python",
   "name": "python",
   "nbconvert_exporter": "python",
   "pygments_lexer": "ipython3",
   "version": "3.9.12"
  }
 },
 "nbformat": 4,
 "nbformat_minor": 5
}
