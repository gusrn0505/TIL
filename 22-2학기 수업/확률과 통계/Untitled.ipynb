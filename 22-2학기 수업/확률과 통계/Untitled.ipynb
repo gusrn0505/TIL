{
 "cells": [
  {
   "cell_type": "code",
   "execution_count": 32,
   "id": "a6d8c691",
   "metadata": {
    "scrolled": true
   },
   "outputs": [],
   "source": [
    "# 모듈 추가\n",
    "import pandas as pd\n",
    "import xlrd\n",
    "from matplotlib import pyplot as plt \n",
    "import numpy as np \n",
    "from scipy import stats\n",
    "import statsmodels\n",
    "from statsmodels.api import qqplot "
   ]
  },
  {
   "cell_type": "code",
   "execution_count": 6,
   "id": "626a4a3e",
   "metadata": {},
   "outputs": [
    {
     "name": "stdout",
     "output_type": "stream",
     "text": [
      "C:\\Users\\user\\Desktop\\TIL\\22-2학기 수업\\확률과 통계\n"
     ]
    }
   ],
   "source": [
    "import sys\n",
    "import os \n",
    "\n",
    "print(os.getcwd())\n"
   ]
  },
  {
   "cell_type": "code",
   "execution_count": 59,
   "id": "f97fe8ae",
   "metadata": {},
   "outputs": [],
   "source": [
    "f= pd.read_excel(\"./Excel datasets/Chapter 12/ds12.11.16-rope-breaking-strengths.xls\")"
   ]
  },
  {
   "cell_type": "code",
   "execution_count": 60,
   "id": "9faa5d84",
   "metadata": {
    "scrolled": true
   },
   "outputs": [
    {
     "data": {
      "text/html": [
       "<div>\n",
       "<style scoped>\n",
       "    .dataframe tbody tr th:only-of-type {\n",
       "        vertical-align: middle;\n",
       "    }\n",
       "\n",
       "    .dataframe tbody tr th {\n",
       "        vertical-align: top;\n",
       "    }\n",
       "\n",
       "    .dataframe thead th {\n",
       "        text-align: right;\n",
       "    }\n",
       "</style>\n",
       "<table border=\"1\" class=\"dataframe\">\n",
       "  <thead>\n",
       "    <tr style=\"text-align: right;\">\n",
       "      <th></th>\n",
       "      <th>x</th>\n",
       "      <th>y</th>\n",
       "      <th>c_x</th>\n",
       "      <th>c_y</th>\n",
       "    </tr>\n",
       "  </thead>\n",
       "  <tbody>\n",
       "    <tr>\n",
       "      <th>count</th>\n",
       "      <td>10.000000</td>\n",
       "      <td>10.00000</td>\n",
       "      <td>10.000000</td>\n",
       "      <td>10.000000</td>\n",
       "    </tr>\n",
       "    <tr>\n",
       "      <th>mean</th>\n",
       "      <td>7.750000</td>\n",
       "      <td>1596.10000</td>\n",
       "      <td>0.817103</td>\n",
       "      <td>2.889531</td>\n",
       "    </tr>\n",
       "    <tr>\n",
       "      <th>std</th>\n",
       "      <td>4.504627</td>\n",
       "      <td>1903.88471</td>\n",
       "      <td>0.272316</td>\n",
       "      <td>0.600376</td>\n",
       "    </tr>\n",
       "    <tr>\n",
       "      <th>min</th>\n",
       "      <td>2.500000</td>\n",
       "      <td>81.00000</td>\n",
       "      <td>0.397940</td>\n",
       "      <td>1.908485</td>\n",
       "    </tr>\n",
       "    <tr>\n",
       "      <th>25%</th>\n",
       "      <td>4.250000</td>\n",
       "      <td>304.00000</td>\n",
       "      <td>0.626287</td>\n",
       "      <td>2.461754</td>\n",
       "    </tr>\n",
       "    <tr>\n",
       "      <th>50%</th>\n",
       "      <td>7.000000</td>\n",
       "      <td>881.50000</td>\n",
       "      <td>0.840621</td>\n",
       "      <td>2.925696</td>\n",
       "    </tr>\n",
       "    <tr>\n",
       "      <th>75%</th>\n",
       "      <td>10.500000</td>\n",
       "      <td>2206.50000</td>\n",
       "      <td>1.019605</td>\n",
       "      <td>3.333520</td>\n",
       "    </tr>\n",
       "    <tr>\n",
       "      <th>max</th>\n",
       "      <td>16.000000</td>\n",
       "      <td>6170.00000</td>\n",
       "      <td>1.204120</td>\n",
       "      <td>3.790285</td>\n",
       "    </tr>\n",
       "  </tbody>\n",
       "</table>\n",
       "</div>"
      ],
      "text/plain": [
       "               x           y        c_x        c_y\n",
       "count  10.000000    10.00000  10.000000  10.000000\n",
       "mean    7.750000  1596.10000   0.817103   2.889531\n",
       "std     4.504627  1903.88471   0.272316   0.600376\n",
       "min     2.500000    81.00000   0.397940   1.908485\n",
       "25%     4.250000   304.00000   0.626287   2.461754\n",
       "50%     7.000000   881.50000   0.840621   2.925696\n",
       "75%    10.500000  2206.50000   1.019605   3.333520\n",
       "max    16.000000  6170.00000   1.204120   3.790285"
      ]
     },
     "execution_count": 60,
     "metadata": {},
     "output_type": "execute_result"
    }
   ],
   "source": [
    "f.describe()"
   ]
  },
  {
   "cell_type": "code",
   "execution_count": 61,
   "id": "8219d39e",
   "metadata": {},
   "outputs": [
    {
     "data": {
      "text/plain": [
       "[<matplotlib.lines.Line2D at 0x257093af190>]"
      ]
     },
     "execution_count": 61,
     "metadata": {},
     "output_type": "execute_result"
    },
    {
     "data": {
      "image/png": "[encoded data removed]",
      "text/plain": [
       "<Figure size 432x288 with 1 Axes>"
      ]
     },
     "metadata": {
      "needs_background": "light"
     },
     "output_type": "display_data"
    }
   ],
   "source": [
    "x = f['c_x']\n",
    "y = f['c_y']\n",
    "plt.plot(x,y)"
   ]
  },
  {
   "cell_type": "code",
   "execution_count": 22,
   "id": "dcdb1fa1",
   "metadata": {},
   "outputs": [
    {
     "data": {
      "text/plain": [
       "Index(['Unloading Time (minute)', 'Temperature (degrees F)', 'regression',\n",
       "       'error', 'Unnamed: 4', 'Unnamed: 5', 'Unnamed: 6'],\n",
       "      dtype='object')"
      ]
     },
     "execution_count": 22,
     "metadata": {},
     "output_type": "execute_result"
    }
   ],
   "source": [
    "f.columns"
   ]
  },
  {
   "cell_type": "code",
   "execution_count": 24,
   "id": "fb3912cd",
   "metadata": {},
   "outputs": [],
   "source": [
    "lm = f['error']"
   ]
  },
  {
   "cell_type": "code",
   "execution_count": null,
   "id": "63fdd234",
   "metadata": {},
   "outputs": [],
   "source": []
  },
  {
   "cell_type": "code",
   "execution_count": null,
   "id": "2f2bfe3f",
   "metadata": {},
   "outputs": [],
   "source": []
  },
  {
   "cell_type": "code",
   "execution_count": null,
   "id": "843f8339",
   "metadata": {},
   "outputs": [],
   "source": []
  },
  {
   "cell_type": "code",
   "execution_count": null,
   "id": "393adea2",
   "metadata": {},
   "outputs": [],
   "source": []
  },
  {
   "cell_type": "code",
   "execution_count": null,
   "id": "6c70666a",
   "metadata": {},
   "outputs": [],
   "source": []
  },
  {
   "cell_type": "code",
   "execution_count": null,
   "id": "9120b7b0",
   "metadata": {},
   "outputs": [],
   "source": []
  },
  {
   "cell_type": "code",
   "execution_count": null,
   "id": "f5601944",
   "metadata": {},
   "outputs": [],
   "source": []
  },
  {
   "cell_type": "code",
   "execution_count": null,
   "id": "d79a686a",
   "metadata": {},
   "outputs": [],
   "source": []
  },
  {
   "cell_type": "code",
   "execution_count": null,
   "id": "b9818e5f",
   "metadata": {},
   "outputs": [],
   "source": []
  },
  {
   "cell_type": "code",
   "execution_count": null,
   "id": "897e38b0",
   "metadata": {},
   "outputs": [],
   "source": []
  },
  {
   "cell_type": "code",
   "execution_count": null,
   "id": "c947a0d7",
   "metadata": {},
   "outputs": [],
   "source": []
  },
  {
   "cell_type": "code",
   "execution_count": null,
   "id": "40a6a8f3",
   "metadata": {},
   "outputs": [],
   "source": []
  }
 ],
 "metadata": {
  "kernelspec": {
   "display_name": "Python 3 (ipykernel)",
   "language": "python",
   "name": "python3"
  },
  "language_info": {
   "codemirror_mode": {
    "name": "ipython",
    "version": 3
   },
   "file_extension": ".py",
   "mimetype": "text/x-python",
   "name": "python",
   "nbconvert_exporter": "python",
   "pygments_lexer": "ipython3",
   "version": "3.10.8"
  }
 },
 "nbformat": 4,
 "nbformat_minor": 5
}
