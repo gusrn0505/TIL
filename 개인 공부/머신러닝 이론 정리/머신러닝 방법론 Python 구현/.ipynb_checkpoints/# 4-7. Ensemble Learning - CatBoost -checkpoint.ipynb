{
 "cells": [
  {
   "cell_type": "markdown",
   "id": "17604f0b",
   "metadata": {},
   "source": [
    "# Ensemble Learning - CatBoost \n",
    "\n",
    "\n",
    "### algorithm 1 : Ordered boosting (part1) \n",
    "\n",
    "**Input** \n",
    "- a : parameter\n",
    "- S : X,y 가 결합된 data \n",
    "- i : i번째 특성을 지정할 index\n",
    "\n",
    "**구현해야하는 것** \n",
    "- $\\sigma$ : 랜덤 permutation. \n",
    "- $\\sum_{x_j \\in D_k} 1_{(x_j^i = x_k^i)}$ : 지금까지 나온 값들 중 현재 Category와 동일한 값들의 개수 \n",
    "\n",
    "- $x_k^i$ : $\\frac{\\sum_{x_j \\in D_k} 1_{(x_j^i = x_k^i)} * y_j + ap}{\\sum_{x_j \\in D_k} 1_{(x_j^i = x_k^i)} +a}$\n",
    "\n",
    "**Output** \n",
    "- 샘플들의 i번째 특성의 Category value를 Numerical value로 반환 값들 List\n"
   ]
  },
  {
   "cell_type": "code",
   "execution_count": 1,
   "id": "2c3ad4b7",
   "metadata": {},
   "outputs": [],
   "source": [
    "import random\n",
    "import numpy as np \n",
    "\n",
    "def order_boost(S, i, a) : \n",
    "    sigma = random.shuffle(range(len(S)))\n",
    "    y = np.array(S)[:, -1]\n",
    "    X = np.array(S)[:, :-1]\n",
    "    p= 0 \n",
    "    \n",
    "    # 순서가 랜덤으로 섞은 X, y 값들 \n",
    "    ran_X = X[sigma]\n",
    "    ran_y = y[sigma]\n",
    "    new_x = np.zeros(len(X))\n",
    "    for j in range(len(X)) : \n",
    "        \n",
    "        now_x = np.sum([1 if X[j,i] == X[t,i] else 0 for t in sigma[:j] ])\n",
    "        now_y = ran_y[:j]\n",
    "        \n",
    "        x_ts = (np.dot(now_x, now_y) + ap) / (np.sum(now_x) +a ) \n",
    "        new_x[sigma[j]] =x_ts\n",
    "        p = np.mean(now_y)\n",
    "    \n",
    "    return new_x\n",
    "    \n",
    "    "
   ]
  },
  {
   "cell_type": "code",
   "execution_count": 11,
   "id": "933899c0",
   "metadata": {},
   "outputs": [
    {
     "data": {
      "text/plain": [
       "array([ 5.,  0.,  0., ...,  1.,  2., 10.])"
      ]
     },
     "execution_count": 11,
     "metadata": {},
     "output_type": "execute_result"
    }
   ],
   "source": [
    "from sklearn.datasets import load_digits\n",
    "\n",
    "data = load_digits() \n",
    "x = data['data']\n",
    "np.array(x)[:, 2]"
   ]
  },
  {
   "cell_type": "markdown",
   "id": "a10ad40c",
   "metadata": {},
   "source": [
    "### algorithm 2 : Building a tree in CatBoost\n",
    "\n",
    "**input**\n",
    "- ts_data : ts value 값들. n 행렬 \n",
    "- y : y값 list \n",
    "- mode : order / Plain \n",
    "\n",
    "**구현해야하는 것**\n",
    "- find_split_point : 트리에서 값을 구분할 기준 설정하기. 손실함수처럼 최소화할 수 있는 값 찾기  \n",
    "- grad : tri -y \n",
    "- tri : 동일 라벨링 그룹 내의 grad 평균 \n",
    "\n",
    "**Output**\n",
    "- cos(tri, grad) "
   ]
  },
  {
   "cell_type": "code",
   "execution_count": null,
   "id": "8552f06c",
   "metadata": {},
   "outputs": [],
   "source": []
  },
  {
   "cell_type": "code",
   "execution_count": null,
   "id": "10c355a1",
   "metadata": {},
   "outputs": [],
   "source": []
  },
  {
   "cell_type": "code",
   "execution_count": null,
   "id": "0db5594e",
   "metadata": {},
   "outputs": [],
   "source": []
  },
  {
   "cell_type": "code",
   "execution_count": null,
   "id": "7a44a10b",
   "metadata": {},
   "outputs": [],
   "source": []
  },
  {
   "cell_type": "code",
   "execution_count": null,
   "id": "0104dc21",
   "metadata": {},
   "outputs": [],
   "source": []
  },
  {
   "cell_type": "code",
   "execution_count": null,
   "id": "5ec5628b",
   "metadata": {},
   "outputs": [],
   "source": []
  },
  {
   "cell_type": "code",
   "execution_count": null,
   "id": "d5c1ba95",
   "metadata": {},
   "outputs": [],
   "source": []
  },
  {
   "cell_type": "code",
   "execution_count": null,
   "id": "ab997772",
   "metadata": {},
   "outputs": [],
   "source": []
  },
  {
   "cell_type": "code",
   "execution_count": null,
   "id": "5c453f73",
   "metadata": {},
   "outputs": [],
   "source": []
  },
  {
   "cell_type": "code",
   "execution_count": null,
   "id": "063cdfa7",
   "metadata": {},
   "outputs": [],
   "source": []
  },
  {
   "cell_type": "code",
   "execution_count": null,
   "id": "32abe10d",
   "metadata": {},
   "outputs": [],
   "source": []
  },
  {
   "cell_type": "code",
   "execution_count": null,
   "id": "7e392d25",
   "metadata": {},
   "outputs": [],
   "source": []
  },
  {
   "cell_type": "code",
   "execution_count": null,
   "id": "e6b0374a",
   "metadata": {},
   "outputs": [],
   "source": []
  }
 ],
 "metadata": {
  "kernelspec": {
   "display_name": "Python 3",
   "language": "python",
   "name": "python3"
  },
  "language_info": {
   "codemirror_mode": {
    "name": "ipython",
    "version": 3
   },
   "file_extension": ".py",
   "mimetype": "text/x-python",
   "name": "python",
   "nbconvert_exporter": "python",
   "pygments_lexer": "ipython3",
   "version": "3.8.8"
  }
 },
 "nbformat": 4,
 "nbformat_minor": 5
}
