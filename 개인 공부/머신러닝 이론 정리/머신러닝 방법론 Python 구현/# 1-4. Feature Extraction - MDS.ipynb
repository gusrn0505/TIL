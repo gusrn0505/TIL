{
 "cells": [
  {
   "cell_type": "markdown",
   "id": "4d7475b3",
   "metadata": {},
   "source": [
    "# Feature Extraction - MDS \n",
    "\n",
    "알고리즘 출처 : 단단한 머신러닝 챕터 10 - 차원축도와 척도 학습 \n",
    "\n",
    "**입력**\n",
    "- 거리 행렬 $D \\in R^{m*m}$, 원소 $dist_{ij}$는 샘플 $x_i$에서 $x_j$까지의 거리 \n",
    "- 저차원 공간 차원수 d'\n",
    "\n",
    "**과정**\n",
    "1. $dist_{i.}^2, dist_{.j}^2, dist_{..}^2$을 계산\n",
    "\n",
    "2. $dist$ 값을 기반으로 $b_{ij}$ 계산하기 \n",
    "\n",
    "3. 행렬 B에 대해서 고윳값 분해 실행 \n",
    "\n",
    "4. $\\hat \\wedge $d'개 최대 고윳값으로 구성된 대각 행렬로, $\\hat V$에 상응하는 고유 벡터 행렬로 하여 값을 구한다. \n",
    "\n",
    "**출력**\n",
    "- 행렬 $\\hat \\wedge \\hat V^{\\frac{1}{2}} \\in R^{m * d'} $, 각 행은 한 샘플의 저차원 좌표\n",
    "\n",
    "\n"
   ]
  },
  {
   "cell_type": "code",
   "execution_count": 1,
   "id": "d0df7104",
   "metadata": {},
   "outputs": [
    {
     "name": "stderr",
     "output_type": "stream",
     "text": [
      "C:\\Users\\PC\\anaconda3\\lib\\site-packages\\sklearn\\utils\\deprecation.py:87: FutureWarning: Function load_boston is deprecated; `load_boston` is deprecated in 1.0 and will be removed in 1.2.\n",
      "\n",
      "    The Boston housing prices dataset has an ethical problem. You can refer to\n",
      "    the documentation of this function for further details.\n",
      "\n",
      "    The scikit-learn maintainers therefore strongly discourage the use of this\n",
      "    dataset unless the purpose of the code is to study and educate about\n",
      "    ethical issues in data science and machine learning.\n",
      "\n",
      "    In this special case, you can fetch the dataset from the original\n",
      "    source::\n",
      "\n",
      "        import pandas as pd\n",
      "        import numpy as np\n",
      "\n",
      "\n",
      "        data_url = \"http://lib.stat.cmu.edu/datasets/boston\"\n",
      "        raw_df = pd.read_csv(data_url, sep=\"\\s+\", skiprows=22, header=None)\n",
      "        data = np.hstack([raw_df.values[::2, :], raw_df.values[1::2, :2]])\n",
      "        target = raw_df.values[1::2, 2]\n",
      "\n",
      "    Alternative datasets include the California housing dataset (i.e.\n",
      "    :func:`~sklearn.datasets.fetch_california_housing`) and the Ames housing\n",
      "    dataset. You can load the datasets as follows::\n",
      "\n",
      "        from sklearn.datasets import fetch_california_housing\n",
      "        housing = fetch_california_housing()\n",
      "\n",
      "    for the California housing dataset and::\n",
      "\n",
      "        from sklearn.datasets import fetch_openml\n",
      "        housing = fetch_openml(name=\"house_prices\", as_frame=True)\n",
      "\n",
      "    for the Ames housing dataset.\n",
      "    \n",
      "  warnings.warn(msg, category=FutureWarning)\n"
     ]
    }
   ],
   "source": [
    "# 데이터 사용 및 라이브러리 설치 \n",
    "\n",
    "import numpy as np\n",
    "import pandas as pd \n",
    "\n",
    "from sklearn.datasets import load_boston\n",
    "from sklearn.linear_model import LinearRegression \n",
    "\n",
    "boston = load_boston()\n",
    "X = boston.data \n",
    "\n",
    "y = boston.target"
   ]
  },
  {
   "cell_type": "markdown",
   "id": "e35048d9",
   "metadata": {},
   "source": [
    "### 함수 __init__ 설정 및 $dist_{i.}^2, dist_{.j}^2, dist_{..}^2$ 계산\n",
    "\n",
    "\n",
    "**입력**\n",
    "- 거리 행렬 $D \\in R^{m*m}$, 원소 $dist_{ij}$는 샘플 $x_i$에서 $x_j$까지의 거리 \n",
    "- 저차원 공간 차원수 d'\n",
    "\n",
    "**과정**\n",
    "1. $dist_{i.}^2, dist_{.j}^2, dist_{..}^2$을 계산\n",
    "\n",
    "\n",
    "**구현해야하는 것**\n",
    "- $dist_{i.}^2$ : $\\frac {1}{m} \\sum_{j=1}^m dist_{ij}^2$ \n",
    "- $dist_{.j}^2$ : $\\frac {1}{m} \\sum_{i=1}^m dist_{ij}^2$\n",
    "- $dist_{..}^2$ : $\\frac {1}{m^2} \\sum_{i=1}^m \\sum_{i=1}^m dist_{ij}^2$\n",
    "\n",
    "- $dist_{ij}^2$ : $||z_i - z_j||^2$\n",
    "\n",
    "\n",
    "**필요로 하는 것**\n",
    "- X \n",
    "- $dist_{ij}^2$ metrix \n",
    "\n",
    "**함수의 형태**\n",
    "- def dist(self, metrix) : => $dist_{ij}^2,  dist_{i.}^2,  dist_{.j}^2,  dist_{..}^2$\n"
   ]
  },
  {
   "cell_type": "code",
   "execution_count": 16,
   "id": "1ccd59f9",
   "metadata": {},
   "outputs": [],
   "source": [
    "class MDS() : \n",
    "    def __init__(self, X): \n",
    "        self.X = X \n",
    "        self.n = np.shape(X)[0]\n",
    "        self.m = np.shape(X)[1]\n",
    "        \n",
    "    def dist(self) : \n",
    "        dist_metrix = [] \n",
    "        for i in range(len(self.X)) : \n",
    "            origin = np.array(self.X[i])\n",
    "            dist_metrix.append([np.dot(origin, np.array(x).T) for x in self.X])\n",
    "        dist_metrix = np.array(dist_metrix)\n",
    "        dist_i = dist_metrix.sum(axis=1)/self.n\n",
    "        dist_j = dist_metrix.sum(axis=0)/self.n\n",
    "        dist_all = dist_metrix.sum()/(self.n**2)\n",
    "        \n",
    "        return dist_metrix, dist_i, dist_j, dist_all"
   ]
  },
  {
   "cell_type": "code",
   "execution_count": 17,
   "id": "8863eba8",
   "metadata": {},
   "outputs": [
    {
     "data": {
      "text/plain": [
       "()"
      ]
     },
     "execution_count": 17,
     "metadata": {},
     "output_type": "execute_result"
    }
   ],
   "source": [
    "test = MDS(X)\n",
    "np.shape(test.dist()[0])\n",
    "np.shape(test.dist()[3])\n"
   ]
  },
  {
   "cell_type": "markdown",
   "id": "876804ca",
   "metadata": {},
   "source": [
    "### 2. $dist$ 값을 기반으로 $b_{ij}$ 계산하기 \n",
    "### 3. 행렬 B에 대해서 고윳값 분해 실행 \n",
    "### 4. $\\hat \\wedge $d'개 최대 고윳값으로 구성된 대각 행렬로, $\\hat V$에 상응하는 고유 벡터 행렬로 하여 값을 구한다. \n",
    "\n",
    "\n",
    "\n",
    "\n",
    "**구현해야하는 것**\n",
    "- $b_{ij}$ = -($dist_{ij}^2 - dist_{i.}^2 - dist_{.j}^2 + dist_{..}^2$)/2\n",
    "- 고윳값 분해 \n",
    "\n",
    "\n",
    "**필요로 하는 것**\n",
    "- $dist_{ij}^2,  dist_{i.}^2, dist_{.j}^2 , dist_{..}^2$ \n",
    "- b metrix \n",
    "\n",
    "**함수의 형태**\n",
    "- def b(self) : => b metrix \n",
    "\n",
    "- def eigen(self) : => eigenvalue digonal metrix, eigenvector metrix \n",
    "\n",
    "- def mds_goal(self, d) => $\\hat \\wedge^{\\frac{1}{2}} \\hat V^T \\in R^{m * d'} $\n"
   ]
  },
  {
   "cell_type": "code",
   "execution_count": 57,
   "id": "494ba946",
   "metadata": {},
   "outputs": [],
   "source": [
    "class MDS() : \n",
    "    def __init__(self, X): \n",
    "        self.X = X \n",
    "        self.n = np.shape(X)[0]\n",
    "        self.m = np.shape(X)[1]\n",
    "        \n",
    "    def dist(self) : \n",
    "        dist_metrix = [] \n",
    "        for i in range(len(self.X)) : \n",
    "            origin = np.array(self.X[i])\n",
    "            dist_metrix.append([np.dot(origin, np.array(x).T) for x in self.X])\n",
    "        dist_metrix = np.array(dist_metrix)\n",
    "        dist_i = dist_metrix.sum(axis=1)/self.n\n",
    "        dist_j = dist_metrix.sum(axis=0)/self.n\n",
    "        dist_all = dist_metrix.sum()/(self.n**2)\n",
    "        \n",
    "        return dist_metrix, dist_i, dist_j, dist_all\n",
    "    \n",
    "    def b(self) : \n",
    "        metrix, row, column, sum_all = self.dist()\n",
    "        return -(metrix - row.T - column + sum_all)/2 \n",
    "    \n",
    "    def eigen(self) : \n",
    "        metrix = self.b()\n",
    "        eigenvector_lst= []\n",
    "        _, eigenvalue, eigenvector = np.linalg.svd(metrix)\n",
    "        index = np.argsort(eigenvalue)[::-1]\n",
    "        for i, num in enumerate(index) : \n",
    "            eigenvector_lst.append(eigenvector[i, :])\n",
    "        return np.take(eigenvalue, index), np.array(eigenvector_lst) \n",
    "\n",
    "    def mds_goal(self,d) : \n",
    "        eigenvalue, eigenvector = self.eigen()\n",
    "        eigenvalue_d_sqrt = np.sqrt(eigenvalue[:d])\n",
    "        eigenvector_d = eigenvector[:d, :]\n",
    "        # eigenvector 들은 (m x 1) 배열의 형태를 띄므로, transpose를 안해야 한다.\n",
    "        return np.dot(np.diag(eigenvalue_d_sqrt), eigenvector_d)\n"
   ]
  },
  {
   "cell_type": "code",
   "execution_count": 56,
   "id": "df31a4a8",
   "metadata": {},
   "outputs": [
    {
     "data": {
      "text/plain": [
       "array([[ 33.52630565, -17.11741528, -21.91810401, ...,  14.96608094,\n",
       "         12.87492661,  13.61477347],\n",
       "       [168.79397584, 204.01264918, 209.79240386, ..., 181.16091483,\n",
       "        184.10893025, 182.51571649],\n",
       "       [-50.86493942, -50.16770559, -45.9569035 , ..., -50.82672536,\n",
       "        -47.63050092, -50.52434811]])"
      ]
     },
     "execution_count": 56,
     "metadata": {},
     "output_type": "execute_result"
    }
   ],
   "source": [
    "test = MDS(X)\n",
    "test.mds_goal(3)\n"
   ]
  }
 ],
 "metadata": {
  "kernelspec": {
   "display_name": "Python 3",
   "language": "python",
   "name": "python3"
  },
  "language_info": {
   "codemirror_mode": {
    "name": "ipython",
    "version": 3
   },
   "file_extension": ".py",
   "mimetype": "text/x-python",
   "name": "python",
   "nbconvert_exporter": "python",
   "pygments_lexer": "ipython3",
   "version": "3.8.8"
  }
 },
 "nbformat": 4,
 "nbformat_minor": 5
}
