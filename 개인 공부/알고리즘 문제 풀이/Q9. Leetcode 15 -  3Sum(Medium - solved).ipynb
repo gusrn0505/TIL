{
 "cells": [
  {
   "cell_type": "markdown",
   "id": "4a57d0b0",
   "metadata": {},
   "source": [
    "# Q9 - Leetcode 15. 3Sum \n",
    "\n",
    "Given an integer array nums, return all the triplets [nums[i], nums[j], nums[k]] such that i != j, i != k, and j != k, and nums[i] + nums[j] + nums[k] == 0.\n",
    "\n",
    "Notice that the solution set must not contain duplicate triplets"
   ]
  },
  {
   "cell_type": "markdown",
   "id": "da971745",
   "metadata": {},
   "source": [
    "Example 1:\n",
    "\n",
    "Input: nums = [-1,0,1,2,-1,-4]\n",
    "Output: [[-1,-1,2],[-1,0,1]]"
   ]
  },
  {
   "cell_type": "markdown",
   "id": "6723147d",
   "metadata": {},
   "source": [
    "Example 2:\n",
    "\n",
    "Input: nums = []\n",
    "Output: []"
   ]
  },
  {
   "cell_type": "markdown",
   "id": "7bd79e20",
   "metadata": {},
   "source": [
    "Example 3:\n",
    "\n",
    "Input: nums = [0]\n",
    "Output: []"
   ]
  },
  {
   "cell_type": "code",
   "execution_count": null,
   "id": "144035bc",
   "metadata": {},
   "outputs": [],
   "source": [
    "class Solution:\n",
    "    def threeSum(self, nums) :"
   ]
  },
  {
   "cell_type": "code",
   "execution_count": 4,
   "id": "7b5f3ce0",
   "metadata": {},
   "outputs": [],
   "source": [
    "E1 = [-1,0,1,2,-1,-4]\n",
    "E2 = [] \n",
    "E3 = [0] "
   ]
  },
  {
   "cell_type": "markdown",
   "id": "d484cad3",
   "metadata": {},
   "source": [
    "#### 조건 \n",
    "\n",
    "1. 합쳐서 합이 0이 되도록 하는 3개의 수를 뽑아라. 모든 경우를 찾아야 한다. \n",
    "- Brutal Force 방식으로 다 구하기 \n",
    "- a+b+c =0 의 식을 b+c = -a 형태로 변형하여 풀기 \n",
    "> 과거 2Sum 때 효과가 있었던 것은 값 하나에 대해서 in, index 등 내부 함수를 사용할 수 있었기 때문\n",
    "- 정렬하여 좌우 포인터 방식을 적용하기 \n",
    "\n",
    "> 1) 중간을 하나 잡고, 그걸 기준으로 좌/우 포인터를 나누는 방식, \n",
    "\n",
    "> 2) 좌 또는 우측을 하나 잡고, 다른 측면에 대해서 좌/우 포인터를 나누는 방식이 있음. \n",
    "\n",
    "> 1) 방식이 중복이 없으므로 적용하겠음. \n",
    "\n",
    "2. 이미 뽑았던 수는 다시 뽑으면 안된다. \n",
    "- 인덱스를 통해서 구분할 것. \n",
    "- 또는 정렬하여 값을 Pop 할 것 \n",
    "\n",
    "추가조치\n",
    "- input 되는 list의 길이가 최소 3이상이 되어야 함.\n"
   ]
  },
  {
   "cell_type": "code",
   "execution_count": 32,
   "id": "d5c8bef8",
   "metadata": {},
   "outputs": [],
   "source": [
    "# 기본값 설정 및 1) b+c = -a, 2) 좌우 포인터 방식 토대 구현하기 \n",
    "\n",
    "class Solution:\n",
    "    def threeSum(self, nums) :\n",
    "        result = []\n",
    "        if len(nums) <= 2 : return result \n",
    "        \n",
    "        # list 크기에 맞춰 정열시키기. 좌우 포인터 방식 적용하기 위해 선제 조건 \n",
    "        nums.sort() \n",
    "        \n",
    "        for i, num in enumerate(nums) : \n",
    "            lst = nums[i+1:]\n",
    "            left = 0 \n",
    "            right = len(lst) -1 \n",
    "            \n",
    "            while left < right : \n",
    "                # b+ c < -a. b또는 c의 값을 키워야 한다.  \n",
    "                if lst[left] + lst[right] < -num : \n",
    "                    left += 1 \n",
    "                    \n",
    "                # b+c > -a. b 또는 c의 값을 줄여야 한다. \n",
    "                elif lst[left] + lst[right] > -num : \n",
    "                    right -= 1 \n",
    "                \n",
    "                else : \n",
    "                    result.append([num, lst[left], lst[right]])\n",
    "                    break\n",
    "            \n",
    "        return result\n",
    "                    \n",
    "        \n",
    "        "
   ]
  },
  {
   "cell_type": "code",
   "execution_count": 41,
   "id": "285350fe",
   "metadata": {},
   "outputs": [
    {
     "data": {
      "text/plain": [
       "[[0, 0, 0]]"
      ]
     },
     "execution_count": 41,
     "metadata": {},
     "output_type": "execute_result"
    }
   ],
   "source": [
    "test = Solution()\n",
    "E3 = [0,0,0,0]\n",
    "test.threeSum(E3)\n",
    "\n"
   ]
  },
  {
   "cell_type": "markdown",
   "id": "658654ce",
   "metadata": {},
   "source": [
    "### E1 사례에 대한 추가 조치 사항 \n",
    "\n",
    "1. 중복된 결과가 나올 경우 생략 조치할 것 or 중복되지 않게 논리를 짤 것 \n",
    "2. 맞는 경우가 나왔을 경우에도 break를 걸지 말고 다른 사례를 더 찾을 것. \n",
    "\n",
    "### a+b+c = 0이 나오는 경우 조치 \n",
    "- 할 수 있는 조치는 b의 값을 올리거나, c의 값을 낮추거나 둘 중 하나임.\n",
    "- b 값을 줄여주는 쪽으로 일단 조치하면서 예외 여부 확인하겠음. \n",
    "\n",
    "\n"
   ]
  },
  {
   "cell_type": "code",
   "execution_count": 33,
   "id": "2c7097be",
   "metadata": {},
   "outputs": [],
   "source": [
    "# 중복된 사례가 나오지 않도록, for 절에서 중복된 값이 나오면 스킵하기 \n",
    "\n",
    "class Solution:\n",
    "    def threeSum(self, nums) :\n",
    "        result = []\n",
    "        if len(nums) <= 2 : return result \n",
    "        \n",
    "        # list 크기에 맞춰 정열시키기. 좌우 포인터 방식 적용하기 위해 선제 조건 \n",
    "        nums.sort() \n",
    "        \n",
    "        for i, num in enumerate(nums) :\n",
    "            # 중복값 제거 조치 \n",
    "            if i > 0 and nums[i] == nums[i-1] : continue\n",
    "            lst = nums[i+1:]\n",
    "            left = 0 \n",
    "            right = len(lst) -1 \n",
    "            \n",
    "            while left < right : \n",
    "                # b+ c < -a. b또는 c의 값을 키워야 한다.  \n",
    "                if lst[left] + lst[right] < -num : \n",
    "                    left += 1 \n",
    "                    \n",
    "                # b+c > -a. b 또는 c의 값을 줄여야 한다. \n",
    "                elif lst[left] + lst[right] > -num : \n",
    "                    right -= 1 \n",
    "                \n",
    "                else : \n",
    "                    result.append([num, lst[left], lst[right]])\n",
    "                    left += 1 \n",
    "            \n",
    "        return result\n",
    "                    \n",
    "            "
   ]
  },
  {
   "cell_type": "code",
   "execution_count": 40,
   "id": "336e86e9",
   "metadata": {},
   "outputs": [],
   "source": [
    "# [0,0,0,0] 사례에 대해서 [0.0,0]의 값이 중복되어 나타남. \n",
    "# 즉, 중복을 없에주는 조치는 left, right에도 중복이 있을 경우 제외시켜줘야 한다. \n",
    "# 또는 list 에 append 시 중복 유무를 체크해서 조치해도 된다. (채택)\n",
    "\n",
    "class Solution:\n",
    "    def threeSum(self, nums) :\n",
    "        result = []\n",
    "        if len(nums) <= 2 : return result \n",
    "        \n",
    "        # list 크기에 맞춰 정열시키기. 좌우 포인터 방식 적용하기 위해 선제 조건 \n",
    "        nums.sort() \n",
    "        \n",
    "        for i, num in enumerate(nums) :\n",
    "            # 중복값 제거 조치 \n",
    "            if i > 0 and nums[i] == nums[i-1] : continue\n",
    "            lst = nums[i+1:]\n",
    "            left = 0 \n",
    "            right = len(lst) -1 \n",
    "            \n",
    "            while left < right : \n",
    "                # b+ c < -a. b또는 c의 값을 키워야 한다.  \n",
    "                if lst[left] + lst[right] < -num : \n",
    "                    left += 1 \n",
    "                    \n",
    "                # b+c > -a. b 또는 c의 값을 줄여야 한다. \n",
    "                elif lst[left] + lst[right] > -num : \n",
    "                    right -= 1 \n",
    "                \n",
    "                else : \n",
    "                    if [num, lst[left], lst[right]] not in result : \n",
    "                        result.append([num, lst[left], lst[right]])\n",
    "                    left += 1 \n",
    "            \n",
    "        return result\n",
    "                    \n",
    "            "
   ]
  },
  {
   "cell_type": "markdown",
   "id": "659cbba8",
   "metadata": {},
   "source": [
    "## 결과 - Success \n",
    "\n",
    "Runtime: **3684 ms, faster than 21.04%** of Python3 online submissions for 3Sum.\n",
    "Memory Usage: **18.2 MB, less than 18.40%** of Python3 online submissions for 3Sum."
   ]
  },
  {
   "cell_type": "markdown",
   "id": "38f8cd26",
   "metadata": {},
   "source": [
    "## 개선점 \n",
    "\n",
    "- 중복이 안되도록 논리를 짜면 그만금 계산 효율성이 올라갈 것 \n"
   ]
  },
  {
   "cell_type": "markdown",
   "id": "f76e166c",
   "metadata": {},
   "source": [
    "## 이전 풀이 "
   ]
  },
  {
   "cell_type": "code",
   "execution_count": null,
   "id": "1c7d2202",
   "metadata": {},
   "outputs": [],
   "source": [
    "class Solution:\n",
    "    def threeSum(self, nums: List[int]) -> List[List[int]]:\n",
    "        nums.sort()\n",
    "        sum_l = [] \n",
    "\n",
    "        for i in range(len(nums) -2) : \n",
    "            if i > 0 and nums[i] == nums[i-1] : continue \n",
    "\n",
    "            left, right = i +1, len(nums)-1\n",
    "            while left < right : \n",
    "                sum = nums[i] + nums[left] + nums[right]\n",
    "                if sum < 0 : \n",
    "                    left += 1 \n",
    "                elif sum > 0 : \n",
    "                    right -= 1 \n",
    "                else : \n",
    "                    sum_l.append([nums[i], nums[left], nums[right]])\n",
    "                    while left < right and nums[left] == nums[left + 1] : left += 1\n",
    "                    while left < right and nums[right] == nums[left - 1] : right -= 1\n",
    "                      \n",
    "                    right -= 1 \n",
    "                    left += 1 \n",
    "\n",
    "        return sum_l"
   ]
  },
  {
   "cell_type": "markdown",
   "id": "28c6519b",
   "metadata": {},
   "source": [
    "## 결과 \n",
    "Runtime: 1042 ms\n",
    "Memory Usage: 17.5 MB\n",
    "\n",
    "## 개선점 \n",
    "- 앞서 언급한 중복 사례가 없도록 논리를 짬. 계산 효율이 약 3~4배 증가\n",
    "- 인덱스를 통해서 lst를 따로 만들어내지 않고도 조치함. "
   ]
  },
  {
   "cell_type": "code",
   "execution_count": null,
   "id": "7c122a03",
   "metadata": {},
   "outputs": [],
   "source": []
  },
  {
   "cell_type": "code",
   "execution_count": null,
   "id": "c8a951b8",
   "metadata": {},
   "outputs": [],
   "source": []
  }
 ],
 "metadata": {
  "kernelspec": {
   "display_name": "Python 3",
   "language": "python",
   "name": "python3"
  },
  "language_info": {
   "codemirror_mode": {
    "name": "ipython",
    "version": 3
   },
   "file_extension": ".py",
   "mimetype": "text/x-python",
   "name": "python",
   "nbconvert_exporter": "python",
   "pygments_lexer": "ipython3",
   "version": "3.8.8"
  }
 },
 "nbformat": 4,
 "nbformat_minor": 5
}
