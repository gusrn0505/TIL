{
 "cells": [
  {
   "cell_type": "markdown",
   "id": "6d5b5000",
   "metadata": {},
   "source": [
    "### Q6. leetcode 5. Longest Palindrome Substring \n",
    "\n",
    "Given a string s, return the longest palindromic substring in s."
   ]
  },
  {
   "cell_type": "markdown",
   "id": "8622affd",
   "metadata": {},
   "source": [
    " Example 1:\n",
    "\n",
    "Input: s = \"babad\"\n",
    "Output: \"bab\"\n",
    "Explanation: \"aba\" is also a valid answer."
   ]
  },
  {
   "cell_type": "markdown",
   "id": "4ef294d0",
   "metadata": {},
   "source": [
    "Example 2:\n",
    "\n",
    "Input: s = \"cbbd\"\n",
    "Output: \"bb\""
   ]
  },
  {
   "cell_type": "code",
   "execution_count": null,
   "id": "ef2fc4a6",
   "metadata": {},
   "outputs": [],
   "source": [
    "#초기값 \n",
    "\n",
    "class Solution:\n",
    "    def longestPalindrome(self, s: str) -> str:"
   ]
  },
  {
   "cell_type": "code",
   "execution_count": 2,
   "id": "4255f2e9",
   "metadata": {},
   "outputs": [],
   "source": [
    "E1 = \"babad\"\n",
    "E2 = \"cbbd\""
   ]
  },
  {
   "cell_type": "markdown",
   "id": "6ee856c0",
   "metadata": {},
   "source": [
    "#### 조건 \n",
    "\n",
    "문자열을 입력 값으로 받아 그 안에서 가장 긴 팰린드롬 substring을 산출해라. \n",
    "\n",
    "1. 포인터 기반 풀이 \n",
    "- 시작점을 지정하여 좌/우 포인트를 설정하여 확장하는 방법 \n",
    "- 좌/우 포인터가 지정하는 값이 같을 때 확장하는 방식\n",
    "\n",
    "고려사항 \n",
    "- 짝수 일때, 홀수 일 때를 포괄할 수 있어야 함. \n"
   ]
  },
  {
   "cell_type": "code",
   "execution_count": 6,
   "id": "e8782277",
   "metadata": {},
   "outputs": [
    {
     "name": "stdout",
     "output_type": "stream",
     "text": [
      "bab\n"
     ]
    }
   ],
   "source": [
    "# 시작점 지정 및 좌/우 포인터 설정 \n",
    "\n",
    "max_str = E1[0]\n",
    "max_length = len(max_str)\n",
    "for i in range(len(E1)):     \n",
    "    left = i - 1 \n",
    "    right = i + 1 \n",
    "    \n",
    "    # 조건 부여 : 1) 계산양을 줄여주기 위해, 앞서 나온 max_length가 뒤에 나올 팰린드럼의 최대 길이보다 길 경우 생략 \n",
    "     # 2) left, right 값이 index 범위를 넘어서면 안됨. \n",
    "    while len(max_str) <= 2*min(len(E1)-i-1, i) + 1 and left >= 0 and right <= len(E1) -1 : \n",
    "\n",
    "        if E1[left] == E1[right] : \n",
    "            if len(max_str) < right - left +1 : \n",
    "                max_str = E1[left:right+1]\n",
    "                print(max_str)\n",
    "        left -= 1 \n",
    "        right +=1 \n",
    "        "
   ]
  },
  {
   "cell_type": "code",
   "execution_count": 5,
   "id": "fa90cc23",
   "metadata": {},
   "outputs": [],
   "source": [
    "E1 = \"babbad\""
   ]
  },
  {
   "cell_type": "code",
   "execution_count": 8,
   "id": "17328d26",
   "metadata": {},
   "outputs": [
    {
     "name": "stdout",
     "output_type": "stream",
     "text": [
      "bab\n"
     ]
    }
   ],
   "source": [
    "# 수정 1. left, right 포인터 이동이 중복이 있어 코드 다듬기 \n",
    "max_str = E1[0]\n",
    "for i in range(len(E1)): \n",
    "\n",
    "    left = right = i \n",
    "    \n",
    "    # 조건 부여 : 1) 계산양을 줄여주기 위해, 앞서 나온 max_length가 뒤에 나올 팰린드럼의 최대 길이보다 길 경우 생략 \n",
    "     # 2) left, right 값이 index 범위를 넘어서면 안됨. \n",
    "    while len(max_str) <= 2*min(len(E1)-i-1, i) + 1 and left >= 1 and right <= len(E1) -2 : \n",
    "        left -= 1 \n",
    "        right +=1 \n",
    "      \n",
    "        if E1[left] == E1[right] : \n",
    "            if len(max_str) < right - left +1 : \n",
    "                max_str = E1[left:right+1]\n",
    "                print(max_str)\n",
    "        else : continue \n",
    "            \n",
    "            "
   ]
  },
  {
   "cell_type": "code",
   "execution_count": 9,
   "id": "20f09953",
   "metadata": {},
   "outputs": [
    {
     "name": "stdout",
     "output_type": "stream",
     "text": [
      "bab\n"
     ]
    }
   ],
   "source": [
    "# 수정 1. left, right 포인터 이동이 중복이 있어 코드 다듬기 \n",
    "\n",
    "max_str = E1[0]\n",
    "for i in range(len(E1)): \n",
    "\n",
    "    left = right = i \n",
    "    even_left = i + 1 \n",
    "    \n",
    "    # 조건 부여 : 1) 계산양을 줄여주기 위해, 앞서 나온 max_length가 뒤에 나올 팰린드럼의 최대 길이보다 길 경우 생략 \n",
    "     # 2) left, right 값이 index 범위를 넘어서면 안됨. \n",
    "    while len(max_str) <= 2*min(len(E1)-i-1, i) + 1 and left >= 1 and right <= len(E1) -2 : \n",
    "        left -= 1 \n",
    "        even_left -= 1 \n",
    "        right +=1 \n",
    "      \n",
    "        if E1[left] == E1[right] : \n",
    "            if len(max_str) < right - left +1 : \n",
    "                max_str = E1[left:right+1]\n",
    "\n",
    "        if E1[even_left] == E1[right] : \n",
    "            if len(max_str) < right - even_left +1 : \n",
    "                max_str = E1[even_left:right+1]            \n",
    "\n",
    "print(max_str)\n",
    "            "
   ]
  },
  {
   "cell_type": "code",
   "execution_count": null,
   "id": "973147e8",
   "metadata": {},
   "outputs": [],
   "source": [
    "# 짝수 경우까지 포함할 것. 초안\n",
    "# 쩍수의 경우 even_left로 설정하여 한꺼번에 설정 \n",
    "\n",
    "\n",
    "class Solution:\n",
    "    def longestPalindrome(self, s) :\n",
    "        max_str = s[0]\n",
    "        for i in range(len(s)): \n",
    "            left = right = i\n",
    "            even_left = left + 1\n",
    "\n",
    "            while len(max_str) <= 2*min(len(s)-i-1, i) + 1 and left >= 1 and right <= len(s) -2 : \n",
    "                left -= 1 \n",
    "                even_left -= 1\n",
    "                right +=1 \n",
    "                \n",
    "                if s[left] == s[right] and len(max_str) < right - left +1 : \n",
    "                    max_str = s[left:right+1]\n",
    "                \n",
    "                if s[even_left] == s[right] and len(max_str) < right - even_left + 1 :\n",
    "                    max_str = s[even_left : right + 1]\n",
    "                \n",
    "                # 계산량을 줄이기 위해, 혹 s[right]가 s[left]와 s[even_left] 와 둘다 안 맞을 경우 break\n",
    "                if s[right] != s[left] and s[right] != s[even_left] : \n",
    "                    break\n",
    "\n",
    "        return print(max_str)"
   ]
  },
  {
   "cell_type": "code",
   "execution_count": null,
   "id": "7995aec0",
   "metadata": {},
   "outputs": [],
   "source": [
    "# 예외 발생 \"aacabdkacaa\" 의 사례에서 답은 \"aca\"가 나와야 하나 \"acaa\" 가 나옴 \n",
    "# 이것은 변수의 길이가 짝수 사례와 홀수를 같이하면서 생긴 오류임. 홀수 사례와 짝수 사례를 번갈아 만족하면 통과가 되도록 되어 있음 \n",
    " \n",
    "class Solution:\n",
    "    def longestPalindrome(self, s) :\n",
    "        max_str = s[0]\n",
    "        for i in range(len(s)): \n",
    "            left = right = i\n",
    "            even_left = left + 1\n",
    "\n",
    "            while len(max_str) <= 2*min(len(s)-i-1, i) + 1 and left >= 0 and right <= len(s) -2 : \n",
    "                left -= 1 \n",
    "                even_left -= 1\n",
    "                right +=1 \n",
    "                \n",
    "                if left != -1 and s[left] == s[right] and len(max_str) < right - left +1 : \n",
    "                    max_str = s[left:right+1]\n",
    "                \n",
    "                if s[even_left] == s[right] and len(max_str) < right - even_left + 1 :\n",
    "                    max_str = s[even_left : right + 1]\n",
    "                \n",
    "                # 계산량을 줄이기 위해, 혹 s[right]가 s[left]와 s[even_left] 와 둘다 안 맞을 경우 break\n",
    "                if s[right] != s[left] and s[right] != s[even_left] : \n",
    "                    break\n",
    "\n",
    "        return print(max_str)"
   ]
  },
  {
   "cell_type": "code",
   "execution_count": null,
   "id": "12ad62b2",
   "metadata": {},
   "outputs": [],
   "source": [
    "# 예외 발생 - \"bb\" 의 경우 처리 못함. \n",
    "# while 조건인 left >=1 로 인해서 짝수인 경우 첫 사례를 해결못함. 짝수의 경우도 포괄할 수 있도록 조건을 완화할 ㅍ리요가 있음 \n",
    "\n",
    "\n",
    "class Solution:\n",
    "    def longestPalindrome(self, s) :\n",
    "        max_str = s[0]\n",
    "        for i in range(len(s)): \n",
    "            left = right = i\n",
    "            even_left = left + 1\n",
    "\n",
    "            while len(max_str) <= 2*min(len(s)-i-1, i) + 1 and (left >= 1 or even_left >=0) and right <= len(s) -2 : \n",
    "                left -= 1 \n",
    "                even_left -= 1\n",
    "                right +=1 \n",
    "                \n",
    "                if left != -1 and s[left] == s[right] : \n",
    "                    if len(max_str) < right - left +1 : \n",
    "                        max_str = s[left:right+1]\n",
    "                else : left = 0\n",
    "                \n",
    "                if s[even_left] == s[right] : \n",
    "                    if len(max_str) < right - even_left + 1 :\n",
    "                        max_str = s[even_left : right + 1]\n",
    "                else : even_left = 0 \n",
    "               \n",
    "        return print(max_str)"
   ]
  },
  {
   "cell_type": "markdown",
   "id": "4bdd51c5",
   "metadata": {},
   "source": [
    "## 결과 - Success\n",
    "\n",
    "**Runtime: 1332 ms, faster than 56.14%** of Python3 online submissions for Longest Palindromic Substring.\n",
    "**Memory Usage: 14 MB, less than 76.80%** of Python3 online submissions for Longest Palindromic Substring.\n",
    "\n"
   ]
  },
  {
   "cell_type": "markdown",
   "id": "72b4df27",
   "metadata": {},
   "source": [
    "## 이전 풀이"
   ]
  },
  {
   "cell_type": "code",
   "execution_count": null,
   "id": "fa6119d3",
   "metadata": {},
   "outputs": [],
   "source": [
    "### 이전 풀이 \n",
    "\n",
    "class Solution:\n",
    "    def longestPalindrome(self, s: str) -> str:\n",
    "        len_max = 0\n",
    "        output = s[0]\n",
    "\n",
    "        for i in range(len(s)) : # i는 indx \n",
    "            # 이 경우는 len(s)이 짝수 일때를 가정함. \n",
    "            if (i < len(s)-1) and s[i] == s[i+1] : \n",
    "                for j in range(min(i, len(s)-i-2)+1) : \n",
    "                    if s[i-j] != s[i+j+1] : break \n",
    "                    if 2*j +2 > len_max : \n",
    "                        len_max = 2*j+2\n",
    "                        output = s[i-j:i+j+2]\n",
    "\n",
    "            for j in range(1, min(i, len(s)-i-1)+1, 1) : \n",
    "                if s[i-j] != s[i+j] : break \n",
    "                if 2*j+1 > len_max : \n",
    "                    len_max = 2*j +1\n",
    "                    output = s[i-j:i+j+1]\n",
    "        return output"
   ]
  },
  {
   "cell_type": "markdown",
   "id": "cae810bd",
   "metadata": {},
   "source": []
  },
  {
   "cell_type": "markdown",
   "id": "e6c5af6f",
   "metadata": {},
   "source": [
    "## 책 풀이 \n",
    "\n",
    "- 내부 함수 정의하여 문제풀이 진행. "
   ]
  },
  {
   "cell_type": "code",
   "execution_count": null,
   "id": "5f35a27d",
   "metadata": {},
   "outputs": [],
   "source": [
    "class Solution:\n",
    "    def longestPalindrome(self, s) :\n",
    "        def expand(lft, right) : \n",
    "            while left >= 0 and right < len(s) and s[left] == s[right] :\n",
    "                left -=1\n",
    "                right += 1 \n",
    "            return s[left +1 : right]\n",
    "        \n",
    "        if len(s) < 2 or s == s[::-1] :\n",
    "            return s \n",
    "        \n",
    "        result = \"\" \n",
    "        for i in range(len(s) -1 ): \n",
    "            result = max(result, expand(i, i+1), expand(i, i+2), key = len) \n",
    "        \n",
    "        return result"
   ]
  },
  {
   "cell_type": "markdown",
   "id": "864cdc7f",
   "metadata": {},
   "source": [
    "## 결과 \n",
    "\n",
    "**Runtime: 277 ms, faster than 93.47%** of Python3 online submissions for Longest Palindromic Substring.\n",
    "**Memory Usage: 13.9 MB, less than 87.96%** of Python3 online submissions for Longest Palindromic Substring."
   ]
  },
  {
   "cell_type": "markdown",
   "id": "b7b09708",
   "metadata": {},
   "source": [
    "## 고민할 점 및 개선점 \n",
    "\n",
    "- 기존 풀이와 예전 문제풀이는 문자열의 길이가 짝수, 홀수 일 때를 구분하여 조건을 하나 하나 나열하여 문제를 품.\n",
    "\n",
    "- 책 풀이의 경우 필요한 단계를 함수로 나눠 구현함. 그 결과 성능이 앞도적으로 좋아짐.\n",
    "- 또한 최대 길이를 구하는 과정도 압축적으로 잘 구현함. "
   ]
  },
  {
   "cell_type": "code",
   "execution_count": null,
   "id": "c8bf0185",
   "metadata": {},
   "outputs": [],
   "source": []
  },
  {
   "cell_type": "code",
   "execution_count": null,
   "id": "4b04dff8",
   "metadata": {},
   "outputs": [],
   "source": []
  },
  {
   "cell_type": "code",
   "execution_count": null,
   "id": "8f840d6b",
   "metadata": {},
   "outputs": [],
   "source": []
  }
 ],
 "metadata": {
  "kernelspec": {
   "display_name": "Python 3",
   "language": "python",
   "name": "python3"
  },
  "language_info": {
   "codemirror_mode": {
    "name": "ipython",
    "version": 3
   },
   "file_extension": ".py",
   "mimetype": "text/x-python",
   "name": "python",
   "nbconvert_exporter": "python",
   "pygments_lexer": "ipython3",
   "version": "3.8.8"
  }
 },
 "nbformat": 4,
 "nbformat_minor": 5
}
