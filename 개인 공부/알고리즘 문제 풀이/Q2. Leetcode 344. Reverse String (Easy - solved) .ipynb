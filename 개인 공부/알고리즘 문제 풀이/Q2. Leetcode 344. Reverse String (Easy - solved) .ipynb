{
 "cells": [
  {
   "cell_type": "markdown",
   "id": "24dc905c",
   "metadata": {},
   "source": [
    "### Q2. Leetcode 344. Reverse String \n",
    "\n",
    "Write a function that reverses a string. The input string is given as an array of characters s.\n",
    "\n",
    "You must do this by modifying the input array in-place with O(1) extra memory."
   ]
  },
  {
   "cell_type": "markdown",
   "id": "73fef68b",
   "metadata": {},
   "source": [
    "Example 1:\n",
    "\n",
    "Input: s = [\"h\",\"e\",\"l\",\"l\",\"o\"]\n",
    "Output: [\"o\",\"l\",\"l\",\"e\",\"h\"]"
   ]
  },
  {
   "cell_type": "markdown",
   "id": "bc92021d",
   "metadata": {},
   "source": [
    "Example 2:\n",
    "\n",
    "Input: s = [\"H\",\"a\",\"n\",\"n\",\"a\",\"h\"]\n",
    "Output: [\"h\",\"a\",\"n\",\"n\",\"a\",\"H\"]"
   ]
  },
  {
   "cell_type": "markdown",
   "id": "dfb5d4a1",
   "metadata": {},
   "source": [
    "조건\n",
    " 1. 문자열을 뒤집는 함수를 만들 것 \n",
    " 2. 입력값 자체를 변경할 것. \n",
    " "
   ]
  },
  {
   "cell_type": "code",
   "execution_count": null,
   "id": "0714c4d9",
   "metadata": {},
   "outputs": [],
   "source": [
    "# 초기값\n",
    "\n",
    "class Solution:\n",
    "    def reverseString(self, s) :"
   ]
  },
  {
   "cell_type": "markdown",
   "id": "a0af5f3f",
   "metadata": {},
   "source": [
    "풀이방법 \n",
    " 1. 각각 앞, 뒤의 값을 교환한다. \n",
    " - for, while의 반복문을 통해서 입력값(string)의 길이 절반의 횟수만큼 앞과 뒤의 문자를 변경한다."
   ]
  },
  {
   "cell_type": "code",
   "execution_count": 10,
   "id": "799827e3",
   "metadata": {},
   "outputs": [],
   "source": [
    "E1 =  [\"h\",\"e\",\"l\",\"l\",\"o\"] \n",
    "E2 = [\"H\",\"a\",\"n\",\"n\",\"a\",\"h\"]"
   ]
  },
  {
   "cell_type": "code",
   "execution_count": 15,
   "id": "40a7d9eb",
   "metadata": {},
   "outputs": [],
   "source": [
    "# 1차 시도 \n",
    "class Solution:\n",
    "    def reverseString(self, s) :\n",
    "        i = 0\n",
    "        n = len(s)\n",
    "        while i != n//2 : \n",
    "            s[i], s[n-i-1] = s[n-i-1], s[i]\n",
    "            i += 1 \n",
    "        return s\n",
    "            "
   ]
  },
  {
   "cell_type": "code",
   "execution_count": 16,
   "id": "e00a905f",
   "metadata": {},
   "outputs": [],
   "source": [
    "test = Solution()"
   ]
  },
  {
   "cell_type": "code",
   "execution_count": 17,
   "id": "611545ef",
   "metadata": {},
   "outputs": [
    {
     "name": "stdout",
     "output_type": "stream",
     "text": [
      "['o', 'l', 'l', 'e', 'h']\n",
      "['H', 'a', 'n', 'n', 'a', 'h']\n"
     ]
    }
   ],
   "source": [
    "print(test.reverseString(E1))\n",
    "print(test.reverseString(E2))"
   ]
  },
  {
   "cell_type": "markdown",
   "id": "646481d8",
   "metadata": {},
   "source": [
    "### 결과 \n",
    "\n",
    "**Success**\n",
    "Details \n",
    "**Runtime: 221 ms, faster than 54.79%** of Python3 online submissions for Reverse String.\n",
    "**Memory Usage: 18.5 MB, less than 80.21%** of Python3 online submissions for Reverse String.\n"
   ]
  },
  {
   "cell_type": "markdown",
   "id": "47ff81bc",
   "metadata": {},
   "source": [
    "### 과거 풀이 1 "
   ]
  },
  {
   "cell_type": "code",
   "execution_count": null,
   "id": "071f52f0",
   "metadata": {},
   "outputs": [],
   "source": [
    "class Solution:\n",
    "    def reverseString(self, s) :\n",
    "        left, right = 0, len(s)-1 \n",
    "        while left < right : \n",
    "            s[left], s[right] = s[right] , s[left]\n",
    "            left += 1 \n",
    "            right -= 1 \n",
    "    "
   ]
  },
  {
   "cell_type": "markdown",
   "id": "3c5a88d8",
   "metadata": {},
   "source": [
    "Runtime : 334ms \n",
    "memory usage : 18.6MB"
   ]
  },
  {
   "cell_type": "markdown",
   "id": "0a5419a4",
   "metadata": {},
   "source": [
    "### 과거 풀이 2 "
   ]
  },
  {
   "cell_type": "code",
   "execution_count": null,
   "id": "a63c4c0b",
   "metadata": {},
   "outputs": [],
   "source": [
    "class Solution:\n",
    "    def reverseString(self, s) :\n",
    "        s.reverse()\n",
    "        \"\"\"\n",
    "        Do not return anything, modify s in-place instead.\n",
    "        \"\"\"\n",
    "        "
   ]
  },
  {
   "cell_type": "markdown",
   "id": "1da80309",
   "metadata": {},
   "source": [
    "Runtime : 196ms \n",
    "memory usage : 18.5MB\n",
    "\n",
    "> 역시 기존에 있는 기능을 사용하는게 가장 성능이 좋음. "
   ]
  },
  {
   "cell_type": "markdown",
   "id": "a6b49ebb",
   "metadata": {},
   "source": [
    "## 총평 \n",
    "\n",
    "동일한 논리구조를 가지고 있어도, \n",
    "구현 과정에 있어 계산 및 변수 설정을 최소화함에 따라 성능 향상을 꾀할 수 있다. "
   ]
  }
 ],
 "metadata": {
  "kernelspec": {
   "display_name": "Python 3",
   "language": "python",
   "name": "python3"
  },
  "language_info": {
   "codemirror_mode": {
    "name": "ipython",
    "version": 3
   },
   "file_extension": ".py",
   "mimetype": "text/x-python",
   "name": "python",
   "nbconvert_exporter": "python",
   "pygments_lexer": "ipython3",
   "version": "3.8.8"
  }
 },
 "nbformat": 4,
 "nbformat_minor": 5
}
